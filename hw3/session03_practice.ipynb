{
  "nbformat": 4,
  "nbformat_minor": 0,
  "metadata": {
    "colab": {
      "name": "session03_practice.ipynb",
      "provenance": [],
      "collapsed_sections": [],
      "toc_visible": true,
      "mount_file_id": "1lkY3lkGe5ZQjA2BOaKNbs4SzFAUSJphy",
      "authorship_tag": "ABX9TyNsTcZ0u2Nbkq4n0v4lNx0s",
      "include_colab_link": true
    },
    "kernelspec": {
      "name": "python3",
      "display_name": "Python 3"
    }
  },
  "cells": [
    {
      "cell_type": "markdown",
      "metadata": {
        "id": "view-in-github",
        "colab_type": "text"
      },
      "source": [
        "<a href=\"https://colab.research.google.com/github/Colsai/DATA-690-WANG/blob/master/hw3/session03_practice.ipynb\" target=\"_parent\"><img src=\"https://colab.research.google.com/assets/colab-badge.svg\" alt=\"Open In Colab\"/></a>"
      ]
    },
    {
      "cell_type": "markdown",
      "metadata": {
        "id": "l29_as_PbAa2",
        "colab_type": "text"
      },
      "source": [
        "To come up with a list of people's first name and find out how many people are in the class."
      ]
    },
    {
      "cell_type": "code",
      "metadata": {
        "id": "rMC4NnAPanNX",
        "colab_type": "code",
        "colab": {
          "base_uri": "https://localhost:8080/",
          "height": 34
        },
        "outputId": "e3f21a77-a7ce-4d76-df58-3613ab97db18"
      },
      "source": [
        "people_list = \"Wang, Chaojie; Seelam, Arjun Reddy;\"\n",
        "print(people_list)"
      ],
      "execution_count": null,
      "outputs": [
        {
          "output_type": "stream",
          "text": [
            "Wang, Chaojie; Seelam, Arjun Reddy;\n"
          ],
          "name": "stdout"
        }
      ]
    },
    {
      "cell_type": "code",
      "metadata": {
        "id": "46lRdVbJaqSw",
        "colab_type": "code",
        "colab": {
          "base_uri": "https://localhost:8080/",
          "height": 50
        },
        "outputId": "ea452383-5aaf-4970-b314-0e6a1f574fd3"
      },
      "source": [
        "people_list = \"Wang, Chaojie; Seelam, Arjun Reddy\"\n",
        "people_list_new = people_list.split('; ')\n",
        "people_list_new1 = people_list.split(',')\n",
        "\n",
        "print(people_list_new1)\n",
        "\n",
        "len(people_list_new1)"
      ],
      "execution_count": null,
      "outputs": [
        {
          "output_type": "stream",
          "text": [
            "['Wang', ' Chaojie; Seelam', ' Arjun Reddy']\n"
          ],
          "name": "stdout"
        },
        {
          "output_type": "execute_result",
          "data": {
            "text/plain": [
              "3"
            ]
          },
          "metadata": {
            "tags": []
          },
          "execution_count": 37
        }
      ]
    },
    {
      "cell_type": "code",
      "metadata": {
        "id": "7WY0DYX2eBcf",
        "colab_type": "code",
        "colab": {
          "base_uri": "https://localhost:8080/",
          "height": 88
        },
        "outputId": "5fea3e62-f44c-4ffd-bdda-f9c19626f937"
      },
      "source": [
        "people_list = \"Wang, Chaojie; Seelam, Arjun Reddy; Rius, Jonathan; Liang, Jinqing; Chowdhury, Debanjan; Maszkiewicz, Lori; Negussie, Neftalem; Steinruck, Michaella; Phogat, Shreshta; Fatima, Misha; Hirabayashi, Scott; Soroush, Masoud; Bolz, Jessica; Mbu Nyamsi, Tchuissi; Dokuzoglu, Yuksel; Gogineni, Shailesh; Pabbisetty, Sai Vinay; Preis, Liam; Jyesta, Vishnu Priya; Narne, Yoshita; Boban, Shruthi; Oberoi, Ashreen Kaur; Cohens, Nashika; Noppinger, Ken; Kakani, Goutham; Hayo, Alyssa\"\n",
        "\n",
        "people_list_new = people_list.split(';')\n",
        "#print(f\"{len(people_list_new)} people in the class.\\n\")\n",
        "\n",
        "first_names_list = []\n",
        "last_names_list = []\n",
        "\n",
        "for person in people_list_new:\n",
        "    f_name = person.split(',')\n",
        "    \n",
        "    last_names_list.append(f_name[0])\n",
        "    first_names_list.append(f_name[1])\n",
        "    #print(person)\n",
        "\n",
        "print(first_names_list)\n",
        "print(last_names_list)\n",
        "print(len(first_names_list))"
      ],
      "execution_count": null,
      "outputs": [
        {
          "output_type": "stream",
          "text": [
            "[' Chaojie', ' Arjun Reddy', ' Jonathan', ' Jinqing', ' Debanjan', ' Lori', ' Neftalem', ' Michaella', ' Shreshta', ' Misha', ' Scott', ' Masoud', ' Jessica', ' Tchuissi', ' Yuksel', ' Shailesh', ' Sai Vinay', ' Liam', ' Vishnu Priya', ' Yoshita', ' Shruthi', ' Ashreen Kaur', ' Nashika', ' Ken', ' Goutham', ' Alyssa']\n",
            "['Wang', ' Seelam', ' Rius', ' Liang', ' Chowdhury', ' Maszkiewicz', ' Negussie', ' Steinruck', ' Phogat', ' Fatima', ' Hirabayashi', ' Soroush', ' Bolz', ' Mbu Nyamsi', ' Dokuzoglu', ' Gogineni', ' Pabbisetty', ' Preis', ' Jyesta', ' Narne', ' Boban', ' Oberoi', ' Cohens', ' Noppinger', ' Kakani', ' Hayo']\n",
            "26\n"
          ],
          "name": "stdout"
        }
      ]
    },
    {
      "cell_type": "code",
      "metadata": {
        "id": "0IwLVUhnq4Vw",
        "colab_type": "code",
        "colab": {
          "base_uri": "https://localhost:8080/",
          "height": 186
        },
        "outputId": "c407c2e9-e59f-4910-a402-067c2cd368ff"
      },
      "source": [
        ""
      ],
      "execution_count": null,
      "outputs": [
        {
          "output_type": "error",
          "ename": "AttributeError",
          "evalue": "ignored",
          "traceback": [
            "\u001b[0;31m---------------------------------------------------------------------------\u001b[0m",
            "\u001b[0;31mAttributeError\u001b[0m                            Traceback (most recent call last)",
            "\u001b[0;32m<ipython-input-35-fdf8c87efdd0>\u001b[0m in \u001b[0;36m<module>\u001b[0;34m()\u001b[0m\n\u001b[1;32m      1\u001b[0m \u001b[0mhey\u001b[0m \u001b[0;34m=\u001b[0m \u001b[0;34m[\u001b[0m\u001b[0;34m'Robogopher'\u001b[0m\u001b[0;34m]\u001b[0m\u001b[0;34m\u001b[0m\u001b[0;34m\u001b[0m\u001b[0m\n\u001b[0;32m----> 2\u001b[0;31m \u001b[0mhey\u001b[0m\u001b[0;34m.\u001b[0m\u001b[0msplit\u001b[0m\u001b[0;34m(\u001b[0m\u001b[0;34m''\u001b[0m\u001b[0;34m)\u001b[0m\u001b[0;34m\u001b[0m\u001b[0;34m\u001b[0m\u001b[0m\n\u001b[0m",
            "\u001b[0;31mAttributeError\u001b[0m: 'list' object has no attribute 'split'"
          ]
        }
      ]
    },
    {
      "cell_type": "code",
      "metadata": {
        "id": "fw0HaSo2i-RC",
        "colab_type": "code",
        "colab": {
          "base_uri": "https://localhost:8080/",
          "height": 479
        },
        "outputId": "e68c51e3-05a2-4111-95b0-f429c68414ed"
      },
      "source": [
        "file_name = \"/content/drive/My Drive/census_cost.txt\"\n",
        "\n",
        "f = open(file_name, encoding=\"utf-8\")\n",
        "print(f.read())"
      ],
      "execution_count": null,
      "outputs": [
        {
          "output_type": "stream",
          "text": [
            "Census Year\tTotal Population\tCensus Cost\tAverage Cost Per Person\n",
            "1790\t3,929,214\t$44,377\t1.13 cents\n",
            "1800\t5,308,483\t$66,109\t1.24 cents\n",
            "1810\t7,239,881\t$178,445\t2.46 cents\n",
            "1820\t9,633,822\t$208,526\t2.16 cents\n",
            "1830\t12,866,020\t$378,545\t2.94 cents\n",
            "1840\t17,069,458\t$833,371\t4.88 cents\n",
            "1850\t23,191,876\t$1,423,351\t6.14 cents\n",
            "1860\t31,443,321\t$1,969,377\t6.26 cents\n",
            "1870\t38,558,371\t$3,421,198\t8.87 cents\n",
            "1880\t50,155,783\t$5,790,678\t11.54 cents\n",
            "1890\t62,979,766\t$11,547,127\t18.33 cents\n",
            "1900\t76,303,387\t$11,854,000\t15.54 cents\n",
            "1910\t91,972,266\t$15,968,000\t17.07 cents\n",
            "1920\t105,710,620\t$25,117,000\t23.76 cents\n",
            "1930\t122,775,046\t$40,156,000\t32.71 cents\n",
            "1940\t131,669,275\t$67,527,000\t51.29 cents\n",
            "1950\t151,325,798\t$91,462,000\t60.44 cents\n",
            "1960\t179,323,175\t$127,934,000\t71.34 cents\n",
            "1970\t203,302,031\t$247,653,000\t$1.22\n",
            "1980\t226,542,199\t$1,078,488,000\t$4.76\n",
            "1990\t248,718,301\t$2,492,830,000\t$10.02\n",
            "2000\t281,421,906\t$4.5 Billion\t$15.99\n",
            "2010*\t308,745,538\t$13 Billion\t$42.11\n",
            "\n"
          ],
          "name": "stdout"
        },
        {
          "output_type": "execute_result",
          "data": {
            "text/plain": [
              "<_io.TextIOWrapper name='/content/drive/My Drive/census_cost.txt' mode='r' encoding='utf-8'>"
            ]
          },
          "metadata": {
            "tags": []
          },
          "execution_count": 34
        }
      ]
    },
    {
      "cell_type": "code",
      "metadata": {
        "id": "6ZACkMbdnz17",
        "colab_type": "code",
        "colab": {
          "base_uri": "https://localhost:8080/",
          "height": 73
        },
        "outputId": "83b58cd2-851a-4ed8-d77b-480d8ea94594"
      },
      "source": [
        "file_name = \"/content/drive/My Drive/census_cost.txt\"\n",
        "\n",
        "with open(file_name, \"rt\") as my_file:\n",
        "    df = my_file.readlines()\n",
        "\n",
        "print(df)\n",
        "\n",
        "second_line = df[1]\n",
        "second_line\n",
        "\n",
        "second_line.strip(\"\\n\")"
      ],
      "execution_count": null,
      "outputs": [
        {
          "output_type": "stream",
          "text": [
            "['Census Year\\tTotal Population\\tCensus Cost\\tAverage Cost Per Person\\n', '1790\\t3,929,214\\t$44,377\\t1.13 cents\\n', '1800\\t5,308,483\\t$66,109\\t1.24 cents\\n', '1810\\t7,239,881\\t$178,445\\t2.46 cents\\n', '1820\\t9,633,822\\t$208,526\\t2.16 cents\\n', '1830\\t12,866,020\\t$378,545\\t2.94 cents\\n', '1840\\t17,069,458\\t$833,371\\t4.88 cents\\n', '1850\\t23,191,876\\t$1,423,351\\t6.14 cents\\n', '1860\\t31,443,321\\t$1,969,377\\t6.26 cents\\n', '1870\\t38,558,371\\t$3,421,198\\t8.87 cents\\n', '1880\\t50,155,783\\t$5,790,678\\t11.54 cents\\n', '1890\\t62,979,766\\t$11,547,127\\t18.33 cents\\n', '1900\\t76,303,387\\t$11,854,000\\t15.54 cents\\n', '1910\\t91,972,266\\t$15,968,000\\t17.07 cents\\n', '1920\\t105,710,620\\t$25,117,000\\t23.76 cents\\n', '1930\\t122,775,046\\t$40,156,000\\t32.71 cents\\n', '1940\\t131,669,275\\t$67,527,000\\t51.29 cents\\n', '1950\\t151,325,798\\t$91,462,000\\t60.44 cents\\n', '1960\\t179,323,175\\t$127,934,000\\t71.34 cents\\n', '1970\\t203,302,031\\t$247,653,000\\t$1.22\\n', '1980\\t226,542,199\\t$1,078,488,000\\t$4.76\\n', '1990\\t248,718,301\\t$2,492,830,000\\t$10.02\\n', '2000\\t281,421,906\\t$4.5 Billion\\t$15.99\\n', '2010*\\t308,745,538\\t$13 Billion\\t$42.11\\n']\n"
          ],
          "name": "stdout"
        },
        {
          "output_type": "execute_result",
          "data": {
            "application/vnd.google.colaboratory.intrinsic+json": {
              "type": "string"
            },
            "text/plain": [
              "'1790\\t3,929,214\\t$44,377\\t1.13 cents'"
            ]
          },
          "metadata": {
            "tags": []
          },
          "execution_count": 41
        }
      ]
    },
    {
      "cell_type": "code",
      "metadata": {
        "id": "buZ8VD-DmyGa",
        "colab_type": "code",
        "colab": {
          "base_uri": "https://localhost:8080/",
          "height": 35
        },
        "outputId": "c319f796-38e9-4df2-f2c2-44db7976ae95"
      },
      "source": [
        "data_elements = second_line.strip(\"\\n\").split(\"\\t\")\n",
        "data_elements"
      ],
      "execution_count": null,
      "outputs": [
        {
          "output_type": "execute_result",
          "data": {
            "text/plain": [
              "['1790', '3,929,214', '$44,377', '1.13 cents']"
            ]
          },
          "metadata": {
            "tags": []
          },
          "execution_count": 43
        }
      ]
    },
    {
      "cell_type": "code",
      "metadata": {
        "id": "NzEX65VJsFeY",
        "colab_type": "code",
        "colab": {
          "base_uri": "https://localhost:8080/",
          "height": 186
        },
        "outputId": "d355d896-0f55-4cb1-ece8-7a270b55b78a"
      },
      "source": [
        "for year in census_cost[1:]:\n",
        "    print(year)"
      ],
      "execution_count": null,
      "outputs": [
        {
          "output_type": "error",
          "ename": "NameError",
          "evalue": "ignored",
          "traceback": [
            "\u001b[0;31m---------------------------------------------------------------------------\u001b[0m",
            "\u001b[0;31mNameError\u001b[0m                                 Traceback (most recent call last)",
            "\u001b[0;32m<ipython-input-44-00689ce619d7>\u001b[0m in \u001b[0;36m<module>\u001b[0;34m()\u001b[0m\n\u001b[0;32m----> 1\u001b[0;31m \u001b[0;32mfor\u001b[0m \u001b[0myear\u001b[0m \u001b[0;32min\u001b[0m \u001b[0mcensus_cost\u001b[0m\u001b[0;34m[\u001b[0m\u001b[0;36m1\u001b[0m\u001b[0;34m:\u001b[0m\u001b[0;34m]\u001b[0m\u001b[0;34m:\u001b[0m\u001b[0;34m\u001b[0m\u001b[0;34m\u001b[0m\u001b[0m\n\u001b[0m\u001b[1;32m      2\u001b[0m     \u001b[0mprint\u001b[0m\u001b[0;34m(\u001b[0m\u001b[0myear\u001b[0m\u001b[0;34m)\u001b[0m\u001b[0;34m\u001b[0m\u001b[0;34m\u001b[0m\u001b[0m\n",
            "\u001b[0;31mNameError\u001b[0m: name 'census_cost' is not defined"
          ]
        }
      ]
    },
    {
      "cell_type": "code",
      "metadata": {
        "id": "NcQXZt1NscYP",
        "colab_type": "code",
        "colab": {}
      },
      "source": [
        ""
      ],
      "execution_count": null,
      "outputs": []
    }
  ]
}
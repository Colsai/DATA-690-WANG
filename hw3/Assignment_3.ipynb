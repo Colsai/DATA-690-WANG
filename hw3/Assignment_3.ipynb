{
  "nbformat": 4,
  "nbformat_minor": 0,
  "metadata": {
    "colab": {
      "name": "Assignment 3.ipynb",
      "provenance": [],
      "collapsed_sections": [],
      "authorship_tag": "ABX9TyNyMPdubUPrnHYrU46GYf8d",
      "include_colab_link": true
    },
    "kernelspec": {
      "name": "python3",
      "display_name": "Python 3"
    }
  },
  "cells": [
    {
      "cell_type": "markdown",
      "metadata": {
        "id": "view-in-github",
        "colab_type": "text"
      },
      "source": [
        "<a href=\"https://colab.research.google.com/github/Colsai/DATA-690-WANG/blob/master/hw3/Assignment_3.ipynb\" target=\"_parent\"><img src=\"https://colab.research.google.com/assets/colab-badge.svg\" alt=\"Open In Colab\"/></a>"
      ]
    },
    {
      "cell_type": "markdown",
      "metadata": {
        "id": "saSYQDHW1mHl",
        "colab_type": "text"
      },
      "source": [
        "# **Deliverable 3**\n",
        "## DATA690 Wang: Stats and Visualization\n",
        "## Scott Hirabayashi"
      ]
    },
    {
      "cell_type": "markdown",
      "metadata": {
        "id": "q4etb8VG5lFb",
        "colab_type": "text"
      },
      "source": [
        "# Basic Idea for Creating a 'Matrix' (multilist)\n",
        "A 'matrix' is just a set of lists, number of rows = number of columns"
      ]
    },
    {
      "cell_type": "code",
      "metadata": {
        "id": "Q1isZg98boyl",
        "colab_type": "code",
        "colab": {}
      },
      "source": [
        "A = [1,2,3]\n",
        "B = [1,2,3]\n",
        "C = [1,2,3]\n",
        "\n",
        "var_list = [A,B,C]\n",
        "\n",
        "for i in var_list:\n",
        "    print(i)"
      ],
      "execution_count": null,
      "outputs": []
    },
    {
      "cell_type": "markdown",
      "metadata": {
        "id": "l5ZyaQbgVZyq",
        "colab_type": "text"
      },
      "source": [
        "Let's figure out the random.  \n",
        "We have to import it. (import random)"
      ]
    },
    {
      "cell_type": "code",
      "metadata": {
        "id": "p6HenJWpUU10",
        "colab_type": "code",
        "colab": {
          "base_uri": "https://localhost:8080/",
          "height": 187
        },
        "outputId": "cdae33fb-e8aa-4adf-f0ed-e7b06a91ed85"
      },
      "source": [
        "#First, we need to get our random numbers\n",
        "\n",
        "import random\n",
        "\n",
        "for number in range(10):\n",
        "    rand_num = random.randint(0,9)\n",
        "    print(rand_num)"
      ],
      "execution_count": null,
      "outputs": [
        {
          "output_type": "stream",
          "text": [
            "1\n",
            "2\n",
            "4\n",
            "0\n",
            "7\n",
            "0\n",
            "0\n",
            "8\n",
            "7\n",
            "5\n"
          ],
          "name": "stdout"
        }
      ]
    },
    {
      "cell_type": "markdown",
      "metadata": {
        "id": "5imD25hZUwIT",
        "colab_type": "text"
      },
      "source": [
        "# Introductory: Displaying Numbers\n",
        "So, looking at the last answer, we got what we wanted, but it is displayed as new lines.   \n",
        "\n",
        "So, We can use the second argument of a print statement to keep the same line.\n"
      ]
    },
    {
      "cell_type": "code",
      "metadata": {
        "id": "zjb32hA0UoHk",
        "colab_type": "code",
        "colab": {
          "base_uri": "https://localhost:8080/",
          "height": 34
        },
        "outputId": "c39498cd-b5fb-4ce8-c9f8-42faea73a566"
      },
      "source": [
        "#And the other key is how to display the numbers. We can use end \"\"\n",
        "#First, we need to get our random numbers\n",
        "\n",
        "import random\n",
        "\n",
        "for number in range(10):\n",
        "    rand_num = random.randint(0,9)\n",
        "    print(rand_num, end=\" \")"
      ],
      "execution_count": null,
      "outputs": [
        {
          "output_type": "stream",
          "text": [
            "5 0 6 7 6 6 5 4 8 9 "
          ],
          "name": "stdout"
        }
      ]
    },
    {
      "cell_type": "markdown",
      "metadata": {
        "id": "Xu6kQ2KNe7Yr",
        "colab_type": "text"
      },
      "source": [
        "#Introductory: As Nested Loops\n",
        "Now the way to make a board will be done by thinking about a board as i x i.  \n",
        "It is a square, and the number of elements are ** 2.  \n",
        "So, we will create random numbers in the amount of side x side, or side ** 2.  \n"
      ]
    },
    {
      "cell_type": "code",
      "metadata": {
        "id": "CIqcvgcL5v6c",
        "colab_type": "code",
        "colab": {
          "base_uri": "https://localhost:8080/",
          "height": 187
        },
        "outputId": "7cf2a853-9d5a-4c62-8ee3-e33b899742c5"
      },
      "source": [
        "import random #random number import from regular Python\n",
        "\n",
        "def make_board(row_num=10):\n",
        "    board = []\n",
        "    for i in range(row_num):\n",
        "        line1 = []\n",
        "\n",
        "        for i in range(row_num):\n",
        "            c = random.randint(0, 9)\n",
        "            line1.append(c)\n",
        "        \n",
        "        board.append(line1)\n",
        "    return(board)\n",
        "\n",
        "#Call Function\n",
        "make_board(10)"
      ],
      "execution_count": null,
      "outputs": [
        {
          "output_type": "execute_result",
          "data": {
            "text/plain": [
              "[[7, 3, 2, 9, 5, 3, 5, 6, 1, 5],\n",
              " [1, 3, 1, 5, 2, 3, 0, 4, 4, 5],\n",
              " [7, 1, 9, 8, 6, 2, 4, 7, 9, 2],\n",
              " [0, 5, 9, 8, 1, 1, 6, 3, 0, 2],\n",
              " [9, 4, 0, 1, 1, 3, 7, 8, 3, 8],\n",
              " [1, 9, 8, 3, 6, 6, 4, 5, 1, 9],\n",
              " [8, 3, 4, 3, 3, 4, 5, 6, 2, 2],\n",
              " [6, 3, 7, 8, 1, 0, 3, 2, 7, 4],\n",
              " [8, 6, 5, 0, 6, 3, 4, 3, 2, 6],\n",
              " [4, 0, 6, 0, 2, 4, 8, 4, 7, 2]]"
            ]
          },
          "metadata": {
            "tags": []
          },
          "execution_count": 137
        }
      ]
    },
    {
      "cell_type": "markdown",
      "metadata": {
        "id": "j0ei28GhVjC-",
        "colab_type": "text"
      },
      "source": [
        "## *Kind of* Working...\n",
        "So, that's kind of what we want. But it is lacking in how it is displayed.   \n",
        "\n",
        "Let's try it again with the 'end=' argument for print."
      ]
    },
    {
      "cell_type": "markdown",
      "metadata": {
        "id": "7wAszaFZ2BK9",
        "colab_type": "text"
      },
      "source": [
        "#Part 1: Displaying the Board in 2 Ways"
      ]
    },
    {
      "cell_type": "markdown",
      "metadata": {
        "id": "d7RbGvWiA75O",
        "colab_type": "text"
      },
      "source": [
        "On my first attempt, I thought of using a print function + map function that I found, and I kept it for each attempt, since it works.   \n",
        "It joins the elements of the list as a string and prints them.  \n",
        "  \n",
        "  \n",
        "  \n",
        "But, that isn't what we were using. We want to also do it with the \"end = \"  \n",
        "argument, so I added that after playing around with it.  "
      ]
    },
    {
      "cell_type": "code",
      "metadata": {
        "id": "aMvB4ls4EgW_",
        "colab_type": "code",
        "colab": {
          "base_uri": "https://localhost:8080/",
          "height": 187
        },
        "outputId": "fd78204b-abdb-4ddc-9c79-42830df29b7a"
      },
      "source": [
        "#Here's a better way to think about it.\n",
        "\n",
        "import random \n",
        "\n",
        "def make_board(row_num=10):\n",
        "    board = []\n",
        "    for i in range(row_num):\n",
        "        line1 = []\n",
        "        for i in range(row_num):\n",
        "            c = random.randint(0, 9)\n",
        "            print(c, end = \" \") #Using the end function, we can also do\n",
        "            line1.append(c)\n",
        "\n",
        "        print(\"\")\n",
        "        board.append(line1)\n",
        "\n",
        "    #return(board)\n",
        "\n",
        "#Call Function\n",
        "make_board(10)"
      ],
      "execution_count": null,
      "outputs": [
        {
          "output_type": "stream",
          "text": [
            "0 8 6 5 3 9 6 3 8 5 \n",
            "8 8 0 9 2 4 3 6 8 9 \n",
            "0 4 6 7 6 6 5 3 6 1 \n",
            "2 8 6 9 8 1 3 6 7 0 \n",
            "7 9 7 7 1 5 4 8 4 2 \n",
            "0 6 8 8 1 9 0 5 3 7 \n",
            "9 2 8 1 1 7 1 7 5 5 \n",
            "3 9 6 2 6 4 5 2 8 4 \n",
            "1 8 6 0 5 0 6 3 4 4 \n",
            "1 7 9 5 4 5 5 2 7 2 \n"
          ],
          "name": "stdout"
        }
      ]
    },
    {
      "cell_type": "code",
      "metadata": {
        "id": "qpX82it11U5z",
        "colab_type": "code",
        "colab": {}
      },
      "source": [
        "import random #random number import from regular Python\n",
        "\n",
        "def make_board(row_num=10):\n",
        "    board = []\n",
        "    for i in range(row_num):\n",
        "        line1 = []\n",
        "        for i in range(row_num):\n",
        "            c = random.randint(0, 9)\n",
        "            line1.append(c)\n",
        "\n",
        "        board.append(line1)\n",
        "        print(' '.join(map(str, line1))) #This line I imported, looking for how to disp elements of list.\n",
        "    #return(board) This is kept off, but I added functionality later.\n",
        "\n",
        "#Call Function\n",
        "make_board(10)"
      ],
      "execution_count": null,
      "outputs": []
    },
    {
      "cell_type": "markdown",
      "metadata": {
        "id": "m5lFVQYIBEGe",
        "colab_type": "text"
      },
      "source": [
        "#Part 2: Displaying the Board and the Total\n",
        "So now, we are finished with the first question. \n",
        "The next question asks to sum our totals for each row.  \n",
        "My thought was to add a string ending the variable 'row_sum'"
      ]
    },
    {
      "cell_type": "code",
      "metadata": {
        "id": "tQLiGf4D-Yjz",
        "colab_type": "code",
        "colab": {}
      },
      "source": [
        "import random #random number import from regular Python\n",
        "\n",
        "def make_board(row_num=10):\n",
        "    board = []\n",
        "    \n",
        "    for i in range(row_num):\n",
        "        rows = []\n",
        "        row_sum = 0\n",
        "\n",
        "        for i in range(row_num):\n",
        "            c = random.randint(0, 9) #Randomly generates a number between 0 and 9\n",
        "            rows.append(c) #Appending a number to the row\n",
        "            row_sum+=c #Summing the line within the function\n",
        "\n",
        "        rows.append(f\"* {row_sum}\") #Appends a text string\n",
        "        board.append(rows) #Appends it to the board. We can use the board for conversion.\n",
        "\n",
        "        print(' '.join(map(str, rows))) #This line is the difficult one.\n",
        "\n",
        "    #return(board)\n",
        "\n",
        "#Call Function\n",
        "make_board(10)"
      ],
      "execution_count": null,
      "outputs": []
    },
    {
      "cell_type": "markdown",
      "metadata": {
        "id": "l5hXiPw0y3Lp",
        "colab_type": "text"
      },
      "source": [
        "Of course, that isn't exactly what we want. We probably should just print each element as we go. The end argument lets us do that in print."
      ]
    },
    {
      "cell_type": "code",
      "metadata": {
        "id": "6bxBuQwIFMuC",
        "colab_type": "code",
        "colab": {
          "base_uri": "https://localhost:8080/",
          "height": 187
        },
        "outputId": "8f2b04c6-85ea-4c46-e1df-4c73888a881d"
      },
      "source": [
        "import random #random number import from regular Python\n",
        "\n",
        "def make_board(row_num=10):\n",
        "    board = []\n",
        "    \n",
        "    for i in range(row_num):\n",
        "        rows = []\n",
        "        row_sum = 0\n",
        "\n",
        "        for i in range(row_num):\n",
        "            c = random.randint(0, 9)\n",
        "            rows.append(c) \n",
        "\n",
        "            print(c,end = \" \")\n",
        "            row_sum+=c \n",
        "\n",
        "        rows.append(f\"* {row_sum}\") #Appends a text string\n",
        "        print(f\"* {row_sum}\")\n",
        "\n",
        "        board.append(rows) #Appends it to the board. We can use the board for conversion.\n",
        "\n",
        "    #return(board)\n",
        "\n",
        "#Call Function\n",
        "make_board(10)"
      ],
      "execution_count": 29,
      "outputs": [
        {
          "output_type": "stream",
          "text": [
            "3 5 6 2 3 2 7 8 7 8 * 51\n",
            "9 9 3 8 7 4 2 5 7 9 * 63\n",
            "5 6 3 9 5 4 3 8 4 8 * 55\n",
            "9 4 8 6 9 3 1 1 0 3 * 44\n",
            "3 0 8 4 2 2 1 0 9 3 * 32\n",
            "1 1 5 3 0 7 3 1 4 6 * 31\n",
            "1 7 6 1 1 7 2 5 7 5 * 42\n",
            "9 8 1 9 3 1 3 8 2 2 * 46\n",
            "5 9 0 4 0 7 4 4 2 9 * 44\n",
            "0 6 3 0 0 6 4 1 0 1 * 21\n"
          ],
          "name": "stdout"
        }
      ]
    },
    {
      "cell_type": "markdown",
      "metadata": {
        "id": "0CS9FGCd1VgG",
        "colab_type": "text"
      },
      "source": [
        "# Part 3. Adding the '@' with the modulo\n",
        "simple if/then, c % 2 == 1 then odd\n",
        "Both Versions Working"
      ]
    },
    {
      "cell_type": "code",
      "metadata": {
        "id": "jrdy2flNb2Vx",
        "colab_type": "code",
        "colab": {
          "base_uri": "https://localhost:8080/",
          "height": 187
        },
        "outputId": "ed01b838-5a98-4b78-e8fb-3d504de0c436"
      },
      "source": [
        "import random #random number import from regular Python\n",
        "\n",
        "def make_board(row_num=10):\n",
        "  \n",
        "    board = []\n",
        "    for i in range(row_num):\n",
        "        line1 = []\n",
        "\n",
        "        for i in range(row_num):\n",
        "            c = random.randint(0, 9)\n",
        "            if c % 2 == 1: #Conversely, we can do == 0 for evens, instead.\n",
        "                c = '@'\n",
        "            line1.append(c)\n",
        "        board.append(line1)\n",
        "        \n",
        "        print(' '.join(map(str, line1)))\n",
        "    #return(board)\n",
        "\n",
        "#Call Function\n",
        "make_board()"
      ],
      "execution_count": null,
      "outputs": [
        {
          "output_type": "stream",
          "text": [
            "2 @ 8 6 4 @ 8 6 @ 8\n",
            "8 @ @ @ @ @ @ 8 0 0\n",
            "2 @ 4 @ @ 2 2 0 6 @\n",
            "@ 4 @ @ @ @ 2 @ @ 4\n",
            "6 4 @ 6 4 2 @ 6 @ @\n",
            "@ 6 8 @ 6 4 6 2 6 @\n",
            "@ @ 0 @ 6 @ 2 @ 8 @\n",
            "4 6 @ @ @ 4 @ @ 6 @\n",
            "@ @ 4 8 @ @ @ @ 4 @\n",
            "@ 0 @ 8 @ 6 @ @ 6 @\n"
          ],
          "name": "stdout"
        }
      ]
    },
    {
      "cell_type": "code",
      "metadata": {
        "id": "kLoo6QlKFuZT",
        "colab_type": "code",
        "colab": {}
      },
      "source": [
        "import random #random number import from regular Python\n",
        "\n",
        "def make_board(row_num=10):\n",
        "    board = []\n",
        "    for i in range(row_num):\n",
        "        line1 = []\n",
        "\n",
        "        for i in range(row_num):\n",
        "            c = random.randint(0, 9)\n",
        "            if c % 2 == 1:\n",
        "                c = '@'\n",
        "            line1.append(c)\n",
        "            print(c,end = \" \")\n",
        "        \n",
        "        board.append(line1)\n",
        "        print(\"\")\n",
        "    #return(board)\n",
        "\n",
        "#Call Function\n",
        "make_board(5)"
      ],
      "execution_count": null,
      "outputs": []
    },
    {
      "cell_type": "markdown",
      "metadata": {
        "id": "1pRP4xzEB3z4",
        "colab_type": "text"
      },
      "source": [
        "#Part 3b. Putting them both together\n",
        "This method puts both of the last two together. It uses a try/catch in the cases where the 'c' may fail as number, if it was turned into '@'.\n",
        "\n",
        "Return board function has some issues in displaying, however.\n",
        "\n",
        "Additionally, I added some functionality to return the true matrix, or not to\n",
        "return it.   \n",
        "It mirrors what is displayed, and the program is collecting each line\n",
        "as it is displayed, so we can still use the matrix, rather than it just iterating through a print.  \n",
        "The argument is turned on by default. "
      ]
    },
    {
      "cell_type": "code",
      "metadata": {
        "id": "8bts91HDBNH1",
        "colab_type": "code",
        "colab": {
          "base_uri": "https://localhost:8080/",
          "height": 187
        },
        "outputId": "8f815587-ee92-46fa-b192-72d653412957"
      },
      "source": [
        "import random #random number import from regular Python\n",
        "\n",
        "def make_board(row_num=10, board_return='on'):\n",
        "    board = []\n",
        "    \n",
        "    for i in range(row_num):\n",
        "        rows = []\n",
        "        row_sum = 0\n",
        "\n",
        "        for i in range(row_num):\n",
        "            c = random.randint(0, 9) #Randomly generates a number between 0 and 9\n",
        "            if c % 2 == 1:\n",
        "                a = c #Sets a temporary variable 'a', to retain the value of c\n",
        "                c = '@' #Then, sets it as '@'\n",
        "            rows.append(c)\n",
        "\n",
        "            try:\n",
        "                row_sum+=c #Summing the line within the function\n",
        "            except:\n",
        "                row_sum+=a #IF the function bounces (you can't add '@', takes old 'a' value)\n",
        "\n",
        "        board.append(rows)  \n",
        "        rows.append(f\"* {row_sum}\") #Appends a text string\n",
        "\n",
        "\n",
        "        print(' '.join(map(str, rows)))  \n",
        "\n",
        "    if board_return == 'on':\n",
        "        return(board)\n",
        "\n",
        "#Call Function\n",
        "make_board(10,'off') #For sake of output, I'll leave it off"
      ],
      "execution_count": null,
      "outputs": [
        {
          "output_type": "stream",
          "text": [
            "@ 2 6 4 2 0 4 0 8 @ * 34\n",
            "@ 4 4 @ 6 @ @ @ @ @ * 51\n",
            "@ 8 @ 0 @ 8 @ 4 2 2 * 50\n",
            "@ 6 8 6 6 @ 4 @ 8 8 * 65\n",
            "@ @ 6 2 0 @ 4 4 6 4 * 39\n",
            "@ 2 @ 4 4 8 8 @ 6 @ * 56\n",
            "@ @ @ @ 2 4 4 4 @ @ * 42\n",
            "@ 8 @ 6 @ @ 0 @ 0 4 * 43\n",
            "@ 8 @ 0 @ @ @ @ 6 @ * 55\n",
            "8 6 2 4 8 @ 4 @ @ 8 * 61\n"
          ],
          "name": "stdout"
        }
      ]
    },
    {
      "cell_type": "markdown",
      "metadata": {
        "id": "3ASsE12NJKHL",
        "colab_type": "text"
      },
      "source": [
        "# Part 3c. Bringing all the previous elements in...\n",
        "This version keeps the modulo and hides the value, but still displays the \n",
        "correct totals.  \n",
        "There isn't that much going on with it that was different, but keeping the original values and not erroring took some time to work through. "
      ]
    },
    {
      "cell_type": "code",
      "metadata": {
        "id": "oGmZ1cNZGBPd",
        "colab_type": "code",
        "colab": {
          "base_uri": "https://localhost:8080/",
          "height": 187
        },
        "outputId": "3fe38532-c753-4033-f575-00923173c28e"
      },
      "source": [
        "import random #random number import from regular Python\n",
        "\n",
        "def make_board(row_num=10, board_return='on'):\n",
        "    board = []\n",
        "    \n",
        "    for i in range(row_num):\n",
        "        rows = []\n",
        "        row_sum = 0\n",
        "\n",
        "        for i in range(row_num):\n",
        "            c = random.randint(0, 9) #Randomly generates a number between 0 and 9\n",
        "            if c % 2 == 1:\n",
        "                a = c #Sets a temporary variable 'a', to retain the value\n",
        "                c = '@' #Then, sets it as '@'\n",
        "            \n",
        "            rows.append(c)\n",
        "  \n",
        "            try:\n",
        "                row_sum+=c #Summing the line within the function\n",
        "            except:\n",
        "                row_sum+=a #IF the function bounces (you can't add '@', takes old 'a' value)\n",
        "\n",
        "            print(c,end=\" \")\n",
        "\n",
        "        rows.append(f\"* {row_sum}\") #Appends a text string\n",
        "        print(f\"* {row_sum}\")\n",
        "        board.append(rows) #Appends it to the board. We can use the board for conversion.\n",
        "\n",
        "    if board_return == 'on':        \n",
        "        return(board)\n",
        "\n",
        "#Call Function\n",
        "make_board(10,'off')"
      ],
      "execution_count": null,
      "outputs": [
        {
          "output_type": "stream",
          "text": [
            "2 @ 4 @ @ 6 4 6 8 8 * 55\n",
            "@ @ 4 @ 0 2 6 0 0 0 * 33\n",
            "0 @ 8 @ @ @ @ @ 8 @ * 61\n",
            "@ 4 2 8 2 @ 2 2 @ 2 * 33\n",
            "6 @ @ 4 0 2 6 8 8 8 * 56\n",
            "0 0 @ @ 0 @ @ 6 @ @ * 30\n",
            "@ @ 4 @ @ @ 2 @ @ @ * 58\n",
            "2 @ 8 @ 6 @ 2 8 @ 0 * 44\n",
            "0 4 4 @ @ 6 @ 4 @ @ * 39\n",
            "4 @ @ 8 @ @ 0 4 6 @ * 51\n"
          ],
          "name": "stdout"
        }
      ]
    },
    {
      "cell_type": "markdown",
      "metadata": {
        "id": "U4zTXdLHJis8",
        "colab_type": "text"
      },
      "source": [
        "# 4. Boxed Form...\n",
        "Try to encapsulate the thing with rows 0 as \"*\"?"
      ]
    },
    {
      "cell_type": "code",
      "metadata": {
        "id": "yjzRfoJf1v05",
        "colab_type": "code",
        "colab": {
          "base_uri": "https://localhost:8080/",
          "height": 221
        },
        "outputId": "d2bec273-7e77-4c71-cf50-0407954181d4"
      },
      "source": [
        "import random #random number import from regular Python\n",
        "\n",
        "def make_board(row_num=10, board_return='on'):\n",
        "    board = []\n",
        "    row_num = row_num+1\n",
        "\n",
        "    for i in range(row_num+1):\n",
        "        rows = []\n",
        "        row_sum = 0\n",
        "\n",
        "        if i == 0 or i == (row_num):\n",
        "            for i in range(row_num):\n",
        "                c = \"*\" \n",
        "                rows.append(c)\n",
        "                print(c,end= \" \")\n",
        "\n",
        "        for i in range(0,row_num): #Row Number is increased by 1 to compensate for loss to '*'\n",
        "            c = random.randint(0, 9) #Randomly generates a number between 0 and 9\n",
        "            if c % 2 == 1:\n",
        "                a = c #Sets a temporary variable 'a', to retain the value\n",
        "                c = '@' #Then, sets it as '@'\n",
        "            \n",
        "            if i == 0:\n",
        "                c = '*'\n",
        "                a = 0\n",
        "\n",
        "            rows.append(c)\n",
        "\n",
        "            try:\n",
        "                row_sum+=c #Summing the line within the function\n",
        "            except:\n",
        "                row_sum+=a #IF the function bounces (you can't add '@', takes old 'a' value)\n",
        "\n",
        "            print(c,end=\" \")\n",
        "\n",
        "        rows.append(f\"*\") #Appends a text string\n",
        "        \n",
        "        print(f\"*\")\n",
        "        board.append(rows) #Appends it to the board. We can use the board for conversion.\n",
        "\n",
        "        column_sum = 0\n",
        "\n",
        "    if board_return == 'on':\n",
        "        print(f\"\\n Matrix:\")\n",
        "        return(board)\n",
        "\n",
        "#Call Function\n",
        "make_board(10,'off')"
      ],
      "execution_count": 28,
      "outputs": [
        {
          "output_type": "stream",
          "text": [
            "* * * * * * * * * * * * 8 4 @ @ 8 @ @ 6 6 4 *\n",
            "* @ 4 @ @ @ @ 0 @ @ @ *\n",
            "* @ @ 0 @ 6 0 8 @ 0 2 *\n",
            "* 2 @ @ @ @ @ @ @ @ @ *\n",
            "* @ @ 6 2 0 @ 0 6 @ 0 *\n",
            "* 8 8 0 @ 6 @ @ @ @ @ *\n",
            "* @ @ @ @ 8 4 2 @ @ @ *\n",
            "* 4 8 @ 2 @ @ @ 8 8 4 *\n",
            "* 6 8 2 6 8 6 6 @ 0 @ *\n",
            "* 2 @ @ @ @ @ @ @ @ @ *\n",
            "* 0 0 @ @ 4 @ 2 @ 8 @ *\n",
            "* * * * * * * * * * * * @ @ @ 2 @ @ 0 8 0 2 *\n"
          ],
          "name": "stdout"
        }
      ]
    },
    {
      "cell_type": "markdown",
      "metadata": {
        "id": "ucCjYBlz5A7L",
        "colab_type": "text"
      },
      "source": [
        "The last problem, we have to sum the rows"
      ]
    },
    {
      "cell_type": "code",
      "metadata": {
        "id": "XB0dhT_1za3V",
        "colab_type": "code",
        "colab": {
          "base_uri": "https://localhost:8080/",
          "height": 129
        },
        "outputId": "21aba5bf-6b6e-4037-e98a-b09106f1a77c"
      },
      "source": [
        "import random #random number import from regular Python\n",
        "\n",
        "row_num=10\n",
        "board = []\n",
        "    \n",
        "for i in range(row_num):\n",
        "    rows = []\n",
        "    row_sum = 0\n",
        "\n",
        "    for i in range(row_num):\n",
        "        c = random.randint(0, 9)\n",
        "        rows.append(c) \n",
        "\n",
        "        print(c,end = \" \")\n",
        "        row_sum+=c \n",
        "\n",
        "    rows.append(f\"* {row_sum}\") #Appends a text string\n",
        "    print(f\"* {row_sum}\")\n",
        "\n",
        "    board.append(rows) #Appends it to the board. We can use the board for conversion.\n",
        "\n",
        "col_sum = 0\n"
      ],
      "execution_count": 40,
      "outputs": [
        {
          "output_type": "error",
          "ename": "SyntaxError",
          "evalue": "ignored",
          "traceback": [
            "\u001b[0;36m  File \u001b[0;32m\"<ipython-input-40-e9e5cabc6721>\"\u001b[0;36m, line \u001b[0;32m27\u001b[0m\n\u001b[0;31m    col_sum+=[board[i]\u001b[0m\n\u001b[0m                      ^\u001b[0m\n\u001b[0;31mSyntaxError\u001b[0m\u001b[0;31m:\u001b[0m unexpected EOF while parsing\n"
          ]
        }
      ]
    },
    {
      "cell_type": "markdown",
      "metadata": {
        "id": "lG0ddoTb2Qaw",
        "colab_type": "text"
      },
      "source": [
        "# Idea 2:\n",
        "My second idea is to create and split a full list of numbers into multiple sets.\n",
        "It's a square, so basically the 11th number becomes the beginning of the second\n",
        "row instead.\n"
      ]
    },
    {
      "cell_type": "code",
      "metadata": {
        "id": "UCBID-yb60AY",
        "colab_type": "code",
        "colab": {}
      },
      "source": [
        "import random #random number import from regular Python\n",
        "\n",
        "dimensions = 10 #So, a 10x10\n",
        "elements = dimensions ** 2 #It's a square, so we square this\n",
        "\n",
        "full_matrix = []\n",
        "\n",
        "for i in range(elements):\n",
        "    c = random.randint(0, 9)\n",
        "    full_matrix.append(c)\n",
        "\n",
        "print(full_matrix)\n",
        "\n",
        "row=[]\n",
        "\n",
        "for rows in full_matrix:\n",
        "    for i in range(10):\n",
        "        row.append(full_matrix[i])\n",
        "    print(row)\n",
        "\n",
        "    i+=10\n",
        "    row = []"
      ],
      "execution_count": null,
      "outputs": []
    },
    {
      "cell_type": "code",
      "metadata": {
        "id": "75B9Q3Lv2jSl",
        "colab_type": "code",
        "colab": {}
      },
      "source": [
        "import numpy as np\n",
        "import random #random number import from regular Python\n",
        "\n",
        "dimensions = 10 #So, a 10x10\n",
        "elements = dimensions ** 2 #It's a square, so we square this\n",
        "\n",
        "full_matrix = []\n",
        "\n",
        "for i in range(elements):\n",
        "    c = random.randint(0, 9)\n",
        "    full_matrix.append(c)\n",
        "\n",
        "print(full_matrix)\n",
        "\n",
        "n=0\n",
        "\n",
        "for row in full_matrix:\n",
        "    for \n",
        "    row+=10"
      ],
      "execution_count": null,
      "outputs": []
    }
  ]
}
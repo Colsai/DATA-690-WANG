{
  "nbformat": 4,
  "nbformat_minor": 0,
  "metadata": {
    "colab": {
      "name": "Assignment 3.ipynb",
      "provenance": [],
      "collapsed_sections": [],
      "authorship_tag": "ABX9TyNxK/k6LwwDOtbMXw5naZv8",
      "include_colab_link": true
    },
    "kernelspec": {
      "name": "python3",
      "display_name": "Python 3"
    }
  },
  "cells": [
    {
      "cell_type": "markdown",
      "metadata": {
        "id": "view-in-github",
        "colab_type": "text"
      },
      "source": [
        "<a href=\"https://colab.research.google.com/github/Colsai/DATA-690-WANG/blob/master/hw3/Assignment_3.ipynb\" target=\"_parent\"><img src=\"https://colab.research.google.com/assets/colab-badge.svg\" alt=\"Open In Colab\"/></a>"
      ]
    },
    {
      "cell_type": "markdown",
      "metadata": {
        "id": "saSYQDHW1mHl",
        "colab_type": "text"
      },
      "source": [
        "# Deliverable 3\n",
        "## DATA690 Hirabayashi"
      ]
    },
    {
      "cell_type": "markdown",
      "metadata": {
        "id": "q4etb8VG5lFb",
        "colab_type": "text"
      },
      "source": [
        "# Basic Idea for Creating a 'Matrix' (multilist)\n",
        "A 'matrix' is just a set of lists, number of rows = number of columns"
      ]
    },
    {
      "cell_type": "code",
      "metadata": {
        "id": "Q1isZg98boyl",
        "colab_type": "code",
        "colab": {}
      },
      "source": [
        "A = [1,2,3]\n",
        "B = [1,2,3]\n",
        "C = [1,2,3]\n",
        "\n",
        "var_list = [A,B,C]\n",
        "\n",
        "for i in var_list:\n",
        "    print(i)"
      ],
      "execution_count": null,
      "outputs": []
    },
    {
      "cell_type": "markdown",
      "metadata": {
        "id": "Xu6kQ2KNe7Yr",
        "colab_type": "text"
      },
      "source": [
        "#As Nested Loops\n",
        "An idea for making a board...  \n",
        "Make the board   \n",
        "Print the board  \n",
        "Change the board layout\n"
      ]
    },
    {
      "cell_type": "code",
      "metadata": {
        "id": "CIqcvgcL5v6c",
        "colab_type": "code",
        "colab": {}
      },
      "source": [
        "import random #random number import from regular Python\n",
        "\n",
        "def make_board(row_num=10):\n",
        "    board = []\n",
        "    for i in range(row_num):\n",
        "        line1 = []\n",
        "\n",
        "        for i in range(row_num):\n",
        "            c = random.randint(0, 9)\n",
        "            line1.append(c)\n",
        "        \n",
        "        board.append(line1)\n",
        "    return(board)\n",
        "\n",
        "#Call Function\n",
        "make_board(10)"
      ],
      "execution_count": null,
      "outputs": []
    },
    {
      "cell_type": "markdown",
      "metadata": {
        "id": "7wAszaFZ2BK9",
        "colab_type": "text"
      },
      "source": [
        "#Part 1: Displaying the Board in 2 Ways"
      ]
    },
    {
      "cell_type": "markdown",
      "metadata": {
        "id": "d7RbGvWiA75O",
        "colab_type": "text"
      },
      "source": [
        "The displaying of the numbers as list elements was the most difficult part of this one. "
      ]
    },
    {
      "cell_type": "code",
      "metadata": {
        "id": "qpX82it11U5z",
        "colab_type": "code",
        "colab": {}
      },
      "source": [
        "import random #random number import from regular Python\n",
        "\n",
        "def make_board(row_num=10):\n",
        "    board = []\n",
        "    for i in range(row_num):\n",
        "        line1 = []\n",
        "        for i in range(row_num):\n",
        "            c = random.randint(0, 9)\n",
        "            line1.append(c)\n",
        "\n",
        "        board.append(line1)\n",
        "        print(' '.join(map(str, line1))) #This line is the difficult one.\n",
        "    #return(board)\n",
        "\n",
        "#Call Function\n",
        "make_board(10)"
      ],
      "execution_count": null,
      "outputs": []
    },
    {
      "cell_type": "code",
      "metadata": {
        "id": "aMvB4ls4EgW_",
        "colab_type": "code",
        "colab": {}
      },
      "source": [
        "import random #random number import from regular Python\n",
        "\n",
        "def make_board(row_num=10):\n",
        "    board = []\n",
        "    for i in range(row_num):\n",
        "        line1 = []\n",
        "        for i in range(row_num):\n",
        "            c = random.randint(0, 9)\n",
        "            print(c, end = \" \") #Using the end function, we can also do\n",
        "            line1.append(c)\n",
        "\n",
        "        print(\"\")\n",
        "        board.append(line1)\n",
        "\n",
        "    #return(board)\n",
        "\n",
        "#Call Function\n",
        "make_board(10)"
      ],
      "execution_count": null,
      "outputs": []
    },
    {
      "cell_type": "markdown",
      "metadata": {
        "id": "m5lFVQYIBEGe",
        "colab_type": "text"
      },
      "source": [
        "#Part 2: Displaying the Board and the Total"
      ]
    },
    {
      "cell_type": "code",
      "metadata": {
        "id": "tQLiGf4D-Yjz",
        "colab_type": "code",
        "colab": {}
      },
      "source": [
        "import random #random number import from regular Python\n",
        "\n",
        "def make_board(row_num=10):\n",
        "    board = []\n",
        "    \n",
        "    for i in range(row_num):\n",
        "        rows = []\n",
        "        row_sum = 0\n",
        "\n",
        "        for i in range(row_num):\n",
        "            c = random.randint(0, 9) #Randomly generates a number between 0 and 9\n",
        "            rows.append(c) #Appending a number to the row\n",
        "            row_sum+=c #Summing the line within the function\n",
        "\n",
        "        rows.append(f\"* {row_sum}\") #Appends a text string\n",
        "        board.append(rows) #Appends it to the board. We can use the board for conversion.\n",
        "\n",
        "        print(' '.join(map(str, rows))) #This line is the difficult one.\n",
        "\n",
        "    #return(board)\n",
        "\n",
        "#Call Function\n",
        "make_board(10)"
      ],
      "execution_count": null,
      "outputs": []
    },
    {
      "cell_type": "code",
      "metadata": {
        "id": "6bxBuQwIFMuC",
        "colab_type": "code",
        "colab": {}
      },
      "source": [
        "import random #random number import from regular Python\n",
        "\n",
        "def make_board(row_num=10):\n",
        "    board = []\n",
        "    \n",
        "    for i in range(row_num):\n",
        "        rows = []\n",
        "        row_sum = 0\n",
        "\n",
        "        for i in range(row_num):\n",
        "            c = random.randint(0, 9) #Randomly generates a number between 0 and 9\n",
        "            rows.append(c) #Appending a number to the row\n",
        "\n",
        "            print(c,end = \" \")\n",
        "            row_sum+=c #Summing the line within the function\n",
        "\n",
        "        \n",
        "        rows.append(f\"* {row_sum}\") #Appends a text string\n",
        "        print(f\"* {row_sum}\")\n",
        "\n",
        "        board.append(rows) #Appends it to the board. We can use the board for conversion.\n",
        "\n",
        "    #return(board)\n",
        "\n",
        "#Call Function\n",
        "make_board(10)"
      ],
      "execution_count": null,
      "outputs": []
    },
    {
      "cell_type": "markdown",
      "metadata": {
        "id": "0CS9FGCd1VgG",
        "colab_type": "text"
      },
      "source": [
        "# Part 3. Adding the '@' with the modulo\n",
        "simple if/then, c % 2 == 1 then odd\n",
        "Both Versions Working"
      ]
    },
    {
      "cell_type": "code",
      "metadata": {
        "id": "jrdy2flNb2Vx",
        "colab_type": "code",
        "colab": {
          "base_uri": "https://localhost:8080/",
          "height": 187
        },
        "outputId": "ed01b838-5a98-4b78-e8fb-3d504de0c436"
      },
      "source": [
        "import random #random number import from regular Python\n",
        "\n",
        "def make_board(row_num=10):\n",
        "  \n",
        "    board = []\n",
        "    for i in range(row_num):\n",
        "        line1 = []\n",
        "\n",
        "        for i in range(row_num):\n",
        "            c = random.randint(0, 9)\n",
        "            if c % 2 == 1:\n",
        "                c = '@'\n",
        "            line1.append(c)\n",
        "        board.append(line1)\n",
        "        \n",
        "        print(' '.join(map(str, line1)))\n",
        "    #return(board)\n",
        "\n",
        "#Call Function\n",
        "make_board()"
      ],
      "execution_count": 136,
      "outputs": [
        {
          "output_type": "stream",
          "text": [
            "2 @ 8 6 4 @ 8 6 @ 8\n",
            "8 @ @ @ @ @ @ 8 0 0\n",
            "2 @ 4 @ @ 2 2 0 6 @\n",
            "@ 4 @ @ @ @ 2 @ @ 4\n",
            "6 4 @ 6 4 2 @ 6 @ @\n",
            "@ 6 8 @ 6 4 6 2 6 @\n",
            "@ @ 0 @ 6 @ 2 @ 8 @\n",
            "4 6 @ @ @ 4 @ @ 6 @\n",
            "@ @ 4 8 @ @ @ @ 4 @\n",
            "@ 0 @ 8 @ 6 @ @ 6 @\n"
          ],
          "name": "stdout"
        }
      ]
    },
    {
      "cell_type": "code",
      "metadata": {
        "id": "kLoo6QlKFuZT",
        "colab_type": "code",
        "colab": {}
      },
      "source": [
        "import random #random number import from regular Python\n",
        "\n",
        "def make_board(row_num=10):\n",
        "    board = []\n",
        "    for i in range(row_num):\n",
        "        line1 = []\n",
        "\n",
        "        for i in range(row_num):\n",
        "            c = random.randint(0, 9)\n",
        "            if c % 2 == 1:\n",
        "                c = '@'\n",
        "            line1.append(c)\n",
        "            print(c,end = \" \")\n",
        "        \n",
        "        board.append(line1)\n",
        "        print(\"\")\n",
        "    #return(board)\n",
        "\n",
        "#Call Function\n",
        "make_board(5)"
      ],
      "execution_count": null,
      "outputs": []
    },
    {
      "cell_type": "markdown",
      "metadata": {
        "id": "1pRP4xzEB3z4",
        "colab_type": "text"
      },
      "source": [
        "#Part 3b. Putting them both together\n",
        "This method puts both of the last two together. It uses a try/catch in the cases where the 'c' may fail as number, if it was turned into '@'.\n",
        "\n",
        "Return board function has some issues in displaying, however."
      ]
    },
    {
      "cell_type": "code",
      "metadata": {
        "id": "8bts91HDBNH1",
        "colab_type": "code",
        "colab": {}
      },
      "source": [
        "import random #random number import from regular Python\n",
        "\n",
        "def make_board(row_num=10, board_return='yes'):\n",
        "    board = []\n",
        "    \n",
        "    for i in range(row_num):\n",
        "        rows = []\n",
        "        row_sum = 0\n",
        "\n",
        "        for i in range(row_num):\n",
        "            c = random.randint(0, 9) #Randomly generates a number between 0 and 9\n",
        "            if c % 2 == 1:\n",
        "                a = c #Sets a temporary variable 'a', to retain the value\n",
        "                c = '@' #Then, sets it as '@'\n",
        "            rows.append(c)\n",
        "\n",
        "            try:\n",
        "                row_sum+=c #Summing the line within the function\n",
        "            except:\n",
        "                row_sum+=a #IF the function bounces (you can't add '@', takes old 'a' value)\n",
        "\n",
        "        board.append(rows) #Appends it to the board. We can use the board for conversion.\n",
        "        rows.append(f\"* {row_sum}\") #Appends a text string\n",
        "\n",
        "\n",
        "        print(' '.join(map(str, rows))) #This line is the difficult one.\n",
        "\n",
        "    if board_return == 'yes':\n",
        "        return(board)\n",
        "\n",
        "#Call Function\n",
        "make_board(10,'yes')"
      ],
      "execution_count": null,
      "outputs": []
    },
    {
      "cell_type": "markdown",
      "metadata": {
        "id": "3ASsE12NJKHL",
        "colab_type": "text"
      },
      "source": [
        "# Part 3c. Bringing all the previous elements in...\n",
        "This version keeps the modulo and hides the value, but still displays the \n",
        "correct totals."
      ]
    },
    {
      "cell_type": "code",
      "metadata": {
        "id": "oGmZ1cNZGBPd",
        "colab_type": "code",
        "colab": {}
      },
      "source": [
        "import random #random number import from regular Python\n",
        "\n",
        "def make_board(row_num=10, board_return='yes'):\n",
        "    board = []\n",
        "    \n",
        "    for i in range(row_num):\n",
        "        rows = []\n",
        "        row_sum = 0\n",
        "\n",
        "        for i in range(row_num):\n",
        "            c = random.randint(0, 9) #Randomly generates a number between 0 and 9\n",
        "            if c % 2 == 1:\n",
        "                a = c #Sets a temporary variable 'a', to retain the value\n",
        "                c = '@' #Then, sets it as '@'\n",
        "            \n",
        "            rows.append(c)\n",
        "  \n",
        "            try:\n",
        "                row_sum+=c #Summing the line within the function\n",
        "            except:\n",
        "                row_sum+=a #IF the function bounces (you can't add '@', takes old 'a' value)\n",
        "\n",
        "            print(c,end=\" \")\n",
        "\n",
        "        rows.append(f\"* {row_sum}\") #Appends a text string\n",
        "        print(f\"* {row_sum}\")\n",
        "        board.append(rows) #Appends it to the board. We can use the board for conversion.\n",
        "\n",
        "    if board_return == 'yes':        \n",
        "        return(board)\n",
        "\n",
        "#Call Function\n",
        "make_board(5,'yes')"
      ],
      "execution_count": null,
      "outputs": []
    },
    {
      "cell_type": "markdown",
      "metadata": {
        "id": "U4zTXdLHJis8",
        "colab_type": "text"
      },
      "source": [
        "# 4. Boxed Form...\n",
        "Try to encapsulate the thing with rows 0 as \"*\"?"
      ]
    },
    {
      "cell_type": "code",
      "metadata": {
        "id": "yjzRfoJf1v05",
        "colab_type": "code",
        "colab": {}
      },
      "source": [
        "import random #random number import from regular Python\n",
        "\n",
        "def make_board(row_num=10, board_return='yes'):\n",
        "    board = []\n",
        "    \n",
        "    for i in range(row_num):\n",
        "        rows = []\n",
        "        row_sum = 0\n",
        "\n",
        "        for i in range(row_num+1): #Row Number is increased by 1 to compensate for loss to '*'\n",
        "            c = random.randint(0, 9) #Randomly generates a number between 0 and 9\n",
        "            if c % 2 == 1:\n",
        "                a = c #Sets a temporary variable 'a', to retain the value\n",
        "                c = '@' #Then, sets it as '@'\n",
        "            \n",
        "            if i == 0:\n",
        "                c = '*'\n",
        "                a = 0\n",
        "\n",
        "            rows.append(c)\n",
        "\n",
        "            try:\n",
        "                row_sum+=c #Summing the line within the function\n",
        "            except:\n",
        "                row_sum+=a #IF the function bounces (you can't add '@', takes old 'a' value)\n",
        "\n",
        "            print(c,end=\" \")\n",
        "\n",
        "        rows.append(f\"* {row_sum}\") #Appends a text string\n",
        "        print(f\"* {row_sum}\")\n",
        "        board.append(rows) #Appends it to the board. We can use the board for conversion.\n",
        "\n",
        "        column_sum = 0\n",
        "\n",
        "        for columns in board:\n",
        "            for col_num in columns:\n",
        "                print(col_num, end=\" \")\n",
        "            \n",
        "            i+=10\n",
        "\n",
        "    if board_return == 'yes':\n",
        "        print(f\"\\n Matrix:\")\n",
        "        return(board)\n",
        "\n",
        "#Call Function\n",
        "make_board(10,'yes')"
      ],
      "execution_count": null,
      "outputs": []
    },
    {
      "cell_type": "markdown",
      "metadata": {
        "id": "lG0ddoTb2Qaw",
        "colab_type": "text"
      },
      "source": [
        "# Idea 2:\n",
        "My second idea is to create and split a full list of numbers into multiple sets.\n",
        "It's a square, so basically the 11th number becomes the beginning of the second\n",
        "row instead.\n"
      ]
    },
    {
      "cell_type": "code",
      "metadata": {
        "id": "UCBID-yb60AY",
        "colab_type": "code",
        "colab": {}
      },
      "source": [
        "import random #random number import from regular Python\n",
        "\n",
        "dimensions = 10 #So, a 10x10\n",
        "elements = dimensions ** 2 #It's a square, so we square this\n",
        "\n",
        "full_matrix = []\n",
        "\n",
        "for i in range(elements):\n",
        "    c = random.randint(0, 9)\n",
        "    full_matrix.append(c)\n",
        "\n",
        "print(full_matrix)\n",
        "\n",
        "row=[]\n",
        "\n",
        "for rows in full_matrix:\n",
        "    for i in range(10):\n",
        "        row.append(full_matrix[i])\n",
        "    print(row)\n",
        "\n",
        "    i+=10\n",
        "    row = []"
      ],
      "execution_count": null,
      "outputs": []
    },
    {
      "cell_type": "code",
      "metadata": {
        "id": "75B9Q3Lv2jSl",
        "colab_type": "code",
        "colab": {}
      },
      "source": [
        "import numpy as np\n",
        "import random #random number import from regular Python\n",
        "\n",
        "dimensions = 10 #So, a 10x10\n",
        "elements = dimensions ** 2 #It's a square, so we square this\n",
        "\n",
        "full_matrix = []\n",
        "\n",
        "for i in range(elements):\n",
        "    c = random.randint(0, 9)\n",
        "    full_matrix.append(c)\n",
        "\n",
        "print(full_matrix)\n",
        "\n",
        "n=0\n",
        "\n",
        "for row in full_matrix:\n",
        "    for \n",
        "    row+=10"
      ],
      "execution_count": null,
      "outputs": []
    }
  ]
}
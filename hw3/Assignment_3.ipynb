{
  "nbformat": 4,
  "nbformat_minor": 0,
  "metadata": {
    "colab": {
      "name": "Assignment 3.ipynb",
      "provenance": [],
      "collapsed_sections": [],
      "authorship_tag": "ABX9TyOtNU8+qh44a9w0QtCxdt9M",
      "include_colab_link": true
    },
    "kernelspec": {
      "name": "python3",
      "display_name": "Python 3"
    }
  },
  "cells": [
    {
      "cell_type": "markdown",
      "metadata": {
        "id": "view-in-github",
        "colab_type": "text"
      },
      "source": [
        "<a href=\"https://colab.research.google.com/github/Colsai/DATA-690-WANG/blob/master/hw3/Assignment_3.ipynb\" target=\"_parent\"><img src=\"https://colab.research.google.com/assets/colab-badge.svg\" alt=\"Open In Colab\"/></a>"
      ]
    },
    {
      "cell_type": "markdown",
      "metadata": {
        "id": "saSYQDHW1mHl",
        "colab_type": "text"
      },
      "source": [
        "# **Deliverable 3**\n",
        "## DATA690 Wang: Stats and Visualization\n",
        "## Scott Hirabayashi"
      ]
    },
    {
      "cell_type": "markdown",
      "metadata": {
        "id": "ALiQN0bpErEe",
        "colab_type": "text"
      },
      "source": [
        "Apologies in advance, I didn't break up the code as much as I wanted, but I progressively added structures to my code to make sense. "
      ]
    },
    {
      "cell_type": "markdown",
      "metadata": {
        "id": "q4etb8VG5lFb",
        "colab_type": "text"
      },
      "source": [
        "# Basic Idea for Creating a 'Matrix' (multilist)\n",
        "A 'matrix' is just a set of lists, number of rows = number of columns"
      ]
    },
    {
      "cell_type": "code",
      "metadata": {
        "id": "Q1isZg98boyl",
        "colab_type": "code",
        "colab": {
          "base_uri": "https://localhost:8080/",
          "height": 68
        },
        "outputId": "7308851c-bb56-4ec9-f292-debde13b0b4b"
      },
      "source": [
        "A = [1,2,3]\n",
        "B = [1,2,3]\n",
        "C = [1,2,3]\n",
        "\n",
        "var_list = [A,B,C]\n",
        "\n",
        "for i in var_list:\n",
        "    print(i)"
      ],
      "execution_count": 23,
      "outputs": [
        {
          "output_type": "stream",
          "text": [
            "[1, 2, 3]\n",
            "[1, 2, 3]\n",
            "[1, 2, 3]\n"
          ],
          "name": "stdout"
        }
      ]
    },
    {
      "cell_type": "markdown",
      "metadata": {
        "id": "l5ZyaQbgVZyq",
        "colab_type": "text"
      },
      "source": [
        "Let's figure out the random.  \n",
        "We have to import it. (import random)"
      ]
    },
    {
      "cell_type": "code",
      "metadata": {
        "id": "p6HenJWpUU10",
        "colab_type": "code",
        "colab": {
          "base_uri": "https://localhost:8080/",
          "height": 187
        },
        "outputId": "7fddd1d9-da1e-4778-c5bb-f07fddf50a83"
      },
      "source": [
        "#First, we need to get our random numbers\n",
        "\n",
        "import random\n",
        "\n",
        "for number in range(10):\n",
        "    rand_num = random.randint(0,9)\n",
        "    print(rand_num)"
      ],
      "execution_count": 24,
      "outputs": [
        {
          "output_type": "stream",
          "text": [
            "3\n",
            "7\n",
            "1\n",
            "6\n",
            "2\n",
            "2\n",
            "3\n",
            "4\n",
            "7\n",
            "7\n"
          ],
          "name": "stdout"
        }
      ]
    },
    {
      "cell_type": "markdown",
      "metadata": {
        "id": "5imD25hZUwIT",
        "colab_type": "text"
      },
      "source": [
        "# Introductory: Displaying Numbers\n",
        "So, looking at the last answer, we got what we wanted, but it is displayed as new lines.   \n",
        "\n",
        "So, We can use the second argument of a print statement to keep the same line.\n"
      ]
    },
    {
      "cell_type": "code",
      "metadata": {
        "id": "zjb32hA0UoHk",
        "colab_type": "code",
        "colab": {
          "base_uri": "https://localhost:8080/",
          "height": 34
        },
        "outputId": "177aa818-affe-4a7f-c838-8e2a62edd941"
      },
      "source": [
        "#And the other key is how to display the numbers. We can use end \"\"\n",
        "#First, we need to get our random numbers\n",
        "\n",
        "import random\n",
        "\n",
        "for number in range(10):\n",
        "    rand_num = random.randint(0,9)\n",
        "    print(rand_num, end=\" \")"
      ],
      "execution_count": 25,
      "outputs": [
        {
          "output_type": "stream",
          "text": [
            "0 4 2 7 2 1 4 2 8 2 "
          ],
          "name": "stdout"
        }
      ]
    },
    {
      "cell_type": "markdown",
      "metadata": {
        "id": "Xu6kQ2KNe7Yr",
        "colab_type": "text"
      },
      "source": [
        "#Introductory: As Nested Loops\n",
        "Now the way to make a board will be done by thinking about a board as i x i.  \n",
        "It is a square, and the number of elements are ** 2.  \n",
        "So, we will create random numbers in the amount of side x side, or side ** 2.  \n"
      ]
    },
    {
      "cell_type": "code",
      "metadata": {
        "id": "CIqcvgcL5v6c",
        "colab_type": "code",
        "colab": {
          "base_uri": "https://localhost:8080/",
          "height": 187
        },
        "outputId": "a5cae0a3-dd33-4655-9a8c-e6754bcf288d"
      },
      "source": [
        "import random #random number import from regular Python\n",
        "\n",
        "def make_board(row_num=10):\n",
        "    board = []\n",
        "\n",
        "    for all_rows in range(row_num):\n",
        "        rows = []\n",
        "\n",
        "        for elements in range(row_num):\n",
        "            element = random.randint(0, 9)\n",
        "            rows.append(element)\n",
        "        \n",
        "        board.append(rows)\n",
        "    return(board)\n",
        "\n",
        "#Call Function\n",
        "make_board(10)"
      ],
      "execution_count": 26,
      "outputs": [
        {
          "output_type": "execute_result",
          "data": {
            "text/plain": [
              "[[8, 7, 6, 6, 0, 1, 9, 3, 8, 5],\n",
              " [7, 6, 9, 6, 4, 7, 5, 1, 8, 4],\n",
              " [3, 0, 8, 2, 7, 9, 4, 4, 7, 5],\n",
              " [7, 5, 2, 3, 5, 5, 9, 2, 7, 7],\n",
              " [3, 8, 2, 3, 2, 0, 5, 0, 3, 0],\n",
              " [5, 7, 1, 9, 2, 1, 5, 9, 8, 2],\n",
              " [9, 8, 2, 6, 9, 1, 6, 4, 9, 2],\n",
              " [8, 4, 7, 1, 0, 7, 9, 8, 5, 5],\n",
              " [5, 4, 9, 1, 6, 1, 9, 0, 3, 0],\n",
              " [1, 8, 0, 5, 3, 6, 1, 7, 3, 9]]"
            ]
          },
          "metadata": {
            "tags": []
          },
          "execution_count": 26
        }
      ]
    },
    {
      "cell_type": "markdown",
      "metadata": {
        "id": "j0ei28GhVjC-",
        "colab_type": "text"
      },
      "source": [
        "## *Kind of* Working...\n",
        "So, that's kind of what we want. But it is lacking in how it is displayed.   \n",
        "\n",
        "Let's try it again with the 'end=' argument for print."
      ]
    },
    {
      "cell_type": "markdown",
      "metadata": {
        "id": "7wAszaFZ2BK9",
        "colab_type": "text"
      },
      "source": [
        "#Part 1: Displaying the Board in 2 Ways"
      ]
    },
    {
      "cell_type": "markdown",
      "metadata": {
        "id": "d7RbGvWiA75O",
        "colab_type": "text"
      },
      "source": [
        "On my first attempt, I thought of using a print function + map function that I found, and I kept it for each attempt, since it works.   \n",
        "It joins the elements of the list as a string and prints them.  \n",
        "  \n",
        "  \n",
        "  \n",
        "But, that isn't what we were using. We want to also do it with the \"end = \"  \n",
        "argument, so I added that after playing around with it.  "
      ]
    },
    {
      "cell_type": "code",
      "metadata": {
        "id": "aMvB4ls4EgW_",
        "colab_type": "code",
        "colab": {
          "base_uri": "https://localhost:8080/",
          "height": 187
        },
        "outputId": "f8d41258-29bd-4c2a-b6ca-767754515d0d"
      },
      "source": [
        "#Here's a better way to think about it.\n",
        "\n",
        "import random \n",
        "\n",
        "def make_board(row_num=10):\n",
        "    board = []\n",
        "\n",
        "    for rows in range(row_num):\n",
        "        rows = []\n",
        "        \n",
        "        for elements in range(row_num):\n",
        "            element = random.randint(0, 9)\n",
        "            print(element, end = \" \") #Using the end function, we can also do\n",
        "            \n",
        "            rows.append(element)\n",
        "\n",
        "        print(\"\")\n",
        "        board.append(rows)\n",
        "\n",
        "    #return(board)\n",
        "\n",
        "#Call Function\n",
        "make_board(10)"
      ],
      "execution_count": 27,
      "outputs": [
        {
          "output_type": "stream",
          "text": [
            "8 2 3 5 1 5 8 3 5 3 \n",
            "1 6 0 7 6 8 5 2 2 5 \n",
            "6 6 3 6 3 5 7 2 4 8 \n",
            "5 1 2 4 1 6 1 9 4 0 \n",
            "0 4 5 5 1 8 7 4 9 7 \n",
            "2 5 2 9 8 0 2 5 6 6 \n",
            "6 1 9 8 6 0 2 4 7 0 \n",
            "3 6 1 4 4 0 5 5 2 2 \n",
            "5 4 6 4 4 0 6 6 6 8 \n",
            "0 7 3 5 6 0 7 3 4 1 \n"
          ],
          "name": "stdout"
        }
      ]
    },
    {
      "cell_type": "code",
      "metadata": {
        "id": "qpX82it11U5z",
        "colab_type": "code",
        "colab": {
          "base_uri": "https://localhost:8080/",
          "height": 187
        },
        "outputId": "491b6413-071b-46d6-ff04-0abcb6643ae2"
      },
      "source": [
        "import random #random number import from regular Python\n",
        "\n",
        "def make_board(row_num=10):\n",
        "    board = []\n",
        "\n",
        "    for rows in range(row_num):\n",
        "        rows = []\n",
        "\n",
        "        for elements in range(row_num):\n",
        "            element = random.randint(0, 9)\n",
        "            rows.append(element)\n",
        "\n",
        "        board.append(rows)\n",
        "        print(' '.join(map(str, rows))) #This line I imported, looking for how to disp elements of list.\n",
        "    #return(board) This is kept off, but I added functionality later.\n",
        "\n",
        "#Call Function\n",
        "make_board(10)"
      ],
      "execution_count": 28,
      "outputs": [
        {
          "output_type": "stream",
          "text": [
            "4 6 8 9 1 9 9 7 5 5\n",
            "8 5 8 2 8 4 7 6 1 7\n",
            "6 1 9 6 8 6 3 1 2 0\n",
            "3 5 5 4 3 9 9 8 6 8\n",
            "6 2 4 7 9 5 5 2 9 2\n",
            "7 3 3 1 8 4 7 1 1 1\n",
            "7 0 5 5 3 3 1 5 9 2\n",
            "9 5 7 4 9 2 5 8 8 0\n",
            "7 2 7 3 1 9 3 5 2 8\n",
            "9 3 9 7 8 1 2 4 6 7\n"
          ],
          "name": "stdout"
        }
      ]
    },
    {
      "cell_type": "markdown",
      "metadata": {
        "id": "m5lFVQYIBEGe",
        "colab_type": "text"
      },
      "source": [
        "#Part 2: Displaying the Board and the Total\n",
        "So now, we are finished with the first question. \n",
        "The next question asks to sum our totals for each row.  \n",
        "My thought was to add a string ending the variable 'row_sum'"
      ]
    },
    {
      "cell_type": "markdown",
      "metadata": {
        "id": "l5hXiPw0y3Lp",
        "colab_type": "text"
      },
      "source": [
        "Of course, that isn't exactly what we want. We probably should just print each element as we go. The end argument lets us do that in print."
      ]
    },
    {
      "cell_type": "code",
      "metadata": {
        "id": "6bxBuQwIFMuC",
        "colab_type": "code",
        "colab": {
          "base_uri": "https://localhost:8080/",
          "height": 187
        },
        "outputId": "b1cb71d7-1195-48b3-a3fd-9ad2d7c9ee5e"
      },
      "source": [
        "import random #random number import from regular Python\n",
        "\n",
        "def make_board(row_num=10):\n",
        "    board = []\n",
        "    \n",
        "    for board_row in range(row_num):\n",
        "        rows = []\n",
        "        row_sum = 0\n",
        "\n",
        "        for elements in range(row_num):\n",
        "            element = random.randint(0, 9)\n",
        "            rows.append(element) \n",
        "\n",
        "            print(element,end = \" \")\n",
        "            row_sum+=element \n",
        "\n",
        "        rows.append(f\"* {row_sum}\") #Appends a text string\n",
        "        print(f\"* {row_sum}\")\n",
        "\n",
        "        board.append(rows) #Appends it to the board. We can use the board for conversion.\n",
        "\n",
        "    #return(board)\n",
        "\n",
        "#Call Function\n",
        "make_board(10)"
      ],
      "execution_count": 29,
      "outputs": [
        {
          "output_type": "stream",
          "text": [
            "7 0 4 6 0 8 7 8 1 5 * 46\n",
            "6 0 8 1 1 3 7 5 5 5 * 41\n",
            "9 7 3 9 2 8 9 7 7 1 * 62\n",
            "3 0 3 1 2 6 3 5 4 9 * 36\n",
            "7 7 3 1 3 8 5 7 5 0 * 46\n",
            "1 6 7 2 6 3 2 4 4 3 * 38\n",
            "1 0 4 4 5 4 2 0 8 8 * 36\n",
            "5 3 8 6 2 3 7 9 0 3 * 46\n",
            "6 8 1 6 6 1 4 9 2 7 * 50\n",
            "9 4 7 1 9 8 7 6 2 2 * 55\n"
          ],
          "name": "stdout"
        }
      ]
    },
    {
      "cell_type": "markdown",
      "metadata": {
        "id": "0CS9FGCd1VgG",
        "colab_type": "text"
      },
      "source": [
        "# Part 3. Adding the '@' with the modulo\n",
        "simple if/then, c % 2 == 1 then odd\n",
        "Both Versions Working"
      ]
    },
    {
      "cell_type": "code",
      "metadata": {
        "id": "kLoo6QlKFuZT",
        "colab_type": "code",
        "colab": {
          "base_uri": "https://localhost:8080/",
          "height": 187
        },
        "outputId": "7977bb47-9a7e-4501-c781-93e4103e90ec"
      },
      "source": [
        "import random #random number import from regular Python\n",
        "\n",
        "def make_board(row_num=10):\n",
        "    board = []\n",
        "\n",
        "    for board_row in range(row_num):\n",
        "        rows = []\n",
        "\n",
        "        for elements in range(row_num):\n",
        "            element = random.randint(0, 9)\n",
        "            \n",
        "            if element % 2 == 1:\n",
        "                element = '@'\n",
        "            rows.append(element)\n",
        "\n",
        "            print(element,end = \" \")\n",
        "        \n",
        "        board.append(rows)\n",
        "        print(\"\")\n",
        "    #return(board)\n",
        "\n",
        "#Call Function\n",
        "make_board()"
      ],
      "execution_count": 30,
      "outputs": [
        {
          "output_type": "stream",
          "text": [
            "0 @ 2 6 8 @ 6 4 @ @ \n",
            "@ 6 @ 8 @ @ @ @ @ @ \n",
            "@ 4 @ 6 4 @ @ @ 8 2 \n",
            "@ 6 @ 6 0 0 @ 0 0 8 \n",
            "@ @ 8 8 8 8 @ 6 0 @ \n",
            "@ 8 6 @ @ 4 @ @ 4 0 \n",
            "@ 4 4 @ @ @ 0 @ @ @ \n",
            "@ @ 6 8 8 @ @ 0 @ @ \n",
            "@ @ 4 6 0 6 @ @ 2 @ \n",
            "@ @ 6 6 6 @ 8 @ @ 6 \n"
          ],
          "name": "stdout"
        }
      ]
    },
    {
      "cell_type": "markdown",
      "metadata": {
        "id": "1pRP4xzEB3z4",
        "colab_type": "text"
      },
      "source": [
        "#Part 3b. Putting them both together\n",
        "This method puts both of the last two together. It uses a try/catch in the cases where the 'c' may fail as number, if it was turned into '@'.\n",
        "  \n",
        "  \n",
        "Additionally, I added some functionality to return the true matrix, or not to\n",
        "return it.   \n",
        "It mirrors what is displayed, and the program is collecting each line\n",
        "as it is displayed, so we can still use the matrix, rather than it just iterating through a print.  \n",
        "The argument is turned on by default. "
      ]
    },
    {
      "cell_type": "code",
      "metadata": {
        "id": "WpLdklsiFgUX",
        "colab_type": "code",
        "colab": {
          "base_uri": "https://localhost:8080/",
          "height": 34
        },
        "outputId": "5a07d7d2-4c49-4496-e744-fee5f0761eee"
      },
      "source": [
        "#I will make these as functions\n",
        "def make_board(row_num=10, board_return='on'):\n",
        "    print(\"This is the board\")\n",
        "\n",
        "#I'll let the user set the number of rows/columns and if the matrix should display.\n",
        "make_board(10,'off') "
      ],
      "execution_count": 31,
      "outputs": [
        {
          "output_type": "stream",
          "text": [
            "This is the board\n"
          ],
          "name": "stdout"
        }
      ]
    },
    {
      "cell_type": "code",
      "metadata": {
        "id": "8bts91HDBNH1",
        "colab_type": "code",
        "colab": {
          "base_uri": "https://localhost:8080/",
          "height": 187
        },
        "outputId": "de3e3bfa-512c-403f-ba4e-9e646db4bcb4"
      },
      "source": [
        "import random #random number import from regular Python\n",
        "\n",
        "def make_board(row_num=10, board_return='on'):\n",
        "    board = []\n",
        "    \n",
        "    for board_rows in range(row_num):\n",
        "        rows = []\n",
        "        row_sum = 0\n",
        "\n",
        "        for elements in range(row_num):\n",
        "            elements = random.randint(0, 9) #Randomly generates a number between 0 and 9\n",
        "            \n",
        "            if elements % 2 == 1:\n",
        "                c = '@' #Then, sets it as '@'\n",
        "                \n",
        "            rows.append(elements)\n",
        "\n",
        "            try:\n",
        "                row_sum+=elements #Summing the line within the function\n",
        "            except:\n",
        "                row_sum+=0 #We will treat any changed '@' as 0 (or any other str)\n",
        "            print(elements,end=\" \")\n",
        "\n",
        "\n",
        "        rows.append(f\"* {row_sum}\")\n",
        "        print(f\"* {row_sum}\")\n",
        "        board.append(rows)  \n",
        "\n",
        "    if board_return == 'on':\n",
        "        return(board)\n",
        "\n",
        "#Call Function\n",
        "make_board(10,'off') #For sake of output, I'll leave it off"
      ],
      "execution_count": 32,
      "outputs": [
        {
          "output_type": "stream",
          "text": [
            "7 7 5 5 9 7 0 0 7 5 * 52\n",
            "7 0 5 6 4 8 6 6 8 2 * 52\n",
            "6 7 0 8 7 6 4 1 2 6 * 47\n",
            "8 3 6 9 4 8 7 2 4 0 * 51\n",
            "3 4 9 3 9 2 4 1 8 8 * 51\n",
            "0 2 6 9 9 4 0 1 6 9 * 46\n",
            "9 2 6 4 9 8 7 9 6 8 * 68\n",
            "4 2 1 1 7 9 5 9 5 3 * 46\n",
            "3 6 3 0 3 8 3 6 2 3 * 37\n",
            "9 8 9 9 9 3 7 9 6 9 * 78\n"
          ],
          "name": "stdout"
        }
      ]
    },
    {
      "cell_type": "markdown",
      "metadata": {
        "id": "3ASsE12NJKHL",
        "colab_type": "text"
      },
      "source": [
        "# Part 3c. Bringing all the previous elements in...\n",
        "This version keeps the modulo and hides the value, but still displays the \n",
        "correct totals.  \n",
        "There isn't that much going on with it that was different, but keeping the original values and not erroring took some time to work through. "
      ]
    },
    {
      "cell_type": "code",
      "metadata": {
        "id": "oGmZ1cNZGBPd",
        "colab_type": "code",
        "colab": {
          "base_uri": "https://localhost:8080/",
          "height": 187
        },
        "outputId": "56073493-18ad-44ae-95d8-4e6c55aee502"
      },
      "source": [
        "import random #random number import from regular Python\n",
        "\n",
        "def make_board(row_num=10, board_return='on'):\n",
        "    board = []\n",
        "    \n",
        "    for board_rows in range(row_num):\n",
        "        rows = []\n",
        "        row_sum = 0\n",
        "\n",
        "        for elements in range(row_num):\n",
        "            elements = random.randint(0, 9) #Randomly generates a number between 0 and 9\n",
        "            \n",
        "            if elements % 2 == 1:\n",
        "                hold_elem = elements #Sets a temporary variable 'a', to retain the value\n",
        "                elements = '@' #Then, sets it as '@'\n",
        "            \n",
        "            rows.append(elements)\n",
        "  \n",
        "            try:\n",
        "                row_sum+=elements #Summing the line within the function\n",
        "            except:\n",
        "                row_sum+=hold_elem #IF the function bounces (you can't add '@', takes old 'a' value)\n",
        "\n",
        "            print(elements,end=\" \")\n",
        "\n",
        "        rows.append(f\"* {row_sum}\") #Appends a text string\n",
        "        print(f\"* {row_sum}\")\n",
        "        \n",
        "        board.append(rows) #Appends it to the board. We can use the board for conversion.\n",
        "\n",
        "    if board_return == 'on':        \n",
        "        return(board)\n",
        "\n",
        "#Call Function\n",
        "make_board(10,'off')"
      ],
      "execution_count": 33,
      "outputs": [
        {
          "output_type": "stream",
          "text": [
            "6 6 @ @ 6 4 4 @ 8 4 * 53\n",
            "6 0 @ @ 2 @ @ 6 6 @ * 55\n",
            "@ 0 8 4 @ @ 6 0 @ 0 * 34\n",
            "@ 4 @ 0 4 @ 2 8 2 8 * 43\n",
            "@ 8 @ 2 8 0 @ @ @ @ * 54\n",
            "4 @ @ 4 8 @ 8 @ 8 @ * 69\n",
            "@ @ 0 6 @ 6 6 0 8 @ * 46\n",
            "@ 2 @ @ 2 @ @ 6 6 8 * 45\n",
            "@ 0 @ 8 @ @ @ 8 @ @ * 61\n",
            "8 @ @ 0 6 @ @ @ 4 8 * 45\n"
          ],
          "name": "stdout"
        }
      ]
    },
    {
      "cell_type": "markdown",
      "metadata": {
        "id": "U4zTXdLHJis8",
        "colab_type": "text"
      },
      "source": [
        "# 4. Boxed Form...\n",
        "Try to encapsulate the thing with rows 0 as \"*\".\n",
        "It took me a while to think about this one. I got this to work by thinking about the row = and end of the row as needing to turn into \"*\", while retaining the other elements. "
      ]
    },
    {
      "cell_type": "code",
      "metadata": {
        "id": "PaLCp7I5vTk2",
        "colab_type": "code",
        "colab": {
          "base_uri": "https://localhost:8080/",
          "height": 221
        },
        "outputId": "a8253016-8217-4638-c1e3-1d953a9bd7ee"
      },
      "source": [
        "import random #random number import from regular Python\n",
        "\n",
        "def make_board(row_num=10):\n",
        "    board = []\n",
        "    row_num+=1\n",
        "\n",
        "    for i in range(row_num+1):\n",
        "        rows = []\n",
        "        row_sum = 0\n",
        "\n",
        "        if i == 0 or i == row_num:\n",
        "            for i in range(0,row_num):\n",
        "                c = \"*\" \n",
        "                rows.append(c)\n",
        "                print(c,end= \" \")\n",
        "            board.append(rows)\n",
        "        \n",
        "        else:\n",
        "            for i in range(0,row_num):\n",
        "                if i == 0:\n",
        "                    c = \"*\"              \n",
        "                else:\n",
        "                    c = random.randint(0, 9) #Randomly generates a number between 0 and 9\n",
        "\n",
        "                print(c,end=\" \")\n",
        "\n",
        "            rows.append(f\"*\")\n",
        "        \n",
        "        print(f\"*\")\n",
        "        board.append(rows) #Appends it to the board. We can use the board for conversion.\n",
        "\n",
        "#Call Function\n",
        "make_board(10)"
      ],
      "execution_count": 34,
      "outputs": [
        {
          "output_type": "stream",
          "text": [
            "* * * * * * * * * * * *\n",
            "* 2 9 1 7 0 4 4 6 3 9 *\n",
            "* 0 2 4 9 7 3 7 3 4 9 *\n",
            "* 1 2 2 0 2 2 0 9 1 9 *\n",
            "* 0 7 5 8 3 0 5 3 1 6 *\n",
            "* 6 7 0 7 9 3 8 8 0 4 *\n",
            "* 3 1 2 3 9 1 8 0 0 9 *\n",
            "* 8 7 0 2 6 1 4 5 0 2 *\n",
            "* 7 9 3 1 6 6 8 4 5 4 *\n",
            "* 1 6 5 0 4 9 3 4 8 2 *\n",
            "* 7 4 2 4 4 7 3 6 2 2 *\n",
            "* * * * * * * * * * * *\n"
          ],
          "name": "stdout"
        }
      ]
    },
    {
      "cell_type": "markdown",
      "metadata": {
        "id": "tHaafE-WzEY2",
        "colab_type": "text"
      },
      "source": [
        "# 4b. Boxed form with modulo"
      ]
    },
    {
      "cell_type": "code",
      "metadata": {
        "id": "yjzRfoJf1v05",
        "colab_type": "code",
        "colab": {
          "base_uri": "https://localhost:8080/",
          "height": 221
        },
        "outputId": "1f98e8c0-ee7a-4506-b7e4-b1ff947bfd64"
      },
      "source": [
        "import random #random number import from regular Python\n",
        "\n",
        "def make_board(row_num=10):\n",
        "    board = []\n",
        "    row_num+=1\n",
        "\n",
        "    for i in range(row_num+1):\n",
        "        rows = []\n",
        "        row_sum = 0\n",
        "\n",
        "        if i == 0 or i == row_num:\n",
        "            for i in range(0,row_num):\n",
        "                c = \"*\" \n",
        "                rows.append(c)\n",
        "                print(c,end= \" \")\n",
        "            board.append(rows)\n",
        "        \n",
        "        else:\n",
        "            for i in range(0,row_num):\n",
        "                if i == 0:\n",
        "                    c = \"*\"              \n",
        "                else:\n",
        "                    c = random.randint(0, 9) #Randomly generates a number between 0 and 9\n",
        "                    \n",
        "                    if c % 2 == 1:\n",
        "                        a = c #Sets a temporary variable 'a', to retain the value\n",
        "                        c = '@' #Then, sets it as '@'\n",
        "                \n",
        "                print(c,end=\" \")\n",
        "\n",
        "            rows.append(f\"*\")\n",
        "        \n",
        "        print(f\"*\")\n",
        "        board.append(rows) #Appends it to the board. We can use the board for conversion.\n",
        "\n",
        "#Call Function\n",
        "make_board(10)"
      ],
      "execution_count": 35,
      "outputs": [
        {
          "output_type": "stream",
          "text": [
            "* * * * * * * * * * * *\n",
            "* @ 4 @ @ 0 4 @ @ @ 6 *\n",
            "* 4 @ @ @ 0 4 @ @ 0 @ *\n",
            "* @ @ 0 6 4 @ 4 0 0 @ *\n",
            "* 4 2 @ @ @ @ 2 2 @ @ *\n",
            "* @ 8 @ 6 0 0 @ @ 8 0 *\n",
            "* 2 @ 2 @ @ @ 6 @ 2 @ *\n",
            "* 0 0 4 @ @ 8 @ @ @ 2 *\n",
            "* @ 4 6 4 6 @ 2 @ @ 0 *\n",
            "* @ @ 8 6 2 @ @ 2 @ @ *\n",
            "* 4 6 @ 0 4 @ @ 4 8 @ *\n",
            "* * * * * * * * * * * *\n"
          ],
          "name": "stdout"
        }
      ]
    },
    {
      "cell_type": "markdown",
      "metadata": {
        "id": "ucCjYBlz5A7L",
        "colab_type": "text"
      },
      "source": [
        "The last problem, we have to sum the rows.\n",
        "I won't use functions here, since we already need to keep the board anyway"
      ]
    },
    {
      "cell_type": "markdown",
      "metadata": {
        "id": "HvKs6Aj7DoEi",
        "colab_type": "text"
      },
      "source": [
        "# Q5: Summing the Columns\n",
        "This one took a while. I realized through some trial and error that simply switching the if statement order, with k in range outside and row in board inside, I could find the column values and sum them. "
      ]
    },
    {
      "cell_type": "code",
      "metadata": {
        "id": "51ASOLLRBMkc",
        "colab_type": "code",
        "colab": {
          "base_uri": "https://localhost:8080/",
          "height": 204
        },
        "outputId": "beb002b7-4fb3-4b01-fe12-802131aced05"
      },
      "source": [
        "import random #random number import from regular Python\n",
        "\n",
        "row_num=10\n",
        "board = []\n",
        "    \n",
        "for i in range(row_num):\n",
        "    rows = []\n",
        "    row_sum = 0\n",
        "\n",
        "    for i in range(row_num):\n",
        "        c = random.randint(0, 9)\n",
        "        rows.append(c) \n",
        "\n",
        "        print(f\" {c}\",end = \"  \")\n",
        "        row_sum+=c \n",
        "\n",
        "    rows.append(row_sum) #Appends a text string\n",
        "    print(f\"* {row_sum}\")\n",
        "\n",
        "    board.append(rows) #Appends it to the board. We can use the board for conversion.\n",
        "\n",
        "col_sum = 0\n",
        "row_counter = 0\n",
        "\n",
        "\n",
        "for k in range(0,row_num):\n",
        "    for some_row in board: #Flipping the ifs means we iterate the opposite way, IE Columns. This took me a while to realize.\n",
        "        col_sum+=some_row[k]\n",
        "    \n",
        "    print(col_sum, end = \"  \")\n",
        "    col_sum = 0"
      ],
      "execution_count": 36,
      "outputs": [
        {
          "output_type": "stream",
          "text": [
            " 7   1   8   7   3   7   3   5   5   8  * 54\n",
            " 8   1   9   2   3   7   8   9   2   2  * 51\n",
            " 7   8   1   9   7   4   3   6   4   7  * 56\n",
            " 6   5   6   6   9   6   2   4   0   9  * 53\n",
            " 3   6   0   1   1   4   8   6   9   0  * 38\n",
            " 2   9   5   9   9   6   9   0   9   5  * 63\n",
            " 3   3   9   0   1   9   0   4   8   3  * 40\n",
            " 7   5   5   9   9   6   4   9   6   5  * 65\n",
            " 0   8   8   6   1   0   5   3   6   8  * 45\n",
            " 3   4   2   8   2   1   7   5   5   4  * 41\n",
            "46  50  53  57  45  50  49  51  54  51  "
          ],
          "name": "stdout"
        }
      ]
    },
    {
      "cell_type": "markdown",
      "metadata": {
        "id": "7GHRsKf0DhFM",
        "colab_type": "text"
      },
      "source": [
        "# 5b. Total Sum Version\n",
        "It isn't a function,"
      ]
    },
    {
      "cell_type": "code",
      "metadata": {
        "id": "Po7__uChzKJf",
        "colab_type": "code",
        "colab": {
          "base_uri": "https://localhost:8080/",
          "height": 238
        },
        "outputId": "8dc715f7-c9a8-4476-ae1f-aa6882defd39"
      },
      "source": [
        "import random #random number import from regular Python\n",
        "\n",
        "row_num=10\n",
        "board = []\n",
        "\n",
        "print(f\"Matrix Display:\\n\")\n",
        "\n",
        "for i in range(row_num):\n",
        "    rows = []\n",
        "    row_sum = 0\n",
        "\n",
        "    for i in range(row_num):\n",
        "        c = random.randint(0, 9)\n",
        "        rows.append(c) \n",
        "\n",
        "        print(f\" {c}\",end = \"  \")\n",
        "        row_sum+=c \n",
        "\n",
        "    rows.append(row_sum) #Appends a text string\n",
        "    print(f\"* {row_sum}\")\n",
        "\n",
        "    board.append(rows) #Appends it to the board. We can use the board for conversion.\n",
        "\n",
        "col_sum = 0 #col_sum variable will be kept to add up the sum of a single column\n",
        "total_sum = 0\n",
        "\n",
        "for k in range(0,row_num):\n",
        "    for some_row in board: #Flipping the ifs means we iterate the opposite way, IE Columns. This took me a while to realize.\n",
        "        col_sum+=some_row[k]\n",
        "    \n",
        "    print(col_sum, end = \"  \")\n",
        "    total_sum+=col_sum\n",
        "    col_sum = 0\n",
        "print(f\" {total_sum}\", end = \"  \")"
      ],
      "execution_count": 37,
      "outputs": [
        {
          "output_type": "stream",
          "text": [
            "Matrix Display:\n",
            "\n",
            " 6   3   6   3   7   8   6   9   9   4  * 61\n",
            " 1   0   6   0   6   0   3   6   3   0  * 25\n",
            " 0   1   3   6   6   9   7   0   2   2  * 36\n",
            " 6   5   4   9   7   7   1   1   7   9  * 56\n",
            " 2   0   6   0   4   5   8   2   1   4  * 32\n",
            " 2   3   0   4   7   8   7   0   4   1  * 36\n",
            " 6   7   1   5   6   8   8   4   2   3  * 50\n",
            " 2   8   3   7   1   0   0   9   4   8  * 42\n",
            " 3   9   0   7   5   6   7   8   1   9  * 55\n",
            " 9   8   4   0   2   0   3   6   6   9  * 47\n",
            "37  44  33  41  51  51  50  45  39  49   440  "
          ],
          "name": "stdout"
        }
      ]
    },
    {
      "cell_type": "markdown",
      "metadata": {
        "id": "seWVDAMIDvCE",
        "colab_type": "text"
      },
      "source": [
        "# 5c. Everything at once\n",
        "Displays random numbers, includes the modulo '@', sums the rows and columns.  \n",
        "When modulo becomes '@', it becomes a 0.  \n",
        "I did not attempt to retain original values with this program."
      ]
    },
    {
      "cell_type": "code",
      "metadata": {
        "id": "jm92n2mJDSzR",
        "colab_type": "code",
        "colab": {
          "base_uri": "https://localhost:8080/",
          "height": 238
        },
        "outputId": "9684d029-45c1-44f8-f117-8b2d9051456e"
      },
      "source": [
        "import random \n",
        "\n",
        "row_num=10\n",
        "board = []\n",
        "\n",
        "print(f\"Matrix Display:\\n\")\n",
        "\n",
        "for i in range(row_num):\n",
        "    rows = []\n",
        "    row_sum = 0\n",
        "\n",
        "    for i in range(row_num):\n",
        "        c = random.randint(0, 9)\n",
        "        if c % 2 == 1:\n",
        "            c = '@' #Then, sets it as '@'\n",
        "\n",
        "        try:\n",
        "            row_sum+=c #Summing the line within the function\n",
        "        except:\n",
        "            row_sum+=0 #IF the function bounces (you can't add '@', takes old 'a' value)\n",
        "        \n",
        "        rows.append(c) \n",
        "\n",
        "        print(f\" {c}\",end = \"  \")\n",
        "\n",
        "    rows.append(row_sum) #Appends a text string\n",
        "    print(f\"* {row_sum}\")\n",
        "\n",
        "    board.append(rows) #Appends it to the board. We can use the board for conversion.\n",
        "\n",
        "col_sum = 0 #col_sum variable will be kept to add up the sum of a single column\n",
        "total_sum = 0\n",
        "\n",
        "for k in range(0,row_num):\n",
        "    for some_row in board: \n",
        "        try:\n",
        "            col_sum+=some_row[k]\n",
        "        except:\n",
        "            col_sum+=0\n",
        "\n",
        "    print(col_sum, end = \"  \")\n",
        "    total_sum+=col_sum\n",
        "    col_sum = 0\n",
        "print(f\" {total_sum}\", end = \"  \")"
      ],
      "execution_count": 38,
      "outputs": [
        {
          "output_type": "stream",
          "text": [
            "Matrix Display:\n",
            "\n",
            " 6   2   6   @   6   @   @   2   6   @  * 28\n",
            " 6   0   @   @   4   8   @   @   @   @  * 18\n",
            " @   0   @   0   6   @   2   @   2   @  * 10\n",
            " @   @   @   0   8   2   @   @   @   @  * 10\n",
            " 4   @   6   0   @   @   @   0   0   @  * 10\n",
            " @   @   @   8   @   @   @   4   0   @  * 12\n",
            " 4   8   @   8   @   @   4   2   @   2  * 28\n",
            " @   @   4   @   6   @   @   @   0   2  * 12\n",
            " @   6   @   8   8   8   @   @   @   4  * 34\n",
            " @   @   0   @   4   @   @   @   @   6  * 10\n",
            "20  16  16  24  42  18  6  8  8  14   172  "
          ],
          "name": "stdout"
        }
      ]
    },
    {
      "cell_type": "markdown",
      "metadata": {
        "id": "lG0ddoTb2Qaw",
        "colab_type": "text"
      },
      "source": [
        "# Testing Idea 2:\n",
        "Not yet working\n",
        "\n",
        "My second idea is to create and split a full list of numbers into multiple sets.\n",
        "It's a square, so basically the 11th number becomes the beginning of the second\n",
        "row instead.\n",
        "\n",
        "So, make a list of 100 elements, and split it into 10 different sets of information? May give some more thought about other ways later. \n"
      ]
    },
    {
      "cell_type": "code",
      "metadata": {
        "id": "UCBID-yb60AY",
        "colab_type": "code",
        "colab": {}
      },
      "source": [
        "import random #random number import from regular Python\n",
        "\n",
        "dimensions = 10 #So, a 10x10\n",
        "elements = dimensions ** 2 #It's a square, so we square this\n",
        "\n",
        "full_matrix = []\n",
        "\n",
        "for i in range(elements):\n",
        "    c = random.randint(0, 9)\n",
        "    full_matrix.append(c)\n",
        "\n",
        "#print(full_matrix)\n",
        "\n",
        "row=[]\n",
        "\n",
        "for rows in full_matrix:\n",
        "    for i in range(10):\n",
        "        row.append(full_matrix[i])\n",
        "    #print(row)\n",
        "\n",
        "    i+=10\n",
        "    row = []"
      ],
      "execution_count": 39,
      "outputs": []
    }
  ]
}
{
  "nbformat": 4,
  "nbformat_minor": 0,
  "metadata": {
    "colab": {
      "name": "Assignment 3.ipynb",
      "provenance": [],
      "collapsed_sections": [],
      "authorship_tag": "ABX9TyOy4htzy57DfFZ8OeSbX+nc",
      "include_colab_link": true
    },
    "kernelspec": {
      "name": "python3",
      "display_name": "Python 3"
    }
  },
  "cells": [
    {
      "cell_type": "markdown",
      "metadata": {
        "id": "view-in-github",
        "colab_type": "text"
      },
      "source": [
        "<a href=\"https://colab.research.google.com/github/Colsai/DATA-690-WANG/blob/master/hw3/Assignment_3.ipynb\" target=\"_parent\"><img src=\"https://colab.research.google.com/assets/colab-badge.svg\" alt=\"Open In Colab\"/></a>"
      ]
    },
    {
      "cell_type": "markdown",
      "metadata": {
        "id": "saSYQDHW1mHl",
        "colab_type": "text"
      },
      "source": [
        "# **Deliverable 3**\n",
        "## DATA690 Wang: Stats and Visualization\n",
        "## Scott Hirabayashi"
      ]
    },
    {
      "cell_type": "markdown",
      "metadata": {
        "id": "ALiQN0bpErEe",
        "colab_type": "text"
      },
      "source": [
        "Apologies in advance, I didn't break up the code as much as I wanted, but I progressively added structures to my code to make sense. "
      ]
    },
    {
      "cell_type": "markdown",
      "metadata": {
        "id": "q4etb8VG5lFb",
        "colab_type": "text"
      },
      "source": [
        "# Basic Idea for Creating a 'Matrix' (multilist)\n",
        "A 'matrix' is just a set of lists, number of rows = number of columns"
      ]
    },
    {
      "cell_type": "code",
      "metadata": {
        "id": "Q1isZg98boyl",
        "colab_type": "code",
        "colab": {}
      },
      "source": [
        "A = [1,2,3]\n",
        "B = [1,2,3]\n",
        "C = [1,2,3]\n",
        "\n",
        "var_list = [A,B,C]\n",
        "\n",
        "for i in var_list:\n",
        "    print(i)"
      ],
      "execution_count": null,
      "outputs": []
    },
    {
      "cell_type": "markdown",
      "metadata": {
        "id": "l5ZyaQbgVZyq",
        "colab_type": "text"
      },
      "source": [
        "Let's figure out the random.  \n",
        "We have to import it. (import random)"
      ]
    },
    {
      "cell_type": "code",
      "metadata": {
        "id": "p6HenJWpUU10",
        "colab_type": "code",
        "colab": {}
      },
      "source": [
        "#First, we need to get our random numbers\n",
        "\n",
        "import random\n",
        "\n",
        "for number in range(10):\n",
        "    rand_num = random.randint(0,9)\n",
        "    print(rand_num)"
      ],
      "execution_count": null,
      "outputs": []
    },
    {
      "cell_type": "markdown",
      "metadata": {
        "id": "5imD25hZUwIT",
        "colab_type": "text"
      },
      "source": [
        "# Introductory: Displaying Numbers\n",
        "So, looking at the last answer, we got what we wanted, but it is displayed as new lines.   \n",
        "\n",
        "So, We can use the second argument of a print statement to keep the same line.\n"
      ]
    },
    {
      "cell_type": "code",
      "metadata": {
        "id": "zjb32hA0UoHk",
        "colab_type": "code",
        "colab": {}
      },
      "source": [
        "#And the other key is how to display the numbers. We can use end \"\"\n",
        "#First, we need to get our random numbers\n",
        "\n",
        "import random\n",
        "\n",
        "for number in range(10):\n",
        "    rand_num = random.randint(0,9)\n",
        "    print(rand_num, end=\" \")"
      ],
      "execution_count": null,
      "outputs": []
    },
    {
      "cell_type": "markdown",
      "metadata": {
        "id": "Xu6kQ2KNe7Yr",
        "colab_type": "text"
      },
      "source": [
        "#Introductory: As Nested Loops\n",
        "Now the way to make a board will be done by thinking about a board as i x i.  \n",
        "It is a square, and the number of elements are ** 2.  \n",
        "So, we will create random numbers in the amount of side x side, or side ** 2.  \n"
      ]
    },
    {
      "cell_type": "code",
      "metadata": {
        "id": "CIqcvgcL5v6c",
        "colab_type": "code",
        "colab": {}
      },
      "source": [
        "import random #random number import from regular Python\n",
        "\n",
        "def make_board(row_num=10):\n",
        "    board = []\n",
        "    for i in range(row_num):\n",
        "        line1 = []\n",
        "\n",
        "        for i in range(row_num):\n",
        "            c = random.randint(0, 9)\n",
        "            line1.append(c)\n",
        "        \n",
        "        board.append(line1)\n",
        "    return(board)\n",
        "\n",
        "#Call Function\n",
        "make_board(10)"
      ],
      "execution_count": null,
      "outputs": []
    },
    {
      "cell_type": "markdown",
      "metadata": {
        "id": "j0ei28GhVjC-",
        "colab_type": "text"
      },
      "source": [
        "## *Kind of* Working...\n",
        "So, that's kind of what we want. But it is lacking in how it is displayed.   \n",
        "\n",
        "Let's try it again with the 'end=' argument for print."
      ]
    },
    {
      "cell_type": "markdown",
      "metadata": {
        "id": "7wAszaFZ2BK9",
        "colab_type": "text"
      },
      "source": [
        "#Part 1: Displaying the Board in 2 Ways"
      ]
    },
    {
      "cell_type": "markdown",
      "metadata": {
        "id": "d7RbGvWiA75O",
        "colab_type": "text"
      },
      "source": [
        "On my first attempt, I thought of using a print function + map function that I found, and I kept it for each attempt, since it works.   \n",
        "It joins the elements of the list as a string and prints them.  \n",
        "  \n",
        "  \n",
        "  \n",
        "But, that isn't what we were using. We want to also do it with the \"end = \"  \n",
        "argument, so I added that after playing around with it.  "
      ]
    },
    {
      "cell_type": "code",
      "metadata": {
        "id": "aMvB4ls4EgW_",
        "colab_type": "code",
        "colab": {}
      },
      "source": [
        "#Here's a better way to think about it.\n",
        "\n",
        "import random \n",
        "\n",
        "def make_board(row_num=10):\n",
        "    board = []\n",
        "    for i in range(row_num):\n",
        "        line1 = []\n",
        "        for i in range(row_num):\n",
        "            c = random.randint(0, 9)\n",
        "            print(c, end = \" \") #Using the end function, we can also do\n",
        "            line1.append(c)\n",
        "\n",
        "        print(\"\")\n",
        "        board.append(line1)\n",
        "\n",
        "    #return(board)\n",
        "\n",
        "#Call Function\n",
        "make_board(10)"
      ],
      "execution_count": null,
      "outputs": []
    },
    {
      "cell_type": "code",
      "metadata": {
        "id": "qpX82it11U5z",
        "colab_type": "code",
        "colab": {}
      },
      "source": [
        "import random #random number import from regular Python\n",
        "\n",
        "def make_board(row_num=10):\n",
        "    board = []\n",
        "    for i in range(row_num):\n",
        "        line1 = []\n",
        "        for i in range(row_num):\n",
        "            c = random.randint(0, 9)\n",
        "            line1.append(c)\n",
        "\n",
        "        board.append(line1)\n",
        "        print(' '.join(map(str, line1))) #This line I imported, looking for how to disp elements of list.\n",
        "    #return(board) This is kept off, but I added functionality later.\n",
        "\n",
        "#Call Function\n",
        "make_board(10)"
      ],
      "execution_count": null,
      "outputs": []
    },
    {
      "cell_type": "markdown",
      "metadata": {
        "id": "m5lFVQYIBEGe",
        "colab_type": "text"
      },
      "source": [
        "#Part 2: Displaying the Board and the Total\n",
        "So now, we are finished with the first question. \n",
        "The next question asks to sum our totals for each row.  \n",
        "My thought was to add a string ending the variable 'row_sum'"
      ]
    },
    {
      "cell_type": "markdown",
      "metadata": {
        "id": "l5hXiPw0y3Lp",
        "colab_type": "text"
      },
      "source": [
        "Of course, that isn't exactly what we want. We probably should just print each element as we go. The end argument lets us do that in print."
      ]
    },
    {
      "cell_type": "code",
      "metadata": {
        "id": "6bxBuQwIFMuC",
        "colab_type": "code",
        "colab": {}
      },
      "source": [
        "import random #random number import from regular Python\n",
        "\n",
        "def make_board(row_num=10):\n",
        "    board = []\n",
        "    \n",
        "    for i in range(row_num):\n",
        "        rows = []\n",
        "        row_sum = 0\n",
        "\n",
        "        for i in range(row_num):\n",
        "            c = random.randint(0, 9)\n",
        "            rows.append(c) \n",
        "\n",
        "            print(c,end = \" \")\n",
        "            row_sum+=c \n",
        "\n",
        "        rows.append(f\"* {row_sum}\") #Appends a text string\n",
        "        print(f\"* {row_sum}\")\n",
        "\n",
        "        board.append(rows) #Appends it to the board. We can use the board for conversion.\n",
        "\n",
        "    #return(board)\n",
        "\n",
        "#Call Function\n",
        "make_board(10)"
      ],
      "execution_count": null,
      "outputs": []
    },
    {
      "cell_type": "markdown",
      "metadata": {
        "id": "0CS9FGCd1VgG",
        "colab_type": "text"
      },
      "source": [
        "# Part 3. Adding the '@' with the modulo\n",
        "simple if/then, c % 2 == 1 then odd\n",
        "Both Versions Working"
      ]
    },
    {
      "cell_type": "code",
      "metadata": {
        "id": "kLoo6QlKFuZT",
        "colab_type": "code",
        "colab": {}
      },
      "source": [
        "import random #random number import from regular Python\n",
        "\n",
        "def make_board(row_num=10):\n",
        "    board = []\n",
        "    for i in range(row_num):\n",
        "        line1 = []\n",
        "\n",
        "        for i in range(row_num):\n",
        "            c = random.randint(0, 9)\n",
        "            if c % 2 == 1:\n",
        "                c = '@'\n",
        "            line1.append(c)\n",
        "            print(c,end = \" \")\n",
        "        \n",
        "        board.append(line1)\n",
        "        print(\"\")\n",
        "    #return(board)\n",
        "\n",
        "#Call Function\n",
        "make_board(5)"
      ],
      "execution_count": null,
      "outputs": []
    },
    {
      "cell_type": "markdown",
      "metadata": {
        "id": "1pRP4xzEB3z4",
        "colab_type": "text"
      },
      "source": [
        "#Part 3b. Putting them both together\n",
        "This method puts both of the last two together. It uses a try/catch in the cases where the 'c' may fail as number, if it was turned into '@'.\n",
        "  \n",
        "  \n",
        "Additionally, I added some functionality to return the true matrix, or not to\n",
        "return it.   \n",
        "It mirrors what is displayed, and the program is collecting each line\n",
        "as it is displayed, so we can still use the matrix, rather than it just iterating through a print.  \n",
        "The argument is turned on by default. "
      ]
    },
    {
      "cell_type": "code",
      "metadata": {
        "id": "WpLdklsiFgUX",
        "colab_type": "code",
        "colab": {}
      },
      "source": [
        "#I will make these as functions\n",
        "def make_board(row_num=10, board_return='on'):\n",
        "    print(\"This is the board\")\n",
        "\n",
        "#I'll let the user set the number of rows/columns and if the matrix should display.\n",
        "make_board(10,'off') "
      ],
      "execution_count": null,
      "outputs": []
    },
    {
      "cell_type": "code",
      "metadata": {
        "id": "8bts91HDBNH1",
        "colab_type": "code",
        "colab": {}
      },
      "source": [
        "import random #random number import from regular Python\n",
        "\n",
        "def make_board(row_num=10, board_return='on'):\n",
        "    board = []\n",
        "    \n",
        "    for i in range(row_num):\n",
        "        rows = []\n",
        "        row_sum = 0\n",
        "\n",
        "        for i in range(row_num):\n",
        "            c = random.randint(0, 9) #Randomly generates a number between 0 and 9\n",
        "            if c % 2 == 1:\n",
        "                c = '@' #Then, sets it as '@'\n",
        "            rows.append(c)\n",
        "\n",
        "            try:\n",
        "                row_sum+=c #Summing the line within the function\n",
        "            except:\n",
        "                row_sum+=0 #We will treat any changed '@' as 0 (or any other str)\n",
        "            print(c,end=\" \")\n",
        "\n",
        "\n",
        "        rows.append(f\"* {row_sum}\")\n",
        "        print(f\"* {row_sum}\")\n",
        "        board.append(rows)  \n",
        "\n",
        "    if board_return == 'on':\n",
        "        return(board)\n",
        "\n",
        "#Call Function\n",
        "make_board(10,'off') #For sake of output, I'll leave it off"
      ],
      "execution_count": null,
      "outputs": []
    },
    {
      "cell_type": "markdown",
      "metadata": {
        "id": "3ASsE12NJKHL",
        "colab_type": "text"
      },
      "source": [
        "# Part 3c. Bringing all the previous elements in...\n",
        "This version keeps the modulo and hides the value, but still displays the \n",
        "correct totals.  \n",
        "There isn't that much going on with it that was different, but keeping the original values and not erroring took some time to work through. "
      ]
    },
    {
      "cell_type": "code",
      "metadata": {
        "id": "oGmZ1cNZGBPd",
        "colab_type": "code",
        "colab": {}
      },
      "source": [
        "import random #random number import from regular Python\n",
        "\n",
        "def make_board(row_num=10, board_return='on'):\n",
        "    board = []\n",
        "    \n",
        "    for i in range(row_num):\n",
        "        rows = []\n",
        "        row_sum = 0\n",
        "\n",
        "        for i in range(row_num):\n",
        "            c = random.randint(0, 9) #Randomly generates a number between 0 and 9\n",
        "            if c % 2 == 1:\n",
        "                a = c #Sets a temporary variable 'a', to retain the value\n",
        "                c = '@' #Then, sets it as '@'\n",
        "            \n",
        "            rows.append(c)\n",
        "  \n",
        "            try:\n",
        "                row_sum+=c #Summing the line within the function\n",
        "            except:\n",
        "                row_sum+=a #IF the function bounces (you can't add '@', takes old 'a' value)\n",
        "\n",
        "            print(c,end=\" \")\n",
        "\n",
        "        rows.append(f\"* {row_sum}\") #Appends a text string\n",
        "        print(f\"* {row_sum}\")\n",
        "        board.append(rows) #Appends it to the board. We can use the board for conversion.\n",
        "\n",
        "    if board_return == 'on':        \n",
        "        return(board)\n",
        "\n",
        "#Call Function\n",
        "make_board(10,'off')"
      ],
      "execution_count": null,
      "outputs": []
    },
    {
      "cell_type": "markdown",
      "metadata": {
        "id": "U4zTXdLHJis8",
        "colab_type": "text"
      },
      "source": [
        "# 4. Boxed Form...\n",
        "Try to encapsulate the thing with rows 0 as \"*\"?"
      ]
    },
    {
      "cell_type": "code",
      "metadata": {
        "id": "yjzRfoJf1v05",
        "colab_type": "code",
        "colab": {}
      },
      "source": [
        "import random #random number import from regular Python\n",
        "\n",
        "def make_board(row_num=10, board_return='on'):\n",
        "    board = []\n",
        "    row_num = row_num+1\n",
        "\n",
        "    for i in range(row_num+1):\n",
        "        rows = []\n",
        "        row_sum = 0\n",
        "\n",
        "        if i == 0 or i == (row_num):\n",
        "            for i in range(0,row_num):\n",
        "                c = \"*\" \n",
        "                rows.append(c)\n",
        "                print(c,end= \" \")\n",
        "\n",
        "        board.append(rows)\n",
        "\n",
        "        for i in range(0,row_num): #Row Number is increased by 1 to compensate for loss to '*'\n",
        "            c = random.randint(0, 9) #Randomly generates a number between 0 and 9\n",
        "            if c % 2 == 1:\n",
        "                a = c #Sets a temporary variable 'a', to retain the value\n",
        "                c = '@' #Then, sets it as '@'\n",
        "            \n",
        "            if i == 0:\n",
        "                c = '*'\n",
        "                a = 0\n",
        "\n",
        "            rows.append(c)\n",
        "\n",
        "            try:\n",
        "                row_sum+=c #Summing the line within the function\n",
        "            except:\n",
        "                row_sum+=a #IF the function bounces (you can't add '@', takes old 'a' value)\n",
        "\n",
        "            print(c,end=\" \")\n",
        "\n",
        "        rows.append(f\"*\") #Appends a text string\n",
        "        \n",
        "        print(f\"*\")\n",
        "        board.append(rows) #Appends it to the board. We can use the board for conversion.\n",
        "\n",
        "        column_sum = 0\n",
        "\n",
        "    if board_return == 'on':\n",
        "        print(f\"\\n Matrix:\")\n",
        "        return(board)\n",
        "\n",
        "#Call Function\n",
        "make_board(10,'off')"
      ],
      "execution_count": null,
      "outputs": []
    },
    {
      "cell_type": "markdown",
      "metadata": {
        "id": "ucCjYBlz5A7L",
        "colab_type": "text"
      },
      "source": [
        "The last problem, we have to sum the rows.\n",
        "I won't use functions here, since we already need to keep the board anyway"
      ]
    },
    {
      "cell_type": "markdown",
      "metadata": {
        "id": "HvKs6Aj7DoEi",
        "colab_type": "text"
      },
      "source": [
        "# Q5: Summing the Columns\n",
        "This one took a while. I realized through some trial and error that simply switching the if statement order, with k in range outside and row in board inside, I could find the column values and sum them. "
      ]
    },
    {
      "cell_type": "code",
      "metadata": {
        "id": "51ASOLLRBMkc",
        "colab_type": "code",
        "colab": {}
      },
      "source": [
        "import random #random number import from regular Python\n",
        "\n",
        "row_num=10\n",
        "board = []\n",
        "    \n",
        "for i in range(row_num):\n",
        "    rows = []\n",
        "    row_sum = 0\n",
        "\n",
        "    for i in range(row_num):\n",
        "        c = random.randint(0, 9)\n",
        "        rows.append(c) \n",
        "\n",
        "        print(f\" {c}\",end = \"  \")\n",
        "        row_sum+=c \n",
        "\n",
        "    rows.append(row_sum) #Appends a text string\n",
        "    print(f\"* {row_sum}\")\n",
        "\n",
        "    board.append(rows) #Appends it to the board. We can use the board for conversion.\n",
        "\n",
        "col_sum = 0\n",
        "row_counter = 0\n",
        "\n",
        "\n",
        "for k in range(0,row_num):\n",
        "    for some_row in board: #Flipping the ifs means we iterate the opposite way, IE Columns. This took me a while to realize.\n",
        "        col_sum+=some_row[k]\n",
        "    \n",
        "    print(col_sum, end = \"  \")\n",
        "    col_sum = 0"
      ],
      "execution_count": null,
      "outputs": []
    },
    {
      "cell_type": "markdown",
      "metadata": {
        "id": "7GHRsKf0DhFM",
        "colab_type": "text"
      },
      "source": [
        "# 5b. Total Sum Version\n",
        "It isn't a function,"
      ]
    },
    {
      "cell_type": "code",
      "metadata": {
        "id": "Po7__uChzKJf",
        "colab_type": "code",
        "colab": {
          "base_uri": "https://localhost:8080/",
          "height": 238
        },
        "outputId": "32181089-e7d9-4866-9a1b-ace288b16b91"
      },
      "source": [
        "import random #random number import from regular Python\n",
        "\n",
        "row_num=10\n",
        "board = []\n",
        "\n",
        "print(f\"Matrix Display:\\n\")\n",
        "\n",
        "for i in range(row_num):\n",
        "    rows = []\n",
        "    row_sum = 0\n",
        "\n",
        "    for i in range(row_num):\n",
        "        c = random.randint(0, 9)\n",
        "        rows.append(c) \n",
        "\n",
        "        print(f\" {c}\",end = \"  \")\n",
        "        row_sum+=c \n",
        "\n",
        "    rows.append(row_sum) #Appends a text string\n",
        "    print(f\"* {row_sum}\")\n",
        "\n",
        "    board.append(rows) #Appends it to the board. We can use the board for conversion.\n",
        "\n",
        "col_sum = 0 #col_sum variable will be kept to add up the sum of a single column\n",
        "total_sum = 0\n",
        "\n",
        "for k in range(0,row_num):\n",
        "    for some_row in board: #Flipping the ifs means we iterate the opposite way, IE Columns. This took me a while to realize.\n",
        "        col_sum+=some_row[k]\n",
        "    \n",
        "    print(col_sum, end = \"  \")\n",
        "    total_sum+=col_sum\n",
        "    col_sum = 0\n",
        "print(f\" {total_sum}\", end = \"  \")"
      ],
      "execution_count": 184,
      "outputs": [
        {
          "output_type": "stream",
          "text": [
            "Matrix Display:\n",
            "\n",
            " 4   7   8   3   4   4   0   1   0   4  * 35\n",
            " 9   8   0   9   3   2   1   9   2   0  * 43\n",
            " 3   1   5   7   3   0   5   7   7   0  * 38\n",
            " 3   4   6   9   2   0   8   5   1   9  * 47\n",
            " 2   5   4   2   7   3   6   5   7   9  * 50\n",
            " 1   4   2   3   8   0   0   2   2   4  * 26\n",
            " 0   9   6   8   3   8   0   3   8   0  * 45\n",
            " 7   3   1   8   8   0   6   3   0   3  * 39\n",
            " 6   2   5   0   2   2   1   0   7   5  * 30\n",
            " 4   3   1   0   2   0   5   3   5   7  * 30\n",
            "39  46  38  49  42  19  32  38  39  41   383  "
          ],
          "name": "stdout"
        }
      ]
    },
    {
      "cell_type": "markdown",
      "metadata": {
        "id": "seWVDAMIDvCE",
        "colab_type": "text"
      },
      "source": [
        "# 5c. Everything at once\n",
        "Displays random numbers, includes the modulo '@', sums the rows and columns.  \n",
        "When modulo becomes '@', it becomes a 0.  \n",
        "I did not attempt to retain original values with this program."
      ]
    },
    {
      "cell_type": "code",
      "metadata": {
        "id": "jm92n2mJDSzR",
        "colab_type": "code",
        "colab": {
          "base_uri": "https://localhost:8080/",
          "height": 238
        },
        "outputId": "0e596294-357b-42f3-c9b1-5f99469d18f4"
      },
      "source": [
        "import random \n",
        "\n",
        "row_num=10\n",
        "board = []\n",
        "\n",
        "print(f\"Matrix Display:\\n\")\n",
        "\n",
        "for i in range(row_num):\n",
        "    rows = []\n",
        "    row_sum = 0\n",
        "\n",
        "    for i in range(row_num):\n",
        "        c = random.randint(0, 9)\n",
        "        if c % 2 == 1:\n",
        "            c = '@' #Then, sets it as '@'\n",
        "\n",
        "        try:\n",
        "            row_sum+=c #Summing the line within the function\n",
        "        except:\n",
        "            row_sum+=0 #IF the function bounces (you can't add '@', takes old 'a' value)\n",
        "        \n",
        "        rows.append(c) \n",
        "\n",
        "        print(f\" {c}\",end = \"  \")\n",
        "\n",
        "    rows.append(row_sum) #Appends a text string\n",
        "    print(f\"* {row_sum}\")\n",
        "\n",
        "    board.append(rows) #Appends it to the board. We can use the board for conversion.\n",
        "\n",
        "col_sum = 0 #col_sum variable will be kept to add up the sum of a single column\n",
        "total_sum = 0\n",
        "\n",
        "for k in range(0,row_num):\n",
        "    for some_row in board: \n",
        "        try:\n",
        "            col_sum+=some_row[k]\n",
        "        except:\n",
        "            col_sum+=0\n",
        "\n",
        "    print(col_sum, end = \"  \")\n",
        "    total_sum+=col_sum\n",
        "    col_sum = 0\n",
        "print(f\" {total_sum}\", end = \"  \")"
      ],
      "execution_count": 204,
      "outputs": [
        {
          "output_type": "stream",
          "text": [
            "Matrix Display:\n",
            "\n",
            " @   2   6   @   @   2   4   0   @   2  * 16\n",
            " @   6   @   4   @   6   @   0   @   @  * 16\n",
            " 2   8   8   @   @   4   @   8   @   @  * 30\n",
            " @   2   @   @   @   @   6   6   4   @  * 18\n",
            " @   @   4   0   @   8   0   @   0   @  * 12\n",
            " 2   0   0   @   @   2   0   @   6   4  * 14\n",
            " @   @   4   @   2   2   @   @   8   2  * 18\n",
            " @   @   @   @   0   @   4   4   4   @  * 12\n",
            " 8   6   0   @   @   @   6   @   2   4  * 26\n",
            " @   0   @   @   @   2   4   8   2   @  * 16\n",
            "12  24  22  4  2  26  24  26  26  12   178  "
          ],
          "name": "stdout"
        }
      ]
    },
    {
      "cell_type": "markdown",
      "metadata": {
        "id": "lG0ddoTb2Qaw",
        "colab_type": "text"
      },
      "source": [
        "# Testing Idea 2:\n",
        "Not yet working\n",
        "\n",
        "My second idea is to create and split a full list of numbers into multiple sets.\n",
        "It's a square, so basically the 11th number becomes the beginning of the second\n",
        "row instead.\n",
        "\n",
        "So, make a list of 100 elements, and split it into 10 different sets of information? May give some more thought about other ways later. \n"
      ]
    },
    {
      "cell_type": "code",
      "metadata": {
        "id": "UCBID-yb60AY",
        "colab_type": "code",
        "colab": {}
      },
      "source": [
        "import random #random number import from regular Python\n",
        "\n",
        "dimensions = 10 #So, a 10x10\n",
        "elements = dimensions ** 2 #It's a square, so we square this\n",
        "\n",
        "full_matrix = []\n",
        "\n",
        "for i in range(elements):\n",
        "    c = random.randint(0, 9)\n",
        "    full_matrix.append(c)\n",
        "\n",
        "print(full_matrix)\n",
        "\n",
        "row=[]\n",
        "\n",
        "for rows in full_matrix:\n",
        "    for i in range(10):\n",
        "        row.append(full_matrix[i])\n",
        "    print(row)\n",
        "\n",
        "    i+=10\n",
        "    row = []"
      ],
      "execution_count": null,
      "outputs": []
    }
  ]
}
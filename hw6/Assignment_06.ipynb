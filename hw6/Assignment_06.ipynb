{
  "nbformat": 4,
  "nbformat_minor": 0,
  "metadata": {
    "colab": {
      "name": "Assignment 06.ipynb",
      "provenance": [],
      "collapsed_sections": [],
      "toc_visible": true,
      "authorship_tag": "ABX9TyN4mcVArk5gjuBc9nichX+I",
      "include_colab_link": true
    },
    "kernelspec": {
      "name": "python3",
      "display_name": "Python 3"
    }
  },
  "cells": [
    {
      "cell_type": "markdown",
      "metadata": {
        "id": "view-in-github",
        "colab_type": "text"
      },
      "source": [
        "<a href=\"https://colab.research.google.com/github/Colsai/DATA-690-WANG/blob/master/hw6/Assignment_06.ipynb\" target=\"_parent\"><img src=\"https://colab.research.google.com/assets/colab-badge.svg\" alt=\"Open In Colab\"/></a>"
      ]
    },
    {
      "cell_type": "markdown",
      "metadata": {
        "id": "jxVjPMdGpLNA"
      },
      "source": [
        "# Assignment 06 - Using Pandas\n",
        "## Instructions\n",
        "- This assignment is a re-do of assignment 04. We use Pandas and functions instead. It is due Wednesday, Sept 30th.\n",
        "- WYou get to use the simple and convenient read_html() from Pandas to extract **HTML tables** from web pages. \n",
        "- We had walked through the process during last sesssion. The sample solution is here:\n",
        "- https://github.com/wcj365/python-stats-dataviz/blob/master/pandas_apply.ipynb\n",
        "- You will try to do it on your own and use the sample solution when you get stuck. \n",
        "- Make sure you user **Markdown cells** to document the process and its steps."
      ]
    },
    {
      "cell_type": "markdown",
      "metadata": {
        "id": "jwV6eP6de0dX"
      },
      "source": [
        "## Requirements\n",
        "1. Use Pandas read_html() function to retrive the HTML tables as dataframes from the web page: https://www.genealogybranches.com/censuscosts.html\n",
        "2. Find out how many HTML tables Pandas retrieves from the web page. Find out which dataframe contain the data and use it for further processing.\n",
        "3. Display and explore the data (rows, columns, etc.) and determine the data quality (bad rows, bad columns, bad elements, null values, etc.)\n",
        "4. Document the data quality issues using a Markdown cell so the reader understands what the problems are.\n",
        "5. Write a function named cleanse_year() that takes a string as input and removes any asterisks in the string and return the cleansed string. Test the function by using test strings (for example, \"1989*\", \"20*10\")\n",
        "6. Cleanse the column \"Census Year\" using the function cleanse_year() and Pandas's apply() function.\n",
        "7. Repeat this process for column \"Total Population\", \t\"Census Cost\", \t\"Average Cost Per Person\". (define, test, and apply the function)\n",
        "8. After all columns are cleansed, save the clenased dataframe to a file named \"census_cost_cleansed.csv\" using CSV format.\n",
        "9. Use Pandas to read the saved cleansed file and explore to make sure it is clean. \n",
        "10. Updload both the Jupyter notebook and the cleanse data file to GitHub and submit the GitHub link in BlackBoard.\n",
        "\n",
        "> Give yourself a pad on the back. Now you get a feel of how wonderful Pandas is and \n",
        "> how powerful the combination of apply() and user-defined functions are.\""
      ]
    },
    {
      "cell_type": "markdown",
      "metadata": {
        "id": "jffAy1_5dPjZ"
      },
      "source": [
        "## 1. Use Pandas read_html() function to retrive the HTML tables as dataframes from the web page: https://www.genealogybranches.com/censuscosts.html"
      ]
    },
    {
      "cell_type": "code",
      "metadata": {
        "id": "zjIRHuJapMAC"
      },
      "source": [
        "import pandas as pd"
      ],
      "execution_count": 481,
      "outputs": []
    },
    {
      "cell_type": "code",
      "metadata": {
        "id": "hLKZ91mBpNpo",
        "outputId": "1461b13d-2104-4d39-9ae4-a366b769ea72",
        "colab": {
          "base_uri": "https://localhost:8080/",
          "height": 473
        }
      },
      "source": [
        "df = pd.read_html('https://www.genealogybranches.com/censuscosts.html', header=0) #Set the header as 0 for both dataframes to save time\n",
        "print(df)"
      ],
      "execution_count": 482,
      "outputs": [
        {
          "output_type": "stream",
          "text": [
            "[   Census Year  Total Population     Census Cost Average Cost Per Person\n",
            "0         1790           3929214         $44,377              1.13 cents\n",
            "1         1800           5308483         $66,109              1.24 cents\n",
            "2         1810           7239881        $178,445              2.46 cents\n",
            "3         1820           9633822        $208,526              2.16 cents\n",
            "4         1830          12866020        $378,545              2.94 cents\n",
            "5         1840          17069458        $833,371              4.88 cents\n",
            "6         1850          23191876      $1,423,351              6.14 cents\n",
            "7         1860          31443321      $1,969,377              6.26 cents\n",
            "8         1870          38558371      $3,421,198              8.87 cents\n",
            "9         1880          50155783      $5,790,678             11.54 cents\n",
            "10        1890          62979766     $11,547,127             18.33 cents\n",
            "11        1900          76303387     $11,854,000             15.54 cents\n",
            "12        1910          91972266     $15,968,000             17.07 cents\n",
            "13        1920         105710620     $25,117,000             23.76 cents\n",
            "14        1930         122775046     $40,156,000             32.71 cents\n",
            "15        1940         131669275     $67,527,000             51.29 cents\n",
            "16        1950         151325798     $91,462,000             60.44 cents\n",
            "17        1960         179323175    $127,934,000             71.34 cents\n",
            "18        1970         203302031    $247,653,000                   $1.22\n",
            "19        1980         226542199  $1,078,488,000                   $4.76\n",
            "20        1990         248718301  $2,492,830,000                  $10.02\n",
            "21        2000         281421906    $4.5 Billion                  $15.99\n",
            "22       2010*         308745538     $13 Billion                  $42.11, Empty DataFrame\n",
            "Columns: [The U.S. population reached 300,000,000 on 17 October 2006. At the end of 2015, it was at 319,958,045. At the end of 2017, it was at 326,971,209. Source (except 2010)... Gauthier, Jason G., Measuring America: The Decennial Censuses From 1790-2000, (US Bureau of the Census/Dept of Commerce), Washington: US Government Printing Office, 2002, Appendix A, Page A-1.The numbers in the fourth column are not included in the book and were added by me. * The 2010 census cost was taken from GAO (U.S. Government Accountability Office) report number GAO-11-496T, 2010 Census: Preliminary Lessons Learned Highlight the Need for Fundamental Reforms (April 6, 2011): \"At about $13 billion, 2010 was the costliest U.S. Census in history.\" The official census day for 2010 was April 1, 2010. The total population figure (308,745,538) was announced by the U.S. Census Bureau on Dec. 21, 2010. See: 2010 Census - Resident Population Data The 1940 Census 1940 census records were released on April 2, 2012. For details see:1940 Census Records and InformationFor information on census records for other years see: U.S. Census Records 1790-1940]\n",
            "Index: []]\n"
          ],
          "name": "stdout"
        }
      ]
    },
    {
      "cell_type": "markdown",
      "metadata": {
        "id": "BWDOc7L8dWDn"
      },
      "source": [
        "## 2. Find out how many HTML tables Pandas retrieves from the web page. Find out which dataframe contain the data and use it for further processing.\n",
        "There are TWO tables here. \n",
        "df[0] and df[1]."
      ]
    },
    {
      "cell_type": "code",
      "metadata": {
        "id": "IlmsCmeRaLCM",
        "outputId": "21386405-2498-40f1-d0e5-abc45a8656a9",
        "colab": {
          "base_uri": "https://localhost:8080/",
          "height": 133
        }
      },
      "source": [
        "#What's df[0]?\n",
        "df[0].head(3)"
      ],
      "execution_count": 483,
      "outputs": [
        {
          "output_type": "execute_result",
          "data": {
            "text/html": [
              "<div>\n",
              "<style scoped>\n",
              "    .dataframe tbody tr th:only-of-type {\n",
              "        vertical-align: middle;\n",
              "    }\n",
              "\n",
              "    .dataframe tbody tr th {\n",
              "        vertical-align: top;\n",
              "    }\n",
              "\n",
              "    .dataframe thead th {\n",
              "        text-align: right;\n",
              "    }\n",
              "</style>\n",
              "<table border=\"1\" class=\"dataframe\">\n",
              "  <thead>\n",
              "    <tr style=\"text-align: right;\">\n",
              "      <th></th>\n",
              "      <th>Census Year</th>\n",
              "      <th>Total Population</th>\n",
              "      <th>Census Cost</th>\n",
              "      <th>Average Cost Per Person</th>\n",
              "    </tr>\n",
              "  </thead>\n",
              "  <tbody>\n",
              "    <tr>\n",
              "      <th>0</th>\n",
              "      <td>1790</td>\n",
              "      <td>3929214</td>\n",
              "      <td>$44,377</td>\n",
              "      <td>1.13 cents</td>\n",
              "    </tr>\n",
              "    <tr>\n",
              "      <th>1</th>\n",
              "      <td>1800</td>\n",
              "      <td>5308483</td>\n",
              "      <td>$66,109</td>\n",
              "      <td>1.24 cents</td>\n",
              "    </tr>\n",
              "    <tr>\n",
              "      <th>2</th>\n",
              "      <td>1810</td>\n",
              "      <td>7239881</td>\n",
              "      <td>$178,445</td>\n",
              "      <td>2.46 cents</td>\n",
              "    </tr>\n",
              "  </tbody>\n",
              "</table>\n",
              "</div>"
            ],
            "text/plain": [
              "  Census Year  Total Population Census Cost Average Cost Per Person\n",
              "0        1790           3929214     $44,377              1.13 cents\n",
              "1        1800           5308483     $66,109              1.24 cents\n",
              "2        1810           7239881    $178,445              2.46 cents"
            ]
          },
          "metadata": {
            "tags": []
          },
          "execution_count": 483
        }
      ]
    },
    {
      "cell_type": "code",
      "metadata": {
        "id": "tUTjUIiFaICF",
        "outputId": "ff52368a-0e56-4c99-84f2-4d4d8a7b6070",
        "colab": {
          "base_uri": "https://localhost:8080/",
          "height": 164
        }
      },
      "source": [
        "#What's df[1]?\n",
        "df[1].head(3)"
      ],
      "execution_count": 484,
      "outputs": [
        {
          "output_type": "execute_result",
          "data": {
            "text/html": [
              "<div>\n",
              "<style scoped>\n",
              "    .dataframe tbody tr th:only-of-type {\n",
              "        vertical-align: middle;\n",
              "    }\n",
              "\n",
              "    .dataframe tbody tr th {\n",
              "        vertical-align: top;\n",
              "    }\n",
              "\n",
              "    .dataframe thead th {\n",
              "        text-align: right;\n",
              "    }\n",
              "</style>\n",
              "<table border=\"1\" class=\"dataframe\">\n",
              "  <thead>\n",
              "    <tr style=\"text-align: right;\">\n",
              "      <th></th>\n",
              "      <th>The U.S. population reached 300,000,000 on 17 October 2006. At the end of 2015, it was at 319,958,045. At the end of 2017, it was at 326,971,209. Source (except 2010)... Gauthier, Jason G., Measuring America: The Decennial Censuses From 1790-2000, (US Bureau of the Census/Dept of Commerce), Washington: US Government Printing Office, 2002, Appendix A, Page A-1.The numbers in the fourth column are not included in the book and were added by me. * The 2010 census cost was taken from GAO (U.S. Government Accountability Office) report number GAO-11-496T, 2010 Census: Preliminary Lessons Learned Highlight the Need for Fundamental Reforms (April 6, 2011): \"At about $13 billion, 2010 was the costliest U.S. Census in history.\" The official census day for 2010 was April 1, 2010. The total population figure (308,745,538) was announced by the U.S. Census Bureau on Dec. 21, 2010. See: 2010 Census - Resident Population Data The 1940 Census 1940 census records were released on April 2, 2012. For details see:1940 Census Records and InformationFor information on census records for other years see: U.S. Census Records 1790-1940</th>\n",
              "    </tr>\n",
              "  </thead>\n",
              "  <tbody>\n",
              "  </tbody>\n",
              "</table>\n",
              "</div>"
            ],
            "text/plain": [
              "Empty DataFrame\n",
              "Columns: [The U.S. population reached 300,000,000 on 17 October 2006. At the end of 2015, it was at 319,958,045. At the end of 2017, it was at 326,971,209. Source (except 2010)... Gauthier, Jason G., Measuring America: The Decennial Censuses From 1790-2000, (US Bureau of the Census/Dept of Commerce), Washington: US Government Printing Office, 2002, Appendix A, Page A-1.The numbers in the fourth column are not included in the book and were added by me. * The 2010 census cost was taken from GAO (U.S. Government Accountability Office) report number GAO-11-496T, 2010 Census: Preliminary Lessons Learned Highlight the Need for Fundamental Reforms (April 6, 2011): \"At about $13 billion, 2010 was the costliest U.S. Census in history.\" The official census day for 2010 was April 1, 2010. The total population figure (308,745,538) was announced by the U.S. Census Bureau on Dec. 21, 2010. See: 2010 Census - Resident Population Data The 1940 Census 1940 census records were released on April 2, 2012. For details see:1940 Census Records and InformationFor information on census records for other years see: U.S. Census Records 1790-1940]\n",
              "Index: []"
            ]
          },
          "metadata": {
            "tags": []
          },
          "execution_count": 484
        }
      ]
    },
    {
      "cell_type": "markdown",
      "metadata": {
        "id": "sMcCOHc2b6Jj"
      },
      "source": [
        "## 3. Display and explore the data (rows, columns, etc.) and determine the data quality (bad rows, bad columns, bad elements, null values, etc.)\n"
      ]
    },
    {
      "cell_type": "code",
      "metadata": {
        "id": "PYZAqm8MWKdd",
        "outputId": "8c0a0839-06ba-4145-abf2-636f95df13f2",
        "colab": {
          "base_uri": "https://localhost:8080/",
          "height": 100
        }
      },
      "source": [
        "#What are the data types we are using?\n",
        "census_df.dtypes"
      ],
      "execution_count": 485,
      "outputs": [
        {
          "output_type": "execute_result",
          "data": {
            "text/plain": [
              "Census Year                  int64\n",
              "Total Population             int64\n",
              "Census Cost                float64\n",
              "Average Cost Per Person    float64\n",
              "dtype: object"
            ]
          },
          "metadata": {
            "tags": []
          },
          "execution_count": 485
        }
      ]
    },
    {
      "cell_type": "code",
      "metadata": {
        "id": "m8h-KFqhpq5x",
        "outputId": "f892cf13-576d-438f-a10c-ba95d6d571bd",
        "colab": {
          "base_uri": "https://localhost:8080/",
          "height": 190
        }
      },
      "source": [
        "#We should be looking at the first data frame. Let's call it \"census_df\"\n",
        "census_df = df[0] \n",
        "\n",
        "census_df.head()"
      ],
      "execution_count": 486,
      "outputs": [
        {
          "output_type": "execute_result",
          "data": {
            "text/html": [
              "<div>\n",
              "<style scoped>\n",
              "    .dataframe tbody tr th:only-of-type {\n",
              "        vertical-align: middle;\n",
              "    }\n",
              "\n",
              "    .dataframe tbody tr th {\n",
              "        vertical-align: top;\n",
              "    }\n",
              "\n",
              "    .dataframe thead th {\n",
              "        text-align: right;\n",
              "    }\n",
              "</style>\n",
              "<table border=\"1\" class=\"dataframe\">\n",
              "  <thead>\n",
              "    <tr style=\"text-align: right;\">\n",
              "      <th></th>\n",
              "      <th>Census Year</th>\n",
              "      <th>Total Population</th>\n",
              "      <th>Census Cost</th>\n",
              "      <th>Average Cost Per Person</th>\n",
              "    </tr>\n",
              "  </thead>\n",
              "  <tbody>\n",
              "    <tr>\n",
              "      <th>0</th>\n",
              "      <td>1790</td>\n",
              "      <td>3929214</td>\n",
              "      <td>$44,377</td>\n",
              "      <td>1.13 cents</td>\n",
              "    </tr>\n",
              "    <tr>\n",
              "      <th>1</th>\n",
              "      <td>1800</td>\n",
              "      <td>5308483</td>\n",
              "      <td>$66,109</td>\n",
              "      <td>1.24 cents</td>\n",
              "    </tr>\n",
              "    <tr>\n",
              "      <th>2</th>\n",
              "      <td>1810</td>\n",
              "      <td>7239881</td>\n",
              "      <td>$178,445</td>\n",
              "      <td>2.46 cents</td>\n",
              "    </tr>\n",
              "    <tr>\n",
              "      <th>3</th>\n",
              "      <td>1820</td>\n",
              "      <td>9633822</td>\n",
              "      <td>$208,526</td>\n",
              "      <td>2.16 cents</td>\n",
              "    </tr>\n",
              "    <tr>\n",
              "      <th>4</th>\n",
              "      <td>1830</td>\n",
              "      <td>12866020</td>\n",
              "      <td>$378,545</td>\n",
              "      <td>2.94 cents</td>\n",
              "    </tr>\n",
              "  </tbody>\n",
              "</table>\n",
              "</div>"
            ],
            "text/plain": [
              "  Census Year  Total Population Census Cost Average Cost Per Person\n",
              "0        1790           3929214     $44,377              1.13 cents\n",
              "1        1800           5308483     $66,109              1.24 cents\n",
              "2        1810           7239881    $178,445              2.46 cents\n",
              "3        1820           9633822    $208,526              2.16 cents\n",
              "4        1830          12866020    $378,545              2.94 cents"
            ]
          },
          "metadata": {
            "tags": []
          },
          "execution_count": 486
        }
      ]
    },
    {
      "cell_type": "markdown",
      "metadata": {
        "id": "gtZfpEdyhOvR"
      },
      "source": [
        "## 4. Document the data quality issues using a Markdown cell so the reader understands what the problems are.\n",
        "\n",
        "\n",
        "*   Years has an asterisk on 2010.  \n",
        "*   Population is OK except for data type  \n",
        "*   Census Cost needs removal of \"$\" and \",\" \".\" and \"Billion\" fixed.\n",
        "\n",
        "\n",
        "*   Average Cost needs removal of \"cents\" and \"$\" and conversion to all dollars\n",
        "\n"
      ]
    },
    {
      "cell_type": "markdown",
      "metadata": {
        "id": "2TH21EhZYMiL"
      },
      "source": [
        "## 5. Cleanse Census Years Function\n",
        "Write a function named cleanse_year() that takes a string as input and removes any asterisks in the string and return the cleansed string. Test the function by using test strings (for example, \"1989*\", \"20*10\")\n",
        "\n",
        "*   Single exception here, 2010* has an asterisk\n",
        "*   Remove all of the asterisks.\n",
        "*   Let's change data type of years to int"
      ]
    },
    {
      "cell_type": "code",
      "metadata": {
        "id": "j9u7X8FmqB-J"
      },
      "source": [
        "#Remove all asterisks\n",
        "def cleanse_year(raw_years):\n",
        "    raw_years = int(raw_years.replace(\"*\",\"\"))\n",
        "    return raw_years"
      ],
      "execution_count": 487,
      "outputs": []
    },
    {
      "cell_type": "markdown",
      "metadata": {
        "id": "pAYJu5QacaKD"
      },
      "source": [
        "Write a function named cleanse_year() that takes a string as input and removes any asterisks in the string and return the cleansed string. \n"
      ]
    },
    {
      "cell_type": "code",
      "metadata": {
        "id": "sx7317M4cX5p",
        "outputId": "47d78ede-e909-42ae-f363-a95dcec1785b",
        "colab": {
          "base_uri": "https://localhost:8080/",
          "height": 67
        }
      },
      "source": [
        "# Test the function by using test strings (for example, \"1989*\", \"20*10\")t\n",
        "test_list_years = (\"1989\", \"20*10\", \"85\")\n",
        "\n",
        "for li in test_list_years:\n",
        "    li_test = cleanse_year(li)\n",
        "    print(f\"{li_test} {type(li_test)}\")"
      ],
      "execution_count": 488,
      "outputs": [
        {
          "output_type": "stream",
          "text": [
            "1989 <class 'int'>\n",
            "2010 <class 'int'>\n",
            "85 <class 'int'>\n"
          ],
          "name": "stdout"
        }
      ]
    },
    {
      "cell_type": "markdown",
      "metadata": {
        "id": "JM-2g8pyiql4"
      },
      "source": [
        "## 6. Cleanse the column \"Census Year\" using the function cleanse_year() and Pandas's apply() function."
      ]
    },
    {
      "cell_type": "code",
      "metadata": {
        "id": "DqEfWEPqpMDx"
      },
      "source": [
        "#Apply the solution (We can also do add and drop, but this is faster.)\n",
        "census_df[\"Census Year\"] = census_df[\"Census Year\"].apply(cleanse_year)"
      ],
      "execution_count": 489,
      "outputs": []
    },
    {
      "cell_type": "code",
      "metadata": {
        "id": "iK1SupHDWW7S",
        "outputId": "e20ea8c2-105e-494e-8cd6-14da929a33bf",
        "colab": {
          "base_uri": "https://localhost:8080/",
          "height": 190
        }
      },
      "source": [
        "census_df.head()"
      ],
      "execution_count": 490,
      "outputs": [
        {
          "output_type": "execute_result",
          "data": {
            "text/html": [
              "<div>\n",
              "<style scoped>\n",
              "    .dataframe tbody tr th:only-of-type {\n",
              "        vertical-align: middle;\n",
              "    }\n",
              "\n",
              "    .dataframe tbody tr th {\n",
              "        vertical-align: top;\n",
              "    }\n",
              "\n",
              "    .dataframe thead th {\n",
              "        text-align: right;\n",
              "    }\n",
              "</style>\n",
              "<table border=\"1\" class=\"dataframe\">\n",
              "  <thead>\n",
              "    <tr style=\"text-align: right;\">\n",
              "      <th></th>\n",
              "      <th>Census Year</th>\n",
              "      <th>Total Population</th>\n",
              "      <th>Census Cost</th>\n",
              "      <th>Average Cost Per Person</th>\n",
              "    </tr>\n",
              "  </thead>\n",
              "  <tbody>\n",
              "    <tr>\n",
              "      <th>0</th>\n",
              "      <td>1790</td>\n",
              "      <td>3929214</td>\n",
              "      <td>$44,377</td>\n",
              "      <td>1.13 cents</td>\n",
              "    </tr>\n",
              "    <tr>\n",
              "      <th>1</th>\n",
              "      <td>1800</td>\n",
              "      <td>5308483</td>\n",
              "      <td>$66,109</td>\n",
              "      <td>1.24 cents</td>\n",
              "    </tr>\n",
              "    <tr>\n",
              "      <th>2</th>\n",
              "      <td>1810</td>\n",
              "      <td>7239881</td>\n",
              "      <td>$178,445</td>\n",
              "      <td>2.46 cents</td>\n",
              "    </tr>\n",
              "    <tr>\n",
              "      <th>3</th>\n",
              "      <td>1820</td>\n",
              "      <td>9633822</td>\n",
              "      <td>$208,526</td>\n",
              "      <td>2.16 cents</td>\n",
              "    </tr>\n",
              "    <tr>\n",
              "      <th>4</th>\n",
              "      <td>1830</td>\n",
              "      <td>12866020</td>\n",
              "      <td>$378,545</td>\n",
              "      <td>2.94 cents</td>\n",
              "    </tr>\n",
              "  </tbody>\n",
              "</table>\n",
              "</div>"
            ],
            "text/plain": [
              "   Census Year  Total Population Census Cost Average Cost Per Person\n",
              "0         1790           3929214     $44,377              1.13 cents\n",
              "1         1800           5308483     $66,109              1.24 cents\n",
              "2         1810           7239881    $178,445              2.46 cents\n",
              "3         1820           9633822    $208,526              2.16 cents\n",
              "4         1830          12866020    $378,545              2.94 cents"
            ]
          },
          "metadata": {
            "tags": []
          },
          "execution_count": 490
        }
      ]
    },
    {
      "cell_type": "markdown",
      "metadata": {
        "id": "78fiyRiTi0MJ"
      },
      "source": [
        "## 7. Repeat this process for column \"Total Population\", \"Census Cost\", \"Average Cost Per Person\". (define, test, and apply the function)"
      ]
    },
    {
      "cell_type": "markdown",
      "metadata": {
        "id": "_Sh9IJlearkb"
      },
      "source": [
        "## 7a. Cleanse Total Population Function\n",
        "*   No exceptions, but dtype is string. \n",
        "*   Let's change data type of years to int."
      ]
    },
    {
      "cell_type": "code",
      "metadata": {
        "id": "c7OawB8TYWAE"
      },
      "source": [
        "def cleanse_pop(raw_pop):\n",
        "    raw_pop = int(raw_pop)\n",
        "    return raw_pop"
      ],
      "execution_count": 491,
      "outputs": []
    },
    {
      "cell_type": "code",
      "metadata": {
        "id": "QXUeiTX-fT69",
        "outputId": "011cce5d-1718-41d9-cb87-d729b7cfde5a",
        "colab": {
          "base_uri": "https://localhost:8080/",
          "height": 67
        }
      },
      "source": [
        "# Test the function by using test strings (for example, \"1989*\", \"20*10\")t\n",
        "test_list = (\"10000\", \"500\", \"20230\")\n",
        "\n",
        "for li in test_list:\n",
        "    print(f\" {li} type: {type(cleanse_pop(li))}\")"
      ],
      "execution_count": 492,
      "outputs": [
        {
          "output_type": "stream",
          "text": [
            " 10000 type: <class 'int'>\n",
            " 500 type: <class 'int'>\n",
            " 20230 type: <class 'int'>\n"
          ],
          "name": "stdout"
        }
      ]
    },
    {
      "cell_type": "code",
      "metadata": {
        "id": "xFvKal4hYeQQ"
      },
      "source": [
        "#Apply the solution (We can also do add and drop, but this is faster.)\n",
        "census_df[\"Total Population\"] = census_df[\"Total Population\"].apply(cleanse_pop)"
      ],
      "execution_count": 493,
      "outputs": []
    },
    {
      "cell_type": "markdown",
      "metadata": {
        "id": "HDf3ddkfYLMe"
      },
      "source": [
        "## 7b. Cleanse Census Cost Function (example solution)\n",
        "*   We need to first remove $, and ,\n",
        "*   Next, change the \"Billion\" and decimal in 4.5\n",
        "*   After that, let's change the data type to float, since it is money. \n"
      ]
    },
    {
      "cell_type": "code",
      "metadata": {
        "id": "mgidQKtaJj5I"
      },
      "source": [
        "def cleanse_census_cost(raw_cost):\n",
        "    costs = raw_cost.replace(\"$\",\"\").replace(\",\",\"\")\n",
        "\n",
        "    if  raw_cost.find(\"4.5\") != -1:          # if \"4.5\" in raw_cost:\n",
        "        costs = \"45\" + \"0\" * 8\n",
        "\n",
        "    elif raw_cost.find(\"Billion\") != -1:     # elif \"Billion\" in raw_cost: \n",
        "        costs = \"13\" + \"0\" * 9\n",
        "        \n",
        "    return float(costs)"
      ],
      "execution_count": 494,
      "outputs": []
    },
    {
      "cell_type": "code",
      "metadata": {
        "id": "8V2hlj-AgWTX",
        "outputId": "aab660d6-93ee-4c6f-d85d-b5d465bde5d3",
        "colab": {
          "base_uri": "https://localhost:8080/",
          "height": 33
        }
      },
      "source": [
        "# Test the function by using test strings\n",
        "cleanse_census_cost(\"12 Billion\")"
      ],
      "execution_count": 495,
      "outputs": [
        {
          "output_type": "execute_result",
          "data": {
            "text/plain": [
              "13000000000.0"
            ]
          },
          "metadata": {
            "tags": []
          },
          "execution_count": 495
        }
      ]
    },
    {
      "cell_type": "code",
      "metadata": {
        "id": "WjOqJS57oHho",
        "outputId": "af9a1413-ac3a-4ab4-e6b4-3cb232ee2a3f",
        "colab": {
          "base_uri": "https://localhost:8080/",
          "height": 709
        }
      },
      "source": [
        "#Apply the solution (We can also do add and drop, but this is faster.)\n",
        "census_df[\"Census Cost\"] = census_df[\"Census Cost\"].apply(cleanse_census_cost)\n",
        "census_df"
      ],
      "execution_count": 496,
      "outputs": [
        {
          "output_type": "execute_result",
          "data": {
            "text/html": [
              "<div>\n",
              "<style scoped>\n",
              "    .dataframe tbody tr th:only-of-type {\n",
              "        vertical-align: middle;\n",
              "    }\n",
              "\n",
              "    .dataframe tbody tr th {\n",
              "        vertical-align: top;\n",
              "    }\n",
              "\n",
              "    .dataframe thead th {\n",
              "        text-align: right;\n",
              "    }\n",
              "</style>\n",
              "<table border=\"1\" class=\"dataframe\">\n",
              "  <thead>\n",
              "    <tr style=\"text-align: right;\">\n",
              "      <th></th>\n",
              "      <th>Census Year</th>\n",
              "      <th>Total Population</th>\n",
              "      <th>Census Cost</th>\n",
              "      <th>Average Cost Per Person</th>\n",
              "    </tr>\n",
              "  </thead>\n",
              "  <tbody>\n",
              "    <tr>\n",
              "      <th>0</th>\n",
              "      <td>1790</td>\n",
              "      <td>3929214</td>\n",
              "      <td>4.437700e+04</td>\n",
              "      <td>1.13 cents</td>\n",
              "    </tr>\n",
              "    <tr>\n",
              "      <th>1</th>\n",
              "      <td>1800</td>\n",
              "      <td>5308483</td>\n",
              "      <td>6.610900e+04</td>\n",
              "      <td>1.24 cents</td>\n",
              "    </tr>\n",
              "    <tr>\n",
              "      <th>2</th>\n",
              "      <td>1810</td>\n",
              "      <td>7239881</td>\n",
              "      <td>1.784450e+05</td>\n",
              "      <td>2.46 cents</td>\n",
              "    </tr>\n",
              "    <tr>\n",
              "      <th>3</th>\n",
              "      <td>1820</td>\n",
              "      <td>9633822</td>\n",
              "      <td>2.085260e+05</td>\n",
              "      <td>2.16 cents</td>\n",
              "    </tr>\n",
              "    <tr>\n",
              "      <th>4</th>\n",
              "      <td>1830</td>\n",
              "      <td>12866020</td>\n",
              "      <td>3.785450e+05</td>\n",
              "      <td>2.94 cents</td>\n",
              "    </tr>\n",
              "    <tr>\n",
              "      <th>5</th>\n",
              "      <td>1840</td>\n",
              "      <td>17069458</td>\n",
              "      <td>8.333710e+05</td>\n",
              "      <td>4.88 cents</td>\n",
              "    </tr>\n",
              "    <tr>\n",
              "      <th>6</th>\n",
              "      <td>1850</td>\n",
              "      <td>23191876</td>\n",
              "      <td>1.423351e+06</td>\n",
              "      <td>6.14 cents</td>\n",
              "    </tr>\n",
              "    <tr>\n",
              "      <th>7</th>\n",
              "      <td>1860</td>\n",
              "      <td>31443321</td>\n",
              "      <td>1.969377e+06</td>\n",
              "      <td>6.26 cents</td>\n",
              "    </tr>\n",
              "    <tr>\n",
              "      <th>8</th>\n",
              "      <td>1870</td>\n",
              "      <td>38558371</td>\n",
              "      <td>3.421198e+06</td>\n",
              "      <td>8.87 cents</td>\n",
              "    </tr>\n",
              "    <tr>\n",
              "      <th>9</th>\n",
              "      <td>1880</td>\n",
              "      <td>50155783</td>\n",
              "      <td>5.790678e+06</td>\n",
              "      <td>11.54 cents</td>\n",
              "    </tr>\n",
              "    <tr>\n",
              "      <th>10</th>\n",
              "      <td>1890</td>\n",
              "      <td>62979766</td>\n",
              "      <td>1.154713e+07</td>\n",
              "      <td>18.33 cents</td>\n",
              "    </tr>\n",
              "    <tr>\n",
              "      <th>11</th>\n",
              "      <td>1900</td>\n",
              "      <td>76303387</td>\n",
              "      <td>1.185400e+07</td>\n",
              "      <td>15.54 cents</td>\n",
              "    </tr>\n",
              "    <tr>\n",
              "      <th>12</th>\n",
              "      <td>1910</td>\n",
              "      <td>91972266</td>\n",
              "      <td>1.596800e+07</td>\n",
              "      <td>17.07 cents</td>\n",
              "    </tr>\n",
              "    <tr>\n",
              "      <th>13</th>\n",
              "      <td>1920</td>\n",
              "      <td>105710620</td>\n",
              "      <td>2.511700e+07</td>\n",
              "      <td>23.76 cents</td>\n",
              "    </tr>\n",
              "    <tr>\n",
              "      <th>14</th>\n",
              "      <td>1930</td>\n",
              "      <td>122775046</td>\n",
              "      <td>4.015600e+07</td>\n",
              "      <td>32.71 cents</td>\n",
              "    </tr>\n",
              "    <tr>\n",
              "      <th>15</th>\n",
              "      <td>1940</td>\n",
              "      <td>131669275</td>\n",
              "      <td>6.752700e+07</td>\n",
              "      <td>51.29 cents</td>\n",
              "    </tr>\n",
              "    <tr>\n",
              "      <th>16</th>\n",
              "      <td>1950</td>\n",
              "      <td>151325798</td>\n",
              "      <td>9.146200e+07</td>\n",
              "      <td>60.44 cents</td>\n",
              "    </tr>\n",
              "    <tr>\n",
              "      <th>17</th>\n",
              "      <td>1960</td>\n",
              "      <td>179323175</td>\n",
              "      <td>1.279340e+08</td>\n",
              "      <td>71.34 cents</td>\n",
              "    </tr>\n",
              "    <tr>\n",
              "      <th>18</th>\n",
              "      <td>1970</td>\n",
              "      <td>203302031</td>\n",
              "      <td>2.476530e+08</td>\n",
              "      <td>$1.22</td>\n",
              "    </tr>\n",
              "    <tr>\n",
              "      <th>19</th>\n",
              "      <td>1980</td>\n",
              "      <td>226542199</td>\n",
              "      <td>1.078488e+09</td>\n",
              "      <td>$4.76</td>\n",
              "    </tr>\n",
              "    <tr>\n",
              "      <th>20</th>\n",
              "      <td>1990</td>\n",
              "      <td>248718301</td>\n",
              "      <td>2.492830e+09</td>\n",
              "      <td>$10.02</td>\n",
              "    </tr>\n",
              "    <tr>\n",
              "      <th>21</th>\n",
              "      <td>2000</td>\n",
              "      <td>281421906</td>\n",
              "      <td>4.500000e+09</td>\n",
              "      <td>$15.99</td>\n",
              "    </tr>\n",
              "    <tr>\n",
              "      <th>22</th>\n",
              "      <td>2010</td>\n",
              "      <td>308745538</td>\n",
              "      <td>1.300000e+10</td>\n",
              "      <td>$42.11</td>\n",
              "    </tr>\n",
              "  </tbody>\n",
              "</table>\n",
              "</div>"
            ],
            "text/plain": [
              "    Census Year  Total Population   Census Cost Average Cost Per Person\n",
              "0          1790           3929214  4.437700e+04              1.13 cents\n",
              "1          1800           5308483  6.610900e+04              1.24 cents\n",
              "2          1810           7239881  1.784450e+05              2.46 cents\n",
              "3          1820           9633822  2.085260e+05              2.16 cents\n",
              "4          1830          12866020  3.785450e+05              2.94 cents\n",
              "5          1840          17069458  8.333710e+05              4.88 cents\n",
              "6          1850          23191876  1.423351e+06              6.14 cents\n",
              "7          1860          31443321  1.969377e+06              6.26 cents\n",
              "8          1870          38558371  3.421198e+06              8.87 cents\n",
              "9          1880          50155783  5.790678e+06             11.54 cents\n",
              "10         1890          62979766  1.154713e+07             18.33 cents\n",
              "11         1900          76303387  1.185400e+07             15.54 cents\n",
              "12         1910          91972266  1.596800e+07             17.07 cents\n",
              "13         1920         105710620  2.511700e+07             23.76 cents\n",
              "14         1930         122775046  4.015600e+07             32.71 cents\n",
              "15         1940         131669275  6.752700e+07             51.29 cents\n",
              "16         1950         151325798  9.146200e+07             60.44 cents\n",
              "17         1960         179323175  1.279340e+08             71.34 cents\n",
              "18         1970         203302031  2.476530e+08                   $1.22\n",
              "19         1980         226542199  1.078488e+09                   $4.76\n",
              "20         1990         248718301  2.492830e+09                  $10.02\n",
              "21         2000         281421906  4.500000e+09                  $15.99\n",
              "22         2010         308745538  1.300000e+10                  $42.11"
            ]
          },
          "metadata": {
            "tags": []
          },
          "execution_count": 496
        }
      ]
    },
    {
      "cell_type": "markdown",
      "metadata": {
        "id": "k0I-LyTMYFp2"
      },
      "source": [
        "## 7c. Cleanse Average Cost Function\n",
        "*   We need to first remove $\n",
        "*   Next, change the cents values, and then convert them over to dollars (x/100)\n",
        "*   Last, let's change the data type to float, since it is money. "
      ]
    },
    {
      "cell_type": "code",
      "metadata": {
        "id": "6cMHfFtNKAcC"
      },
      "source": [
        "def cleanse_avg_cost(avg_cost):\n",
        "    if avg_cost.find(\"cents\") != -1:\n",
        "        costs = round(float(avg_cost.replace(\"cents\",\"\")) / 100 , 2) #Rounds the float, since fractional cents are not helpful here.\n",
        "\n",
        "    else:\n",
        "        costs = avg_cost.replace(\"$\",\"\") #Removes all dollars from values first\n",
        "        costs = round(float(avg_cost.replace(\"$\",\"\")),2) #In either case, we round the values to standardize them.\n",
        "    \n",
        "    return costs"
      ],
      "execution_count": 497,
      "outputs": []
    },
    {
      "cell_type": "code",
      "metadata": {
        "id": "V8-M7gYGgsHt",
        "outputId": "b60a5cba-3846-4a5e-9d07-21af948dc8ad",
        "colab": {
          "base_uri": "https://localhost:8080/",
          "height": 50
        }
      },
      "source": [
        "# Test the function by using test strings\n",
        "print(cleanse_avg_cost(\"15 cents\"))\n",
        "print(cleanse_avg_cost(\"$1.5\"))"
      ],
      "execution_count": 498,
      "outputs": [
        {
          "output_type": "stream",
          "text": [
            "0.15\n",
            "1.5\n"
          ],
          "name": "stdout"
        }
      ]
    },
    {
      "cell_type": "code",
      "metadata": {
        "id": "TRX-bBMpo3NF",
        "outputId": "6c1c556f-bdea-4af8-a2e5-61b58abeff28",
        "colab": {
          "base_uri": "https://localhost:8080/",
          "height": 709
        }
      },
      "source": [
        "#Apply Average Cost to Census_df\n",
        "census_df[\"Average Cost Per Person\"] = census_df[\"Average Cost Per Person\"].apply(cleanse_avg_cost)\n",
        "census_df"
      ],
      "execution_count": 499,
      "outputs": [
        {
          "output_type": "execute_result",
          "data": {
            "text/html": [
              "<div>\n",
              "<style scoped>\n",
              "    .dataframe tbody tr th:only-of-type {\n",
              "        vertical-align: middle;\n",
              "    }\n",
              "\n",
              "    .dataframe tbody tr th {\n",
              "        vertical-align: top;\n",
              "    }\n",
              "\n",
              "    .dataframe thead th {\n",
              "        text-align: right;\n",
              "    }\n",
              "</style>\n",
              "<table border=\"1\" class=\"dataframe\">\n",
              "  <thead>\n",
              "    <tr style=\"text-align: right;\">\n",
              "      <th></th>\n",
              "      <th>Census Year</th>\n",
              "      <th>Total Population</th>\n",
              "      <th>Census Cost</th>\n",
              "      <th>Average Cost Per Person</th>\n",
              "    </tr>\n",
              "  </thead>\n",
              "  <tbody>\n",
              "    <tr>\n",
              "      <th>0</th>\n",
              "      <td>1790</td>\n",
              "      <td>3929214</td>\n",
              "      <td>4.437700e+04</td>\n",
              "      <td>0.01</td>\n",
              "    </tr>\n",
              "    <tr>\n",
              "      <th>1</th>\n",
              "      <td>1800</td>\n",
              "      <td>5308483</td>\n",
              "      <td>6.610900e+04</td>\n",
              "      <td>0.01</td>\n",
              "    </tr>\n",
              "    <tr>\n",
              "      <th>2</th>\n",
              "      <td>1810</td>\n",
              "      <td>7239881</td>\n",
              "      <td>1.784450e+05</td>\n",
              "      <td>0.02</td>\n",
              "    </tr>\n",
              "    <tr>\n",
              "      <th>3</th>\n",
              "      <td>1820</td>\n",
              "      <td>9633822</td>\n",
              "      <td>2.085260e+05</td>\n",
              "      <td>0.02</td>\n",
              "    </tr>\n",
              "    <tr>\n",
              "      <th>4</th>\n",
              "      <td>1830</td>\n",
              "      <td>12866020</td>\n",
              "      <td>3.785450e+05</td>\n",
              "      <td>0.03</td>\n",
              "    </tr>\n",
              "    <tr>\n",
              "      <th>5</th>\n",
              "      <td>1840</td>\n",
              "      <td>17069458</td>\n",
              "      <td>8.333710e+05</td>\n",
              "      <td>0.05</td>\n",
              "    </tr>\n",
              "    <tr>\n",
              "      <th>6</th>\n",
              "      <td>1850</td>\n",
              "      <td>23191876</td>\n",
              "      <td>1.423351e+06</td>\n",
              "      <td>0.06</td>\n",
              "    </tr>\n",
              "    <tr>\n",
              "      <th>7</th>\n",
              "      <td>1860</td>\n",
              "      <td>31443321</td>\n",
              "      <td>1.969377e+06</td>\n",
              "      <td>0.06</td>\n",
              "    </tr>\n",
              "    <tr>\n",
              "      <th>8</th>\n",
              "      <td>1870</td>\n",
              "      <td>38558371</td>\n",
              "      <td>3.421198e+06</td>\n",
              "      <td>0.09</td>\n",
              "    </tr>\n",
              "    <tr>\n",
              "      <th>9</th>\n",
              "      <td>1880</td>\n",
              "      <td>50155783</td>\n",
              "      <td>5.790678e+06</td>\n",
              "      <td>0.12</td>\n",
              "    </tr>\n",
              "    <tr>\n",
              "      <th>10</th>\n",
              "      <td>1890</td>\n",
              "      <td>62979766</td>\n",
              "      <td>1.154713e+07</td>\n",
              "      <td>0.18</td>\n",
              "    </tr>\n",
              "    <tr>\n",
              "      <th>11</th>\n",
              "      <td>1900</td>\n",
              "      <td>76303387</td>\n",
              "      <td>1.185400e+07</td>\n",
              "      <td>0.16</td>\n",
              "    </tr>\n",
              "    <tr>\n",
              "      <th>12</th>\n",
              "      <td>1910</td>\n",
              "      <td>91972266</td>\n",
              "      <td>1.596800e+07</td>\n",
              "      <td>0.17</td>\n",
              "    </tr>\n",
              "    <tr>\n",
              "      <th>13</th>\n",
              "      <td>1920</td>\n",
              "      <td>105710620</td>\n",
              "      <td>2.511700e+07</td>\n",
              "      <td>0.24</td>\n",
              "    </tr>\n",
              "    <tr>\n",
              "      <th>14</th>\n",
              "      <td>1930</td>\n",
              "      <td>122775046</td>\n",
              "      <td>4.015600e+07</td>\n",
              "      <td>0.33</td>\n",
              "    </tr>\n",
              "    <tr>\n",
              "      <th>15</th>\n",
              "      <td>1940</td>\n",
              "      <td>131669275</td>\n",
              "      <td>6.752700e+07</td>\n",
              "      <td>0.51</td>\n",
              "    </tr>\n",
              "    <tr>\n",
              "      <th>16</th>\n",
              "      <td>1950</td>\n",
              "      <td>151325798</td>\n",
              "      <td>9.146200e+07</td>\n",
              "      <td>0.60</td>\n",
              "    </tr>\n",
              "    <tr>\n",
              "      <th>17</th>\n",
              "      <td>1960</td>\n",
              "      <td>179323175</td>\n",
              "      <td>1.279340e+08</td>\n",
              "      <td>0.71</td>\n",
              "    </tr>\n",
              "    <tr>\n",
              "      <th>18</th>\n",
              "      <td>1970</td>\n",
              "      <td>203302031</td>\n",
              "      <td>2.476530e+08</td>\n",
              "      <td>1.22</td>\n",
              "    </tr>\n",
              "    <tr>\n",
              "      <th>19</th>\n",
              "      <td>1980</td>\n",
              "      <td>226542199</td>\n",
              "      <td>1.078488e+09</td>\n",
              "      <td>4.76</td>\n",
              "    </tr>\n",
              "    <tr>\n",
              "      <th>20</th>\n",
              "      <td>1990</td>\n",
              "      <td>248718301</td>\n",
              "      <td>2.492830e+09</td>\n",
              "      <td>10.02</td>\n",
              "    </tr>\n",
              "    <tr>\n",
              "      <th>21</th>\n",
              "      <td>2000</td>\n",
              "      <td>281421906</td>\n",
              "      <td>4.500000e+09</td>\n",
              "      <td>15.99</td>\n",
              "    </tr>\n",
              "    <tr>\n",
              "      <th>22</th>\n",
              "      <td>2010</td>\n",
              "      <td>308745538</td>\n",
              "      <td>1.300000e+10</td>\n",
              "      <td>42.11</td>\n",
              "    </tr>\n",
              "  </tbody>\n",
              "</table>\n",
              "</div>"
            ],
            "text/plain": [
              "    Census Year  Total Population   Census Cost  Average Cost Per Person\n",
              "0          1790           3929214  4.437700e+04                     0.01\n",
              "1          1800           5308483  6.610900e+04                     0.01\n",
              "2          1810           7239881  1.784450e+05                     0.02\n",
              "3          1820           9633822  2.085260e+05                     0.02\n",
              "4          1830          12866020  3.785450e+05                     0.03\n",
              "5          1840          17069458  8.333710e+05                     0.05\n",
              "6          1850          23191876  1.423351e+06                     0.06\n",
              "7          1860          31443321  1.969377e+06                     0.06\n",
              "8          1870          38558371  3.421198e+06                     0.09\n",
              "9          1880          50155783  5.790678e+06                     0.12\n",
              "10         1890          62979766  1.154713e+07                     0.18\n",
              "11         1900          76303387  1.185400e+07                     0.16\n",
              "12         1910          91972266  1.596800e+07                     0.17\n",
              "13         1920         105710620  2.511700e+07                     0.24\n",
              "14         1930         122775046  4.015600e+07                     0.33\n",
              "15         1940         131669275  6.752700e+07                     0.51\n",
              "16         1950         151325798  9.146200e+07                     0.60\n",
              "17         1960         179323175  1.279340e+08                     0.71\n",
              "18         1970         203302031  2.476530e+08                     1.22\n",
              "19         1980         226542199  1.078488e+09                     4.76\n",
              "20         1990         248718301  2.492830e+09                    10.02\n",
              "21         2000         281421906  4.500000e+09                    15.99\n",
              "22         2010         308745538  1.300000e+10                    42.11"
            ]
          },
          "metadata": {
            "tags": []
          },
          "execution_count": 499
        }
      ]
    },
    {
      "cell_type": "markdown",
      "metadata": {
        "id": "kY_OOIoobzHg"
      },
      "source": [
        "## Last Steps: Check Data Types, and Convert it to .CSV"
      ]
    },
    {
      "cell_type": "code",
      "metadata": {
        "id": "Fjs8uB4qZev0",
        "outputId": "72a39182-b2b4-44d8-c4ef-8a1db393f116",
        "colab": {
          "base_uri": "https://localhost:8080/",
          "height": 100
        }
      },
      "source": [
        "#Check data types again, to make it easier to use. \n",
        "census_df.dtypes"
      ],
      "execution_count": 500,
      "outputs": [
        {
          "output_type": "execute_result",
          "data": {
            "text/plain": [
              "Census Year                  int64\n",
              "Total Population             int64\n",
              "Census Cost                float64\n",
              "Average Cost Per Person    float64\n",
              "dtype: object"
            ]
          },
          "metadata": {
            "tags": []
          },
          "execution_count": 500
        }
      ]
    },
    {
      "cell_type": "markdown",
      "metadata": {
        "id": "hqCTF-d_jABd"
      },
      "source": [
        "##8. After all columns are cleansed, save the clenased dataframe to a file named \"census_cost_cleansed.csv\" using CSV format."
      ]
    },
    {
      "cell_type": "code",
      "metadata": {
        "id": "n4Y9RQ3Uqfxp"
      },
      "source": [
        "census_df.to_csv('census_cost_cleansed.csv') #Make it back into a CSV"
      ],
      "execution_count": 501,
      "outputs": []
    },
    {
      "cell_type": "markdown",
      "metadata": {
        "id": "wwk74ryXjG_B"
      },
      "source": [
        "## 9. Use Pandas to read the saved cleansed file and explore to make sure it is clean."
      ]
    },
    {
      "cell_type": "code",
      "metadata": {
        "id": "EiarwMmujKMF",
        "outputId": "0f5331fb-941b-41d4-c8fc-dcaed37ab044",
        "colab": {
          "base_uri": "https://localhost:8080/",
          "height": 709
        }
      },
      "source": [
        "retest_census_df = pd.read_csv('/content/census_cost_cleansed.csv', header=0)\n",
        "retest_census_df"
      ],
      "execution_count": 502,
      "outputs": [
        {
          "output_type": "execute_result",
          "data": {
            "text/html": [
              "<div>\n",
              "<style scoped>\n",
              "    .dataframe tbody tr th:only-of-type {\n",
              "        vertical-align: middle;\n",
              "    }\n",
              "\n",
              "    .dataframe tbody tr th {\n",
              "        vertical-align: top;\n",
              "    }\n",
              "\n",
              "    .dataframe thead th {\n",
              "        text-align: right;\n",
              "    }\n",
              "</style>\n",
              "<table border=\"1\" class=\"dataframe\">\n",
              "  <thead>\n",
              "    <tr style=\"text-align: right;\">\n",
              "      <th></th>\n",
              "      <th>Unnamed: 0</th>\n",
              "      <th>Census Year</th>\n",
              "      <th>Total Population</th>\n",
              "      <th>Census Cost</th>\n",
              "      <th>Average Cost Per Person</th>\n",
              "    </tr>\n",
              "  </thead>\n",
              "  <tbody>\n",
              "    <tr>\n",
              "      <th>0</th>\n",
              "      <td>0</td>\n",
              "      <td>1790</td>\n",
              "      <td>3929214</td>\n",
              "      <td>4.437700e+04</td>\n",
              "      <td>0.01</td>\n",
              "    </tr>\n",
              "    <tr>\n",
              "      <th>1</th>\n",
              "      <td>1</td>\n",
              "      <td>1800</td>\n",
              "      <td>5308483</td>\n",
              "      <td>6.610900e+04</td>\n",
              "      <td>0.01</td>\n",
              "    </tr>\n",
              "    <tr>\n",
              "      <th>2</th>\n",
              "      <td>2</td>\n",
              "      <td>1810</td>\n",
              "      <td>7239881</td>\n",
              "      <td>1.784450e+05</td>\n",
              "      <td>0.02</td>\n",
              "    </tr>\n",
              "    <tr>\n",
              "      <th>3</th>\n",
              "      <td>3</td>\n",
              "      <td>1820</td>\n",
              "      <td>9633822</td>\n",
              "      <td>2.085260e+05</td>\n",
              "      <td>0.02</td>\n",
              "    </tr>\n",
              "    <tr>\n",
              "      <th>4</th>\n",
              "      <td>4</td>\n",
              "      <td>1830</td>\n",
              "      <td>12866020</td>\n",
              "      <td>3.785450e+05</td>\n",
              "      <td>0.03</td>\n",
              "    </tr>\n",
              "    <tr>\n",
              "      <th>5</th>\n",
              "      <td>5</td>\n",
              "      <td>1840</td>\n",
              "      <td>17069458</td>\n",
              "      <td>8.333710e+05</td>\n",
              "      <td>0.05</td>\n",
              "    </tr>\n",
              "    <tr>\n",
              "      <th>6</th>\n",
              "      <td>6</td>\n",
              "      <td>1850</td>\n",
              "      <td>23191876</td>\n",
              "      <td>1.423351e+06</td>\n",
              "      <td>0.06</td>\n",
              "    </tr>\n",
              "    <tr>\n",
              "      <th>7</th>\n",
              "      <td>7</td>\n",
              "      <td>1860</td>\n",
              "      <td>31443321</td>\n",
              "      <td>1.969377e+06</td>\n",
              "      <td>0.06</td>\n",
              "    </tr>\n",
              "    <tr>\n",
              "      <th>8</th>\n",
              "      <td>8</td>\n",
              "      <td>1870</td>\n",
              "      <td>38558371</td>\n",
              "      <td>3.421198e+06</td>\n",
              "      <td>0.09</td>\n",
              "    </tr>\n",
              "    <tr>\n",
              "      <th>9</th>\n",
              "      <td>9</td>\n",
              "      <td>1880</td>\n",
              "      <td>50155783</td>\n",
              "      <td>5.790678e+06</td>\n",
              "      <td>0.12</td>\n",
              "    </tr>\n",
              "    <tr>\n",
              "      <th>10</th>\n",
              "      <td>10</td>\n",
              "      <td>1890</td>\n",
              "      <td>62979766</td>\n",
              "      <td>1.154713e+07</td>\n",
              "      <td>0.18</td>\n",
              "    </tr>\n",
              "    <tr>\n",
              "      <th>11</th>\n",
              "      <td>11</td>\n",
              "      <td>1900</td>\n",
              "      <td>76303387</td>\n",
              "      <td>1.185400e+07</td>\n",
              "      <td>0.16</td>\n",
              "    </tr>\n",
              "    <tr>\n",
              "      <th>12</th>\n",
              "      <td>12</td>\n",
              "      <td>1910</td>\n",
              "      <td>91972266</td>\n",
              "      <td>1.596800e+07</td>\n",
              "      <td>0.17</td>\n",
              "    </tr>\n",
              "    <tr>\n",
              "      <th>13</th>\n",
              "      <td>13</td>\n",
              "      <td>1920</td>\n",
              "      <td>105710620</td>\n",
              "      <td>2.511700e+07</td>\n",
              "      <td>0.24</td>\n",
              "    </tr>\n",
              "    <tr>\n",
              "      <th>14</th>\n",
              "      <td>14</td>\n",
              "      <td>1930</td>\n",
              "      <td>122775046</td>\n",
              "      <td>4.015600e+07</td>\n",
              "      <td>0.33</td>\n",
              "    </tr>\n",
              "    <tr>\n",
              "      <th>15</th>\n",
              "      <td>15</td>\n",
              "      <td>1940</td>\n",
              "      <td>131669275</td>\n",
              "      <td>6.752700e+07</td>\n",
              "      <td>0.51</td>\n",
              "    </tr>\n",
              "    <tr>\n",
              "      <th>16</th>\n",
              "      <td>16</td>\n",
              "      <td>1950</td>\n",
              "      <td>151325798</td>\n",
              "      <td>9.146200e+07</td>\n",
              "      <td>0.60</td>\n",
              "    </tr>\n",
              "    <tr>\n",
              "      <th>17</th>\n",
              "      <td>17</td>\n",
              "      <td>1960</td>\n",
              "      <td>179323175</td>\n",
              "      <td>1.279340e+08</td>\n",
              "      <td>0.71</td>\n",
              "    </tr>\n",
              "    <tr>\n",
              "      <th>18</th>\n",
              "      <td>18</td>\n",
              "      <td>1970</td>\n",
              "      <td>203302031</td>\n",
              "      <td>2.476530e+08</td>\n",
              "      <td>1.22</td>\n",
              "    </tr>\n",
              "    <tr>\n",
              "      <th>19</th>\n",
              "      <td>19</td>\n",
              "      <td>1980</td>\n",
              "      <td>226542199</td>\n",
              "      <td>1.078488e+09</td>\n",
              "      <td>4.76</td>\n",
              "    </tr>\n",
              "    <tr>\n",
              "      <th>20</th>\n",
              "      <td>20</td>\n",
              "      <td>1990</td>\n",
              "      <td>248718301</td>\n",
              "      <td>2.492830e+09</td>\n",
              "      <td>10.02</td>\n",
              "    </tr>\n",
              "    <tr>\n",
              "      <th>21</th>\n",
              "      <td>21</td>\n",
              "      <td>2000</td>\n",
              "      <td>281421906</td>\n",
              "      <td>4.500000e+09</td>\n",
              "      <td>15.99</td>\n",
              "    </tr>\n",
              "    <tr>\n",
              "      <th>22</th>\n",
              "      <td>22</td>\n",
              "      <td>2010</td>\n",
              "      <td>308745538</td>\n",
              "      <td>1.300000e+10</td>\n",
              "      <td>42.11</td>\n",
              "    </tr>\n",
              "  </tbody>\n",
              "</table>\n",
              "</div>"
            ],
            "text/plain": [
              "    Unnamed: 0  Census Year  ...   Census Cost  Average Cost Per Person\n",
              "0            0         1790  ...  4.437700e+04                     0.01\n",
              "1            1         1800  ...  6.610900e+04                     0.01\n",
              "2            2         1810  ...  1.784450e+05                     0.02\n",
              "3            3         1820  ...  2.085260e+05                     0.02\n",
              "4            4         1830  ...  3.785450e+05                     0.03\n",
              "5            5         1840  ...  8.333710e+05                     0.05\n",
              "6            6         1850  ...  1.423351e+06                     0.06\n",
              "7            7         1860  ...  1.969377e+06                     0.06\n",
              "8            8         1870  ...  3.421198e+06                     0.09\n",
              "9            9         1880  ...  5.790678e+06                     0.12\n",
              "10          10         1890  ...  1.154713e+07                     0.18\n",
              "11          11         1900  ...  1.185400e+07                     0.16\n",
              "12          12         1910  ...  1.596800e+07                     0.17\n",
              "13          13         1920  ...  2.511700e+07                     0.24\n",
              "14          14         1930  ...  4.015600e+07                     0.33\n",
              "15          15         1940  ...  6.752700e+07                     0.51\n",
              "16          16         1950  ...  9.146200e+07                     0.60\n",
              "17          17         1960  ...  1.279340e+08                     0.71\n",
              "18          18         1970  ...  2.476530e+08                     1.22\n",
              "19          19         1980  ...  1.078488e+09                     4.76\n",
              "20          20         1990  ...  2.492830e+09                    10.02\n",
              "21          21         2000  ...  4.500000e+09                    15.99\n",
              "22          22         2010  ...  1.300000e+10                    42.11\n",
              "\n",
              "[23 rows x 5 columns]"
            ]
          },
          "metadata": {
            "tags": []
          },
          "execution_count": 502
        }
      ]
    },
    {
      "cell_type": "markdown",
      "metadata": {
        "id": "sHEc7uOVcLYd"
      },
      "source": [
        "## Done!\n",
        "## 10. Upload both the Jupyter notebook and the cleanse data file to GitHub and submit the GitHub link in BlackBoard."
      ]
    }
  ]
}
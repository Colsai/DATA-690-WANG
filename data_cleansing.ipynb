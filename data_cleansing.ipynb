{
  "nbformat": 4,
  "nbformat_minor": 0,
  "metadata": {
    "colab": {
      "name": "data_cleansing.ipynb",
      "provenance": [],
      "collapsed_sections": [],
      "authorship_tag": "ABX9TyPeSNgvttpDGmCw1xAd8P+A",
      "include_colab_link": true
    },
    "kernelspec": {
      "name": "python3",
      "display_name": "Python 3"
    }
  },
  "cells": [
    {
      "cell_type": "markdown",
      "metadata": {
        "id": "view-in-github",
        "colab_type": "text"
      },
      "source": [
        "<a href=\"https://colab.research.google.com/github/Colsai/DATA-690-WANG/blob/master/data_cleansing.ipynb\" target=\"_parent\"><img src=\"https://colab.research.google.com/assets/colab-badge.svg\" alt=\"Open In Colab\"/></a>"
      ]
    },
    {
      "cell_type": "markdown",
      "metadata": {
        "id": "KQGYA6xvBg85"
      },
      "source": [
        "# Data690 Class 14:\n",
        "## Data Practice, etc.\n",
        "How do we remove junk from a dataset?  \n",
        "(Characters that fall out-of-bounds, etc.)\n",
        "!@#$%^&*() etc"
      ]
    },
    {
      "cell_type": "code",
      "metadata": {
        "id": "718CKGW1BVp-"
      },
      "source": [
        "#Let's take this string and try to remove all of the junk\n",
        "x = \"12XY#$weare&!-\""
      ],
      "execution_count": 25,
      "outputs": []
    },
    {
      "cell_type": "code",
      "metadata": {
        "colab": {
          "base_uri": "https://localhost:8080/"
        },
        "id": "Q2km4lW-FMgT",
        "outputId": "14d096dc-814f-492b-e122-1ebc34fbbeba"
      },
      "source": [
        "#Set as new_x\n",
        "new_x = ''\n",
        "\n",
        "for elem in x:\n",
        "      if elem.isdigit() == True or elem.isalpha() == True:\n",
        "          new_x = new_x + elem\n",
        "print(new_x)"
      ],
      "execution_count": 26,
      "outputs": [
        {
          "output_type": "stream",
          "text": [
            "12XYweare\n"
          ],
          "name": "stdout"
        }
      ]
    },
    {
      "cell_type": "code",
      "metadata": {
        "colab": {
          "base_uri": "https://localhost:8080/",
          "height": 35
        },
        "id": "_xX8G5nuB501",
        "outputId": "545be405-65b7-4638-b974-2e5203ac9231"
      },
      "source": [
        "# List Comprehension\n",
        "new_x = ''\n",
        "new_x = ''.join([new_x + elem for elem in x if elem.isdigit() == True \n",
        "                 or elem.isalpha() == True])\n",
        "new_x"
      ],
      "execution_count": 27,
      "outputs": [
        {
          "output_type": "execute_result",
          "data": {
            "application/vnd.google.colaboratory.intrinsic+json": {
              "type": "string"
            },
            "text/plain": [
              "'12XYweare'"
            ]
          },
          "metadata": {
            "tags": []
          },
          "execution_count": 27
        }
      ]
    },
    {
      "cell_type": "code",
      "metadata": {
        "id": "zbCXGBclHmAV"
      },
      "source": [
        "# List Comprehension (as a list of the original and second)\n",
        "def remove_others(x):\n",
        "    x2 = ''\n",
        "    x2 = ''.join([x2 + elem for elem in x if elem.isdigit() == True or elem.isalpha() == True])\n",
        "    return (x, x2)"
      ],
      "execution_count": 28,
      "outputs": []
    },
    {
      "cell_type": "code",
      "metadata": {
        "id": "AFbJcnU0KWPy"
      },
      "source": [
        "# List Comprehension (returning just the changed item values per each)\n",
        "def remove_others_return(x):\n",
        "    x2 = ''\n",
        "    x2 = ''.join([x2 + elem for elem in x if elem.isdigit() == True or elem.isalpha() == True])\n",
        "    return (x2)"
      ],
      "execution_count": 29,
      "outputs": []
    },
    {
      "cell_type": "code",
      "metadata": {
        "colab": {
          "base_uri": "https://localhost:8080/"
        },
        "id": "7r8E7LvVHt9f",
        "outputId": "3b4b1843-f60c-49a5-f573-da377d4f1b09"
      },
      "source": [
        "# Here is the string again\n",
        "x = \"12XY#$weare&!-\"\n",
        "remove_others(x)"
      ],
      "execution_count": 30,
      "outputs": [
        {
          "output_type": "execute_result",
          "data": {
            "text/plain": [
              "('12XY#$weare&!-', '12XYweare')"
            ]
          },
          "metadata": {
            "tags": []
          },
          "execution_count": 30
        }
      ]
    },
    {
      "cell_type": "code",
      "metadata": {
        "colab": {
          "base_uri": "https://localhost:8080/",
          "height": 142
        },
        "id": "CowRuHtzI6iK",
        "outputId": "08ab58e1-e587-4608-879a-8f14742e8b10"
      },
      "source": [
        "import pandas as pd\n",
        "data = {\"sample_text\": [\"123DVE%$-\", \"werwrewr132324##$rtet^^\", \"greg*I&(^1236%^^%&32r4f3e2\"]}\n",
        "df = pd.DataFrame(data)\n",
        "df"
      ],
      "execution_count": 31,
      "outputs": [
        {
          "output_type": "execute_result",
          "data": {
            "text/html": [
              "<div>\n",
              "<style scoped>\n",
              "    .dataframe tbody tr th:only-of-type {\n",
              "        vertical-align: middle;\n",
              "    }\n",
              "\n",
              "    .dataframe tbody tr th {\n",
              "        vertical-align: top;\n",
              "    }\n",
              "\n",
              "    .dataframe thead th {\n",
              "        text-align: right;\n",
              "    }\n",
              "</style>\n",
              "<table border=\"1\" class=\"dataframe\">\n",
              "  <thead>\n",
              "    <tr style=\"text-align: right;\">\n",
              "      <th></th>\n",
              "      <th>sample_text</th>\n",
              "    </tr>\n",
              "  </thead>\n",
              "  <tbody>\n",
              "    <tr>\n",
              "      <th>0</th>\n",
              "      <td>123DVE%$-</td>\n",
              "    </tr>\n",
              "    <tr>\n",
              "      <th>1</th>\n",
              "      <td>werwrewr132324##$rtet^^</td>\n",
              "    </tr>\n",
              "    <tr>\n",
              "      <th>2</th>\n",
              "      <td>greg*I&amp;(^1236%^^%&amp;32r4f3e2</td>\n",
              "    </tr>\n",
              "  </tbody>\n",
              "</table>\n",
              "</div>"
            ],
            "text/plain": [
              "                  sample_text\n",
              "0                   123DVE%$-\n",
              "1     werwrewr132324##$rtet^^\n",
              "2  greg*I&(^1236%^^%&32r4f3e2"
            ]
          },
          "metadata": {
            "tags": []
          },
          "execution_count": 31
        }
      ]
    },
    {
      "cell_type": "code",
      "metadata": {
        "id": "wt5bunWNJ0sf"
      },
      "source": [
        "df['transformed'] = df['sample_text'].apply(remove_others_return)"
      ],
      "execution_count": 32,
      "outputs": []
    },
    {
      "cell_type": "code",
      "metadata": {
        "colab": {
          "base_uri": "https://localhost:8080/",
          "height": 142
        },
        "id": "-u5MXN4OKpNc",
        "outputId": "692ef6bc-dcce-46ed-a422-5a794b11e676"
      },
      "source": [
        "df"
      ],
      "execution_count": 33,
      "outputs": [
        {
          "output_type": "execute_result",
          "data": {
            "text/html": [
              "<div>\n",
              "<style scoped>\n",
              "    .dataframe tbody tr th:only-of-type {\n",
              "        vertical-align: middle;\n",
              "    }\n",
              "\n",
              "    .dataframe tbody tr th {\n",
              "        vertical-align: top;\n",
              "    }\n",
              "\n",
              "    .dataframe thead th {\n",
              "        text-align: right;\n",
              "    }\n",
              "</style>\n",
              "<table border=\"1\" class=\"dataframe\">\n",
              "  <thead>\n",
              "    <tr style=\"text-align: right;\">\n",
              "      <th></th>\n",
              "      <th>sample_text</th>\n",
              "      <th>transformed</th>\n",
              "    </tr>\n",
              "  </thead>\n",
              "  <tbody>\n",
              "    <tr>\n",
              "      <th>0</th>\n",
              "      <td>123DVE%$-</td>\n",
              "      <td>123DVE</td>\n",
              "    </tr>\n",
              "    <tr>\n",
              "      <th>1</th>\n",
              "      <td>werwrewr132324##$rtet^^</td>\n",
              "      <td>werwrewr132324rtet</td>\n",
              "    </tr>\n",
              "    <tr>\n",
              "      <th>2</th>\n",
              "      <td>greg*I&amp;(^1236%^^%&amp;32r4f3e2</td>\n",
              "      <td>gregI123632r4f3e2</td>\n",
              "    </tr>\n",
              "  </tbody>\n",
              "</table>\n",
              "</div>"
            ],
            "text/plain": [
              "                  sample_text         transformed\n",
              "0                   123DVE%$-              123DVE\n",
              "1     werwrewr132324##$rtet^^  werwrewr132324rtet\n",
              "2  greg*I&(^1236%^^%&32r4f3e2   gregI123632r4f3e2"
            ]
          },
          "metadata": {
            "tags": []
          },
          "execution_count": 33
        }
      ]
    },
    {
      "cell_type": "code",
      "metadata": {
        "id": "kc3gyMOOKqja"
      },
      "source": [
        ""
      ],
      "execution_count": 33,
      "outputs": []
    }
  ]
}
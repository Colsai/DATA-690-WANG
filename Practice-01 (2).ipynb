{
 "cells": [
  {
   "cell_type": "markdown",
   "metadata": {},
   "source": [
    "# DATA690: Practice Notebook 1"
   ]
  },
  {
   "cell_type": "markdown",
   "metadata": {},
   "source": [
    "> Scott Hirabayashi\n",
    "> Fall 2020"
   ]
  },
  {
   "cell_type": "markdown",
   "metadata": {},
   "source": [
    "**To Do:**\n",
    " - Read \"Python for Data Analysis\" by Wes McKinny Second Edition Chapter 1 (skim) and 2 (read & practice)\n",
    " - Use the project \"test\" you created last night in notebooks.ai to practice as you read.\n",
    " - Create a new Jupyter notebook and name it \"Practice-01.ipynb\".\n",
    " - Insert cells, enter and run Python code there as you read the chapter 2.\n",
    " - Take notes in the \"Course-Notes.md\" using Markdown format.\n",
    " \n",
    "**In This Assignment**\n",
    " - After you are done reading/practing/note-taking Chapter 1 and 2:\n",
    " - Download the notebook \"Practice-01.ipynb\" to your computer.\n",
    " - Upload the downloaded notebook from your computer to your GitHub repository.\n",
    " - Open the notebook from the GitHub, you will see a readonly display of the notebook.\n",
    " - Submit the link to your repository to the Blackboard so I can review and grade.\n"
   ]
  },
  {
   "cell_type": "markdown",
   "metadata": {},
   "source": [
    "# McKinny Chapter 2: Practice With Example Cells"
   ]
  },
  {
   "cell_type": "code",
   "execution_count": 1,
   "metadata": {},
   "outputs": [
    {
     "name": "stdout",
     "output_type": "stream",
     "text": [
      "3.8.1\n"
     ]
    }
   ],
   "source": [
    "from platform import python_version #A way to check Python version when starting\n",
    "print(python_version())"
   ]
  },
  {
   "cell_type": "markdown",
   "metadata": {},
   "source": [
    "## 1. Magic Commands\n",
    "Commands that run with the '%' symbol, you can run them in-line to do things within Python Notebooks"
   ]
  },
  {
   "cell_type": "code",
   "execution_count": 33,
   "metadata": {},
   "outputs": [],
   "source": [
    "#You can load the notebook with a magic function %load Practice-01.ipynb "
   ]
  },
  {
   "cell_type": "code",
   "execution_count": 3,
   "metadata": {},
   "outputs": [
    {
     "data": {
      "text/plain": [
       "\n",
       "IPython -- An enhanced Interactive Python - Quick Reference Card\n",
       "================================================================\n",
       "\n",
       "obj?, obj??      : Get help, or more help for object (also works as\n",
       "                   ?obj, ??obj).\n",
       "?foo.*abc*       : List names in 'foo' containing 'abc' in them.\n",
       "%magic           : Information about IPython's 'magic' % functions.\n",
       "\n",
       "Magic functions are prefixed by % or %%, and typically take their arguments\n",
       "without parentheses, quotes or even commas for convenience.  Line magics take a\n",
       "single % and cell magics are prefixed with two %%.\n",
       "\n",
       "Example magic function calls:\n",
       "\n",
       "%alias d ls -F   : 'd' is now an alias for 'ls -F'\n",
       "alias d ls -F    : Works if 'alias' not a python name\n",
       "alist = %alias   : Get list of aliases to 'alist'\n",
       "cd /usr/share    : Obvious. cd -<tab> to choose from visited dirs.\n",
       "%cd??            : See help AND source for magic %cd\n",
       "%timeit x=10     : time the 'x=10' statement with high precision.\n",
       "%%timeit x=2**100\n",
       "x**100           : time 'x**100' with a setup of 'x=2**100'; setup code is not\n",
       "                   counted.  This is an example of a cell magic.\n",
       "\n",
       "System commands:\n",
       "\n",
       "!cp a.txt b/     : System command escape, calls os.system()\n",
       "cp a.txt b/      : after %rehashx, most system commands work without !\n",
       "cp ${f}.txt $bar : Variable expansion in magics and system commands\n",
       "files = !ls /usr : Capture system command output\n",
       "files.s, files.l, files.n: \"a b c\", ['a','b','c'], 'a\\nb\\nc'\n",
       "\n",
       "History:\n",
       "\n",
       "_i, _ii, _iii    : Previous, next previous, next next previous input\n",
       "_i4, _ih[2:5]    : Input history line 4, lines 2-4\n",
       "exec _i81        : Execute input history line #81 again\n",
       "%rep 81          : Edit input history line #81\n",
       "_, __, ___       : previous, next previous, next next previous output\n",
       "_dh              : Directory history\n",
       "_oh              : Output history\n",
       "%hist            : Command history of current session.\n",
       "%hist -g foo     : Search command history of (almost) all sessions for 'foo'.\n",
       "%hist -g         : Command history of (almost) all sessions.\n",
       "%hist 1/2-8      : Command history containing lines 2-8 of session 1.\n",
       "%hist 1/ ~2/     : Command history of session 1 and 2 sessions before current.\n",
       "%hist ~8/1-~6/5  : Command history from line 1 of 8 sessions ago to\n",
       "                   line 5 of 6 sessions ago.\n",
       "%edit 0/         : Open editor to execute code with history of current session.\n",
       "\n",
       "Autocall:\n",
       "\n",
       "f 1,2            : f(1,2)  # Off by default, enable with %autocall magic.\n",
       "/f 1,2           : f(1,2) (forced autoparen)\n",
       ",f 1 2           : f(\"1\",\"2\")\n",
       ";f 1 2           : f(\"1 2\")\n",
       "\n",
       "Remember: TAB completion works in many contexts, not just file names\n",
       "or python names.\n",
       "\n",
       "The following magic functions are currently available:\n",
       "\n",
       "%alias:\n",
       "    Define an alias for a system command.\n",
       "%alias_magic:\n",
       "    ::\n",
       "%autoawait:\n",
       "    \n",
       "%autocall:\n",
       "    Make functions callable without having to type parentheses.\n",
       "%automagic:\n",
       "    Make magic functions callable without having to type the initial %.\n",
       "%autosave:\n",
       "    Set the autosave interval in the notebook (in seconds).\n",
       "%bookmark:\n",
       "    Manage IPython's bookmark system.\n",
       "%cat:\n",
       "    Alias for `!cat`\n",
       "%cd:\n",
       "    Change the current working directory.\n",
       "%clear:\n",
       "    Clear the terminal.\n",
       "%colors:\n",
       "    Switch color scheme for prompts, info system and exception handlers.\n",
       "%conda:\n",
       "    Run the conda package manager within the current kernel.\n",
       "%config:\n",
       "    configure IPython\n",
       "%connect_info:\n",
       "    Print information for connecting other clients to this kernel\n",
       "%cp:\n",
       "    Alias for `!cp`\n",
       "%debug:\n",
       "    ::\n",
       "%dhist:\n",
       "    Print your history of visited directories.\n",
       "%dirs:\n",
       "    Return the current directory stack.\n",
       "%doctest_mode:\n",
       "    Toggle doctest mode on and off.\n",
       "%ed:\n",
       "    Alias for `%edit`.\n",
       "%edit:\n",
       "    Bring up an editor and execute the resulting code.\n",
       "%env:\n",
       "    Get, set, or list environment variables.\n",
       "%gui:\n",
       "    Enable or disable IPython GUI event loop integration.\n",
       "%hist:\n",
       "    Alias for `%history`.\n",
       "%history:\n",
       "    ::\n",
       "%killbgscripts:\n",
       "    Kill all BG processes started by %%script and its family.\n",
       "%ldir:\n",
       "    Alias for `!ls -F -o --color %l | grep /$`\n",
       "%less:\n",
       "    Show a file through the pager.\n",
       "%lf:\n",
       "    Alias for `!ls -F -o --color %l | grep ^-`\n",
       "%lk:\n",
       "    Alias for `!ls -F -o --color %l | grep ^l`\n",
       "%ll:\n",
       "    Alias for `!ls -F -o --color`\n",
       "%load:\n",
       "    Load code into the current frontend.\n",
       "%load_ext:\n",
       "    Load an IPython extension by its module name.\n",
       "%loadpy:\n",
       "    Alias of `%load`\n",
       "%logoff:\n",
       "    Temporarily stop logging.\n",
       "%logon:\n",
       "    Restart logging.\n",
       "%logstart:\n",
       "    Start logging anywhere in a session.\n",
       "%logstate:\n",
       "    Print the status of the logging system.\n",
       "%logstop:\n",
       "    Fully stop logging and close log file.\n",
       "%ls:\n",
       "    Alias for `!ls -F --color`\n",
       "%lsmagic:\n",
       "    List currently available magic functions.\n",
       "%lx:\n",
       "    Alias for `!ls -F -o --color %l | grep ^-..x`\n",
       "%macro:\n",
       "    Define a macro for future re-execution. It accepts ranges of history,\n",
       "%magic:\n",
       "    Print information about the magic function system.\n",
       "%man:\n",
       "    Find the man page for the given command and display in pager.\n",
       "%matplotlib:\n",
       "    ::\n",
       "%mkdir:\n",
       "    Alias for `!mkdir`\n",
       "%more:\n",
       "    Show a file through the pager.\n",
       "%mv:\n",
       "    Alias for `!mv`\n",
       "%notebook:\n",
       "    ::\n",
       "%page:\n",
       "    Pretty print the object and display it through a pager.\n",
       "%pastebin:\n",
       "    Upload code to dpaste's paste bin, returning the URL.\n",
       "%pdb:\n",
       "    Control the automatic calling of the pdb interactive debugger.\n",
       "%pdef:\n",
       "    Print the call signature for any callable object.\n",
       "%pdoc:\n",
       "    Print the docstring for an object.\n",
       "%pfile:\n",
       "    Print (or run through pager) the file where an object is defined.\n",
       "%pinfo:\n",
       "    Provide detailed information about an object.\n",
       "%pinfo2:\n",
       "    Provide extra detailed information about an object.\n",
       "%pip:\n",
       "    Run the pip package manager within the current kernel.\n",
       "%popd:\n",
       "    Change to directory popped off the top of the stack.\n",
       "%pprint:\n",
       "    Toggle pretty printing on/off.\n",
       "%precision:\n",
       "    Set floating point precision for pretty printing.\n",
       "%prun:\n",
       "    Run a statement through the python code profiler.\n",
       "%psearch:\n",
       "    Search for object in namespaces by wildcard.\n",
       "%psource:\n",
       "    Print (or run through pager) the source code for an object.\n",
       "%pushd:\n",
       "    Place the current dir on stack and change directory.\n",
       "%pwd:\n",
       "    Return the current working directory path.\n",
       "%pycat:\n",
       "    Show a syntax-highlighted file through a pager.\n",
       "%pylab:\n",
       "    ::\n",
       "%qtconsole:\n",
       "    Open a qtconsole connected to this kernel.\n",
       "%quickref:\n",
       "    Show a quick reference sheet \n",
       "%recall:\n",
       "    Repeat a command, or get command to input line for editing.\n",
       "%rehashx:\n",
       "    Update the alias table with all executable files in $PATH.\n",
       "%reload_ext:\n",
       "    Reload an IPython extension by its module name.\n",
       "%rep:\n",
       "    Alias for `%recall`.\n",
       "%rerun:\n",
       "    Re-run previous input\n",
       "%reset:\n",
       "    Resets the namespace by removing all names defined by the user, if\n",
       "%reset_selective:\n",
       "    Resets the namespace by removing names defined by the user.\n",
       "%rm:\n",
       "    Alias for `!rm`\n",
       "%rmdir:\n",
       "    Alias for `!rmdir`\n",
       "%run:\n",
       "    Run the named file inside IPython as a program.\n",
       "%save:\n",
       "    Save a set of lines or a macro to a given filename.\n",
       "%sc:\n",
       "    Shell capture - run shell command and capture output (DEPRECATED use !).\n",
       "%set_env:\n",
       "    Set environment variables.  Assumptions are that either \"val\" is a\n",
       "%store:\n",
       "    Lightweight persistence for python variables.\n",
       "%sx:\n",
       "    Shell execute - run shell command and capture output (!! is short-hand).\n",
       "%system:\n",
       "    Shell execute - run shell command and capture output (!! is short-hand).\n",
       "%tb:\n",
       "    Print the last traceback.\n",
       "%time:\n",
       "    Time execution of a Python statement or expression.\n",
       "%timeit:\n",
       "    Time execution of a Python statement or expression\n",
       "%unalias:\n",
       "    Remove an alias\n",
       "%unload_ext:\n",
       "    Unload an IPython extension by its module name.\n",
       "%who:\n",
       "    Print all interactive variables, with some minimal formatting.\n",
       "%who_ls:\n",
       "    Return a sorted list of all interactive variables.\n",
       "%whos:\n",
       "    Like %who, but gives some extra information about each variable.\n",
       "%xdel:\n",
       "    Delete a variable, trying to clear it from anywhere that\n",
       "%xmode:\n",
       "    Switch modes for the exception handlers.\n",
       "%%!:\n",
       "    Shell execute - run shell command and capture output (!! is short-hand).\n",
       "%%HTML:\n",
       "    Alias for `%%html`.\n",
       "%%SVG:\n",
       "    Alias for `%%svg`.\n",
       "%%bash:\n",
       "    %%bash script magic\n",
       "%%capture:\n",
       "    ::\n",
       "%%debug:\n",
       "    ::\n",
       "%%file:\n",
       "    Alias for `%%writefile`.\n",
       "%%html:\n",
       "    ::\n",
       "%%javascript:\n",
       "    Run the cell block of Javascript code\n",
       "%%js:\n",
       "    Run the cell block of Javascript code\n",
       "%%latex:\n",
       "    Render the cell as a block of latex\n",
       "%%markdown:\n",
       "    Render the cell as Markdown text block\n",
       "%%perl:\n",
       "    %%perl script magic\n",
       "%%prun:\n",
       "    Run a statement through the python code profiler.\n",
       "%%pypy:\n",
       "    %%pypy script magic\n",
       "%%python:\n",
       "    %%python script magic\n",
       "%%python2:\n",
       "    %%python2 script magic\n",
       "%%python3:\n",
       "    %%python3 script magic\n",
       "%%ruby:\n",
       "    %%ruby script magic\n",
       "%%script:\n",
       "    ::\n",
       "%%sh:\n",
       "    %%sh script magic\n",
       "%%svg:\n",
       "    Render the cell as an SVG literal\n",
       "%%sx:\n",
       "    Shell execute - run shell command and capture output (!! is short-hand).\n",
       "%%system:\n",
       "    Shell execute - run shell command and capture output (!! is short-hand).\n",
       "%%time:\n",
       "    Time execution of a Python statement or expression.\n",
       "%%timeit:\n",
       "    Time execution of a Python statement or expression\n",
       "%%writefile:\n",
       "    ::\n"
      ]
     },
     "metadata": {},
     "output_type": "display_data"
    }
   ],
   "source": [
    "#%quickref Helpful for looking at a short description of Python Magic Command functionality. "
   ]
  },
  {
   "cell_type": "markdown",
   "metadata": {},
   "source": [
    "*For Python, you import usable modules.*\n",
    "\n",
    "*For example, Numpy*"
   ]
  },
  {
   "cell_type": "code",
   "execution_count": 4,
   "metadata": {},
   "outputs": [
    {
     "data": {
      "text/plain": [
       "{0: array([-1.70682717,  0.34966515,  2.00502687,  0.83371769,  0.38773709]),\n",
       " 1: array([-1.61783580e-03,  2.60257789e-02, -1.09438148e+00,  2.60498830e+00,\n",
       "        -5.42664592e-01]),\n",
       " 2: array([ 0.36163708, -2.00454431,  0.08512719, -0.41269333, -0.91006617]),\n",
       " 3: array([-2.93772112, -0.582616  , -0.77391083, -0.69256608,  0.91423984]),\n",
       " 4: array([ 0.72894806,  0.79086208,  0.42070828, -1.24962839, -0.36770054])}"
      ]
     },
     "execution_count": 4,
     "metadata": {},
     "output_type": "execute_result"
    }
   ],
   "source": [
    "import numpy as np #Import Numpy, a numbers package\n",
    "\n",
    "data = {i : np.random.randn(5) for i in range(5)} #Creates 5 Arrays of 5 Random Numbers \n",
    "data"
   ]
  },
  {
   "cell_type": "markdown",
   "metadata": {},
   "source": [
    "## 2. Introspection and Tab Completion\n",
    "*One way to check is to use the question mark before or after a command, which yields command information*"
   ]
  },
  {
   "cell_type": "code",
   "execution_count": 5,
   "metadata": {},
   "outputs": [
    {
     "data": {
      "text/plain": [
       "\u001b[0;31mType:\u001b[0m        list\n",
       "\u001b[0;31mString form:\u001b[0m ['Clemens', 'Zambrano', 'Markakis']\n",
       "\u001b[0;31mLength:\u001b[0m      3\n",
       "\u001b[0;31mDocstring:\u001b[0m  \n",
       "Built-in mutable sequence.\n",
       "\n",
       "If no argument is given, the constructor creates a new empty list.\n",
       "The argument must be an iterable if specified.\n"
      ]
     },
     "metadata": {},
     "output_type": "display_data"
    }
   ],
   "source": [
    "#Using Question Mark to understand variables\n",
    "baseball_players = [\"Clemens\", \"Zambrano\", \"Markakis\"]\n",
    "?baseball_players"
   ]
  },
  {
   "cell_type": "code",
   "execution_count": 6,
   "metadata": {},
   "outputs": [
    {
     "data": {
      "text/plain": [
       "\u001b[0;31mType:\u001b[0m        module\n",
       "\u001b[0;31mString form:\u001b[0m <module 'scipy' from '/usr/local/lib/python3.8/site-packages/scipy/__init__.py'>\n",
       "\u001b[0;31mFile:\u001b[0m        /usr/local/lib/python3.8/site-packages/scipy/__init__.py\n",
       "\u001b[0;31mDocstring:\u001b[0m  \n",
       "SciPy: A scientific computing package for Python\n",
       "================================================\n",
       "\n",
       "Documentation is available in the docstrings and\n",
       "online at https://docs.scipy.org.\n",
       "\n",
       "Contents\n",
       "--------\n",
       "SciPy imports all the functions from the NumPy namespace, and in\n",
       "addition provides:\n",
       "\n",
       "Subpackages\n",
       "-----------\n",
       "Using any of these subpackages requires an explicit import.  For example,\n",
       "``import scipy.cluster``.\n",
       "\n",
       "::\n",
       "\n",
       " cluster                      --- Vector Quantization / Kmeans\n",
       " fft                          --- Discrete Fourier transforms\n",
       " fftpack                      --- Legacy discrete Fourier transforms\n",
       " integrate                    --- Integration routines\n",
       " interpolate                  --- Interpolation Tools\n",
       " io                           --- Data input and output\n",
       " linalg                       --- Linear algebra routines\n",
       " linalg.blas                  --- Wrappers to BLAS library\n",
       " linalg.lapack                --- Wrappers to LAPACK library\n",
       " misc                         --- Various utilities that don't have\n",
       "                                  another home.\n",
       " ndimage                      --- n-dimensional image package\n",
       " odr                          --- Orthogonal Distance Regression\n",
       " optimize                     --- Optimization Tools\n",
       " signal                       --- Signal Processing Tools\n",
       " signal.windows               --- Window functions\n",
       " sparse                       --- Sparse Matrices\n",
       " sparse.linalg                --- Sparse Linear Algebra\n",
       " sparse.linalg.dsolve         --- Linear Solvers\n",
       " sparse.linalg.dsolve.umfpack --- :Interface to the UMFPACK library:\n",
       "                                  Conjugate Gradient Method (LOBPCG)\n",
       " sparse.linalg.eigen          --- Sparse Eigenvalue Solvers\n",
       " sparse.linalg.eigen.lobpcg   --- Locally Optimal Block Preconditioned\n",
       "                                  Conjugate Gradient Method (LOBPCG)\n",
       " spatial                      --- Spatial data structures and algorithms\n",
       " special                      --- Special functions\n",
       " stats                        --- Statistical Functions\n",
       "\n",
       "Utility tools\n",
       "-------------\n",
       "::\n",
       "\n",
       " test              --- Run scipy unittests\n",
       " show_config       --- Show scipy build configuration\n",
       " show_numpy_config --- Show numpy build configuration\n",
       " __version__       --- SciPy version string\n",
       " __numpy_version__ --- Numpy version string\n"
      ]
     },
     "metadata": {},
     "output_type": "display_data"
    }
   ],
   "source": [
    "# You can use question marks for data structures as well as for modules\n",
    "import scipy as sk\n",
    "?sk"
   ]
  },
  {
   "cell_type": "code",
   "execution_count": 7,
   "metadata": {},
   "outputs": [
    {
     "name": "stdout",
     "output_type": "stream",
     "text": [
      "Object `baseball_players.remove #This questionmark can explain what happens in the command` not found.\n"
     ]
    }
   ],
   "source": [
    "baseball_players.append(\"Clemente\")\n",
    "baseball_players.remove(\"Clemente\")\n",
    "?baseball_players.remove #This questionmark can explain what happens in the command"
   ]
  },
  {
   "cell_type": "code",
   "execution_count": 8,
   "metadata": {},
   "outputs": [
    {
     "name": "stdout",
     "output_type": "stream",
     "text": [
      "['Andy Ruiz', 'Anthony Joshua', 'Deontay Wilder', 'Mike Tyson']\n"
     ]
    },
    {
     "data": {
      "text/plain": [
       "1"
      ]
     },
     "execution_count": 8,
     "metadata": {},
     "output_type": "execute_result"
    }
   ],
   "source": [
    "# You can use the TAB key to look for methods (Tab Completion)\n",
    "boxers = ['Mike Tyson', 'Anthony Joshua', 'Andy Ruiz', \"Deontay Wilder\"]\n",
    "boxers.sort()\n",
    "\n",
    "print(boxers)\n",
    "boxers.count('Mike Tyson')"
   ]
  },
  {
   "cell_type": "markdown",
   "metadata": {},
   "source": [
    "# 3. Scalar Data Types and Time Objects"
   ]
  },
  {
   "cell_type": "code",
   "execution_count": 9,
   "metadata": {},
   "outputs": [
    {
     "name": "stdout",
     "output_type": "stream",
     "text": [
      "6\n",
      "4\n",
      "10\n",
      "2.5\n",
      "3125\n"
     ]
    }
   ],
   "source": [
    "# Operations\n",
    "print(5+1)\n",
    "print(5-1)\n",
    "print(5*2)\n",
    "print(5/2)\n",
    "print(5**5) #Exponents"
   ]
  },
  {
   "cell_type": "code",
   "execution_count": 10,
   "metadata": {},
   "outputs": [
    {
     "name": "stdout",
     "output_type": "stream",
     "text": [
      "90000 is a <class 'int'>\n",
      "905.22 is a <class 'float'>\n",
      "'Hey my name is Scott' is a <class 'str'>\n"
     ]
    }
   ],
   "source": [
    "#'None'\n",
    "1=='None'\n",
    "\n",
    "#Numeric Variables\n",
    "#int (non decimal large numbers)\n",
    "num_int = 90000\n",
    "print(f\"{num_int} is a {type(num_int)}\")\n",
    "\n",
    "num_flt = 905.22\n",
    "print(f\"{num_flt} is a {type(num_flt)}\")\n",
    "\n",
    "var_str = 'Hey my name is Scott'\n",
    "print(f\"'{var_str}' is a {type(var_str)}\")"
   ]
  },
  {
   "cell_type": "markdown",
   "metadata": {},
   "source": [
    "# 4. Conditional Statements (If/Then/Else)\n",
    "*as a note, a colon (:) is used after the statement conditions, and indentations are used instead of bracketing in Python* "
   ]
  },
  {
   "cell_type": "code",
   "execution_count": 11,
   "metadata": {},
   "outputs": [
    {
     "name": "stdout",
     "output_type": "stream",
     "text": [
      "X is 1!\n"
     ]
    }
   ],
   "source": [
    "#Example\n",
    "x = 1\n",
    "if x==1:\n",
    "    print(\"X is 1!\") #The indentation used here is what signifies it as executing after the condition set"
   ]
  },
  {
   "cell_type": "code",
   "execution_count": 32,
   "metadata": {},
   "outputs": [
    {
     "name": "stdin",
     "output_type": "stream",
     "text": [
      "What value is x? 4\n"
     ]
    },
    {
     "name": "stdout",
     "output_type": "stream",
     "text": [
      "Positive but smaller than 10\n"
     ]
    }
   ],
   "source": [
    "## This is a simple conditional that checks if inputted int is negative, 0, greater than 0 but less than 10, or\n",
    "x = int(input(\"What value is x?\")) #Asks for an input value that is transformed into an int\n",
    "\n",
    "if x < 0: #if is a conditional (if it is exactly this)\n",
    "    print(\"It is negative\")\n",
    "          \n",
    "elif x == 0: #elif is another condition\n",
    "    print('Equal to zero')\n",
    "          \n",
    "elif 0 < x < 10:\n",
    "    print('Positive but smaller than 10')\n",
    "          \n",
    "else: #else is all conditions where it is not satisfied by elif\n",
    "    print('Positive and larger than or equal to 10')"
   ]
  },
  {
   "cell_type": "markdown",
   "metadata": {},
   "source": [
    "# 5. Loops (For, While, Ternary)"
   ]
  },
  {
   "cell_type": "markdown",
   "metadata": {},
   "source": [
    "## a. For Loops"
   ]
  },
  {
   "cell_type": "code",
   "execution_count": 15,
   "metadata": {},
   "outputs": [
    {
     "name": "stdout",
     "output_type": "stream",
     "text": [
      "Andy Ruiz\n",
      "Anthony Joshua\n",
      "Deontay Wilder\n",
      "Mike Tyson\n"
     ]
    }
   ],
   "source": [
    "for boxer in boxers: #Takes every value in the list\n",
    "    print(boxer)"
   ]
  },
  {
   "cell_type": "code",
   "execution_count": 16,
   "metadata": {},
   "outputs": [
    {
     "name": "stdout",
     "output_type": "stream",
     "text": [
      "None\n",
      "None\n"
     ]
    }
   ],
   "source": [
    "sequence = [1, 2, None, 4, None, 5]\n",
    "total = 0\n",
    "\n",
    "for value in sequence:\n",
    "    if value is None:\n",
    "        print(value)\n",
    "        continue\n",
    "        \n",
    "total += value\n",
    "\n",
    "#Only prints when it hits a 'None' value, so twice"
   ]
  },
  {
   "cell_type": "code",
   "execution_count": 17,
   "metadata": {},
   "outputs": [],
   "source": [
    "sequence = [1, 2, 0, 4, 6, 5, 2, 1]\n",
    "total_until_5 = 0\n",
    "\n",
    "for value in sequence:\n",
    "    if value == 5:\n",
    "        break\n",
    "\n",
    "total_until_5 += value"
   ]
  },
  {
   "cell_type": "code",
   "execution_count": 18,
   "metadata": {},
   "outputs": [
    {
     "name": "stdout",
     "output_type": "stream",
     "text": [
      "['Mike Tyson', 'Deontay Wilder', 'Anthony Joshua', 'Andy Ruiz']\n",
      "['Andy Ruiz', 'Anthony Joshua', 'Deontay Wilder', 'Mike Tyson']\n"
     ]
    }
   ],
   "source": [
    "#Sorting in two ways\n",
    "boxers.sort(reverse=True)\n",
    "print(boxers)\n",
    "boxers.sort(reverse=False)\n",
    "print(boxers)"
   ]
  },
  {
   "cell_type": "code",
   "execution_count": 19,
   "metadata": {},
   "outputs": [
    {
     "data": {
      "text/plain": [
       "range(0, 50)"
      ]
     },
     "execution_count": 19,
     "metadata": {},
     "output_type": "execute_result"
    }
   ],
   "source": [
    "#Range function can be nice for this\n",
    "range(50)"
   ]
  },
  {
   "cell_type": "code",
   "execution_count": 20,
   "metadata": {},
   "outputs": [
    {
     "name": "stdout",
     "output_type": "stream",
     "text": [
      "0\n",
      "1\n"
     ]
    }
   ],
   "source": [
    "items = [0,3,4,5,6]\n",
    "\n",
    "for item in range(2):\n",
    "    print(item)"
   ]
  },
  {
   "cell_type": "code",
   "execution_count": 21,
   "metadata": {},
   "outputs": [
    {
     "name": "stdout",
     "output_type": "stream",
     "text": [
      "2\n",
      "0\n",
      "1\n"
     ]
    }
   ],
   "source": [
    "#Thinking about numbers with a modulo (modulo are the REMAINDER of a division problem)\n",
    "print(5 % 3) #Should be 2 (3 and r2)\n",
    "print(6 % 1) #Should be 0 (6 r0)\n",
    "print(7 % 2) #Should be 1 (3*2 + r1)"
   ]
  },
  {
   "cell_type": "code",
   "execution_count": 22,
   "metadata": {},
   "outputs": [
    {
     "name": "stdout",
     "output_type": "stream",
     "text": [
      "[0, 42, 84]\n"
     ]
    }
   ],
   "source": [
    "#Using a for loop with the modulo\n",
    "sum = 0 #Starts the count at 0\n",
    "\n",
    "divby = []\n",
    "\n",
    "for i in range(100):\n",
    "    if i % 2 == 0 and i % 3 == 0 and i % 7 == 0: # % is the modulo operator\n",
    "        sum += i\n",
    "        divby.append(i)\n",
    "\n",
    "print(divby)\n",
    "\n",
    "#So in a range of 1-100, the numbers 0,42, and 84 are divisible by 2,3,and 7... (0 isn't really? Why is it showing?)"
   ]
  },
  {
   "cell_type": "markdown",
   "metadata": {},
   "source": [
    "## b. While Loops"
   ]
  },
  {
   "cell_type": "code",
   "execution_count": 23,
   "metadata": {},
   "outputs": [
    {
     "name": "stdout",
     "output_type": "stream",
     "text": [
      "0\n",
      "1\n",
      "2\n",
      "3\n",
      "4\n"
     ]
    }
   ],
   "source": [
    "x = 0\n",
    "while x<5:\n",
    "    print(x)\n",
    "    x = x+1"
   ]
  },
  {
   "cell_type": "code",
   "execution_count": 24,
   "metadata": {},
   "outputs": [
    {
     "name": "stdout",
     "output_type": "stream",
     "text": [
      "John Mcenroe\n",
      "Pete Sampras\n",
      "Roger Federer\n",
      "Novak Djokovic\n",
      "Venus Williams\n",
      "Serena Williams\n",
      "Chris Evert\n",
      "Billie Jean King\n"
     ]
    }
   ],
   "source": [
    "#Iterate through a list with a while loop + counter\n",
    "tennis_greats = ['John Mcenroe', \n",
    "                 'Pete Sampras',\n",
    "                 'Roger Federer',\n",
    "                 'Novak Djokovic',\n",
    "                 'Venus Williams',\n",
    "                 'Serena Williams',\n",
    "                 'Chris Evert',\n",
    "                 'Billie Jean King',\n",
    "                ]\n",
    "\n",
    "length = len(tennis_greats)\n",
    "i = 0 #We can use i as our counter variable\n",
    "\n",
    "while i<length:\n",
    "    print(tennis_greats[i])\n",
    "    i+=1 #or i = i+1"
   ]
  },
  {
   "cell_type": "markdown",
   "metadata": {},
   "source": [
    "## c. Ternary Expressions\n",
    "Ternary Expressions serve as a single line binary check, IF THIS ELSE THIS"
   ]
  },
  {
   "cell_type": "code",
   "execution_count": 30,
   "metadata": {},
   "outputs": [
    {
     "name": "stdin",
     "output_type": "stream",
     "text": [
      "What is your age? 21\n"
     ]
    },
    {
     "data": {
      "text/plain": [
       "'You are old enough to drink.'"
      ]
     },
     "execution_count": 30,
     "metadata": {},
     "output_type": "execute_result"
    }
   ],
   "source": [
    "#Ternary Expressions can be used to create if-then statements on one line of code.\n",
    "age = int(input(\"What is your age?\"))\n",
    "'You are old enough to drink.' if age >= 21 else 'You are not old enough to drink.'"
   ]
  },
  {
   "cell_type": "code",
   "execution_count": 31,
   "metadata": {},
   "outputs": [
    {
     "name": "stdin",
     "output_type": "stream",
     "text": [
      "What is the secret password? 21\n"
     ]
    },
    {
     "data": {
      "text/plain": [
       "'That password is incorrect.'"
      ]
     },
     "execution_count": 31,
     "metadata": {},
     "output_type": "execute_result"
    }
   ],
   "source": [
    "#For Strings\n",
    "password = input(\"What is the secret password?\")\n",
    "'That is the correct password' if password == 'key' else 'That password is incorrect.'"
   ]
  },
  {
   "cell_type": "code",
   "execution_count": null,
   "metadata": {},
   "outputs": [],
   "source": []
  }
 ],
 "metadata": {
  "kernelspec": {
   "display_name": "Python 3",
   "language": "python",
   "name": "python3"
  },
  "language_info": {
   "codemirror_mode": {
    "name": "ipython",
    "version": 3
   },
   "file_extension": ".py",
   "mimetype": "text/x-python",
   "name": "python",
   "nbconvert_exporter": "python",
   "pygments_lexer": "ipython3",
   "version": "3.8.1"
  }
 },
 "nbformat": 4,
 "nbformat_minor": 4
}

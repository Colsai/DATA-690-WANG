{
  "nbformat": 4,
  "nbformat_minor": 0,
  "metadata": {
    "kernelspec": {
      "display_name": "Python 3",
      "language": "python",
      "name": "python3"
    },
    "language_info": {
      "codemirror_mode": {
        "name": "ipython",
        "version": 3
      },
      "file_extension": ".py",
      "mimetype": "text/x-python",
      "name": "python",
      "nbconvert_exporter": "python",
      "pygments_lexer": "ipython3",
      "version": "3.8.1"
    },
    "colab": {
      "name": "Assignment 2.ipynb",
      "provenance": [],
      "include_colab_link": true
    }
  },
  "cells": [
    {
      "cell_type": "markdown",
      "metadata": {
        "id": "view-in-github",
        "colab_type": "text"
      },
      "source": [
        "<a href=\"https://colab.research.google.com/github/Colsai/DATA-690-WANG/blob/master/Assignment%202.ipynb\" target=\"_parent\"><img src=\"https://colab.research.google.com/assets/colab-badge.svg\" alt=\"Open In Colab\"/></a>"
      ]
    },
    {
      "cell_type": "markdown",
      "metadata": {
        "id": "A2BrUaiyZzQ5",
        "colab_type": "text"
      },
      "source": [
        "# Scott Hirabayashi / DATA690 / Wang"
      ]
    },
    {
      "cell_type": "markdown",
      "metadata": {
        "id": "aTSj3BIwZzQ6",
        "colab_type": "text"
      },
      "source": [
        "# Assignment 02 (Reassigned 01)\n",
        "Prompts a user to enter 10 integers. If the user enters anything other than integers, remind her that only integers are allowed and let her retry. Don't allow the user to enter more than 10 or less than 10 integers. Display the 10 integers back to the user at the end. Calculate the following statistics from the 10 integers entered:\n",
        "\n",
        "- Minimum OK\n",
        "- Maximum OK\n",
        "- Range OK\n",
        "- Mean OK\n",
        "- Variance OK\n",
        "- Standard Deviation OK"
      ]
    },
    {
      "cell_type": "markdown",
      "metadata": {
        "id": "O330tLgWZzQ7",
        "colab_type": "text"
      },
      "source": [
        "Prompt the user to enter 10 integers\n",
        "Use 'Input'"
      ]
    },
    {
      "cell_type": "markdown",
      "metadata": {
        "id": "jZW0MPkbZzQ7",
        "colab_type": "text"
      },
      "source": [
        "##### Create Empty List\n",
        "listed_nums = []\n",
        "\n",
        "#For loop\n",
        "for i in range(10):\n",
        "    add_int = int(input(\"Please enter an integer:\"))\n",
        "    listed_nums.append(add_int)\n",
        "    i+1\n",
        "\n",
        "#Prints the variable before the next Cell\n",
        "print(listed_nums)"
      ]
    },
    {
      "cell_type": "code",
      "metadata": {
        "id": "Q2spGiyOad7P",
        "colab_type": "code",
        "colab": {
          "base_uri": "https://localhost:8080/",
          "height": 262
        },
        "outputId": "7913af6d-cfc1-4022-8550-e4de3a5ab6ab"
      },
      "source": [
        "#Create Empty List\n",
        "listed_nums = []\n",
        "\n",
        "#For loop\n",
        "for i in range(3):\n",
        "    add_int = int(input(\"Please enter an integer:\"))\n",
        "    listed_nums.append(add_int)\n",
        "    i+=1\n",
        "\n",
        "#Prints the variable before the next Cell\n",
        "print(listed_nums)"
      ],
      "execution_count": 3,
      "outputs": [
        {
          "output_type": "stream",
          "text": [
            "Please enter an integer:3\n",
            "Please enter an integer:\n"
          ],
          "name": "stdout"
        },
        {
          "output_type": "error",
          "ename": "ValueError",
          "evalue": "ignored",
          "traceback": [
            "\u001b[0;31m---------------------------------------------------------------------------\u001b[0m",
            "\u001b[0;31mValueError\u001b[0m                                Traceback (most recent call last)",
            "\u001b[0;32m<ipython-input-3-d946e4624357>\u001b[0m in \u001b[0;36m<module>\u001b[0;34m()\u001b[0m\n\u001b[1;32m      4\u001b[0m \u001b[0;31m#For loop\u001b[0m\u001b[0;34m\u001b[0m\u001b[0;34m\u001b[0m\u001b[0;34m\u001b[0m\u001b[0m\n\u001b[1;32m      5\u001b[0m \u001b[0;32mfor\u001b[0m \u001b[0mi\u001b[0m \u001b[0;32min\u001b[0m \u001b[0mrange\u001b[0m\u001b[0;34m(\u001b[0m\u001b[0;36m3\u001b[0m\u001b[0;34m)\u001b[0m\u001b[0;34m:\u001b[0m\u001b[0;34m\u001b[0m\u001b[0;34m\u001b[0m\u001b[0m\n\u001b[0;32m----> 6\u001b[0;31m     \u001b[0madd_int\u001b[0m \u001b[0;34m=\u001b[0m \u001b[0mint\u001b[0m\u001b[0;34m(\u001b[0m\u001b[0minput\u001b[0m\u001b[0;34m(\u001b[0m\u001b[0;34m\"Please enter an integer:\"\u001b[0m\u001b[0;34m)\u001b[0m\u001b[0;34m)\u001b[0m\u001b[0;34m\u001b[0m\u001b[0;34m\u001b[0m\u001b[0m\n\u001b[0m\u001b[1;32m      7\u001b[0m     \u001b[0mlisted_nums\u001b[0m\u001b[0;34m.\u001b[0m\u001b[0mappend\u001b[0m\u001b[0;34m(\u001b[0m\u001b[0madd_int\u001b[0m\u001b[0;34m)\u001b[0m\u001b[0;34m\u001b[0m\u001b[0;34m\u001b[0m\u001b[0m\n\u001b[1;32m      8\u001b[0m     \u001b[0mi\u001b[0m\u001b[0;34m+=\u001b[0m\u001b[0;36m1\u001b[0m\u001b[0;34m\u001b[0m\u001b[0;34m\u001b[0m\u001b[0m\n",
            "\u001b[0;31mValueError\u001b[0m: invalid literal for int() with base 10: ''"
          ]
        }
      ]
    },
    {
      "cell_type": "code",
      "metadata": {
        "collapsed": true,
        "jupyter": {
          "outputs_hidden": true
        },
        "id": "bs5BdSWDZzQ8",
        "colab_type": "code",
        "colab": {},
        "outputId": "c274a41b-a89e-4711-993f-7ffbf3ff4c46"
      },
      "source": [
        "#Minimum\n",
        "d_min = min(listed_nums)\n",
        "print(f\"The min is {d_min}.\")\n",
        "\n",
        "#Maximum\n",
        "d_max = max(listed_nums)\n",
        "print(f\"The max is {d_max}.\")\n",
        "\n",
        "#Range\n",
        "print(f\"The max is {d_max - d_min}.\" )\n",
        "\n",
        "#Mean\n",
        "d_mean = sum(listed_nums)/len(listed_nums)\n",
        "print(f\"The mean is {d_mean}.\")\n",
        "\n",
        "#Variance\n",
        "int(i)\n",
        "for i in test[i]:\n",
        "    sum((i - d_mean) / (len(test)-1))"
      ],
      "execution_count": null,
      "outputs": [
        {
          "output_type": "stream",
          "text": [
            "The min is 1.\n",
            "The max is 10.\n",
            "The max is 9.\n",
            " The mean is 5.5.\n"
          ],
          "name": "stdout"
        },
        {
          "output_type": "error",
          "ename": "NameError",
          "evalue": "name 'test' is not defined",
          "traceback": [
            "\u001b[0;31m---------------------------------------------------------------------------\u001b[0m",
            "\u001b[0;31mNameError\u001b[0m                                 Traceback (most recent call last)",
            "\u001b[0;32m<ipython-input-13-d973e15abce9>\u001b[0m in \u001b[0;36m<module>\u001b[0;34m\u001b[0m\n\u001b[1;32m     16\u001b[0m \u001b[0;31m#Variance\u001b[0m\u001b[0;34m\u001b[0m\u001b[0;34m\u001b[0m\u001b[0;34m\u001b[0m\u001b[0m\n\u001b[1;32m     17\u001b[0m \u001b[0mint\u001b[0m\u001b[0;34m(\u001b[0m\u001b[0mi\u001b[0m\u001b[0;34m)\u001b[0m\u001b[0;34m\u001b[0m\u001b[0;34m\u001b[0m\u001b[0m\n\u001b[0;32m---> 18\u001b[0;31m \u001b[0;32mfor\u001b[0m \u001b[0mi\u001b[0m \u001b[0;32min\u001b[0m \u001b[0mtest\u001b[0m\u001b[0;34m[\u001b[0m\u001b[0mi\u001b[0m\u001b[0;34m]\u001b[0m\u001b[0;34m:\u001b[0m\u001b[0;34m\u001b[0m\u001b[0;34m\u001b[0m\u001b[0m\n\u001b[0m\u001b[1;32m     19\u001b[0m     \u001b[0msum\u001b[0m\u001b[0;34m(\u001b[0m\u001b[0;34m(\u001b[0m\u001b[0mi\u001b[0m \u001b[0;34m-\u001b[0m \u001b[0md_mean\u001b[0m\u001b[0;34m)\u001b[0m \u001b[0;34m/\u001b[0m \u001b[0;34m(\u001b[0m\u001b[0mlen\u001b[0m\u001b[0;34m(\u001b[0m\u001b[0mtest\u001b[0m\u001b[0;34m)\u001b[0m\u001b[0;34m-\u001b[0m\u001b[0;36m1\u001b[0m\u001b[0;34m)\u001b[0m\u001b[0;34m)\u001b[0m\u001b[0;34m\u001b[0m\u001b[0;34m\u001b[0m\u001b[0m\n\u001b[1;32m     20\u001b[0m \u001b[0;34m\u001b[0m\u001b[0m\n",
            "\u001b[0;31mNameError\u001b[0m: name 'test' is not defined"
          ]
        }
      ]
    },
    {
      "cell_type": "code",
      "metadata": {
        "id": "5qGr_nNdZzRA",
        "colab_type": "code",
        "colab": {},
        "outputId": "9d8b6e73-2232-4774-e6a3-3360fd6f27b3"
      },
      "source": [
        "#Alternative method\n",
        "test = [1,3,4,5,6,7,8,9,11,13]\n",
        "\n",
        "test.sort\n",
        "minimum = test[0]\n",
        "maximum = test[-1]\n",
        "list_range = maximum - minimum\n",
        "\n",
        "print(f\"Minimum: {minimum}\")\n",
        "print(f\"Maximum: {maximum}\")\n",
        "print(f\"Range: {list_range}\")\n",
        "\n",
        "#Looking for Median\n",
        "median = test[round(len(test)/2)]\n",
        "print(f\"The median, {round(len(test)/2)}th value is {median}.\")"
      ],
      "execution_count": null,
      "outputs": [
        {
          "output_type": "stream",
          "text": [
            "Minimum: 1\n",
            "Maximum: 13\n",
            "Range: 12\n",
            "The median, 5th value is 7.\n"
          ],
          "name": "stdout"
        }
      ]
    },
    {
      "cell_type": "code",
      "metadata": {
        "collapsed": true,
        "jupyter": {
          "outputs_hidden": true
        },
        "id": "If_s6F52ZzRE",
        "colab_type": "code",
        "colab": {},
        "outputId": "eda6fd31-6d69-4976-91a1-4a7d50f71d05"
      },
      "source": [
        "test = [1,3,4,5,6,7,8,9,11,13]\n",
        "# Standard Deviation: Sum of Squares\n",
        "\n",
        "def sample_standard_dev(num_list):\n",
        "    for i in (num_list[i],len(num_list)):\n",
        "        print(i)\n",
        "        i+=1\n",
        "\n",
        "#sample_range(test)\n",
        "sample_standard_dev(test)"
      ],
      "execution_count": null,
      "outputs": [
        {
          "output_type": "error",
          "ename": "UnboundLocalError",
          "evalue": "local variable 'i' referenced before assignment",
          "traceback": [
            "\u001b[0;31m---------------------------------------------------------------------------\u001b[0m",
            "\u001b[0;31mUnboundLocalError\u001b[0m                         Traceback (most recent call last)",
            "\u001b[0;32m<ipython-input-5-daf0de948b4d>\u001b[0m in \u001b[0;36m<module>\u001b[0;34m\u001b[0m\n\u001b[1;32m      8\u001b[0m \u001b[0;34m\u001b[0m\u001b[0m\n\u001b[1;32m      9\u001b[0m \u001b[0;31m#sample_range(test)\u001b[0m\u001b[0;34m\u001b[0m\u001b[0;34m\u001b[0m\u001b[0;34m\u001b[0m\u001b[0m\n\u001b[0;32m---> 10\u001b[0;31m \u001b[0msample_standard_dev\u001b[0m\u001b[0;34m(\u001b[0m\u001b[0mtest\u001b[0m\u001b[0;34m)\u001b[0m\u001b[0;34m\u001b[0m\u001b[0;34m\u001b[0m\u001b[0m\n\u001b[0m",
            "\u001b[0;32m<ipython-input-5-daf0de948b4d>\u001b[0m in \u001b[0;36msample_standard_dev\u001b[0;34m(num_list)\u001b[0m\n\u001b[1;32m      3\u001b[0m \u001b[0;34m\u001b[0m\u001b[0m\n\u001b[1;32m      4\u001b[0m \u001b[0;32mdef\u001b[0m \u001b[0msample_standard_dev\u001b[0m\u001b[0;34m(\u001b[0m\u001b[0mnum_list\u001b[0m\u001b[0;34m)\u001b[0m\u001b[0;34m:\u001b[0m\u001b[0;34m\u001b[0m\u001b[0;34m\u001b[0m\u001b[0m\n\u001b[0;32m----> 5\u001b[0;31m     \u001b[0;32mfor\u001b[0m \u001b[0mi\u001b[0m \u001b[0;32min\u001b[0m \u001b[0;34m(\u001b[0m\u001b[0mnum_list\u001b[0m\u001b[0;34m[\u001b[0m\u001b[0mi\u001b[0m\u001b[0;34m]\u001b[0m\u001b[0;34m,\u001b[0m\u001b[0mlen\u001b[0m\u001b[0;34m(\u001b[0m\u001b[0mnum_list\u001b[0m\u001b[0;34m)\u001b[0m\u001b[0;34m)\u001b[0m\u001b[0;34m:\u001b[0m\u001b[0;34m\u001b[0m\u001b[0;34m\u001b[0m\u001b[0m\n\u001b[0m\u001b[1;32m      6\u001b[0m         \u001b[0mprint\u001b[0m\u001b[0;34m(\u001b[0m\u001b[0mi\u001b[0m\u001b[0;34m)\u001b[0m\u001b[0;34m\u001b[0m\u001b[0;34m\u001b[0m\u001b[0m\n\u001b[1;32m      7\u001b[0m         \u001b[0mi\u001b[0m\u001b[0;34m+=\u001b[0m\u001b[0;36m1\u001b[0m\u001b[0;34m\u001b[0m\u001b[0;34m\u001b[0m\u001b[0m\n",
            "\u001b[0;31mUnboundLocalError\u001b[0m: local variable 'i' referenced before assignment"
          ]
        }
      ]
    },
    {
      "cell_type": "code",
      "metadata": {
        "id": "3LkInkM9ZzRH",
        "colab_type": "code",
        "colab": {},
        "outputId": "43e0ddce-a3b3-4d7c-f36a-b842a7c2629f"
      },
      "source": [
        "test = [600, 470, 170, 430, 300] #Checked with https://www.mathsisfun.com/data/standard-deviation.html\n",
        "\n",
        "# Standard Deviation: Sum of Squares\n",
        "variance_sum = 0\n",
        "\n",
        "sum(test)\n",
        "mean_val = sum(test) / len(test)\n",
        "\n",
        "for i in test:\n",
        "    variance_sum += ((i - mean_val) ** 2)\n",
        "    i+=1 #Iterates to next item\n",
        "\n",
        "variance = variance_sum/(len(test))\n",
        "\n",
        "print((f\"Mean: {mean_val}\"))\n",
        "print((f\"Variance: {variance}\"))\n",
        "\n",
        "standard_dev = variance ** (1/2)\n",
        "print(f\"Standard Dev: {standard_dev}\")"
      ],
      "execution_count": null,
      "outputs": [
        {
          "output_type": "stream",
          "text": [
            "Mean: 394.0\n",
            "Variance: 21704.0\n",
            "Standard Dev: 147.32277488562318\n"
          ],
          "name": "stdout"
        }
      ]
    },
    {
      "cell_type": "code",
      "metadata": {
        "id": "Lj6wAyn-ZzRK",
        "colab_type": "code",
        "colab": {},
        "outputId": "2906af68-d666-4c0e-8a4d-39330ab6c442"
      },
      "source": [
        "#Or use the SQRT\n",
        "standard_dev ** (1/2)"
      ],
      "execution_count": null,
      "outputs": [
        {
          "output_type": "execute_result",
          "data": {
            "text/plain": [
              "12.137659366023714"
            ]
          },
          "metadata": {
            "tags": []
          },
          "execution_count": 30
        }
      ]
    },
    {
      "cell_type": "code",
      "metadata": {
        "collapsed": true,
        "jupyter": {
          "outputs_hidden": true
        },
        "id": "hlcaJk8oZzRC",
        "colab_type": "code",
        "colab": {
          "base_uri": "https://localhost:8080/",
          "height": 34
        },
        "outputId": "94a0a561-0968-403a-b43e-fc7803ec86bf"
      },
      "source": [
        "#Creating simple test set in case there is an issue with the inputs\n",
        "test = [1,3,4,5,6,7,8,9,11,13]\n",
        "\n",
        "#As Functions\n",
        "\n",
        "#I'll use the built-in functionality for this. We could also iterate the list with a pointer to check if each number is the smallest \n",
        "def sample_min(sample_input):\n",
        "    return min(sample_input)\n",
        "\n",
        "#I'll use the built-in functionality for this. We could also iterate the list with a pointer to check if each number is the biggest \n",
        "def sample_max(sample_input):\n",
        "    return max(sample_input)\n",
        "\n",
        "# Range formula is the max in the set minus the min\n",
        "def sample_range(sample_input):\n",
        "    return max(sample_input) - min(sample_input)  \n",
        "\n",
        "# Mean formula is sum / n number of samples\n",
        "def sample_mean(sample_input):\n",
        "    return sum(sample_input) / len(sample_input)\n",
        "\n",
        "# Standard Deviation: Sum of Squares\n",
        "def sample_standard_dev(sample_input):\n",
        "  variance_sum = 0\n",
        "\n",
        "  sum(test)\n",
        "  mean_val = sum(test) / len(test)\n",
        "\n",
        "  for i in test:\n",
        "    variance_sum += ((i - mean_val) ** 2)\n",
        "    i+=1 #Iterates to next item\n",
        "\n",
        "  variance = variance_sum/(len(test))\n",
        "  return(variance)\n",
        "  \n",
        "#sample_range(test)\n",
        "sample_standard_dev(test)"
      ],
      "execution_count": 4,
      "outputs": [
        {
          "output_type": "execute_result",
          "data": {
            "text/plain": [
              "12.21"
            ]
          },
          "metadata": {
            "tags": []
          },
          "execution_count": 4
        }
      ]
    },
    {
      "cell_type": "markdown",
      "metadata": {
        "id": "X5t7c7FwZzRO",
        "colab_type": "text"
      },
      "source": [
        "\n",
        "for i in int_list:\n",
        "    while True: \n",
        "        try:\n",
        "            x = input(\"Please enter an integer:\")\n",
        "            y = int(x)\n",
        "            break\n",
        "        except:\n",
        "            print(\"Only integer is allowed\")\n",
        "            continue  \n",
        "\n",
        "print(\"You have entered a number:\", y)\n"
      ]
    },
    {
      "cell_type": "markdown",
      "metadata": {
        "id": "zmtbLjyuZzRO",
        "colab_type": "text"
      },
      "source": [
        "Calculate the following statistics from the 10 integers entered:\n",
        "\n",
        "- Minimum OK\n",
        "- Maximum OK\n",
        "- Range OK\n",
        "- Mean OK\n",
        "- Variance\n",
        "- Standard Deviation"
      ]
    },
    {
      "cell_type": "markdown",
      "metadata": {
        "id": "E3jcOa8RZzRS",
        "colab_type": "text"
      },
      "source": [
        "# Note:\n",
        "#Use the basic Python concepts and methods. Special Python libraries such as statistics, scipy, or numpy are not allowed. You may need to use:\n",
        "\n",
        "loops (finite and/or infinite loop)\n",
        "break/continue\n",
        "try/except\n",
        "input() function\n",
        "int() function\n",
        "Implement the solution in the following two different formats:\n",
        "\n",
        "A Jupyter Notebook (.ipynb)\n",
        "A Python script (.py)\n",
        "Your source code should be well formatted and easy to read and understand.\n",
        "\n",
        "Provide good comments/documentations:\n",
        "\n",
        "Use both Markdown and comments in the Jupyter Notebook.\n",
        "Use comments in the Python script.\n",
        "Your user prompts, use inputs and output displays should be nicely formatted when users run your program.\n",
        "\n",
        "Create a subfolder named \"Assignment-01\" in your GitHub repository (WANG-690-FALL-2020) and upload the two files to the subfolder.\n",
        "\n",
        "Copy your GitHub repository URL to your assignment submission in Blackboard. No files should be uploaded to the BB."
      ]
    }
  ]
}
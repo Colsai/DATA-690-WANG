{
  "nbformat": 4,
  "nbformat_minor": 0,
  "metadata": {
    "kernelspec": {
      "display_name": "Python 3",
      "language": "python",
      "name": "python3"
    },
    "language_info": {
      "codemirror_mode": {
        "name": "ipython",
        "version": 3
      },
      "file_extension": ".py",
      "mimetype": "text/x-python",
      "name": "python",
      "nbconvert_exporter": "python",
      "pygments_lexer": "ipython3",
      "version": "3.7.4"
    },
    "colab": {
      "name": "Assignment-04.ipynb",
      "provenance": [],
      "collapsed_sections": [],
      "include_colab_link": true
    }
  },
  "cells": [
    {
      "cell_type": "markdown",
      "metadata": {
        "id": "view-in-github",
        "colab_type": "text"
      },
      "source": [
        "<a href=\"https://colab.research.google.com/github/Colsai/DATA-690-WANG/blob/master/hw4/Assignment_04.ipynb\" target=\"_parent\"><img src=\"https://colab.research.google.com/assets/colab-badge.svg\" alt=\"Open In Colab\"/></a>"
      ]
    },
    {
      "cell_type": "code",
      "metadata": {
        "id": "h1dBKntgwtH4",
        "colab_type": "code",
        "colab": {}
      },
      "source": [
        "# <1> \n",
        "# Import libraries\n",
        "import pandas as pd\n",
        "import numpy as np\n",
        "import matplotlib.pyplot as plt"
      ],
      "execution_count": 4,
      "outputs": []
    },
    {
      "cell_type": "code",
      "metadata": {
        "id": "Wt5Cz8ux_0ey",
        "colab_type": "code",
        "colab": {
          "base_uri": "https://localhost:8080/",
          "height": 34
        },
        "outputId": "45904556-3330-4e33-cf84-2ed85b6a6d79"
      },
      "source": [
        "from google.colab import drive\n",
        "drive.mount('/content/drive')"
      ],
      "execution_count": 3,
      "outputs": [
        {
          "output_type": "stream",
          "text": [
            "Drive already mounted at /content/drive; to attempt to forcibly remount, call drive.mount(\"/content/drive\", force_remount=True).\n"
          ],
          "name": "stdout"
        }
      ]
    },
    {
      "cell_type": "code",
      "metadata": {
        "id": "qJ9o7d8twtH_",
        "colab_type": "code",
        "colab": {
          "base_uri": "https://localhost:8080/",
          "height": 231
        },
        "outputId": "aa9408f4-416a-4f8e-a6b3-16f9ae97582a"
      },
      "source": [
        "# <2>\n",
        "# load the 2017-2018 school year file \"MERGED2017_18_PP.csv\" \n",
        "# Don't include all columns - too many and take up computer resources (computeing power and memory)\n",
        "# Only load the following 10 columns should be loaded:\n",
        "# UNITID: \n",
        "# OPEID:              \n",
        "# OPEID6:            \n",
        "# INSTNM:          \n",
        "# CITY:                      \n",
        "# ZIP:               \n",
        "# ADM_RATE:           \n",
        "# UGDS:              \n",
        "# TUITIONFEE_IN:      \n",
        "\n",
        "path_csv = \"/content/drive/My Drive/College Data/MERGED2017_18_PP.csv\"\n",
        "df = pd.read_csv(path_csv, header=0)\n",
        "\n",
        "df = df[[\"UNITID\", \n",
        "         \"OPEID\", \n",
        "         \"OPEID6\", \n",
        "         \"INSTNM\", \n",
        "         \"CITY\",\n",
        "         \"ZIP\",\n",
        "         \"ADM_RATE\",\n",
        "         \"UGDS\",\n",
        "         \"TUITIONFEE_IN\"]]\n",
        "\n",
        "df.head()"
      ],
      "execution_count": 13,
      "outputs": [
        {
          "output_type": "stream",
          "text": [
            "/usr/local/lib/python3.6/dist-packages/IPython/core/interactiveshell.py:2718: DtypeWarning: Columns (1729) have mixed types.Specify dtype option on import or set low_memory=False.\n",
            "  interactivity=interactivity, compiler=compiler, result=result)\n"
          ],
          "name": "stderr"
        },
        {
          "output_type": "execute_result",
          "data": {
            "text/html": [
              "<div>\n",
              "<style scoped>\n",
              "    .dataframe tbody tr th:only-of-type {\n",
              "        vertical-align: middle;\n",
              "    }\n",
              "\n",
              "    .dataframe tbody tr th {\n",
              "        vertical-align: top;\n",
              "    }\n",
              "\n",
              "    .dataframe thead th {\n",
              "        text-align: right;\n",
              "    }\n",
              "</style>\n",
              "<table border=\"1\" class=\"dataframe\">\n",
              "  <thead>\n",
              "    <tr style=\"text-align: right;\">\n",
              "      <th></th>\n",
              "      <th>UNITID</th>\n",
              "      <th>OPEID</th>\n",
              "      <th>OPEID6</th>\n",
              "      <th>INSTNM</th>\n",
              "      <th>CITY</th>\n",
              "      <th>ZIP</th>\n",
              "      <th>ADM_RATE</th>\n",
              "      <th>UGDS</th>\n",
              "      <th>TUITIONFEE_IN</th>\n",
              "    </tr>\n",
              "  </thead>\n",
              "  <tbody>\n",
              "    <tr>\n",
              "      <th>0</th>\n",
              "      <td>100654</td>\n",
              "      <td>100200</td>\n",
              "      <td>1002</td>\n",
              "      <td>Alabama A &amp; M University</td>\n",
              "      <td>Normal</td>\n",
              "      <td>35762</td>\n",
              "      <td>0.9027</td>\n",
              "      <td>4824.0</td>\n",
              "      <td>9857.0</td>\n",
              "    </tr>\n",
              "    <tr>\n",
              "      <th>1</th>\n",
              "      <td>100663</td>\n",
              "      <td>105200</td>\n",
              "      <td>1052</td>\n",
              "      <td>University of Alabama at Birmingham</td>\n",
              "      <td>Birmingham</td>\n",
              "      <td>35294-0110</td>\n",
              "      <td>0.9181</td>\n",
              "      <td>12866.0</td>\n",
              "      <td>8328.0</td>\n",
              "    </tr>\n",
              "    <tr>\n",
              "      <th>2</th>\n",
              "      <td>100690</td>\n",
              "      <td>2503400</td>\n",
              "      <td>25034</td>\n",
              "      <td>Amridge University</td>\n",
              "      <td>Montgomery</td>\n",
              "      <td>36117-3553</td>\n",
              "      <td>NaN</td>\n",
              "      <td>318.0</td>\n",
              "      <td>6900.0</td>\n",
              "    </tr>\n",
              "    <tr>\n",
              "      <th>3</th>\n",
              "      <td>100706</td>\n",
              "      <td>105500</td>\n",
              "      <td>1055</td>\n",
              "      <td>University of Alabama in Huntsville</td>\n",
              "      <td>Huntsville</td>\n",
              "      <td>35899</td>\n",
              "      <td>0.8123</td>\n",
              "      <td>6917.0</td>\n",
              "      <td>10280.0</td>\n",
              "    </tr>\n",
              "    <tr>\n",
              "      <th>4</th>\n",
              "      <td>100724</td>\n",
              "      <td>100500</td>\n",
              "      <td>1005</td>\n",
              "      <td>Alabama State University</td>\n",
              "      <td>Montgomery</td>\n",
              "      <td>36104-0271</td>\n",
              "      <td>0.9787</td>\n",
              "      <td>4189.0</td>\n",
              "      <td>11068.0</td>\n",
              "    </tr>\n",
              "  </tbody>\n",
              "</table>\n",
              "</div>"
            ],
            "text/plain": [
              "   UNITID    OPEID  OPEID6  ... ADM_RATE     UGDS TUITIONFEE_IN\n",
              "0  100654   100200    1002  ...   0.9027   4824.0        9857.0\n",
              "1  100663   105200    1052  ...   0.9181  12866.0        8328.0\n",
              "2  100690  2503400   25034  ...      NaN    318.0        6900.0\n",
              "3  100706   105500    1055  ...   0.8123   6917.0       10280.0\n",
              "4  100724   100500    1005  ...   0.9787   4189.0       11068.0\n",
              "\n",
              "[5 rows x 9 columns]"
            ]
          },
          "metadata": {
            "tags": []
          },
          "execution_count": 13
        }
      ]
    },
    {
      "cell_type": "code",
      "metadata": {
        "id": "fOIPL0FzwtIC",
        "colab_type": "code",
        "colab": {}
      },
      "source": [
        "# <3>\n",
        "# Load the scorecard file Most-Recent-Cohorts-Scorecard-Elements.csv from the link:\n",
        "# https://ed-public-download.app.cloud.gov/downloads/Most-Recent-Cohorts-Scorecard-Elements.csv\n",
        "# This file has three median earnings which is not present in the previous file\n",
        "# Only load the two columns:\n",
        "# UNITID - This column is the unique identity for each college and will be used to join with the previous file\n",
        "# MD_EARN_WNE_P10  - This column has the median earnings\n",
        "\n",
        "(Write code here)\n",
        "#Scorecard is bouncing"
      ],
      "execution_count": null,
      "outputs": []
    },
    {
      "cell_type": "code",
      "metadata": {
        "id": "Z2r8AaE1wtIE",
        "colab_type": "code",
        "colab": {}
      },
      "source": [
        "# <4> \n",
        "# Explore this file - number of colleges, head/tail/sample etc.\n",
        "# Notice this file has different number of colleges from the previous file\n",
        "# This indicate they are not identical and they overlap (they don't contain the same set of colleges)\n",
        "(Write code here)"
      ],
      "execution_count": null,
      "outputs": []
    },
    {
      "cell_type": "code",
      "metadata": {
        "id": "aH8NCrmVwtII",
        "colab_type": "code",
        "colab": {}
      },
      "source": [
        "# <5>\n",
        "#Join the two files together to produce a third file which contain all the columns and all colleges that are common to both files\n",
        "(Write code here)"
      ],
      "execution_count": null,
      "outputs": []
    },
    {
      "cell_type": "code",
      "metadata": {
        "id": "bPiKBlyEwtIM",
        "colab_type": "code",
        "colab": {}
      },
      "source": [
        "# <6>\n",
        "# Explore the new file - number of colleges, head/tail/sample etc.\n",
        "(Write code here)"
      ],
      "execution_count": null,
      "outputs": []
    },
    {
      "cell_type": "code",
      "metadata": {
        "id": "kHZinqMNwtIQ",
        "colab_type": "code",
        "colab": {}
      },
      "source": [
        "# <7>\n",
        "# Find out the top 100 colleges that are hardest to get in (Top 100) from this new file\n",
        "(Write code here)"
      ],
      "execution_count": null,
      "outputs": []
    },
    {
      "cell_type": "code",
      "metadata": {
        "id": "UD32npV8wtIU",
        "colab_type": "code",
        "colab": {}
      },
      "source": [
        "# <8>\n",
        "# Display the summary statistics of the in-state tuitions of the top 100 colleges that are hardest to get in\n",
        "(Write code here)"
      ],
      "execution_count": null,
      "outputs": []
    },
    {
      "cell_type": "code",
      "metadata": {
        "id": "4UwhZr7uwtIX",
        "colab_type": "code",
        "colab": {}
      },
      "source": [
        "# <9>\n",
        "# Display the histogram of the in-state tuitions of the top 100 colleges that are hardest to get in\n",
        "(Write code here)"
      ],
      "execution_count": null,
      "outputs": []
    },
    {
      "cell_type": "code",
      "metadata": {
        "id": "QCZzQu2QwtIZ",
        "colab_type": "code",
        "colab": {}
      },
      "source": [
        "# <10>\n",
        "# Display the summary statistics of the earning potentials of the top 100 colleges that are hardest to get in\n",
        "(Write code here)"
      ],
      "execution_count": null,
      "outputs": []
    },
    {
      "cell_type": "code",
      "metadata": {
        "id": "anSvKwsewtId",
        "colab_type": "code",
        "colab": {}
      },
      "source": [
        "# <11>\n",
        "# Display the histogram of the earning potentials of the top 100 colleges that are hardest to get in\n",
        "(Write code here)"
      ],
      "execution_count": null,
      "outputs": []
    },
    {
      "cell_type": "code",
      "metadata": {
        "id": "59_ol471wtIg",
        "colab_type": "code",
        "colab": {}
      },
      "source": [
        "# <12>\n",
        "# Make a scatter plot of the in-state tuition and the median graduate earnings of \n",
        "# the top 100 colleges that are hardest to get in\n",
        "# using Pandas\n",
        "(Write code here)"
      ],
      "execution_count": null,
      "outputs": []
    },
    {
      "cell_type": "code",
      "metadata": {
        "id": "FKgN5G-rwtIi",
        "colab_type": "code",
        "colab": {}
      },
      "source": [
        "# <13>\n",
        "# Make a scatter plot of the in-state tuition and the median graduate earnings of \n",
        "# the top 100 colleges that are hardest to get in\n",
        "# using Matplotlib\n",
        "(Write code here)"
      ],
      "execution_count": null,
      "outputs": []
    },
    {
      "cell_type": "code",
      "metadata": {
        "id": "lQkOKC54wtIk",
        "colab_type": "code",
        "colab": {}
      },
      "source": [
        "# <14>\n",
        "# Make a scatter plot of the in-state tuition and the median graduate earnings of \n",
        "# the top 100 colleges that are hardest to get in\n",
        "# using Seaborn\n",
        "(Write code here)"
      ],
      "execution_count": null,
      "outputs": []
    },
    {
      "cell_type": "code",
      "metadata": {
        "id": "dm-Hy1-jwtIm",
        "colab_type": "code",
        "colab": {}
      },
      "source": [
        "# <15> \n",
        "# Your observation/conclusion of the scatter plot (use the following Markdown cell)"
      ],
      "execution_count": null,
      "outputs": []
    },
    {
      "cell_type": "markdown",
      "metadata": {
        "id": "ksJFdaPdwtIp",
        "colab_type": "text"
      },
      "source": [
        "#### Based on my observation of the scatter plot,\n",
        "#### blah, blah (are the two variable related? how?, etc)\n",
        "#### blah, blah\n",
        "#### ...\n",
        "#### blah, blah"
      ]
    },
    {
      "cell_type": "code",
      "metadata": {
        "id": "y-QOPE6UwtIq",
        "colab_type": "code",
        "colab": {}
      },
      "source": [
        ""
      ],
      "execution_count": null,
      "outputs": []
    }
  ]
}
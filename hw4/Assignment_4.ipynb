{
  "nbformat": 4,
  "nbformat_minor": 0,
  "metadata": {
    "colab": {
      "name": "Assignment 3.ipynb",
      "provenance": [],
      "collapsed_sections": [],
      "authorship_tag": "ABX9TyNZ+W/qJWKaimIH08xwYphW",
      "include_colab_link": true
    },
    "kernelspec": {
      "name": "python3",
      "display_name": "Python 3"
    }
  },
  "cells": [
    {
      "cell_type": "markdown",
      "metadata": {
        "id": "view-in-github",
        "colab_type": "text"
      },
      "source": [
        "<a href=\"https://colab.research.google.com/github/Colsai/DATA-690-WANG/blob/master/Assignment_3.ipynb\" target=\"_parent\"><img src=\"https://colab.research.google.com/assets/colab-badge.svg\" alt=\"Open In Colab\"/></a>"
      ]
    },
    {
      "cell_type": "markdown",
      "metadata": {
        "id": "q4etb8VG5lFb",
        "colab_type": "text"
      },
      "source": [
        "# Basic Idea for Creating a 'Matrix' (multilist)"
      ]
    },
    {
      "cell_type": "code",
      "metadata": {
        "id": "Q1isZg98boyl",
        "colab_type": "code",
        "colab": {}
      },
      "source": [
        "A = [1,2,3]\n",
        "B = [1,2,3]\n",
        "C = [1,2,3]\n",
        "\n",
        "var_list = [A,B,C]\n",
        "\n",
        "for i in var_list:\n",
        "    print(i)"
      ],
      "execution_count": null,
      "outputs": []
    },
    {
      "cell_type": "markdown",
      "metadata": {
        "id": "Xu6kQ2KNe7Yr",
        "colab_type": "text"
      },
      "source": [
        "#As Nested Loops\n",
        "An idea for making a board...\n",
        "\n",
        "print the board"
      ]
    },
    {
      "cell_type": "code",
      "metadata": {
        "id": "CIqcvgcL5v6c",
        "colab_type": "code",
        "colab": {
          "base_uri": "https://localhost:8080/",
          "height": 185
        },
        "outputId": "49508897-6a2d-46e5-940c-f2152a8921cb"
      },
      "source": [
        "import random #random number import from regular Python\n",
        "\n",
        "def make_board(row_num):\n",
        "    board = []\n",
        "    for i in range(row_num):\n",
        "        line1 = []\n",
        "        for i in range(row_num):\n",
        "            c = random.randint(0, 9)\n",
        "            line1.append(c)\n",
        "        \n",
        "        board.append(line1)\n",
        "    return(board)\n",
        "\n",
        "#Call Function\n",
        "make_board(10)"
      ],
      "execution_count": 74,
      "outputs": [
        {
          "output_type": "execute_result",
          "data": {
            "text/plain": [
              "[[3, 0, 9, 8, 0, 0, 2, 3, 3, 0],\n",
              " [0, 7, 7, 5, 5, 8, 8, 3, 8, 2],\n",
              " [2, 8, 5, 2, 9, 7, 3, 6, 4, 3],\n",
              " [5, 1, 7, 2, 3, 5, 9, 5, 6, 8],\n",
              " [5, 6, 4, 9, 6, 0, 8, 1, 0, 4],\n",
              " [6, 8, 8, 0, 8, 4, 3, 4, 7, 3],\n",
              " [1, 3, 1, 0, 9, 8, 0, 6, 2, 1],\n",
              " [8, 6, 3, 7, 8, 5, 5, 4, 1, 8],\n",
              " [5, 9, 5, 3, 0, 4, 3, 0, 7, 1],\n",
              " [5, 4, 8, 0, 6, 1, 3, 5, 8, 8]]"
            ]
          },
          "metadata": {
            "tags": []
          },
          "execution_count": 74
        }
      ]
    },
    {
      "cell_type": "markdown",
      "metadata": {
        "id": "7wAszaFZ2BK9",
        "colab_type": "text"
      },
      "source": [
        "#Part 1: Printing through the lists"
      ]
    },
    {
      "cell_type": "markdown",
      "metadata": {
        "id": "d7RbGvWiA75O",
        "colab_type": "text"
      },
      "source": [
        "The displaying of the numbers as list elements was the most difficult part of this one. "
      ]
    },
    {
      "cell_type": "code",
      "metadata": {
        "id": "qpX82it11U5z",
        "colab_type": "code",
        "colab": {
          "base_uri": "https://localhost:8080/",
          "height": 185
        },
        "outputId": "760ff12d-2195-485e-a3cc-19c056474037"
      },
      "source": [
        "import random #random number import from regular Python\n",
        "\n",
        "def make_board(row_num):\n",
        "    board = []\n",
        "    for i in range(row_num):\n",
        "        line1 = []\n",
        "        for i in range(row_num):\n",
        "            c = random.randint(0, 9)\n",
        "            line1.append(c)\n",
        "        \n",
        "        board.append(line1)\n",
        "        print(' '.join(map(str, line1))) #This line is the difficult one.\n",
        "    #return(board)\n",
        "\n",
        "#Call Function\n",
        "make_board(10)"
      ],
      "execution_count": 73,
      "outputs": [
        {
          "output_type": "stream",
          "text": [
            "8 9 3 2 5 4 2 1 9 1\n",
            "3 7 3 7 5 0 5 3 7 3\n",
            "8 0 3 7 1 0 2 9 8 6\n",
            "9 6 5 8 1 1 6 5 1 7\n",
            "5 6 0 1 4 0 2 0 5 1\n",
            "1 1 2 4 8 1 2 2 6 9\n",
            "6 2 2 9 7 7 2 0 1 5\n",
            "8 8 9 8 6 1 8 2 5 4\n",
            "0 2 3 8 0 8 1 8 4 0\n",
            "1 3 8 0 9 3 1 0 7 5\n"
          ],
          "name": "stdout"
        }
      ]
    },
    {
      "cell_type": "markdown",
      "metadata": {
        "id": "m5lFVQYIBEGe",
        "colab_type": "text"
      },
      "source": [
        "#Part 1: Printing through the lists"
      ]
    },
    {
      "cell_type": "code",
      "metadata": {
        "id": "tQLiGf4D-Yjz",
        "colab_type": "code",
        "colab": {
          "base_uri": "https://localhost:8080/",
          "height": 185
        },
        "outputId": "84071c50-b59f-4603-a709-46bd72bc1cd5"
      },
      "source": [
        "import random #random number import from regular Python\n",
        "\n",
        "def make_board(row_num):\n",
        "    board = []\n",
        "    \n",
        "    for i in range(row_num):\n",
        "        rows = []\n",
        "        row_sum = 0\n",
        "\n",
        "        for i in range(row_num):\n",
        "            c = random.randint(0, 9) #Randomly generates a number between 0 and 9\n",
        "            rows.append(c) #Appending a number to the row\n",
        "            row_sum+=c #Summing the line within the function\n",
        "\n",
        "        rows.append(f\"* {row_sum}\") #Appends a text string\n",
        "        board.append(rows) #Appends it to the board. We can use the board for conversion.\n",
        "\n",
        "        print(' '.join(map(str, rows))) #This line is the difficult one.\n",
        "\n",
        "    #return(board)\n",
        "\n",
        "#Call Function\n",
        "make_board(10)"
      ],
      "execution_count": 72,
      "outputs": [
        {
          "output_type": "stream",
          "text": [
            "3 0 3 1 8 4 2 9 3 5 * 38\n",
            "6 8 5 0 1 7 5 8 5 2 * 47\n",
            "3 7 1 5 1 6 1 6 9 0 * 39\n",
            "1 1 1 9 5 3 4 2 7 0 * 33\n",
            "1 0 2 7 0 1 6 8 5 2 * 32\n",
            "5 5 9 8 1 2 1 6 1 9 * 47\n",
            "3 4 6 1 6 1 5 1 4 7 * 38\n",
            "4 6 9 0 5 4 2 6 4 1 * 41\n",
            "5 2 8 8 6 0 3 3 9 9 * 53\n",
            "9 5 3 5 5 7 1 7 5 5 * 52\n"
          ],
          "name": "stdout"
        }
      ]
    },
    {
      "cell_type": "markdown",
      "metadata": {
        "id": "0CS9FGCd1VgG",
        "colab_type": "text"
      },
      "source": [
        "# Adding the '@' with the modulo\n",
        "simple if/then, c % 2 == 1 then odd\n"
      ]
    },
    {
      "cell_type": "code",
      "metadata": {
        "id": "jrdy2flNb2Vx",
        "colab_type": "code",
        "colab": {
          "base_uri": "https://localhost:8080/",
          "height": 185
        },
        "outputId": "d34fe205-20ff-4832-9481-2d6445546b98"
      },
      "source": [
        "import random #random number import from regular Python\n",
        "\n",
        "def make_board(row_num):\n",
        "    board = []\n",
        "    for i in range(row_num):\n",
        "        line1 = []\n",
        "\n",
        "        for i in range(row_num):\n",
        "            c = random.randint(0, 9)\n",
        "            if c % 2 == 1:\n",
        "                c = '@'\n",
        "            line1.append(c)\n",
        "        board.append(line1)\n",
        "        \n",
        "        print(' '.join(map(str, line1)))\n",
        "    #return(board)\n",
        "\n",
        "#Call Function\n",
        "make_board(10)\n"
      ],
      "execution_count": 75,
      "outputs": [
        {
          "output_type": "stream",
          "text": [
            "4 @ 8 4 0 6 @ 8 @ @\n",
            "@ 4 @ @ @ 4 8 @ 8 @\n",
            "4 @ 4 4 2 6 @ @ 4 @\n",
            "6 8 @ 2 2 @ @ 4 @ @\n",
            "@ 2 @ 6 @ @ @ @ @ 6\n",
            "8 @ 4 @ @ 2 @ @ @ 0\n",
            "4 @ 0 @ @ @ @ 4 @ @\n",
            "@ @ 2 8 8 2 6 @ @ @\n",
            "@ @ @ 4 4 8 @ @ @ 0\n",
            "@ @ @ @ @ 4 2 @ @ 8\n"
          ],
          "name": "stdout"
        }
      ]
    },
    {
      "cell_type": "markdown",
      "metadata": {
        "id": "1pRP4xzEB3z4",
        "colab_type": "text"
      },
      "source": [
        "#Putting them both together\n"
      ]
    },
    {
      "cell_type": "code",
      "metadata": {
        "id": "8bts91HDBNH1",
        "colab_type": "code",
        "colab": {
          "base_uri": "https://localhost:8080/",
          "height": 101
        },
        "outputId": "dffffdc5-fbb0-41c1-f971-e06ef5a649ef"
      },
      "source": [
        "import random #random number import from regular Python\n",
        "\n",
        "def make_board(row_num, board_return='yes'):\n",
        "    board = []\n",
        "    \n",
        "    for i in range(row_num):\n",
        "        rows = []\n",
        "        row_sum = 0\n",
        "\n",
        "        for i in range(row_num):\n",
        "            c = random.randint(0, 9) #Randomly generates a number between 0 and 9\n",
        "            if c % 2 == 1:\n",
        "                a = c #Sets a temporary variable 'a', to retain the value\n",
        "                c = '@' #Then, sets it as '@'\n",
        "            line1.append(c)\n",
        "            rows.append(c)\n",
        "\n",
        "            try:\n",
        "                row_sum+=c #Summing the line within the function\n",
        "            except:\n",
        "                row_sum+=a #IF the function bounces (you can't add '@', takes old 'a' value)\n",
        "\n",
        "        rows.append(f\"* {row_sum}\") #Appends a text string\n",
        "        board.append(rows) #Appends it to the board. We can use the board for conversion.\n",
        "\n",
        "        print(' '.join(map(str, rows))) #This line is the difficult one.\n",
        "\n",
        "    if board_return == 'yes':\n",
        "        print(f\"\\n Matrix:\")\n",
        "        return(board)\n",
        "\n",
        "#Call Function\n",
        "make_board(2,'yes')"
      ],
      "execution_count": 108,
      "outputs": [
        {
          "output_type": "stream",
          "text": [
            "4 2 * 6\n",
            "@ 6 * 7\n",
            "\n",
            " Matrix:\n"
          ],
          "name": "stdout"
        },
        {
          "output_type": "execute_result",
          "data": {
            "text/plain": [
              "[[4, 2, '* 6'], ['@', 6, '* 7']]"
            ]
          },
          "metadata": {
            "tags": []
          },
          "execution_count": 108
        }
      ]
    },
    {
      "cell_type": "code",
      "metadata": {
        "id": "yjzRfoJf1v05",
        "colab_type": "code",
        "colab": {}
      },
      "source": [
        "import random #random number import from regular Python\n",
        "\n",
        "def make_board(row_num):\n",
        "    board = []\n",
        "    for i in range(row_num):\n",
        "        line1 = []\n",
        "\n",
        "        for i in range(0):\n",
        "            line1.append('*') * 5\n",
        "            board.append(line1)\n",
        "        \n",
        "        print(f\"* {' '.join(map(str, line1))} *\")\n",
        "\n",
        "        for i in range(row_num+1):\n",
        "            c = random.randint(0, 9)\n",
        "            if c % 2 == 1:\n",
        "                c = '@'\n",
        "            line1.append(c)\n",
        "        board.append(line1)\n",
        "\n",
        "        for i in range(0):\n",
        "            line1.append('*')\n",
        "            board.append(line1)\n",
        "        \n",
        "        print(f\"* {' '.join(map(str, line1))} *\")\n",
        "    return(board)\n",
        "\n",
        "#Call Function\n",
        "make_board(10)"
      ],
      "execution_count": null,
      "outputs": []
    },
    {
      "cell_type": "code",
      "metadata": {
        "id": "sWFzPDeQytdb",
        "colab_type": "code",
        "colab": {}
      },
      "source": [
        "import random #random number import from regular Python\n",
        "\n",
        "def make_board(row_num):\n",
        "    board = []\n",
        "    for i in range(row_num):\n",
        "        line1 = []\n",
        "\n",
        "        for i in range(row_num):\n",
        "            c = random.randint(0, 9)\n",
        "            if c % 2 == 1:\n",
        "                c = '@'\n",
        "            line1.append(c)\n",
        "        board.append(line1)\n",
        "        \n",
        "        print(' '.join(map(str, line1)))\n",
        "\n",
        "#Call Function\n",
        "make_board(10)\n",
        "board"
      ],
      "execution_count": null,
      "outputs": []
    },
    {
      "cell_type": "code",
      "metadata": {
        "id": "eZfD1YH3dc3T",
        "colab_type": "code",
        "colab": {}
      },
      "source": [
        "import random #random number import from regular Python\n",
        "\n",
        "def make_board(row_num):\n",
        "    for i in range(row_num):\n",
        "        line1 = []\n",
        "\n",
        "        for i in range(row_num):\n",
        "            c = random.randint(1, 9)\n",
        "            if c % 2 < 1:\n",
        "                c = 0\n",
        "            line1.append(c)\n",
        "        \n",
        "        for i in line1:\n",
        "            print(line1[i])\n",
        "\n",
        "\n",
        "make_board(4)\n"
      ],
      "execution_count": null,
      "outputs": []
    },
    {
      "cell_type": "code",
      "metadata": {
        "id": "CLgum7yP5CdB",
        "colab_type": "code",
        "colab": {}
      },
      "source": [
        "import random #random number import from regular Python\n",
        "\n",
        "def make_board(row_num):\n",
        "    board = []\n",
        "    for i in range(row_num):\n",
        "        line1 = []\n",
        "        for i in range(row_num):\n",
        "            c = random.randint(0, 9)\n",
        "            line1.append(c)\n",
        "        \n",
        "        board.append(line1)\n",
        "        print(' '.join(map(str, line1))) #This line is the difficult one.\n",
        "    return(board)\n",
        "\n",
        "#Call Function\n",
        "make_board(10)\n",
        "\n",
        "for i,j in board:\n",
        "    print(i)\n",
        "    print(j)"
      ],
      "execution_count": null,
      "outputs": []
    },
    {
      "cell_type": "code",
      "metadata": {
        "id": "jYuf5on86H3q",
        "colab_type": "code",
        "colab": {}
      },
      "source": [
        "import random #random number import from regular Python\n",
        "\n",
        "def make_board(row_num):\n",
        "    board = []\n",
        "    for i in range(row_num):\n",
        "        line1 = []\n",
        "        for i in range(row_num):\n",
        "            c = random.randint(0, 9)\n",
        "            line1.append(c)\n",
        "        \n",
        "        board.append(line1)\n",
        "        print(' '.join(map(str, line1))) #This line is the difficult one.\n",
        "    return(board)\n",
        "\n",
        "#Call Function\n",
        "\n",
        "\n"
      ],
      "execution_count": null,
      "outputs": []
    },
    {
      "cell_type": "code",
      "metadata": {
        "id": "sH_kEtPL6tmW",
        "colab_type": "code",
        "colab": {}
      },
      "source": [
        "a = [['@', '@', '@', '@', 4, 2, 6, 8, 0, '@'],\n",
        "    ['@', '@', '@', '@', 2, 6, 0, 8, '@', 8],\n",
        "    [2, 2, '@', 8, '@', '@', 6, '@', '@', '@']]\n",
        "\n",
        "for row in a:\n",
        "    for num in :\n",
        "        print(num)"
      ],
      "execution_count": null,
      "outputs": []
    },
    {
      "cell_type": "markdown",
      "metadata": {
        "id": "lG0ddoTb2Qaw",
        "colab_type": "text"
      },
      "source": [
        "# Idea 2:\n",
        "My second idea is to create and split a full list of numbers into multiple sets.\n",
        "It's a square, so basically the 11th number becomes the beginning of the second\n",
        "row instead.\n"
      ]
    },
    {
      "cell_type": "code",
      "metadata": {
        "id": "UCBID-yb60AY",
        "colab_type": "code",
        "colab": {}
      },
      "source": [
        "import random #random number import from regular Python\n",
        "\n",
        "dimensions = 10 #So, a 10x10\n",
        "elements = dimensions ** 2 #It's a square, so we square this\n",
        "\n",
        "full_matrix = []\n",
        "\n",
        "for i in range(elements):\n",
        "    c = random.randint(0, 9)\n",
        "    full_matrix.append(c)\n",
        "\n",
        "print(full_matrix)\n",
        "\n",
        "row=[]\n",
        "\n",
        "for rows in full_matrix:\n",
        "    for i in range(10):\n",
        "        row.append(full_matrix[i])\n",
        "    print(row)\n",
        "\n",
        "    i+=10\n",
        "    row = []"
      ],
      "execution_count": null,
      "outputs": []
    },
    {
      "cell_type": "code",
      "metadata": {
        "id": "75B9Q3Lv2jSl",
        "colab_type": "code",
        "colab": {}
      },
      "source": [
        ""
      ],
      "execution_count": null,
      "outputs": []
    }
  ]
}

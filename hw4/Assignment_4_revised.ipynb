{
  "nbformat": 4,
  "nbformat_minor": 0,
  "metadata": {
    "colab": {
      "name": "Assignment_4_revised.ipynb",
      "provenance": [],
      "collapsed_sections": [],
      "authorship_tag": "ABX9TyMDRzKSY5e7bm3aNV5Gisq5",
      "include_colab_link": true
    },
    "kernelspec": {
      "name": "python3",
      "display_name": "Python 3"
    }
  },
  "cells": [
    {
      "cell_type": "markdown",
      "metadata": {
        "id": "view-in-github",
        "colab_type": "text"
      },
      "source": [
        "<a href=\"https://colab.research.google.com/github/Colsai/DATA-690-WANG/blob/master/hw4/Assignment_4_revised.ipynb\" target=\"_parent\"><img src=\"https://colab.research.google.com/assets/colab-badge.svg\" alt=\"Open In Colab\"/></a>"
      ]
    },
    {
      "cell_type": "markdown",
      "metadata": {
        "id": "3bvHA8tSSX78",
        "colab_type": "text"
      },
      "source": [
        "# Scott Hirabayashi  \n",
        "# Data Science 690 (Wang)"
      ]
    },
    {
      "cell_type": "markdown",
      "metadata": {
        "id": "YjK4_6pqSEK1",
        "colab_type": "text"
      },
      "source": [
        "# Assignment 04\n",
        "1. Write code to open the text file [census_cost.txt](census_cost.txt) and read all lines into a list named **\"line_list\"**. Print line_list.\n",
        "2. Extract the first two lines and put them in a different list named \"top2_list\". You will need to use them later. Print the top2_list.\n",
        "3. Put the rest of the lines (containing useful data elements) in a new list named \"data_list\". Print data_list.\n",
        "4. Extract the column **\"Census Year\"** from data_list and assign them to a list named **year_list**. Remove the \"*\" from the last element \"2010*\". Print the cleansed year_list.\n",
        "5. Extract the **\"Total Population\"** column from the data_list and assign them to a list named **\"pop_list\"**. Remove the \",\" from the numbers since Python doesn't recognize them. Print the cleansed \"pop_list\".\n",
        "6. Extract the **\"Census Cost\"** column from the data_list and assign them to a list named **\"cost_list\"**. Remove the \",\", and \"$\", and \"Billion\".\n",
        "Make sure to add the \"0\"s to the numbers from which you removed \"Billion\". Print the cleansed cost_list.  \n"
      ]
    },
    {
      "cell_type": "markdown",
      "metadata": {
        "id": "lguc3eyCSJz1",
        "colab_type": "text"
      },
      "source": [
        "7. Extract the **\"Average Cost per Person\"** column from the data_list and assign them to a list named **\"avg_list\"**. Remove the \"cents\", and \"$\".\n",
        "Make sure to divide the numbers in cents by 100 so that all numbers are measured in dollar. Print the cleansed avg_list.\n",
        "8. Coalesce the cleansed data and save them to a text file named \"census_cost.csv\". The new file should look similar to the original source file except that it is in \n",
        "comma-delimited format and the numbers have been cleansed. The top two lines from the original file should be retained in the new file.\n",
        "9. Open the newly-created file \"census_cost.csv\", read all lines and display them. How does it look?"
      ]
    },
    {
      "cell_type": "markdown",
      "metadata": {
        "id": "ivj7RstbSPWr",
        "colab_type": "text"
      },
      "source": [
        "Give yourself a pat on the back. Good job! \n",
        "Now you know what data scientists do most of time: Data Cleansing."
      ]
    },
    {
      "cell_type": "markdown",
      "metadata": {
        "id": "CncjPM-KgoYi",
        "colab_type": "text"
      },
      "source": [
        "# Part I: Importing the Data\n",
        "Use with open(file_name) as my_file:\n",
        "    line_list = my_file.readlines()"
      ]
    },
    {
      "cell_type": "code",
      "metadata": {
        "id": "kKCzdIOmSJdS",
        "colab_type": "code",
        "colab": {
          "base_uri": "https://localhost:8080/",
          "height": 443
        },
        "outputId": "9c00c821-64e8-488a-e0ed-5d9d073decf2"
      },
      "source": [
        "#Write code to open the text file census_cost.txt and read all lines into a list named \"line_list\". Print line_list.\n",
        "\n",
        "#Simple Display Function\n",
        "def disp(data_list):\n",
        "    for line in data_list:\n",
        "        print(line)\n",
        "\n",
        "file_name = \"/content/census_cost.txt\"\n",
        "\n",
        "with open(file_name) as my_file:\n",
        "    line_list = my_file.readlines()\n",
        "    \n",
        "line_list"
      ],
      "execution_count": 670,
      "outputs": [
        {
          "output_type": "execute_result",
          "data": {
            "text/plain": [
              "['Source: https://www.genealogybranches.com/censuscosts.html\\n',\n",
              " 'Census Year\\tTotal Population\\tCensus Cost\\tAverage Cost Per Person\\n',\n",
              " '1790\\t3,929,214\\t$44,377\\t1.13 cents\\n',\n",
              " '1800\\t5,308,483\\t$66,109\\t1.24 cents\\n',\n",
              " '1810\\t7,239,881\\t$178,445\\t2.46 cents\\n',\n",
              " '1820\\t9,633,822\\t$208,526\\t2.16 cents\\n',\n",
              " '1830\\t12,866,020\\t$378,545\\t2.94 cents\\n',\n",
              " '1840\\t17,069,458\\t$833,371\\t4.88 cents\\n',\n",
              " '1850\\t23,191,876\\t$1,423,351\\t6.14 cents\\n',\n",
              " '1860\\t31,443,321\\t$1,969,377\\t6.26 cents\\n',\n",
              " '1870\\t38,558,371\\t$3,421,198\\t8.87 cents\\n',\n",
              " '1880\\t50,155,783\\t$5,790,678\\t11.54 cents\\n',\n",
              " '1890\\t62,979,766\\t$11,547,127\\t18.33 cents\\n',\n",
              " '1900\\t76,303,387\\t$11,854,000\\t15.54 cents\\n',\n",
              " '1910\\t91,972,266\\t$15,968,000\\t17.07 cents\\n',\n",
              " '1920\\t105,710,620\\t$25,117,000\\t23.76 cents\\n',\n",
              " '1930\\t122,775,046\\t$40,156,000\\t32.71 cents\\n',\n",
              " '1940\\t131,669,275\\t$67,527,000\\t51.29 cents\\n',\n",
              " '1950\\t151,325,798\\t$91,462,000\\t60.44 cents\\n',\n",
              " '1960\\t179,323,175\\t$127,934,000\\t71.34 cents\\n',\n",
              " '1970\\t203,302,031\\t$247,653,000\\t$1.22\\n',\n",
              " '1980\\t226,542,199\\t$1,078,488,000\\t$4.76\\n',\n",
              " '1990\\t248,718,301\\t$2,492,830,000\\t$10.02\\n',\n",
              " '2000\\t281,421,906\\t$4.5 Billion\\t$15.99\\n',\n",
              " '2010*\\t308,745,538\\t$13 Billion\\t$42.11']"
            ]
          },
          "metadata": {
            "tags": []
          },
          "execution_count": 670
        }
      ]
    },
    {
      "cell_type": "code",
      "metadata": {
        "id": "GpBh5icJpI18",
        "colab_type": "code",
        "colab": {
          "base_uri": "https://localhost:8080/",
          "height": 102
        },
        "outputId": "4fa54bca-e85e-44b7-86d2-120a8f8d1d36"
      },
      "source": [
        "#From this, we see that the header is the second line, and the lines following are the data\n",
        "line_list[0:5] "
      ],
      "execution_count": 671,
      "outputs": [
        {
          "output_type": "execute_result",
          "data": {
            "text/plain": [
              "['Source: https://www.genealogybranches.com/censuscosts.html\\n',\n",
              " 'Census Year\\tTotal Population\\tCensus Cost\\tAverage Cost Per Person\\n',\n",
              " '1790\\t3,929,214\\t$44,377\\t1.13 cents\\n',\n",
              " '1800\\t5,308,483\\t$66,109\\t1.24 cents\\n',\n",
              " '1810\\t7,239,881\\t$178,445\\t2.46 cents\\n']"
            ]
          },
          "metadata": {
            "tags": []
          },
          "execution_count": 671
        }
      ]
    },
    {
      "cell_type": "code",
      "metadata": {
        "id": "CaiQP-JXTEjO",
        "colab_type": "code",
        "colab": {
          "base_uri": "https://localhost:8080/",
          "height": 54
        },
        "outputId": "e5f9d2e8-ac26-4355-8618-1db22bd99c8d"
      },
      "source": [
        "# Extract the first two lines and put them in a different list named \"top2_list\". You will need to use them later. Print the top2_list.\n",
        "top2_list = []\n",
        "\n",
        "for i in range(2):\n",
        "    top2_list.append(line_list[i])\n",
        "\n",
        "print(top2_list)"
      ],
      "execution_count": 672,
      "outputs": [
        {
          "output_type": "stream",
          "text": [
            "['Source: https://www.genealogybranches.com/censuscosts.html\\n', 'Census Year\\tTotal Population\\tCensus Cost\\tAverage Cost Per Person\\n']\n"
          ],
          "name": "stdout"
        }
      ]
    },
    {
      "cell_type": "markdown",
      "metadata": {
        "id": "qhP8c2I0gvrU",
        "colab_type": "text"
      },
      "source": [
        "## 1b. Set up the data_list\n",
        "Split the list as all the numeric rows"
      ]
    },
    {
      "cell_type": "code",
      "metadata": {
        "id": "Qt-zx8ZwTXly",
        "colab_type": "code",
        "colab": {
          "base_uri": "https://localhost:8080/",
          "height": 785
        },
        "outputId": "5b976b84-5731-45a5-c1fe-25ad55ae406d"
      },
      "source": [
        "#Simple Display Function\n",
        "def disp(data_list):\n",
        "    for line in data_list:\n",
        "        print(line)\n",
        "\n",
        "# Put the rest of the lines (containing useful data elements) in a new list named \"data_list\". Print data_list.\n",
        "data_list = line_list[2::]\n",
        "disp(data_list)"
      ],
      "execution_count": 673,
      "outputs": [
        {
          "output_type": "stream",
          "text": [
            "1790\t3,929,214\t$44,377\t1.13 cents\n",
            "\n",
            "1800\t5,308,483\t$66,109\t1.24 cents\n",
            "\n",
            "1810\t7,239,881\t$178,445\t2.46 cents\n",
            "\n",
            "1820\t9,633,822\t$208,526\t2.16 cents\n",
            "\n",
            "1830\t12,866,020\t$378,545\t2.94 cents\n",
            "\n",
            "1840\t17,069,458\t$833,371\t4.88 cents\n",
            "\n",
            "1850\t23,191,876\t$1,423,351\t6.14 cents\n",
            "\n",
            "1860\t31,443,321\t$1,969,377\t6.26 cents\n",
            "\n",
            "1870\t38,558,371\t$3,421,198\t8.87 cents\n",
            "\n",
            "1880\t50,155,783\t$5,790,678\t11.54 cents\n",
            "\n",
            "1890\t62,979,766\t$11,547,127\t18.33 cents\n",
            "\n",
            "1900\t76,303,387\t$11,854,000\t15.54 cents\n",
            "\n",
            "1910\t91,972,266\t$15,968,000\t17.07 cents\n",
            "\n",
            "1920\t105,710,620\t$25,117,000\t23.76 cents\n",
            "\n",
            "1930\t122,775,046\t$40,156,000\t32.71 cents\n",
            "\n",
            "1940\t131,669,275\t$67,527,000\t51.29 cents\n",
            "\n",
            "1950\t151,325,798\t$91,462,000\t60.44 cents\n",
            "\n",
            "1960\t179,323,175\t$127,934,000\t71.34 cents\n",
            "\n",
            "1970\t203,302,031\t$247,653,000\t$1.22\n",
            "\n",
            "1980\t226,542,199\t$1,078,488,000\t$4.76\n",
            "\n",
            "1990\t248,718,301\t$2,492,830,000\t$10.02\n",
            "\n",
            "2000\t281,421,906\t$4.5 Billion\t$15.99\n",
            "\n",
            "2010*\t308,745,538\t$13 Billion\t$42.11\n"
          ],
          "name": "stdout"
        }
      ]
    },
    {
      "cell_type": "code",
      "metadata": {
        "id": "357w6xdvVvEp",
        "colab_type": "code",
        "colab": {
          "base_uri": "https://localhost:8080/",
          "height": 409
        },
        "outputId": "b2a9074b-59b6-4ee4-c29a-9b7c84c81d0d"
      },
      "source": [
        "#Simple Display Function\n",
        "def disp(data_list):\n",
        "    for line in data_list:\n",
        "        print(line)\n",
        "\n",
        "temp_data_list = []\n",
        "\n",
        "for rows in data_list:\n",
        "    temp_data_list.append(rows.split(\"\\t\")) #This isn't an efficient method, but I'll append to a new list\n",
        "\n",
        "data_list = temp_data_list\n",
        "\n",
        "disp(data_list)"
      ],
      "execution_count": 674,
      "outputs": [
        {
          "output_type": "stream",
          "text": [
            "['1790', '3,929,214', '$44,377', '1.13 cents\\n']\n",
            "['1800', '5,308,483', '$66,109', '1.24 cents\\n']\n",
            "['1810', '7,239,881', '$178,445', '2.46 cents\\n']\n",
            "['1820', '9,633,822', '$208,526', '2.16 cents\\n']\n",
            "['1830', '12,866,020', '$378,545', '2.94 cents\\n']\n",
            "['1840', '17,069,458', '$833,371', '4.88 cents\\n']\n",
            "['1850', '23,191,876', '$1,423,351', '6.14 cents\\n']\n",
            "['1860', '31,443,321', '$1,969,377', '6.26 cents\\n']\n",
            "['1870', '38,558,371', '$3,421,198', '8.87 cents\\n']\n",
            "['1880', '50,155,783', '$5,790,678', '11.54 cents\\n']\n",
            "['1890', '62,979,766', '$11,547,127', '18.33 cents\\n']\n",
            "['1900', '76,303,387', '$11,854,000', '15.54 cents\\n']\n",
            "['1910', '91,972,266', '$15,968,000', '17.07 cents\\n']\n",
            "['1920', '105,710,620', '$25,117,000', '23.76 cents\\n']\n",
            "['1930', '122,775,046', '$40,156,000', '32.71 cents\\n']\n",
            "['1940', '131,669,275', '$67,527,000', '51.29 cents\\n']\n",
            "['1950', '151,325,798', '$91,462,000', '60.44 cents\\n']\n",
            "['1960', '179,323,175', '$127,934,000', '71.34 cents\\n']\n",
            "['1970', '203,302,031', '$247,653,000', '$1.22\\n']\n",
            "['1980', '226,542,199', '$1,078,488,000', '$4.76\\n']\n",
            "['1990', '248,718,301', '$2,492,830,000', '$10.02\\n']\n",
            "['2000', '281,421,906', '$4.5 Billion', '$15.99\\n']\n",
            "['2010*', '308,745,538', '$13 Billion', '$42.11']\n"
          ],
          "name": "stdout"
        }
      ]
    },
    {
      "cell_type": "markdown",
      "metadata": {
        "id": "z9YfTRUVdSOA",
        "colab_type": "text"
      },
      "source": [
        "# Part II- Fixing Lists\n",
        "In these problems, I use two lists in order to manipulate one, then transfer the\n",
        "contents back to the original list (except in the case of the first list, where\n",
        "a single removal is required)"
      ]
    },
    {
      "cell_type": "code",
      "metadata": {
        "id": "12uCbEtsT02m",
        "colab_type": "code",
        "colab": {
          "base_uri": "https://localhost:8080/",
          "height": 71
        },
        "outputId": "80f7e6bc-ec60-4a54-f38e-83b8888863b5"
      },
      "source": [
        "# Extract the column \"Census Year\" from data_list and assign them to a list named year_list. Remove the \"*\" from the last element \"2010*\". Print the cleansed year_list.\n",
        "year_list = []\n",
        "\n",
        "for rows in data_list:\n",
        "    year_list.append(rows[0])\n",
        "\n",
        "year_list[-1] = year_list[-1].strip(\"*\") #Removing a single string from element\n",
        "year_list = [int(i) for i in year_list] #list comprehension conversion\n",
        "\n",
        "print(year_list)\n",
        "type(year_list[0])"
      ],
      "execution_count": 675,
      "outputs": [
        {
          "output_type": "stream",
          "text": [
            "[1790, 1800, 1810, 1820, 1830, 1840, 1850, 1860, 1870, 1880, 1890, 1900, 1910, 1920, 1930, 1940, 1950, 1960, 1970, 1980, 1990, 2000, 2010]\n"
          ],
          "name": "stdout"
        },
        {
          "output_type": "execute_result",
          "data": {
            "text/plain": [
              "int"
            ]
          },
          "metadata": {
            "tags": []
          },
          "execution_count": 675
        }
      ]
    },
    {
      "cell_type": "markdown",
      "metadata": {
        "id": "cY8usj0QZMnJ",
        "colab_type": "text"
      },
      "source": [
        "# Part III: Add conditions to the editing with .replace"
      ]
    },
    {
      "cell_type": "code",
      "metadata": {
        "id": "UVvVqFbooJy4",
        "colab_type": "code",
        "colab": {
          "base_uri": "https://localhost:8080/",
          "height": 409
        },
        "outputId": "12396036-d7a0-4c9b-d436-0948b9071955"
      },
      "source": [
        "# Extract the \"Total Population\" column from the data_list and assign them to a list named \"pop_list\". Remove the \",\" from the numbers since Python doesn't recognize them. Print the cleansed \"pop_list\".\n",
        "pop_list = []\n",
        "\n",
        "for rows in data_list:\n",
        "    pop_list.append(rows[1])\n",
        "\n",
        "cleansed_pop_list = []\n",
        "\n",
        "for elem in pop_list:\n",
        "    elem = elem.replace(\",\",\"\")\n",
        "    cleansed_pop_list.append(elem)\n",
        "\n",
        "cleansed_pop_list = [int(i) for i in cleansed_pop_list] \n",
        "\n",
        "pop_list = cleansed_pop_list\n",
        "pop_list"
      ],
      "execution_count": 676,
      "outputs": [
        {
          "output_type": "execute_result",
          "data": {
            "text/plain": [
              "[3929214,\n",
              " 5308483,\n",
              " 7239881,\n",
              " 9633822,\n",
              " 12866020,\n",
              " 17069458,\n",
              " 23191876,\n",
              " 31443321,\n",
              " 38558371,\n",
              " 50155783,\n",
              " 62979766,\n",
              " 76303387,\n",
              " 91972266,\n",
              " 105710620,\n",
              " 122775046,\n",
              " 131669275,\n",
              " 151325798,\n",
              " 179323175,\n",
              " 203302031,\n",
              " 226542199,\n",
              " 248718301,\n",
              " 281421906,\n",
              " 308745538]"
            ]
          },
          "metadata": {
            "tags": []
          },
          "execution_count": 676
        }
      ]
    },
    {
      "cell_type": "code",
      "metadata": {
        "id": "ofLsbNpgolv2",
        "colab_type": "code",
        "colab": {
          "base_uri": "https://localhost:8080/",
          "height": 409
        },
        "outputId": "71126822-b97e-44d7-94d1-505f545e58ba"
      },
      "source": [
        "#Extract the \"Census Cost\" column from the data_list and assign them to a list named \"cost_list\". \n",
        "#Remove the \",\", and \"$\", and \"Billion\". Make sure to add the \"0\"s to the numbers from which you removed \"Billion\". Print the cleansed cost_list.\n",
        "\n",
        "cost_list = []\n",
        "\n",
        "for rows in data_list:\n",
        "    cost_list.append(rows[2])\n",
        "\n",
        "cleansed_cost_list = []\n",
        "\n",
        "for elem in cost_list:\n",
        "    if \"Billion\" in elem:\n",
        "        elem = int(elem.replace(\"Billion\", \"000000000\").replace(\",\", \"\").replace(\"$\",\"\").replace(\" \", \"\").replace(\".\",\"\"))\n",
        "\n",
        "    else:\n",
        "        elem = int(elem.replace(\",\",\"\").replace(\"$\",\"\"))\n",
        "    \n",
        "    cleansed_cost_list.append(elem)\n",
        "\n",
        "cleansed_cost_list = [int(i) for i in cleansed_cost_list]\n",
        "cost_list = cleansed_cost_list\n",
        "\n",
        "cost_list"
      ],
      "execution_count": 677,
      "outputs": [
        {
          "output_type": "execute_result",
          "data": {
            "text/plain": [
              "[44377,\n",
              " 66109,\n",
              " 178445,\n",
              " 208526,\n",
              " 378545,\n",
              " 833371,\n",
              " 1423351,\n",
              " 1969377,\n",
              " 3421198,\n",
              " 5790678,\n",
              " 11547127,\n",
              " 11854000,\n",
              " 15968000,\n",
              " 25117000,\n",
              " 40156000,\n",
              " 67527000,\n",
              " 91462000,\n",
              " 127934000,\n",
              " 247653000,\n",
              " 1078488000,\n",
              " 2492830000,\n",
              " 45000000000,\n",
              " 13000000000]"
            ]
          },
          "metadata": {
            "tags": []
          },
          "execution_count": 677
        }
      ]
    },
    {
      "cell_type": "code",
      "metadata": {
        "id": "BPEKcuzdbAFd",
        "colab_type": "code",
        "colab": {
          "base_uri": "https://localhost:8080/",
          "height": 409
        },
        "outputId": "81891130-ce21-45b0-b2b9-da7fc645278e"
      },
      "source": [
        "# Extract the \"Average Cost per Person\" column from the data_list and assign them to a list named \"avg_list\". Remove the \"cents\", and \"$\". \n",
        "# Make sure to divide the numbers in cents by 100 so that all numbers are measured in dollar. Print the cleansed avg_list.\n",
        "\n",
        "avg_list = []\n",
        "\n",
        "for rows in data_list:\n",
        "    avg_list.append(rows[3])\n",
        "\n",
        "cleansed_avg_list = []\n",
        "\n",
        "for elem in avg_list:\n",
        "\n",
        "    if \"cents\" in elem:\n",
        "        elem = float(elem.replace(\"cents\\n\", \"\").replace(\" \", \"\")) #I'll unify data types as float\n",
        "        elem = round(elem/100,2)\n",
        "        print(elem)\n",
        "\n",
        "    else:\n",
        "        elem = float(elem.replace(\"\\n\",\"\").replace(\"$\",\"\"))\n",
        "        print(elem)\n",
        "\n",
        "    cleansed_avg_list.append(elem)\n",
        "\n",
        "avg_list = cleansed_avg_list"
      ],
      "execution_count": 678,
      "outputs": [
        {
          "output_type": "stream",
          "text": [
            "0.01\n",
            "0.01\n",
            "0.02\n",
            "0.02\n",
            "0.03\n",
            "0.05\n",
            "0.06\n",
            "0.06\n",
            "0.09\n",
            "0.12\n",
            "0.18\n",
            "0.16\n",
            "0.17\n",
            "0.24\n",
            "0.33\n",
            "0.51\n",
            "0.6\n",
            "0.71\n",
            "1.22\n",
            "4.76\n",
            "10.02\n",
            "15.99\n",
            "42.11\n"
          ],
          "name": "stdout"
        }
      ]
    },
    {
      "cell_type": "markdown",
      "metadata": {
        "id": "cgssjtsVo_Ue",
        "colab_type": "text"
      },
      "source": [
        "# PART IV: Census Cost CSV\n",
        "Coalesce the cleansed data and save them to a text file named \"census_cost.csv\". The new file should look similar to the original source file except that it is in comma-delimited format and the numbers have been cleansed. The top two lines from the original file should be retained in the new file."
      ]
    },
    {
      "cell_type": "code",
      "metadata": {
        "id": "0YXbc3xor6OY",
        "colab_type": "code",
        "colab": {}
      },
      "source": [
        "#(since its only one line, I'll just fix it here)\n",
        "top2_list[0] = top2_list[0].replace(\"\\n\", \"\").split(\"\\t\")\n",
        "top2_list[1] = top2_list[1].replace(\"\\n\", \"\")"
      ],
      "execution_count": 679,
      "outputs": []
    },
    {
      "cell_type": "code",
      "metadata": {
        "id": "pmY92v8TUKRa",
        "colab_type": "code",
        "colab": {
          "base_uri": "https://localhost:8080/",
          "height": 409
        },
        "outputId": "bea707c6-f305-4790-b777-6b6fdfd6f868"
      },
      "source": [
        "#This sets the first rows as a cleaned top2_list\n",
        "new_census_cost = [top2_list]\n",
        "\n",
        "for i in range(2,len(year_list)):\n",
        "    row = [year_list[i], pop_list[i], cost_list[i], avg_list[i]]\n",
        "    new_census_cost.append(row)\n",
        "\n",
        "new_census_cost"
      ],
      "execution_count": 680,
      "outputs": [
        {
          "output_type": "execute_result",
          "data": {
            "text/plain": [
              "[[['Source: https://www.genealogybranches.com/censuscosts.html'],\n",
              "  'Census Year\\tTotal Population\\tCensus Cost\\tAverage Cost Per Person'],\n",
              " [1810, 7239881, 178445, 0.02],\n",
              " [1820, 9633822, 208526, 0.02],\n",
              " [1830, 12866020, 378545, 0.03],\n",
              " [1840, 17069458, 833371, 0.05],\n",
              " [1850, 23191876, 1423351, 0.06],\n",
              " [1860, 31443321, 1969377, 0.06],\n",
              " [1870, 38558371, 3421198, 0.09],\n",
              " [1880, 50155783, 5790678, 0.12],\n",
              " [1890, 62979766, 11547127, 0.18],\n",
              " [1900, 76303387, 11854000, 0.16],\n",
              " [1910, 91972266, 15968000, 0.17],\n",
              " [1920, 105710620, 25117000, 0.24],\n",
              " [1930, 122775046, 40156000, 0.33],\n",
              " [1940, 131669275, 67527000, 0.51],\n",
              " [1950, 151325798, 91462000, 0.6],\n",
              " [1960, 179323175, 127934000, 0.71],\n",
              " [1970, 203302031, 247653000, 1.22],\n",
              " [1980, 226542199, 1078488000, 4.76],\n",
              " [1990, 248718301, 2492830000, 10.02],\n",
              " [2000, 281421906, 45000000000, 15.99],\n",
              " [2010, 308745538, 13000000000, 42.11]]"
            ]
          },
          "metadata": {
            "tags": []
          },
          "execution_count": 680
        }
      ]
    },
    {
      "cell_type": "code",
      "metadata": {
        "id": "8eonM6sNbMH2",
        "colab_type": "code",
        "colab": {}
      },
      "source": [
        "# Found a conversion and import that converts data from list of lists to .CSV\n",
        "\n",
        "import csv\n",
        "\n",
        "with open('census_cost.csv', 'w', newline='') as f:\n",
        "    writer = csv.writer(f)\n",
        "    writer.writerows(new_census_cost)"
      ],
      "execution_count": 681,
      "outputs": []
    },
    {
      "cell_type": "markdown",
      "metadata": {
        "id": "R-uremBBZTEo",
        "colab_type": "text"
      },
      "source": [
        "# Part V. Completing the Data"
      ]
    },
    {
      "cell_type": "markdown",
      "metadata": {
        "id": "kbUMoNAn-19J",
        "colab_type": "text"
      },
      "source": [
        "Coalesce the cleansed data and save them to a text file named \"census_cost.csv\". The new file should look similar to the original source file except that it is in comma-delimited format and the numbers have been cleansed. "
      ]
    },
    {
      "cell_type": "markdown",
      "metadata": {
        "id": "2BEmSRq0YDx8",
        "colab_type": "text"
      },
      "source": [
        "The top two lines from the original file should be retained in the new file.\n",
        "Open the newly-created file \"census_cost.csv\", read all lines and display them. How does it look?"
      ]
    },
    {
      "cell_type": "code",
      "metadata": {
        "id": "i8BdyGSpW8yf",
        "colab_type": "code",
        "colab": {
          "base_uri": "https://localhost:8080/",
          "height": 54
        },
        "outputId": "bafb8f2c-b71d-45c3-a583-84e398b4d344"
      },
      "source": [
        "file_name_csv = \"/content/census_cost.csv\"\n",
        "\n",
        "with open(file_name_csv) as my_file:\n",
        "    csv_list = my_file.readlines()\n",
        "\n",
        "print(csv_list)"
      ],
      "execution_count": 682,
      "outputs": [
        {
          "output_type": "stream",
          "text": [
            "[\"['Source: https://www.genealogybranches.com/censuscosts.html'],Census Year\\tTotal Population\\tCensus Cost\\tAverage Cost Per Person\\n\", '1810,7239881,178445,0.02\\n', '1820,9633822,208526,0.02\\n', '1830,12866020,378545,0.03\\n', '1840,17069458,833371,0.05\\n', '1850,23191876,1423351,0.06\\n', '1860,31443321,1969377,0.06\\n', '1870,38558371,3421198,0.09\\n', '1880,50155783,5790678,0.12\\n', '1890,62979766,11547127,0.18\\n', '1900,76303387,11854000,0.16\\n', '1910,91972266,15968000,0.17\\n', '1920,105710620,25117000,0.24\\n', '1930,122775046,40156000,0.33\\n', '1940,131669275,67527000,0.51\\n', '1950,151325798,91462000,0.6\\n', '1960,179323175,127934000,0.71\\n', '1970,203302031,247653000,1.22\\n', '1980,226542199,1078488000,4.76\\n', '1990,248718301,2492830000,10.02\\n', '2000,281421906,45000000000,15.99\\n', '2010,308745538,13000000000,42.11\\n']\n"
          ],
          "name": "stdout"
        }
      ]
    },
    {
      "cell_type": "markdown",
      "metadata": {
        "id": "tU2DfUkeiFkK",
        "colab_type": "text"
      },
      "source": [
        "*NOTE: It displays... but there is a small issue and error somewhere that I was not sure of. The first and second lines did not properly split. However, all of the data was converted in successfully and put into a .csv file readable with Excel.*"
      ]
    },
    {
      "cell_type": "markdown",
      "metadata": {
        "id": "bkuKhuPuZa9Z",
        "colab_type": "text"
      },
      "source": [
        "Give yourself a pat on the back. Good job! \n",
        "Now you know what data scientists do most of time: Data Cleansing."
      ]
    }
  ]
}
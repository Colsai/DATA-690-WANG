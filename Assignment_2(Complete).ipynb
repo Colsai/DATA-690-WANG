{
  "nbformat": 4,
  "nbformat_minor": 0,
  "metadata": {
    "kernelspec": {
      "display_name": "Python 3",
      "language": "python",
      "name": "python3"
    },
    "language_info": {
      "codemirror_mode": {
        "name": "ipython",
        "version": 3
      },
      "file_extension": ".py",
      "mimetype": "text/x-python",
      "name": "python",
      "nbconvert_exporter": "python",
      "pygments_lexer": "ipython3",
      "version": "3.8.1"
    },
    "colab": {
      "name": "Assignment-2(finished).ipynb",
      "provenance": [],
      "collapsed_sections": [],
      "include_colab_link": true
    }
  },
  "cells": [
    {
      "cell_type": "markdown",
      "metadata": {
        "id": "view-in-github",
        "colab_type": "text"
      },
      "source": [
        "<a href=\"https://colab.research.google.com/github/Colsai/DATA-690-WANG/blob/master/Assignment_2(Complete).ipynb\" target=\"_parent\"><img src=\"https://colab.research.google.com/assets/colab-badge.svg\" alt=\"Open In Colab\"/></a>"
      ]
    },
    {
      "cell_type": "markdown",
      "metadata": {
        "id": "A2BrUaiyZzQ5",
        "colab_type": "text"
      },
      "source": [
        "# Scott Hirabayashi / DATA690 / Wang"
      ]
    },
    {
      "cell_type": "code",
      "metadata": {
        "id": "Mj5T0TR94GvY",
        "colab_type": "code",
        "colab": {}
      },
      "source": [
        "#Thank you for the help on Sunday. It helped me to work through the sum function and improve the input function!"
      ],
      "execution_count": 149,
      "outputs": []
    },
    {
      "cell_type": "markdown",
      "metadata": {
        "id": "aTSj3BIwZzQ6",
        "colab_type": "text"
      },
      "source": [
        "# Assignment 02 (690 WANG) Due 9/6 at 11:59pm.\n",
        "\n",
        "*Prompts a user to enter 10 integers. If the user enters anything other than integers, remind her that only integers are allowed and let her retry. Don't allow the user to enter more than 10 or less than 10 integers. Display the 10 integers back to the user at the end. Calculate the following statistics from the 10 integers entered:*\n",
        "- *Minimum OK*\n",
        "- *Maximum OK*\n",
        "- *Range OK*\n",
        "- *Mean OK*\n",
        "- *Variance OK*\n",
        "- *Standard Deviation OK*"
      ]
    },
    {
      "cell_type": "markdown",
      "metadata": {
        "id": "O330tLgWZzQ7",
        "colab_type": "text"
      },
      "source": [
        "# 1. Prompt the user to enter 10 integers: \n",
        "Use 'Input'\n",
        "\n",
        "- Make For loop to Iterate  \n",
        "for i in range(3):\n",
        "    add_int = int(input(\"Please enter an integer:\"))  \n",
        "    listed_nums.append(add_int)  \n",
        "    i+=1  \n",
        "\n",
        "- Prints the variable before the next Cell  \n",
        "print(listed_nums)"
      ]
    },
    {
      "cell_type": "markdown",
      "metadata": {
        "id": "u4hpjCJmvZrr",
        "colab_type": "text"
      },
      "source": [
        "# 2. Prompt the user to enter 10 integers: \n",
        "You can use 'except'  \n",
        "or 'except ValueError'"
      ]
    },
    {
      "cell_type": "code",
      "metadata": {
        "id": "gI3nZRyzlwZW",
        "colab_type": "code",
        "colab": {
          "base_uri": "https://localhost:8080/",
          "height": 202
        },
        "outputId": "d64ef247-62dd-4846-9bb0-b31ecf3aef69"
      },
      "source": [
        "int_list = [] #Create an empty list that will be added to through our loop\n",
        "num_ints = 10 #Change value if you want to check for more numbers\n",
        "\n",
        "for int_val in range(num_ints): #Sets number of elements asked \n",
        "    while True: \n",
        "        try:\n",
        "            x=int(input(f\"Please type an Integer value {int_val+1} of {num_ints}: \"))\n",
        "            break #break prevents broken loop and loss\n",
        "        except:\n",
        "            print(\"ERROR: Not an Integer (disallows STR/FLT/LIST/etc)\") #Error Message\n",
        "\n",
        "    int_list.append(x)\n",
        "    int_val+=1\n",
        "\n",
        "print(int_list)"
      ],
      "execution_count": 139,
      "outputs": [
        {
          "output_type": "stream",
          "text": [
            "Please type an Integer value 1 of 10: 5\n",
            "Please type an Integer value 2 of 10: 2\n",
            "Please type an Integer value 3 of 10: 6\n",
            "Please type an Integer value 4 of 10: 3\n",
            "Please type an Integer value 5 of 10: 4\n",
            "Please type an Integer value 6 of 10: 5\n",
            "Please type an Integer value 7 of 10: 6\n",
            "Please type an Integer value 8 of 10: 1\n",
            "Please type an Integer value 9 of 10: 2\n",
            "Please type an Integer value 10 of 10: 6\n",
            "[5, 2, 6, 3, 4, 5, 6, 1, 2, 6]\n"
          ],
          "name": "stdout"
        }
      ]
    },
    {
      "cell_type": "code",
      "metadata": {
        "id": "AcZvmHdo2i5M",
        "colab_type": "code",
        "colab": {
          "base_uri": "https://localhost:8080/",
          "height": 34
        },
        "outputId": "376019a6-914d-44f2-c4ed-84b29216a1ad"
      },
      "source": [
        "print(int_list) #Let's take a look at the list"
      ],
      "execution_count": 140,
      "outputs": [
        {
          "output_type": "stream",
          "text": [
            "[5, 2, 6, 3, 4, 5, 6, 1, 2, 6]\n"
          ],
          "name": "stdout"
        }
      ]
    },
    {
      "cell_type": "markdown",
      "metadata": {
        "id": "leKowau9vmcu",
        "colab_type": "text"
      },
      "source": [
        "# 3. Minimum and Maximum, and as Functions:\n",
        "Either by comparing each, or just using min/max functions to save time\n",
        "It's slow, but I iterate through each element with a for loop, starting with the first element and comparing with subsequent elements."
      ]
    },
    {
      "cell_type": "code",
      "metadata": {
        "id": "i0a-2pabvvRa",
        "colab_type": "code",
        "colab": {}
      },
      "source": [
        "min_val=int_list[0] #Sets the starting value as the first element of list 'test'\n",
        "\n",
        "#Minimum\n",
        "for i in int_list:\n",
        "    if i<=min_val:\n",
        "        min_val=i\n",
        "    i+=1\n",
        "print(min_val)"
      ],
      "execution_count": null,
      "outputs": []
    },
    {
      "cell_type": "code",
      "metadata": {
        "id": "H_xy-c0QxlBe",
        "colab_type": "code",
        "colab": {}
      },
      "source": [
        "#As a function\n",
        "def int_min(list_input):\n",
        "    min_val=list_input[0] #Sets the starting value as the first element of list 'test'\n",
        "\n",
        "    #Minimum\n",
        "    for i in list_input:\n",
        "        if i<=min_val:\n",
        "            min_val=i\n",
        "        i+=1\n",
        "    return(min_val)\n",
        "\n",
        "int_mean(int_list)"
      ],
      "execution_count": null,
      "outputs": []
    },
    {
      "cell_type": "markdown",
      "metadata": {
        "id": "V2s7EBRfy964",
        "colab_type": "text"
      },
      "source": [
        "## 3a. Maximum function and value\n",
        "Very Similar as Above ^"
      ]
    },
    {
      "cell_type": "code",
      "metadata": {
        "id": "ZfzHrMZ4jIMD",
        "colab_type": "code",
        "colab": {}
      },
      "source": [
        "max_val=int_list[0] #Sets the starting value as the first element of list 'test'\n",
        "\n",
        "#Maximum\n",
        "for i in int_list:\n",
        "    if i>=max_val:\n",
        "        max_val=i\n",
        "    i+=1\n",
        "print(max_val)"
      ],
      "execution_count": null,
      "outputs": []
    },
    {
      "cell_type": "code",
      "metadata": {
        "id": "luvsUfeGx_Zq",
        "colab_type": "code",
        "colab": {
          "base_uri": "https://localhost:8080/",
          "height": 34
        },
        "outputId": "6e6bf3c9-75ea-4040-b283-c6e7f01c624b"
      },
      "source": [
        "def int_max(list_input):\n",
        "    max_val=list_input[0] #Sets the starting value as the first element of list 'test'\n",
        "\n",
        "    #Maximum\n",
        "    for i in list_input:\n",
        "        if i>=max_val:\n",
        "            max_val=i\n",
        "        i+=1\n",
        "    return(max_val)\n",
        "\n",
        "int_max(int_list)"
      ],
      "execution_count": 130,
      "outputs": [
        {
          "output_type": "execute_result",
          "data": {
            "text/plain": [
              "67"
            ]
          },
          "metadata": {
            "tags": []
          },
          "execution_count": 130
        }
      ]
    },
    {
      "cell_type": "code",
      "metadata": {
        "id": "8-NWT-A57Dbo",
        "colab_type": "code",
        "colab": {
          "base_uri": "https://localhost:8080/",
          "height": 50
        },
        "outputId": "fc01994c-d0c3-4eac-ccb5-17e4bd73969d"
      },
      "source": [
        "#With built in min/max\n",
        "\n",
        "int_list\n",
        "\n",
        "d_min = min(int_list)\n",
        "print(f\"The min is {d_min}.\")\n",
        "\n",
        "d_max = max(int_list)\n",
        "print(f\"The max is {d_max}.\")"
      ],
      "execution_count": 132,
      "outputs": [
        {
          "output_type": "stream",
          "text": [
            "The min is 1.\n",
            "The max is 67.\n"
          ],
          "name": "stdout"
        }
      ]
    },
    {
      "cell_type": "markdown",
      "metadata": {
        "id": "CksDjG8OzUvQ",
        "colab_type": "text"
      },
      "source": [
        "## 3b. Range\n",
        "Range is just max - min. Also...\n",
        "\n",
        "Also: print(f\"The max is {d_max - d_min}.\" )"
      ]
    },
    {
      "cell_type": "code",
      "metadata": {
        "id": "5qGr_nNdZzRA",
        "colab_type": "code",
        "colab": {
          "base_uri": "https://localhost:8080/",
          "height": 67
        },
        "outputId": "61f1d47c-0a06-4c4a-9683-4ea8ead71e1b"
      },
      "source": [
        "#Sorting Method for Range\n",
        "int_list\n",
        "\n",
        "sorted(int_list)\n",
        "\n",
        "minimum = int_list[0]\n",
        "maximum = int_list[-1]\n",
        "\n",
        "list_range = maximum - minimum\n",
        "\n",
        "print(f\"Minimum: {minimum}\")\n",
        "print(f\"Maximum: {maximum}\")\n",
        "print(f\"Range: {list_range}\")"
      ],
      "execution_count": 141,
      "outputs": [
        {
          "output_type": "stream",
          "text": [
            "Minimum: 5\n",
            "Maximum: 6\n",
            "Range: 1\n"
          ],
          "name": "stdout"
        }
      ]
    },
    {
      "cell_type": "code",
      "metadata": {
        "id": "Um3GNO5hxOMZ",
        "colab_type": "code",
        "colab": {
          "base_uri": "https://localhost:8080/",
          "height": 34
        },
        "outputId": "fe6c3e27-a0e7-4853-e4ab-d65b925a8514"
      },
      "source": [
        "print(int_list) #Checking what the list was again"
      ],
      "execution_count": 144,
      "outputs": [
        {
          "output_type": "stream",
          "text": [
            "[5, 2, 6, 3, 4, 5, 6, 1, 2, 6]\n"
          ],
          "name": "stdout"
        }
      ]
    },
    {
      "cell_type": "code",
      "metadata": {
        "id": "YL3BSsYt57K4",
        "colab_type": "code",
        "colab": {
          "base_uri": "https://localhost:8080/",
          "height": 50
        },
        "outputId": "fb80400f-5921-4e42-a4af-a49ff8c0687a"
      },
      "source": [
        "#Median Function (added this one to look at different measures of central tendency)\n",
        "#(it kind of works)\n",
        "int_list\n",
        "\n",
        "sorted(int_list)\n",
        "print(sorted(int_list))\n",
        "int_median = int_list[round(len(int_list)/2)] #It's -1 because every value is smaller by 1 (index starts at 0)\n",
        "print(f\"The median, {round(len(int_list)/2)}nd/th value is {int_median}.\")"
      ],
      "execution_count": 146,
      "outputs": [
        {
          "output_type": "stream",
          "text": [
            "[1, 2, 2, 3, 4, 5, 5, 6, 6, 6]\n",
            "The median, 5nd/th value is 5.\n"
          ],
          "name": "stdout"
        }
      ]
    },
    {
      "cell_type": "markdown",
      "metadata": {
        "id": "GogB0Sax34b9",
        "colab_type": "text"
      },
      "source": [
        "# Mean Function (2 ways)\n",
        "I will write a short way with inbuilt, and longer version of the functions and then check to compare them.\n",
        "\n",
        "It is impossible to get an empty set, since it would be caught in step one. \n",
        "\n",
        "But I am experimenting with except clauses, so I will keep the ZeroDivisionError\n",
        "\n",
        "*Key is: d_mean = sum(int_list)/len(int_list)*"
      ]
    },
    {
      "cell_type": "code",
      "metadata": {
        "jupyter": {
          "outputs_hidden": true
        },
        "id": "bs5BdSWDZzQ8",
        "colab_type": "code",
        "colab": {
          "base_uri": "https://localhost:8080/",
          "height": 34
        },
        "outputId": "eb87fd80-f0a7-49b1-b4a4-72891ac964f6"
      },
      "source": [
        "#int_list\n",
        "\n",
        "#Mean (Short Version)\n",
        "while True:\n",
        "        try:\n",
        "            d_mean = sum(int_list)/len(int_list)\n",
        "            break\n",
        "        except ZeroDivisionError:\n",
        "            print(\"You have an empty set and zero division error.\")\n",
        "            d_mean = 0\n",
        "            break\n",
        "\n",
        "print(f\"The mean is {d_mean}.\")"
      ],
      "execution_count": 138,
      "outputs": [
        {
          "output_type": "stream",
          "text": [
            "The mean is 10.3.\n"
          ],
          "name": "stdout"
        }
      ]
    },
    {
      "cell_type": "markdown",
      "metadata": {
        "id": "PdkeY_b05h7Y",
        "colab_type": "text"
      },
      "source": [
        "## Mean b. This longer way is compared with the easier one above\n",
        "I also check this value with the mean from the regular function."
      ]
    },
    {
      "cell_type": "code",
      "metadata": {
        "id": "P5mIJro71hte",
        "colab_type": "code",
        "colab": {
          "base_uri": "https://localhost:8080/",
          "height": 50
        },
        "outputId": "53abd024-8308-4fd1-f188-6c66418d56af"
      },
      "source": [
        "#A Created Mean Function\n",
        "def my_sum(int_list):\n",
        "    int_total =0\n",
        "    int_count =0\n",
        "\n",
        "    for number in int_list:\n",
        "        int_total+=number #adds the number to the total\n",
        "        int_count+=1 #counts the number of numbers\n",
        "\n",
        "    int_mean = int_total/int_count #mean is total/n number of occurrences\n",
        "    return(int_mean) #Returns the mean as int_mean\n",
        "\n",
        "#OR Mean with sum and len\n",
        "d_mean = sum(int_list)/len(int_list)\n",
        "print(f\"The mean is {d_mean}.\")\n",
        "\n",
        "d_mean == my_sum(int_list) #Is my function the same as the built-in sum/len? (yes)"
      ],
      "execution_count": 137,
      "outputs": [
        {
          "output_type": "stream",
          "text": [
            "The mean is 10.3.\n"
          ],
          "name": "stdout"
        },
        {
          "output_type": "execute_result",
          "data": {
            "text/plain": [
              "True"
            ]
          },
          "metadata": {
            "tags": []
          },
          "execution_count": 137
        }
      ]
    },
    {
      "cell_type": "markdown",
      "metadata": {
        "id": "X4uSPT4buaqn",
        "colab_type": "text"
      },
      "source": [
        "# Population Variance and Population SD\n",
        "For this section of code:\n",
        "for i in test:\n",
        "    variance_sum += ((i - mean_val) ** 2) \n",
        "    i+=1 #Iterates to next item\n",
        "\n",
        "It goes through each item, adds to the sum value for variance by squaring the difference"
      ]
    },
    {
      "cell_type": "code",
      "metadata": {
        "id": "Mj6pQeIxuFRB",
        "colab_type": "code",
        "colab": {
          "base_uri": "https://localhost:8080/",
          "height": 67
        },
        "outputId": "ab53fe84-ac94-4319-fa43-aa009d6fe466"
      },
      "source": [
        "int_list #Checked with https://www.mathsisfun.com/data/standard-deviation.html\n",
        "\n",
        "# Variance Sum of Squares\n",
        "variance_sum = 0\n",
        "\n",
        "sum(int_list)\n",
        "mean_val = sum(int_list) / len(int_list) #We proved the created function worked, but lets use this here.\n",
        "\n",
        "for i in int_list:\n",
        "    variance_sum += ((i - mean_val) ** 2) #Variance is the sum of all of the differences of squares. We add them.\n",
        "    i+=1 #Iterates to next item\n",
        "\n",
        "pop_variance = variance_sum/(len(int_list)) #The Population Variance is sum of sq/n-1\n",
        "\n",
        "print((f\"Mean: {mean_val}\"))\n",
        "print((f\"Population Variance: {pop_variance}\"))\n",
        "\n",
        "pop_standard_dev = pop_variance ** (1/2) #We root the sample variance for SD\n",
        "\n",
        "print(f\"Population Standard Dev: {round(pop_standard_dev,5)}\")"
      ],
      "execution_count": 136,
      "outputs": [
        {
          "output_type": "stream",
          "text": [
            "Mean: 10.3\n",
            "Population Variance: 363.61\n",
            "Population Standard Dev: 19.06856\n"
          ],
          "name": "stdout"
        }
      ]
    },
    {
      "cell_type": "markdown",
      "metadata": {
        "id": "HyNLFMwMuu_K",
        "colab_type": "text"
      },
      "source": [
        "# Sample Variance and Sample SD\n",
        "Mostly the same, except n-1 (sample pop accounts for sample = pop by n-1)\n",
        "\n",
        "For this section of code:\n",
        "for i in test:\n",
        "    variance_sum += ((i - mean_val) ** 2) \n",
        "    i+=1 #Iterates to next item\n",
        "\n",
        "It goes through each item, adds to the sum value for variance by squaring the difference"
      ]
    },
    {
      "cell_type": "code",
      "metadata": {
        "id": "3LkInkM9ZzRH",
        "colab_type": "code",
        "colab": {
          "base_uri": "https://localhost:8080/",
          "height": 67
        },
        "outputId": "8ac61db6-2b4c-4a37-aa05-948fd306ceec"
      },
      "source": [
        "int_list #Checked with https://www.mathsisfun.com/data/standard-deviation.html\n",
        "\n",
        "# Variance Sum of Squares\n",
        "variance_sum = 0\n",
        "\n",
        "sum(int_list)\n",
        "mean_val = sum(int_list) / len(int_list) #We proved the created function worked, but lets use this here.\n",
        "\n",
        "for i in int_list:\n",
        "    variance_sum += ((i - mean_val) ** 2) #Variance is the sum of all of the differences of squares. We add them.\n",
        "    i+=1 #Iterates to next item in the list\n",
        "\n",
        "sample_variance = variance_sum/(len(int_list)-1) #The Sample Variance is sum of sq/n-1\n",
        "\n",
        "print((f\"Mean: {mean_val}\"))\n",
        "print((f\"Sample Variance: {sample_variance}\"))\n",
        "\n",
        "sample_standard_dev = sample_variance ** (1/2) #We root the sample variance for SD\n",
        "\n",
        "print(f\"Sample Standard Dev: {round(sample_standard_dev,5)}\")"
      ],
      "execution_count": 135,
      "outputs": [
        {
          "output_type": "stream",
          "text": [
            "Mean: 10.3\n",
            "Sample Variance: 404.0111111111111\n",
            "Sample Standard Dev: 20.10003\n"
          ],
          "name": "stdout"
        }
      ]
    },
    {
      "cell_type": "markdown",
      "metadata": {
        "id": "zmtbLjyuZzRO",
        "colab_type": "text"
      },
      "source": [
        "# Checklist\n",
        "\n",
        "Calculate the following statistics from the 10 integers entered:\n",
        "\n",
        "- Minimum OK\n",
        "- Maximum OK\n",
        "- Range OK\n",
        "- Mean OK\n",
        "- Variance OK\n",
        "- Standard Deviation OK"
      ]
    },
    {
      "cell_type": "markdown",
      "metadata": {
        "id": "E3jcOa8RZzRS",
        "colab_type": "text"
      },
      "source": [
        "# Note:\n",
        "#Use the basic Python concepts and methods. Special Python libraries such as statistics, scipy, or numpy are not allowed. You may need to use:\n",
        "\n",
        "loops (finite and/or infinite loop)\n",
        "break/continue\n",
        "try/except\n",
        "input() function\n",
        "int() function\n",
        "Implement the solution in the following two different formats:  \n",
        "\n",
        "A Jupyter Notebook (.ipynb)\n",
        "A Python script (.py)\n",
        "Your source code should be well formatted and easy to read and understand.  \n",
        "\n",
        "Provide good comments/documentations:\n",
        "\n",
        "Use both Markdown and comments in the Jupyter Notebook.\n",
        "Use comments in the Python script.\n",
        "Your user prompts, use inputs and output displays should be nicely formatted when users run your program.\n",
        "\n",
        "Create a subfolder named \"Assignment-01\" in your GitHub repository (WANG-690-FALL-2020) and upload the two files to the subfolder.\n",
        "\n",
        "Copy your GitHub repository URL to your assignment submission in Blackboard. No files should be uploaded to the BB."
      ]
    }
  ]
}
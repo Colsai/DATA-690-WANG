{
  "nbformat": 4,
  "nbformat_minor": 0,
  "metadata": {
    "colab": {
      "name": "practice 14.ipynb",
      "provenance": [],
      "collapsed_sections": [],
      "authorship_tag": "ABX9TyNsZLwAg1JAjBPHggUC4Fj3",
      "include_colab_link": true
    },
    "kernelspec": {
      "name": "python3",
      "display_name": "Python 3"
    }
  },
  "cells": [
    {
      "cell_type": "markdown",
      "metadata": {
        "id": "view-in-github",
        "colab_type": "text"
      },
      "source": [
        "<a href=\"https://colab.research.google.com/github/Colsai/DATA-690-WANG/blob/master/Class_14/practice_14.ipynb\" target=\"_parent\"><img src=\"https://colab.research.google.com/assets/colab-badge.svg\" alt=\"Open In Colab\"/></a>"
      ]
    },
    {
      "cell_type": "code",
      "metadata": {
        "id": "Dmq5kdU9Lk2z"
      },
      "source": [
        "#Practice Assignment\n",
        "line = \"FeasibilityTol  1e-09|OptimalityTol  1e-09|BarQCPConvTol  0|GomoryPasses  0|AggFill  1000|NumericFocus  3|PrePasses  8|Presolve  1|Threads  8|TuneTimeLimit  60|TuneResults  1|TuneCriterion  0|Original Runtime:0.06244611740112305New Runtime:0.09337711334228516\""
      ],
      "execution_count": null,
      "outputs": []
    },
    {
      "cell_type": "code",
      "metadata": {
        "colab": {
          "base_uri": "https://localhost:8080/"
        },
        "id": "JIMW-e7JMR6Q",
        "outputId": "e82ec4aa-5af4-4f84-bb6e-5acbe2c4d3fd"
      },
      "source": [
        "#What is the type of the new line?\n",
        "type(new_line)"
      ],
      "execution_count": null,
      "outputs": [
        {
          "output_type": "execute_result",
          "data": {
            "text/plain": [
              "list"
            ]
          },
          "metadata": {
            "tags": []
          },
          "execution_count": 81
        }
      ]
    },
    {
      "cell_type": "code",
      "metadata": {
        "colab": {
          "base_uri": "https://localhost:8080/"
        },
        "id": "1jrs6mAHLtdU",
        "outputId": "d7cac1da-a8f8-4f4e-e90b-1e273c792e02"
      },
      "source": [
        "#Split each of the elements of the list on the \"|\" character\n",
        "new_line = line.split(\"|\")\n",
        "new_line"
      ],
      "execution_count": null,
      "outputs": [
        {
          "output_type": "execute_result",
          "data": {
            "text/plain": [
              "['FeasibilityTol  1e-09',\n",
              " 'OptimalityTol  1e-09',\n",
              " 'BarQCPConvTol  0',\n",
              " 'GomoryPasses  0',\n",
              " 'AggFill  1000',\n",
              " 'NumericFocus  3',\n",
              " 'PrePasses  8',\n",
              " 'Presolve  1',\n",
              " 'Threads  8',\n",
              " 'TuneTimeLimit  60',\n",
              " 'TuneResults  1',\n",
              " 'TuneCriterion  0',\n",
              " 'Original Runtime:0.06244611740112305New Runtime:0.09337711334228516']"
            ]
          },
          "metadata": {
            "tags": []
          },
          "execution_count": 82
        }
      ]
    },
    {
      "cell_type": "code",
      "metadata": {
        "id": "7mPSZLIGNLQv"
      },
      "source": [
        "#What is the last element of the stuff\n",
        "last_item = new_line[-1]"
      ],
      "execution_count": null,
      "outputs": []
    },
    {
      "cell_type": "code",
      "metadata": {
        "colab": {
          "base_uri": "https://localhost:8080/"
        },
        "id": "imHa7_0cNVyP",
        "outputId": "544d0cd7-95e9-4e33-d67b-6be939cb84e4"
      },
      "source": [
        "#Find \"New\"\n",
        "last_item.find(\"New\")"
      ],
      "execution_count": null,
      "outputs": [
        {
          "output_type": "execute_result",
          "data": {
            "text/plain": [
              "36"
            ]
          },
          "metadata": {
            "tags": []
          },
          "execution_count": 84
        }
      ]
    },
    {
      "cell_type": "code",
      "metadata": {
        "id": "obAgVRBrOBmw"
      },
      "source": [
        "#Split into two parts\n",
        "part_1 = new_line[-1][0:36]\n",
        "part_2 = new_line[-1][36:]"
      ],
      "execution_count": null,
      "outputs": []
    },
    {
      "cell_type": "code",
      "metadata": {
        "colab": {
          "base_uri": "https://localhost:8080/",
          "height": 35
        },
        "id": "Gqi8EmkOOPGg",
        "outputId": "4963dd20-a2b9-4e2b-889c-5f1419b16314"
      },
      "source": [
        "part_1"
      ],
      "execution_count": null,
      "outputs": [
        {
          "output_type": "execute_result",
          "data": {
            "application/vnd.google.colaboratory.intrinsic+json": {
              "type": "string"
            },
            "text/plain": [
              "'Original Runtime:0.06244611740112305'"
            ]
          },
          "metadata": {
            "tags": []
          },
          "execution_count": 86
        }
      ]
    },
    {
      "cell_type": "code",
      "metadata": {
        "id": "m9NC9QlpOVNd"
      },
      "source": [
        "part_1 = part_1.split(\":\")\n",
        "part_2 = part_2.split(\":\")"
      ],
      "execution_count": null,
      "outputs": []
    },
    {
      "cell_type": "code",
      "metadata": {
        "id": "C4bEdet-O_Jf"
      },
      "source": [
        "#Get the two items, then:\n",
        "diff = float(part_2[1])-float(part_1[1])"
      ],
      "execution_count": null,
      "outputs": []
    },
    {
      "cell_type": "code",
      "metadata": {
        "id": "o38aw1VbPq2L",
        "colab": {
          "base_uri": "https://localhost:8080/"
        },
        "outputId": "370e7a34-db5c-4ab7-c271-0b13a413db7b"
      },
      "source": [
        "diff"
      ],
      "execution_count": null,
      "outputs": [
        {
          "output_type": "execute_result",
          "data": {
            "text/plain": [
              "0.03093099594116211"
            ]
          },
          "metadata": {
            "tags": []
          },
          "execution_count": 91
        }
      ]
    },
    {
      "cell_type": "code",
      "metadata": {
        "id": "i3e6U-eVLu_m"
      },
      "source": [
        "split_line = []\n",
        "\n",
        "for item in new_line:\n",
        "    split_line.append(item.split(\"  \"))"
      ],
      "execution_count": null,
      "outputs": []
    },
    {
      "cell_type": "code",
      "metadata": {
        "id": "gKKCN5_rMCRF"
      },
      "source": [
        ""
      ],
      "execution_count": null,
      "outputs": []
    },
    {
      "cell_type": "code",
      "metadata": {
        "id": "awXzcbMCMDXa"
      },
      "source": [
        ""
      ],
      "execution_count": null,
      "outputs": []
    }
  ]
}
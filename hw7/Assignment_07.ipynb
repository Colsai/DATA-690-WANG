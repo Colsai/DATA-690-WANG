{
  "nbformat": 4,
  "nbformat_minor": 0,
  "metadata": {
    "kernelspec": {
      "display_name": "Python 3",
      "language": "python",
      "name": "python3"
    },
    "language_info": {
      "codemirror_mode": {
        "name": "ipython",
        "version": 3
      },
      "file_extension": ".py",
      "mimetype": "text/x-python",
      "name": "python",
      "nbconvert_exporter": "python",
      "pygments_lexer": "ipython3",
      "version": "3.7.1"
    },
    "colab": {
      "name": "Assignment_07.ipynb",
      "provenance": [],
      "collapsed_sections": [],
      "toc_visible": true,
      "include_colab_link": true
    }
  },
  "cells": [
    {
      "cell_type": "markdown",
      "metadata": {
        "id": "view-in-github",
        "colab_type": "text"
      },
      "source": [
        "<a href=\"https://colab.research.google.com/github/Colsai/DATA-690-WANG/blob/master/hw7/Assignment_07.ipynb\" target=\"_parent\"><img src=\"https://colab.research.google.com/assets/colab-badge.svg\" alt=\"Open In Colab\"/></a>"
      ]
    },
    {
      "cell_type": "code",
      "metadata": {
        "id": "jEmrTqnob8xZ",
        "outputId": "f4b92f68-1605-48e7-99b4-4255562086d9",
        "colab": {
          "base_uri": "https://localhost:8080/",
          "height": 33
        }
      },
      "source": [
        "#I'm doing this through Colab (Mounting Drive)\n",
        "from google.colab import drive\n",
        "drive.mount('/content/drive')"
      ],
      "execution_count": 55,
      "outputs": [
        {
          "output_type": "stream",
          "text": [
            "Drive already mounted at /content/drive; to attempt to forcibly remount, call drive.mount(\"/content/drive\", force_remount=True).\n"
          ],
          "name": "stdout"
        }
      ]
    },
    {
      "cell_type": "markdown",
      "metadata": {
        "id": "02rFSC_-6zKz"
      },
      "source": [
        "### Assignment 07\n",
        "\n",
        "**You can use the local Jupyter environment if you are not comfortable with Colab for this assignment.**\n",
        "\n",
        "The first half of this assignment is a repeat of assignment 05.\n",
        "\n",
        "This gives you a chance to refresh.\n",
        "\n",
        "The second half is new and gives you a chance to perform additional practices.\n",
        "\n",
        "You also get a chance to use some of the Python libraries and techniques.\n",
        "\n",
        "You will unzip the zip file manually in preparation for this assignment.\n",
        "\n",
        "The link to the zip file is (you have already used it in your assignment 5):\n",
        "\n",
        "https://ed-public-download.app.cloud.gov/downloads/CollegeScorecard_Raw_Data.zip\n",
        "\n",
        "After unzipping, You will have all files in one folder named \"CollegeScorecard_Raw_Data\" \n",
        "\n",
        "The folder contains the yearly data files from 1996 to 2019 school years.\n",
        "\n",
        "if you are using your local environment, I suggest you create a new folder call \"Assignment7\" and place the Notebook file and the data folder under it.\n",
        "```\n",
        "Assignment7/\n",
        "    - assignment_07.ipynb\n",
        "    - CollegeScorecard_Raw_Data/\n",
        "        - ...\n",
        "        - 'MERGED1996_97_PP.csv',\n",
        "        - 'MERGED2015_16_PP.csv',\n",
        "        - ...\n",
        "        - 'MERGED2017_18_PP.csv'\n",
        "```\n"
      ]
    },
    {
      "cell_type": "code",
      "metadata": {
        "id": "CfSasSG36zK1"
      },
      "source": [
        "# Import libraries\n",
        "\n",
        "#(Write code here)\n",
        "import pandas as pd\n",
        "import numpy as np\n",
        "import matplotlib.pyplot as plt\n",
        "import seaborn as sns\n",
        "import os"
      ],
      "execution_count": 56,
      "outputs": []
    },
    {
      "cell_type": "code",
      "metadata": {
        "id": "duwKxi1L6zK5",
        "outputId": "0b056f67-64c8-4db6-cc2b-d5dec174df2c",
        "colab": {
          "base_uri": "https://localhost:8080/",
          "height": 34
        }
      },
      "source": [
        "# <2> \n",
        "# Display the current workin directory using os.getcwd()\n",
        "# you would need to import a standard Python library called os which stands for operating system,\n",
        "# so place that import statement in the previous cell.\n",
        "# Since your notebook and your data files are not in # the same folder, \n",
        "# you want to make sure what is the current working folder and \n",
        "# how to access a data file in a different folder\n",
        "\n",
        "#(Write code here)\n",
        "os.getcwd()"
      ],
      "execution_count": 57,
      "outputs": [
        {
          "output_type": "execute_result",
          "data": {
            "application/vnd.google.colaboratory.intrinsic+json": {
              "type": "string"
            },
            "text/plain": [
              "'/content'"
            ]
          },
          "metadata": {
            "tags": []
          },
          "execution_count": 57
        }
      ]
    },
    {
      "cell_type": "code",
      "metadata": {
        "id": "LMBN0HsY6zLA",
        "outputId": "9e56620c-2712-4dd8-df13-116a13109efb",
        "colab": {
          "base_uri": "https://localhost:8080/",
          "height": 436
        }
      },
      "source": [
        "# <3> \n",
        "# os library has a method call listdir which generates a list of files in a directory/folder.\n",
        "# use this method to assign the contents (list of file names) of the data folder to a variable and display it.\n",
        "# # You can use ../ construct to traverse to the parent folder and then to another foloder parallel to the current folder\n",
        "\n",
        "#(Write code here)\n",
        "os.listdir('drive/My Drive/College Data')"
      ],
      "execution_count": 58,
      "outputs": [
        {
          "output_type": "execute_result",
          "data": {
            "text/plain": [
              "['FieldOfStudyData1415_1516_PP.csv',\n",
              " 'FieldOfStudyData1516_1617_PP.csv',\n",
              " 'MERGED2018_19_PP.csv',\n",
              " 'MERGED1996_97_PP.csv',\n",
              " 'MERGED2017_18_PP.csv',\n",
              " 'MERGED1997_98_PP.csv',\n",
              " 'MERGED1998_99_PP.csv',\n",
              " 'MERGED1999_00_PP.csv',\n",
              " 'MERGED2000_01_PP.csv',\n",
              " 'MERGED2001_02_PP.csv',\n",
              " 'MERGED2002_03_PP.csv',\n",
              " 'MERGED2003_04_PP.csv',\n",
              " 'MERGED2004_05_PP.csv',\n",
              " 'MERGED2006_07_PP.csv',\n",
              " 'MERGED2005_06_PP.csv',\n",
              " 'MERGED2007_08_PP.csv',\n",
              " 'MERGED2008_09_PP.csv',\n",
              " 'MERGED2009_10_PP.csv',\n",
              " 'MERGED2010_11_PP.csv',\n",
              " 'MERGED2016_17_PP.csv',\n",
              " 'MERGED2012_13_PP.csv',\n",
              " 'MERGED2015_16_PP.csv',\n",
              " 'MERGED2013_14_PP.csv',\n",
              " 'MERGED2014_15_PP.csv',\n",
              " 'MERGED2011_12_PP.csv']"
            ]
          },
          "metadata": {
            "tags": []
          },
          "execution_count": 58
        }
      ]
    },
    {
      "cell_type": "code",
      "metadata": {
        "id": "UCDRqtrf6zLL",
        "outputId": "574ca85d-ca74-41dc-b5df-3ac9d2770a81",
        "colab": {
          "base_uri": "https://localhost:8080/",
          "height": 403
        }
      },
      "source": [
        "# <4> \n",
        "# The folder contains files that are not the yearly data files\n",
        "# write code to remove the unwanted files from the list vsriable \n",
        "# Note: don't remove/delete these files from the folder in your drive\n",
        "# For example, use the file extension to only keep the csv files \n",
        "# or use the name patter - data file name begins with \"MERGED\"\n",
        "# You can use the concept of list comprehension to write just \n",
        "# one line of code as well as using a for loop, your choice.\n",
        "\n",
        "#(Write code here)\n",
        "dir = os.listdir('drive/My Drive/College Data')\n",
        "\n",
        "csv_files = []\n",
        "\n",
        "for file in dir:\n",
        "    if \".csv\" and \"MERGED\" in file:\n",
        "        csv_files.append(file)\n",
        "\n",
        "    else:\n",
        "        csv_files\n",
        "\n",
        "csv_files"
      ],
      "execution_count": 59,
      "outputs": [
        {
          "output_type": "execute_result",
          "data": {
            "text/plain": [
              "['MERGED2018_19_PP.csv',\n",
              " 'MERGED1996_97_PP.csv',\n",
              " 'MERGED2017_18_PP.csv',\n",
              " 'MERGED1997_98_PP.csv',\n",
              " 'MERGED1998_99_PP.csv',\n",
              " 'MERGED1999_00_PP.csv',\n",
              " 'MERGED2000_01_PP.csv',\n",
              " 'MERGED2001_02_PP.csv',\n",
              " 'MERGED2002_03_PP.csv',\n",
              " 'MERGED2003_04_PP.csv',\n",
              " 'MERGED2004_05_PP.csv',\n",
              " 'MERGED2006_07_PP.csv',\n",
              " 'MERGED2005_06_PP.csv',\n",
              " 'MERGED2007_08_PP.csv',\n",
              " 'MERGED2008_09_PP.csv',\n",
              " 'MERGED2009_10_PP.csv',\n",
              " 'MERGED2010_11_PP.csv',\n",
              " 'MERGED2016_17_PP.csv',\n",
              " 'MERGED2012_13_PP.csv',\n",
              " 'MERGED2015_16_PP.csv',\n",
              " 'MERGED2013_14_PP.csv',\n",
              " 'MERGED2014_15_PP.csv',\n",
              " 'MERGED2011_12_PP.csv']"
            ]
          },
          "metadata": {
            "tags": []
          },
          "execution_count": 59
        }
      ]
    },
    {
      "cell_type": "code",
      "metadata": {
        "id": "rtrB8C_R6zLS"
      },
      "source": [
        "# <5> \n",
        "# Now that you have a clean list of the yearly files, you want to loop through them\n",
        "# and read them into a dataframe one at a time. You only load six columns: \n",
        "# [\"UNITID\", \"INSTNM\", \"STABBR\", \"REGION\", \"ADM_RATE\", \"TUITIONFEE_IN\"].\n",
        "# You should use \"usecols\" option of Pandas to avoid reading unwanted columns.\n",
        "# You also want to add a new column call \"YEAR\" to differentiate the data frames from each other.\n",
        "# The YEAR variable should be yyyy format so tht you can convert them into integer.\n",
        "# if you use the format yyyy-yy (such as 1997-98 school year), you will not be able to convert them directly to integer\n",
        "# if you use scatter plot, the YEAR needs to be converted to integer or float. \n",
        "# \n",
        "# You would use an empty list and append the yearly dataframes to the list.\n",
        "# After all data files are loaded and appended to the list, you would use Pandas to concatenate them into a \n",
        "# new single data frame.\n",
        "\n",
        "# Note: this exercise incorporates many techques we learned before\n",
        "# - list (creating an empty, append an item to the list)\n",
        "# - for loop \n",
        "# - read only the needed columns from a file (using usecols option)\n",
        "# - add a new column to a data frame\n",
        "# - concatenate multiple dataframes into a single one\n",
        "# This exercise may appear a big challenging but it worths the effort. You will learn a lot and  love it. I promise.\n",
        "\n",
        "#(Write code here)\n",
        "\n",
        "file_dir = 'drive/My Drive/College Data/'\n",
        "full_df = []\n",
        "\n",
        "for file in csv_files:\n",
        "    df = pd.read_csv(file_dir + file, usecols = [\"UNITID\", \n",
        "                                                 \"INSTNM\", \n",
        "                                                 \"STABBR\", \n",
        "                                                 \"REGION\", \n",
        "                                                 \"ADM_RATE\", \n",
        "                                                 \"TUITIONFEE_IN\"])\n",
        "    \n",
        "    years = file.replace(\"MERGED\",\"\").replace(\"_\",\"\").replace(\"PP.csv\",\"\") #File is YYYY + new YY\n",
        "    years = int(years[0:4]) #Create a substring as only YYYY\n",
        "\n",
        "    df.insert(0, \"YEARS\", years, True) #Insert substring as first column (since year is most useful)\n",
        "    \n",
        "    full_df.append(df)"
      ],
      "execution_count": 60,
      "outputs": []
    },
    {
      "cell_type": "code",
      "metadata": {
        "id": "cNS7MGtvpH0t",
        "outputId": "9ec140ba-dd51-4ab6-e12d-ac40e1c7b9e4",
        "colab": {
          "base_uri": "https://localhost:8080/",
          "height": 392
        }
      },
      "source": [
        "full_df[5]"
      ],
      "execution_count": 61,
      "outputs": [
        {
          "output_type": "execute_result",
          "data": {
            "text/html": [
              "<div>\n",
              "<style scoped>\n",
              "    .dataframe tbody tr th:only-of-type {\n",
              "        vertical-align: middle;\n",
              "    }\n",
              "\n",
              "    .dataframe tbody tr th {\n",
              "        vertical-align: top;\n",
              "    }\n",
              "\n",
              "    .dataframe thead th {\n",
              "        text-align: right;\n",
              "    }\n",
              "</style>\n",
              "<table border=\"1\" class=\"dataframe\">\n",
              "  <thead>\n",
              "    <tr style=\"text-align: right;\">\n",
              "      <th></th>\n",
              "      <th>YEARS</th>\n",
              "      <th>UNITID</th>\n",
              "      <th>INSTNM</th>\n",
              "      <th>STABBR</th>\n",
              "      <th>REGION</th>\n",
              "      <th>ADM_RATE</th>\n",
              "      <th>TUITIONFEE_IN</th>\n",
              "    </tr>\n",
              "  </thead>\n",
              "  <tbody>\n",
              "    <tr>\n",
              "      <th>0</th>\n",
              "      <td>1999</td>\n",
              "      <td>100654</td>\n",
              "      <td>Alabama A &amp; M University</td>\n",
              "      <td>AL</td>\n",
              "      <td>5</td>\n",
              "      <td>NaN</td>\n",
              "      <td>NaN</td>\n",
              "    </tr>\n",
              "    <tr>\n",
              "      <th>1</th>\n",
              "      <td>1999</td>\n",
              "      <td>100663</td>\n",
              "      <td>University of Alabama at Birmingham</td>\n",
              "      <td>AL</td>\n",
              "      <td>5</td>\n",
              "      <td>NaN</td>\n",
              "      <td>NaN</td>\n",
              "    </tr>\n",
              "    <tr>\n",
              "      <th>2</th>\n",
              "      <td>1999</td>\n",
              "      <td>100690</td>\n",
              "      <td>Amridge University</td>\n",
              "      <td>AL</td>\n",
              "      <td>5</td>\n",
              "      <td>NaN</td>\n",
              "      <td>NaN</td>\n",
              "    </tr>\n",
              "    <tr>\n",
              "      <th>3</th>\n",
              "      <td>1999</td>\n",
              "      <td>100706</td>\n",
              "      <td>University of Alabama in Huntsville</td>\n",
              "      <td>AL</td>\n",
              "      <td>5</td>\n",
              "      <td>NaN</td>\n",
              "      <td>NaN</td>\n",
              "    </tr>\n",
              "    <tr>\n",
              "      <th>4</th>\n",
              "      <td>1999</td>\n",
              "      <td>100724</td>\n",
              "      <td>Alabama State University</td>\n",
              "      <td>AL</td>\n",
              "      <td>5</td>\n",
              "      <td>NaN</td>\n",
              "      <td>NaN</td>\n",
              "    </tr>\n",
              "    <tr>\n",
              "      <th>...</th>\n",
              "      <td>...</td>\n",
              "      <td>...</td>\n",
              "      <td>...</td>\n",
              "      <td>...</td>\n",
              "      <td>...</td>\n",
              "      <td>...</td>\n",
              "      <td>...</td>\n",
              "    </tr>\n",
              "    <tr>\n",
              "      <th>6604</th>\n",
              "      <td>1999</td>\n",
              "      <td>436784</td>\n",
              "      <td>Universal Career Community College Inc</td>\n",
              "      <td>PR</td>\n",
              "      <td>9</td>\n",
              "      <td>NaN</td>\n",
              "      <td>NaN</td>\n",
              "    </tr>\n",
              "    <tr>\n",
              "      <th>6605</th>\n",
              "      <td>1999</td>\n",
              "      <td>436809</td>\n",
              "      <td>Willsey Institute</td>\n",
              "      <td>NY</td>\n",
              "      <td>2</td>\n",
              "      <td>NaN</td>\n",
              "      <td>NaN</td>\n",
              "    </tr>\n",
              "    <tr>\n",
              "      <th>6606</th>\n",
              "      <td>1999</td>\n",
              "      <td>437042</td>\n",
              "      <td>ITT Technical Institute-Saint Rose</td>\n",
              "      <td>LA</td>\n",
              "      <td>5</td>\n",
              "      <td>NaN</td>\n",
              "      <td>NaN</td>\n",
              "    </tr>\n",
              "    <tr>\n",
              "      <th>6607</th>\n",
              "      <td>1999</td>\n",
              "      <td>437413</td>\n",
              "      <td>EURO HAIR DESIGN INSTITUTE</td>\n",
              "      <td>FL</td>\n",
              "      <td>5</td>\n",
              "      <td>NaN</td>\n",
              "      <td>NaN</td>\n",
              "    </tr>\n",
              "    <tr>\n",
              "      <th>6608</th>\n",
              "      <td>1999</td>\n",
              "      <td>437431</td>\n",
              "      <td>BUCKS COUNTY COMMUNITY COLLEGE</td>\n",
              "      <td>PA</td>\n",
              "      <td>2</td>\n",
              "      <td>NaN</td>\n",
              "      <td>NaN</td>\n",
              "    </tr>\n",
              "  </tbody>\n",
              "</table>\n",
              "<p>6609 rows × 7 columns</p>\n",
              "</div>"
            ],
            "text/plain": [
              "      YEARS  UNITID  ... ADM_RATE TUITIONFEE_IN\n",
              "0      1999  100654  ...      NaN           NaN\n",
              "1      1999  100663  ...      NaN           NaN\n",
              "2      1999  100690  ...      NaN           NaN\n",
              "3      1999  100706  ...      NaN           NaN\n",
              "4      1999  100724  ...      NaN           NaN\n",
              "...     ...     ...  ...      ...           ...\n",
              "6604   1999  436784  ...      NaN           NaN\n",
              "6605   1999  436809  ...      NaN           NaN\n",
              "6606   1999  437042  ...      NaN           NaN\n",
              "6607   1999  437413  ...      NaN           NaN\n",
              "6608   1999  437431  ...      NaN           NaN\n",
              "\n",
              "[6609 rows x 7 columns]"
            ]
          },
          "metadata": {
            "tags": []
          },
          "execution_count": 61
        }
      ]
    },
    {
      "cell_type": "code",
      "metadata": {
        "id": "CMFHOf3kyTGr"
      },
      "source": [
        "#Concat can be used to combine all the elements within the list\n",
        "full_df = pd.concat(full_df)"
      ],
      "execution_count": 62,
      "outputs": []
    },
    {
      "cell_type": "code",
      "metadata": {
        "id": "Zho1oUNby5lm"
      },
      "source": [
        "#Lets sort the full_df\n",
        "full_df = full_df.sort_values(by=\"YEARS\")"
      ],
      "execution_count": 63,
      "outputs": []
    },
    {
      "cell_type": "code",
      "metadata": {
        "id": "riJxj3vU6zLY",
        "outputId": "e1a0eac0-9325-4edd-93d9-5ed5a788d7f5",
        "colab": {
          "base_uri": "https://localhost:8080/",
          "height": 33
        }
      },
      "source": [
        "# <6> \n",
        "# explore the new dataframe (# of observations, varibles, head, tail, sample, missing values, statistics,etc.)\n",
        "\n",
        "#(Write code here)\n",
        "len(full_df)"
      ],
      "execution_count": 64,
      "outputs": [
        {
          "output_type": "execute_result",
          "data": {
            "text/plain": [
              "163331"
            ]
          },
          "metadata": {
            "tags": []
          },
          "execution_count": 64
        }
      ]
    },
    {
      "cell_type": "code",
      "metadata": {
        "id": "-9PnIMWjzuo8",
        "outputId": "3e19e4b5-e713-4d00-8270-d90464542914",
        "colab": {
          "base_uri": "https://localhost:8080/",
          "height": 33
        }
      },
      "source": [
        "full_df.shape"
      ],
      "execution_count": 65,
      "outputs": [
        {
          "output_type": "execute_result",
          "data": {
            "text/plain": [
              "(163331, 7)"
            ]
          },
          "metadata": {
            "tags": []
          },
          "execution_count": 65
        }
      ]
    },
    {
      "cell_type": "code",
      "metadata": {
        "id": "w_LVrdwDf0VJ",
        "outputId": "7cc0c1ce-55e5-45e8-f142-47362cc34f50",
        "colab": {
          "base_uri": "https://localhost:8080/",
          "height": 277
        }
      },
      "source": [
        "full_df.describe()"
      ],
      "execution_count": 66,
      "outputs": [
        {
          "output_type": "execute_result",
          "data": {
            "text/html": [
              "<div>\n",
              "<style scoped>\n",
              "    .dataframe tbody tr th:only-of-type {\n",
              "        vertical-align: middle;\n",
              "    }\n",
              "\n",
              "    .dataframe tbody tr th {\n",
              "        vertical-align: top;\n",
              "    }\n",
              "\n",
              "    .dataframe thead th {\n",
              "        text-align: right;\n",
              "    }\n",
              "</style>\n",
              "<table border=\"1\" class=\"dataframe\">\n",
              "  <thead>\n",
              "    <tr style=\"text-align: right;\">\n",
              "      <th></th>\n",
              "      <th>YEARS</th>\n",
              "      <th>UNITID</th>\n",
              "      <th>REGION</th>\n",
              "      <th>ADM_RATE</th>\n",
              "      <th>TUITIONFEE_IN</th>\n",
              "    </tr>\n",
              "  </thead>\n",
              "  <tbody>\n",
              "    <tr>\n",
              "      <th>count</th>\n",
              "      <td>163331.000000</td>\n",
              "      <td>1.633310e+05</td>\n",
              "      <td>163330.000000</td>\n",
              "      <td>44911.000000</td>\n",
              "      <td>79194.000000</td>\n",
              "    </tr>\n",
              "    <tr>\n",
              "      <th>mean</th>\n",
              "      <td>2007.249481</td>\n",
              "      <td>9.432395e+05</td>\n",
              "      <td>4.554693</td>\n",
              "      <td>0.692946</td>\n",
              "      <td>11665.505367</td>\n",
              "    </tr>\n",
              "    <tr>\n",
              "      <th>std</th>\n",
              "      <td>6.608266</td>\n",
              "      <td>4.571721e+06</td>\n",
              "      <td>2.189217</td>\n",
              "      <td>0.217062</td>\n",
              "      <td>9985.998016</td>\n",
              "    </tr>\n",
              "    <tr>\n",
              "      <th>min</th>\n",
              "      <td>1996.000000</td>\n",
              "      <td>1.006360e+05</td>\n",
              "      <td>0.000000</td>\n",
              "      <td>0.000000</td>\n",
              "      <td>0.000000</td>\n",
              "    </tr>\n",
              "    <tr>\n",
              "      <th>25%</th>\n",
              "      <td>2002.000000</td>\n",
              "      <td>1.633380e+05</td>\n",
              "      <td>3.000000</td>\n",
              "      <td>0.555000</td>\n",
              "      <td>3776.000000</td>\n",
              "    </tr>\n",
              "    <tr>\n",
              "      <th>50%</th>\n",
              "      <td>2008.000000</td>\n",
              "      <td>2.127800e+05</td>\n",
              "      <td>5.000000</td>\n",
              "      <td>0.717500</td>\n",
              "      <td>9285.000000</td>\n",
              "    </tr>\n",
              "    <tr>\n",
              "      <th>75%</th>\n",
              "      <td>2013.000000</td>\n",
              "      <td>4.075680e+05</td>\n",
              "      <td>6.000000</td>\n",
              "      <td>0.857100</td>\n",
              "      <td>16146.000000</td>\n",
              "    </tr>\n",
              "    <tr>\n",
              "      <th>max</th>\n",
              "      <td>2018.000000</td>\n",
              "      <td>4.914640e+07</td>\n",
              "      <td>9.000000</td>\n",
              "      <td>1.000000</td>\n",
              "      <td>74787.000000</td>\n",
              "    </tr>\n",
              "  </tbody>\n",
              "</table>\n",
              "</div>"
            ],
            "text/plain": [
              "               YEARS        UNITID         REGION      ADM_RATE  TUITIONFEE_IN\n",
              "count  163331.000000  1.633310e+05  163330.000000  44911.000000   79194.000000\n",
              "mean     2007.249481  9.432395e+05       4.554693      0.692946   11665.505367\n",
              "std         6.608266  4.571721e+06       2.189217      0.217062    9985.998016\n",
              "min      1996.000000  1.006360e+05       0.000000      0.000000       0.000000\n",
              "25%      2002.000000  1.633380e+05       3.000000      0.555000    3776.000000\n",
              "50%      2008.000000  2.127800e+05       5.000000      0.717500    9285.000000\n",
              "75%      2013.000000  4.075680e+05       6.000000      0.857100   16146.000000\n",
              "max      2018.000000  4.914640e+07       9.000000      1.000000   74787.000000"
            ]
          },
          "metadata": {
            "tags": []
          },
          "execution_count": 66
        }
      ]
    },
    {
      "cell_type": "code",
      "metadata": {
        "id": "ENVMzZ1ezzO5",
        "outputId": "fecb61b3-d75f-4167-ce23-ee982000af1e",
        "colab": {
          "base_uri": "https://localhost:8080/",
          "height": 133
        }
      },
      "source": [
        "full_df.head(3)"
      ],
      "execution_count": 67,
      "outputs": [
        {
          "output_type": "execute_result",
          "data": {
            "text/html": [
              "<div>\n",
              "<style scoped>\n",
              "    .dataframe tbody tr th:only-of-type {\n",
              "        vertical-align: middle;\n",
              "    }\n",
              "\n",
              "    .dataframe tbody tr th {\n",
              "        vertical-align: top;\n",
              "    }\n",
              "\n",
              "    .dataframe thead th {\n",
              "        text-align: right;\n",
              "    }\n",
              "</style>\n",
              "<table border=\"1\" class=\"dataframe\">\n",
              "  <thead>\n",
              "    <tr style=\"text-align: right;\">\n",
              "      <th></th>\n",
              "      <th>YEARS</th>\n",
              "      <th>UNITID</th>\n",
              "      <th>INSTNM</th>\n",
              "      <th>STABBR</th>\n",
              "      <th>REGION</th>\n",
              "      <th>ADM_RATE</th>\n",
              "      <th>TUITIONFEE_IN</th>\n",
              "    </tr>\n",
              "  </thead>\n",
              "  <tbody>\n",
              "    <tr>\n",
              "      <th>3514</th>\n",
              "      <td>1996</td>\n",
              "      <td>196158</td>\n",
              "      <td>SUNY at Fredonia</td>\n",
              "      <td>NY</td>\n",
              "      <td>2.0</td>\n",
              "      <td>NaN</td>\n",
              "      <td>NaN</td>\n",
              "    </tr>\n",
              "    <tr>\n",
              "      <th>2397</th>\n",
              "      <td>1996</td>\n",
              "      <td>169488</td>\n",
              "      <td>DAVENPORT UNIVERSITY-KALAMAZOO CAMPUS</td>\n",
              "      <td>MI</td>\n",
              "      <td>3.0</td>\n",
              "      <td>NaN</td>\n",
              "      <td>NaN</td>\n",
              "    </tr>\n",
              "    <tr>\n",
              "      <th>2398</th>\n",
              "      <td>1996</td>\n",
              "      <td>169497</td>\n",
              "      <td>DAVENPORT UNIVERSITY-LANSING CAMPUS</td>\n",
              "      <td>MI</td>\n",
              "      <td>3.0</td>\n",
              "      <td>NaN</td>\n",
              "      <td>NaN</td>\n",
              "    </tr>\n",
              "  </tbody>\n",
              "</table>\n",
              "</div>"
            ],
            "text/plain": [
              "      YEARS  UNITID  ... ADM_RATE TUITIONFEE_IN\n",
              "3514   1996  196158  ...      NaN           NaN\n",
              "2397   1996  169488  ...      NaN           NaN\n",
              "2398   1996  169497  ...      NaN           NaN\n",
              "\n",
              "[3 rows x 7 columns]"
            ]
          },
          "metadata": {
            "tags": []
          },
          "execution_count": 67
        }
      ]
    },
    {
      "cell_type": "code",
      "metadata": {
        "id": "meZ-5SfJz61-",
        "outputId": "757dacb7-c143-418c-cf2c-d9e4029450f7",
        "colab": {
          "base_uri": "https://localhost:8080/",
          "height": 133
        }
      },
      "source": [
        "full_df.tail(3)"
      ],
      "execution_count": 68,
      "outputs": [
        {
          "output_type": "execute_result",
          "data": {
            "text/html": [
              "<div>\n",
              "<style scoped>\n",
              "    .dataframe tbody tr th:only-of-type {\n",
              "        vertical-align: middle;\n",
              "    }\n",
              "\n",
              "    .dataframe tbody tr th {\n",
              "        vertical-align: top;\n",
              "    }\n",
              "\n",
              "    .dataframe thead th {\n",
              "        text-align: right;\n",
              "    }\n",
              "</style>\n",
              "<table border=\"1\" class=\"dataframe\">\n",
              "  <thead>\n",
              "    <tr style=\"text-align: right;\">\n",
              "      <th></th>\n",
              "      <th>YEARS</th>\n",
              "      <th>UNITID</th>\n",
              "      <th>INSTNM</th>\n",
              "      <th>STABBR</th>\n",
              "      <th>REGION</th>\n",
              "      <th>ADM_RATE</th>\n",
              "      <th>TUITIONFEE_IN</th>\n",
              "    </tr>\n",
              "  </thead>\n",
              "  <tbody>\n",
              "    <tr>\n",
              "      <th>4544</th>\n",
              "      <td>2018</td>\n",
              "      <td>434344</td>\n",
              "      <td>Toni &amp; Guy Hairdressing Academy-Worcester</td>\n",
              "      <td>MA</td>\n",
              "      <td>1.0</td>\n",
              "      <td>NaN</td>\n",
              "      <td>NaN</td>\n",
              "    </tr>\n",
              "    <tr>\n",
              "      <th>4546</th>\n",
              "      <td>2018</td>\n",
              "      <td>434432</td>\n",
              "      <td>Myotherapy Institute</td>\n",
              "      <td>NE</td>\n",
              "      <td>4.0</td>\n",
              "      <td>NaN</td>\n",
              "      <td>16750.0</td>\n",
              "    </tr>\n",
              "    <tr>\n",
              "      <th>0</th>\n",
              "      <td>2018</td>\n",
              "      <td>100654</td>\n",
              "      <td>Alabama A &amp; M University</td>\n",
              "      <td>AL</td>\n",
              "      <td>5.0</td>\n",
              "      <td>0.8986</td>\n",
              "      <td>9744.0</td>\n",
              "    </tr>\n",
              "  </tbody>\n",
              "</table>\n",
              "</div>"
            ],
            "text/plain": [
              "      YEARS  UNITID  ... ADM_RATE TUITIONFEE_IN\n",
              "4544   2018  434344  ...      NaN           NaN\n",
              "4546   2018  434432  ...      NaN       16750.0\n",
              "0      2018  100654  ...   0.8986        9744.0\n",
              "\n",
              "[3 rows x 7 columns]"
            ]
          },
          "metadata": {
            "tags": []
          },
          "execution_count": 68
        }
      ]
    },
    {
      "cell_type": "code",
      "metadata": {
        "id": "wJcRY7-0z6ul",
        "outputId": "414dcc5e-b346-4213-b510-12b05b12afcc",
        "colab": {
          "base_uri": "https://localhost:8080/",
          "height": 133
        }
      },
      "source": [
        "full_df.sample(3)"
      ],
      "execution_count": 69,
      "outputs": [
        {
          "output_type": "execute_result",
          "data": {
            "text/html": [
              "<div>\n",
              "<style scoped>\n",
              "    .dataframe tbody tr th:only-of-type {\n",
              "        vertical-align: middle;\n",
              "    }\n",
              "\n",
              "    .dataframe tbody tr th {\n",
              "        vertical-align: top;\n",
              "    }\n",
              "\n",
              "    .dataframe thead th {\n",
              "        text-align: right;\n",
              "    }\n",
              "</style>\n",
              "<table border=\"1\" class=\"dataframe\">\n",
              "  <thead>\n",
              "    <tr style=\"text-align: right;\">\n",
              "      <th></th>\n",
              "      <th>YEARS</th>\n",
              "      <th>UNITID</th>\n",
              "      <th>INSTNM</th>\n",
              "      <th>STABBR</th>\n",
              "      <th>REGION</th>\n",
              "      <th>ADM_RATE</th>\n",
              "      <th>TUITIONFEE_IN</th>\n",
              "    </tr>\n",
              "  </thead>\n",
              "  <tbody>\n",
              "    <tr>\n",
              "      <th>2697</th>\n",
              "      <td>2008</td>\n",
              "      <td>191940</td>\n",
              "      <td>Isabella Graham Hart School of Practical Nursing</td>\n",
              "      <td>NY</td>\n",
              "      <td>2.0</td>\n",
              "      <td>NaN</td>\n",
              "      <td>NaN</td>\n",
              "    </tr>\n",
              "    <tr>\n",
              "      <th>4201</th>\n",
              "      <td>1997</td>\n",
              "      <td>214777</td>\n",
              "      <td>Pennsylvania State University-Main Campus</td>\n",
              "      <td>PA</td>\n",
              "      <td>2.0</td>\n",
              "      <td>NaN</td>\n",
              "      <td>NaN</td>\n",
              "    </tr>\n",
              "    <tr>\n",
              "      <th>5593</th>\n",
              "      <td>1998</td>\n",
              "      <td>373340</td>\n",
              "      <td>Xenon International Academy-Kansas City</td>\n",
              "      <td>KS</td>\n",
              "      <td>4.0</td>\n",
              "      <td>NaN</td>\n",
              "      <td>NaN</td>\n",
              "    </tr>\n",
              "  </tbody>\n",
              "</table>\n",
              "</div>"
            ],
            "text/plain": [
              "      YEARS  UNITID  ... ADM_RATE TUITIONFEE_IN\n",
              "2697   2008  191940  ...      NaN           NaN\n",
              "4201   1997  214777  ...      NaN           NaN\n",
              "5593   1998  373340  ...      NaN           NaN\n",
              "\n",
              "[3 rows x 7 columns]"
            ]
          },
          "metadata": {
            "tags": []
          },
          "execution_count": 69
        }
      ]
    },
    {
      "cell_type": "code",
      "metadata": {
        "id": "ea4tegAe0B68",
        "outputId": "509ee50b-b36a-460d-96bd-27986f772a3f",
        "colab": {
          "base_uri": "https://localhost:8080/",
          "height": 151
        }
      },
      "source": [
        "full_df.isnull().sum(axis = 0)"
      ],
      "execution_count": 70,
      "outputs": [
        {
          "output_type": "execute_result",
          "data": {
            "text/plain": [
              "YEARS                 0\n",
              "UNITID                0\n",
              "INSTNM                0\n",
              "STABBR                0\n",
              "REGION                1\n",
              "ADM_RATE         118420\n",
              "TUITIONFEE_IN     84137\n",
              "dtype: int64"
            ]
          },
          "metadata": {
            "tags": []
          },
          "execution_count": 70
        }
      ]
    },
    {
      "cell_type": "code",
      "metadata": {
        "id": "dyhUmNkwz-nM",
        "outputId": "ffa63f75-d90f-4bf3-fbba-6422cd832e41",
        "colab": {
          "base_uri": "https://localhost:8080/",
          "height": 277
        }
      },
      "source": [
        "full_df.describe()"
      ],
      "execution_count": 71,
      "outputs": [
        {
          "output_type": "execute_result",
          "data": {
            "text/html": [
              "<div>\n",
              "<style scoped>\n",
              "    .dataframe tbody tr th:only-of-type {\n",
              "        vertical-align: middle;\n",
              "    }\n",
              "\n",
              "    .dataframe tbody tr th {\n",
              "        vertical-align: top;\n",
              "    }\n",
              "\n",
              "    .dataframe thead th {\n",
              "        text-align: right;\n",
              "    }\n",
              "</style>\n",
              "<table border=\"1\" class=\"dataframe\">\n",
              "  <thead>\n",
              "    <tr style=\"text-align: right;\">\n",
              "      <th></th>\n",
              "      <th>YEARS</th>\n",
              "      <th>UNITID</th>\n",
              "      <th>REGION</th>\n",
              "      <th>ADM_RATE</th>\n",
              "      <th>TUITIONFEE_IN</th>\n",
              "    </tr>\n",
              "  </thead>\n",
              "  <tbody>\n",
              "    <tr>\n",
              "      <th>count</th>\n",
              "      <td>163331.000000</td>\n",
              "      <td>1.633310e+05</td>\n",
              "      <td>163330.000000</td>\n",
              "      <td>44911.000000</td>\n",
              "      <td>79194.000000</td>\n",
              "    </tr>\n",
              "    <tr>\n",
              "      <th>mean</th>\n",
              "      <td>2007.249481</td>\n",
              "      <td>9.432395e+05</td>\n",
              "      <td>4.554693</td>\n",
              "      <td>0.692946</td>\n",
              "      <td>11665.505367</td>\n",
              "    </tr>\n",
              "    <tr>\n",
              "      <th>std</th>\n",
              "      <td>6.608266</td>\n",
              "      <td>4.571721e+06</td>\n",
              "      <td>2.189217</td>\n",
              "      <td>0.217062</td>\n",
              "      <td>9985.998016</td>\n",
              "    </tr>\n",
              "    <tr>\n",
              "      <th>min</th>\n",
              "      <td>1996.000000</td>\n",
              "      <td>1.006360e+05</td>\n",
              "      <td>0.000000</td>\n",
              "      <td>0.000000</td>\n",
              "      <td>0.000000</td>\n",
              "    </tr>\n",
              "    <tr>\n",
              "      <th>25%</th>\n",
              "      <td>2002.000000</td>\n",
              "      <td>1.633380e+05</td>\n",
              "      <td>3.000000</td>\n",
              "      <td>0.555000</td>\n",
              "      <td>3776.000000</td>\n",
              "    </tr>\n",
              "    <tr>\n",
              "      <th>50%</th>\n",
              "      <td>2008.000000</td>\n",
              "      <td>2.127800e+05</td>\n",
              "      <td>5.000000</td>\n",
              "      <td>0.717500</td>\n",
              "      <td>9285.000000</td>\n",
              "    </tr>\n",
              "    <tr>\n",
              "      <th>75%</th>\n",
              "      <td>2013.000000</td>\n",
              "      <td>4.075680e+05</td>\n",
              "      <td>6.000000</td>\n",
              "      <td>0.857100</td>\n",
              "      <td>16146.000000</td>\n",
              "    </tr>\n",
              "    <tr>\n",
              "      <th>max</th>\n",
              "      <td>2018.000000</td>\n",
              "      <td>4.914640e+07</td>\n",
              "      <td>9.000000</td>\n",
              "      <td>1.000000</td>\n",
              "      <td>74787.000000</td>\n",
              "    </tr>\n",
              "  </tbody>\n",
              "</table>\n",
              "</div>"
            ],
            "text/plain": [
              "               YEARS        UNITID         REGION      ADM_RATE  TUITIONFEE_IN\n",
              "count  163331.000000  1.633310e+05  163330.000000  44911.000000   79194.000000\n",
              "mean     2007.249481  9.432395e+05       4.554693      0.692946   11665.505367\n",
              "std         6.608266  4.571721e+06       2.189217      0.217062    9985.998016\n",
              "min      1996.000000  1.006360e+05       0.000000      0.000000       0.000000\n",
              "25%      2002.000000  1.633380e+05       3.000000      0.555000    3776.000000\n",
              "50%      2008.000000  2.127800e+05       5.000000      0.717500    9285.000000\n",
              "75%      2013.000000  4.075680e+05       6.000000      0.857100   16146.000000\n",
              "max      2018.000000  4.914640e+07       9.000000      1.000000   74787.000000"
            ]
          },
          "metadata": {
            "tags": []
          },
          "execution_count": 71
        }
      ]
    },
    {
      "cell_type": "code",
      "metadata": {
        "id": "NQjKoDmU6zLd"
      },
      "source": [
        "# <7>\n",
        "# the dataframe contains many years of data of all U.S. colleges.\n",
        "# let's just look at UMBC\n",
        "# filter/query the dataframe to retrieve only rows that belong to UMBC\n",
        "# save the UMBC data to a new data frame. using a new variable \n",
        "# so that the old big data frame is still available for later use.\n",
        "\n",
        "#(Write code here)\n",
        "\n",
        "def college_finder(dataframe, column, name):\n",
        "    find_it = dataframe[dataframe[column].str.contains(name)]\n",
        "    return find_it\n",
        "\n",
        "#Now if we needed to, we could search for all of them at once.\n",
        "umbc_df = college_finder(full_df, \"INSTNM\", \"University of Maryland-Baltimore County\")\n",
        "\n",
        "umbc_df = umbc_df.sort_values(by=\"YEARS\")"
      ],
      "execution_count": 72,
      "outputs": []
    },
    {
      "cell_type": "code",
      "metadata": {
        "id": "9_44rlCY3Vps",
        "outputId": "429d65d0-cd6a-4829-ee57-2c964f6b1da2",
        "colab": {
          "base_uri": "https://localhost:8080/",
          "height": 190
        }
      },
      "source": [
        "umbc_df.head()"
      ],
      "execution_count": 73,
      "outputs": [
        {
          "output_type": "execute_result",
          "data": {
            "text/html": [
              "<div>\n",
              "<style scoped>\n",
              "    .dataframe tbody tr th:only-of-type {\n",
              "        vertical-align: middle;\n",
              "    }\n",
              "\n",
              "    .dataframe tbody tr th {\n",
              "        vertical-align: top;\n",
              "    }\n",
              "\n",
              "    .dataframe thead th {\n",
              "        text-align: right;\n",
              "    }\n",
              "</style>\n",
              "<table border=\"1\" class=\"dataframe\">\n",
              "  <thead>\n",
              "    <tr style=\"text-align: right;\">\n",
              "      <th></th>\n",
              "      <th>YEARS</th>\n",
              "      <th>UNITID</th>\n",
              "      <th>INSTNM</th>\n",
              "      <th>STABBR</th>\n",
              "      <th>REGION</th>\n",
              "      <th>ADM_RATE</th>\n",
              "      <th>TUITIONFEE_IN</th>\n",
              "    </tr>\n",
              "  </thead>\n",
              "  <tbody>\n",
              "    <tr>\n",
              "      <th>2151</th>\n",
              "      <td>1996</td>\n",
              "      <td>163268</td>\n",
              "      <td>University of Maryland-Baltimore County</td>\n",
              "      <td>MD</td>\n",
              "      <td>2.0</td>\n",
              "      <td>NaN</td>\n",
              "      <td>NaN</td>\n",
              "    </tr>\n",
              "    <tr>\n",
              "      <th>2049</th>\n",
              "      <td>1997</td>\n",
              "      <td>163268</td>\n",
              "      <td>University of Maryland-Baltimore County</td>\n",
              "      <td>MD</td>\n",
              "      <td>2.0</td>\n",
              "      <td>NaN</td>\n",
              "      <td>NaN</td>\n",
              "    </tr>\n",
              "    <tr>\n",
              "      <th>1982</th>\n",
              "      <td>1998</td>\n",
              "      <td>163268</td>\n",
              "      <td>University of Maryland-Baltimore County</td>\n",
              "      <td>MD</td>\n",
              "      <td>2.0</td>\n",
              "      <td>NaN</td>\n",
              "      <td>NaN</td>\n",
              "    </tr>\n",
              "    <tr>\n",
              "      <th>1955</th>\n",
              "      <td>1999</td>\n",
              "      <td>163268</td>\n",
              "      <td>University of Maryland-Baltimore County</td>\n",
              "      <td>MD</td>\n",
              "      <td>2.0</td>\n",
              "      <td>NaN</td>\n",
              "      <td>NaN</td>\n",
              "    </tr>\n",
              "    <tr>\n",
              "      <th>1926</th>\n",
              "      <td>2000</td>\n",
              "      <td>163268</td>\n",
              "      <td>University of Maryland-Baltimore County</td>\n",
              "      <td>MD</td>\n",
              "      <td>2.0</td>\n",
              "      <td>NaN</td>\n",
              "      <td>5490.0</td>\n",
              "    </tr>\n",
              "  </tbody>\n",
              "</table>\n",
              "</div>"
            ],
            "text/plain": [
              "      YEARS  UNITID  ... ADM_RATE TUITIONFEE_IN\n",
              "2151   1996  163268  ...      NaN           NaN\n",
              "2049   1997  163268  ...      NaN           NaN\n",
              "1982   1998  163268  ...      NaN           NaN\n",
              "1955   1999  163268  ...      NaN           NaN\n",
              "1926   2000  163268  ...      NaN        5490.0\n",
              "\n",
              "[5 rows x 7 columns]"
            ]
          },
          "metadata": {
            "tags": []
          },
          "execution_count": 73
        }
      ]
    },
    {
      "cell_type": "code",
      "metadata": {
        "id": "d5X87ugp6zLt",
        "outputId": "150be421-a23b-4fed-bce4-ba73e476135a",
        "colab": {
          "base_uri": "https://localhost:8080/",
          "height": 33
        }
      },
      "source": [
        "# <8>\n",
        "# Explore this UMBC dataframe (# of observations, varibles, head, tail, sample, missing values, statistics,etc.)\n",
        "\n",
        "#(Write code here)\n",
        "len(umbc_df) -1 == 2018-1996 #Check that there is a single instance for every year"
      ],
      "execution_count": 74,
      "outputs": [
        {
          "output_type": "execute_result",
          "data": {
            "text/plain": [
              "True"
            ]
          },
          "metadata": {
            "tags": []
          },
          "execution_count": 74
        }
      ]
    },
    {
      "cell_type": "code",
      "metadata": {
        "id": "5Poy4ciz6zLy",
        "outputId": "2dbb917f-17d4-4f34-ad37-d96b0f126b0e",
        "colab": {
          "base_uri": "https://localhost:8080/",
          "height": 366
        }
      },
      "source": [
        "# <9>\n",
        "# Plot UMBC's in-state tuition overtime from 1996 to 2019 using Bar Chart\n",
        "\n",
        "#(Write code here)\n",
        "x = umbc_df['YEARS']\n",
        "y = umbc_df['TUITIONFEE_IN']\n",
        "\n",
        "fig = plt.figure()\n",
        "ax = fig.add_axes([0,0,1,1])\n",
        "\n",
        "ax.bar(x,y)\n",
        "plt.xscale('linear')\n",
        "\n",
        "ax.set_title(\"Graph of Years to Tuition Fee (2000-2018)\", color='black')\n",
        "ax.set_xlabel(\"YEARS\", color='black')\n",
        "ax.set_ylabel(\"TUITIONFEE_IN\", color='black')\n",
        "\n",
        "plt.show()"
      ],
      "execution_count": 75,
      "outputs": [
        {
          "output_type": "display_data",
          "data": {
            "image/png": "[encoded data removed]",
            "text/plain": [
              "<Figure size 432x288 with 1 Axes>"
            ]
          },
          "metadata": {
            "tags": [],
            "needs_background": "light"
          }
        }
      ]
    },
    {
      "cell_type": "code",
      "metadata": {
        "id": "afOQjc1w6zL4",
        "outputId": "4d49989e-20fd-4c69-c61f-eef32a323144",
        "colab": {
          "base_uri": "https://localhost:8080/",
          "height": 566
        }
      },
      "source": [
        "# <10> \n",
        "# Plot UMBC's in-state tution overtime from 1996 to 2019 using Line Chart\n",
        "\n",
        "#(Write code here)\n",
        "#(Write code here)\n",
        "x = umbc_df['YEARS']\n",
        "y = umbc_df['TUITIONFEE_IN']\n",
        "\n",
        "fig, ax = plt.subplots(figsize = (15,9))\n",
        "\n",
        "ax.plot(x,y)\n",
        "plt.xscale('linear')\n",
        "\n",
        "ax.set_title(\"Graph of Years to UMBC Tuition Fee (2000-2018)\", color='black')\n",
        "ax.set_xlabel(\"YEARS\", color='black')\n",
        "ax.set_ylabel(\"TUITIONFEE_IN\", color='black')\n",
        "\n",
        "fig.show()"
      ],
      "execution_count": 185,
      "outputs": [
        {
          "output_type": "display_data",
          "data": {
            "image/png": "[encoded data removed]",
            "text/plain": [
              "<Figure size 1080x648 with 1 Axes>"
            ]
          },
          "metadata": {
            "tags": [],
            "needs_background": "light"
          }
        }
      ]
    },
    {
      "cell_type": "code",
      "metadata": {
        "id": "xQLB2f7J6zL-",
        "outputId": "071e2f1e-abd1-4b01-804e-db12ba864136",
        "colab": {
          "base_uri": "https://localhost:8080/",
          "height": 33
        }
      },
      "source": [
        "# <11>\n",
        "# Now let's look at the tuition growth rate year over year\n",
        "# We need to calculate UMBC tuition change percentage each year\n",
        "# First convert the TUITIONFEE_IN column to a Python List\n",
        "\n",
        "#(Write code here)\n",
        "tuition_list = umbc_df['TUITIONFEE_IN'].to_list()\n",
        "print(tuition_list)"
      ],
      "execution_count": 77,
      "outputs": [
        {
          "output_type": "stream",
          "text": [
            "[nan, nan, nan, nan, 5490.0, 5910.0, 6362.0, 7388.0, 8020.0, 8520.0, 8622.0, 8708.0, 8780.0, 8872.0, 9171.0, 9467.0, 9764.0, 10068.0, 10384.0, 11006.0, 11264.0, 11518.0, 11778.0]\n"
          ],
          "name": "stdout"
        }
      ]
    },
    {
      "cell_type": "code",
      "metadata": {
        "id": "Qh7iWRkCwNvJ",
        "outputId": "6b7591d9-9c06-472d-cbc6-8bcf69f1aea7",
        "colab": {
          "base_uri": "https://localhost:8080/",
          "height": 70
        }
      },
      "source": [
        "# Loop through the list and calculate the % change each year over the prior year\n",
        "# This takes some effort. Not hard, just some abstract/logical thinking and some experiments\n",
        "# Have fun on this one\n",
        "\n",
        " #(Write code here)\n",
        "\n",
        "umbc_percent_list = []\n",
        "\n",
        "for tuit in tuition_list:\n",
        "    try:\n",
        "          pct_increase = ((tuit - last_year_tuition) / last_year_tuition) * 100\n",
        "    except:\n",
        "          pct_increase = 0\n",
        "\n",
        "    umbc_percent_list.append(pct_increase)\n",
        "    last_year_tuition = tuit\n",
        "\n",
        "    print(last_year_tuition, end = \" \")\n",
        "\n",
        "print(f\"\\n {umbc_percent_list}\")"
      ],
      "execution_count": 78,
      "outputs": [
        {
          "output_type": "stream",
          "text": [
            "nan nan nan nan 5490.0 5910.0 6362.0 7388.0 8020.0 8520.0 8622.0 8708.0 8780.0 8872.0 9171.0 9467.0 9764.0 10068.0 10384.0 11006.0 11264.0 11518.0 11778.0 \n",
            " [nan, nan, nan, nan, nan, 7.650273224043716, 7.648054145516074, 16.12700408676517, 8.554412560909583, 6.234413965087282, 1.1971830985915493, 0.9974483878450475, 0.8268259072117593, 1.0478359908883828, 3.370153291253381, 3.227565151019518, 3.1372134783986483, 3.11347808275297, 3.1386571315057608, 5.989984591679507, 2.344175904052335, 2.254971590909091, 2.2573363431151243]\n"
          ],
          "name": "stdout"
        }
      ]
    },
    {
      "cell_type": "code",
      "metadata": {
        "id": "9sxMk1hc6zML"
      },
      "source": [
        "# The resulting number has many decimal points which are unnecessary and not visually appealing.\n",
        "# Round up the percentage to two decimal points\n",
        "# You can use for loop. Or better, use list comprehension for simplicity/brevity\n",
        "\n",
        "#(Write code here)\n",
        "\n",
        "umbc_percent_list_rd = [round(cost, 2) for cost in umbc_percent_list]"
      ],
      "execution_count": 79,
      "outputs": []
    },
    {
      "cell_type": "code",
      "metadata": {
        "id": "_04rVaZ16zMR"
      },
      "source": [
        "# Add the list of the percentages to the dataframe as a new column (\"PCT_CHANGE\")\n",
        "# Not as hard as you may think. If you get stuck, you think too hard. \n",
        "# Google it and you will find the answer.\n",
        "\n",
        "#(Write code here\n",
        "umbc_df.insert(7, \"PCT_CHANGE\", umbc_percent_list_rd)"
      ],
      "execution_count": 80,
      "outputs": []
    },
    {
      "cell_type": "code",
      "metadata": {
        "id": "3-CWSZRrW7l5",
        "outputId": "becf6e7d-00ca-4cb2-8a30-ca3636879c78",
        "colab": {
          "base_uri": "https://localhost:8080/",
          "height": 453
        }
      },
      "source": [
        "print(umbc_df)"
      ],
      "execution_count": 81,
      "outputs": [
        {
          "output_type": "stream",
          "text": [
            "      YEARS  UNITID  ... TUITIONFEE_IN PCT_CHANGE\n",
            "2151   1996  163268  ...           NaN        NaN\n",
            "2049   1997  163268  ...           NaN        NaN\n",
            "1982   1998  163268  ...           NaN        NaN\n",
            "1955   1999  163268  ...           NaN        NaN\n",
            "1926   2000  163268  ...        5490.0        NaN\n",
            "1915   2001  163268  ...        5910.0       7.65\n",
            "1893   2002  163268  ...        6362.0       7.65\n",
            "1873   2003  163268  ...        7388.0      16.13\n",
            "1830   2004  163268  ...        8020.0       8.55\n",
            "1819   2005  163268  ...        8520.0       6.23\n",
            "1799   2006  163268  ...        8622.0       1.20\n",
            "1779   2007  163268  ...        8708.0       1.00\n",
            "1767   2008  163268  ...        8780.0       0.83\n",
            "1745   2009  163268  ...        8872.0       1.05\n",
            "1710   2010  163268  ...        9171.0       3.37\n",
            "1694   2011  163268  ...        9467.0       3.23\n",
            "1660   2012  163268  ...        9764.0       3.14\n",
            "1629   2013  163268  ...       10068.0       3.11\n",
            "1610   2014  163268  ...       10384.0       3.14\n",
            "1555   2015  163268  ...       11006.0       5.99\n",
            "1510   2016  163268  ...       11264.0       2.34\n",
            "1478   2017  163268  ...       11518.0       2.25\n",
            "1415   2018  163268  ...       11778.0       2.26\n",
            "\n",
            "[23 rows x 8 columns]\n"
          ],
          "name": "stdout"
        }
      ]
    },
    {
      "cell_type": "code",
      "metadata": {
        "id": "5Evbjx-g6zMX",
        "outputId": "940af87b-d163-4616-834f-3f7ae18dd207",
        "colab": {
          "base_uri": "https://localhost:8080/",
          "height": 366
        }
      },
      "source": [
        "# Finaly, we can make the plot tuition growth rate year over year - bar first, then line chart\n",
        "\n",
        "# Bar Chart\n",
        "\n",
        "#(Write code here)\n",
        "x = umbc_df['YEARS']\n",
        "y = umbc_df['PCT_CHANGE']\n",
        "\n",
        "fig = plt.figure()\n",
        "ax = fig.add_axes([0,0,1,1])\n",
        "\n",
        "ax.bar(x,y)\n",
        "ax.set_title(\"Graph of Years to UMBC Tuition Fee Percent Increase (2000-2018)\", color='black')\n",
        "ax.set_xlabel(\"YEARS\", color='black')\n",
        "ax.set_ylabel(\"PCT_CHANGE\", color='black')\n",
        "\n",
        "plt.show()"
      ],
      "execution_count": 184,
      "outputs": [
        {
          "output_type": "display_data",
          "data": {
            "image/png": "[encoded data removed]",
            "text/plain": [
              "<Figure size 432x288 with 1 Axes>"
            ]
          },
          "metadata": {
            "tags": [],
            "needs_background": "light"
          }
        }
      ]
    },
    {
      "cell_type": "code",
      "metadata": {
        "id": "h-9yOE3idOx3",
        "outputId": "00fc9d60-4bd9-49c2-faca-b29e8fa8446e",
        "colab": {
          "base_uri": "https://localhost:8080/",
          "height": 620
        }
      },
      "source": [
        "#Line Chart\n",
        "x = umbc_df['YEARS']\n",
        "y = umbc_df['PCT_CHANGE']\n",
        "\n",
        "fig, ax = plt.subplots(figsize = (20,))\n",
        "\n",
        "ax.plot(x,y)\n",
        "\n",
        "ax.set_title(\"Graph of Years to Tuition Fee (2000-2018)\", color='black')\n",
        "ax.set_xlabel(\"YEARS\", color='black')\n",
        "ax.set_ylabel(\"Tuition Percent Increase\", color='black')\n",
        "\n",
        "fig.show()"
      ],
      "execution_count": 182,
      "outputs": [
        {
          "output_type": "display_data",
          "data": {
            "image/png": "[encoded data removed]",
            "text/plain": [
              "<Figure size 1440x720 with 1 Axes>"
            ]
          },
          "metadata": {
            "tags": [],
            "needs_background": "light"
          }
        }
      ]
    },
    {
      "cell_type": "code",
      "metadata": {
        "id": "eCqEe_646zMc"
      },
      "source": [
        "# <12>\n",
        "# Since we want to do the same calculation for JHU. \n",
        "# Instead of doing it piecemeal as we did for UMBC\n",
        "# Let's create a function which can be reused for any college.\n",
        "# This function takes a list of tuitions and return a list of percentage changes year over year\n",
        "# This function can be used later \n",
        "\n",
        "#(Write code here)"
      ],
      "execution_count": 84,
      "outputs": []
    },
    {
      "cell_type": "code",
      "metadata": {
        "id": "kZxXkyMjddaM"
      },
      "source": [
        "def percent_change(tuition_list):\n",
        "    percent_list = []\n",
        "\n",
        "    for year in tuition_list:\n",
        "        try:\n",
        "              pct_increase = ((year - last_year_tuition) / last_year_tuition) * 100\n",
        "        except:\n",
        "              pct_increase = 0\n",
        "\n",
        "        percent_list.append(round(pct_increase,2))\n",
        "        last_year_tuition = year\n",
        "\n",
        "    return percent_list"
      ],
      "execution_count": 85,
      "outputs": []
    },
    {
      "cell_type": "code",
      "metadata": {
        "id": "LD0WLQZwd-Tm",
        "outputId": "9e9578ca-d997-46af-d522-6ba1fd2afc91",
        "colab": {
          "base_uri": "https://localhost:8080/",
          "height": 33
        }
      },
      "source": [
        "#Testing the function\n",
        "percent_change([0,1,2,4,8,16])"
      ],
      "execution_count": 86,
      "outputs": [
        {
          "output_type": "execute_result",
          "data": {
            "text/plain": [
              "[0, 0, 100.0, 100.0, 100.0, 100.0]"
            ]
          },
          "metadata": {
            "tags": []
          },
          "execution_count": 86
        }
      ]
    },
    {
      "cell_type": "code",
      "metadata": {
        "id": "Y9Bnu6JFSQaK",
        "outputId": "1a207ffc-6886-4ab4-c45a-e17d728a6699",
        "colab": {
          "base_uri": "https://localhost:8080/",
          "height": 33
        }
      },
      "source": [
        "#Does negative percent change work?\n",
        "percent_change([0,16,8,4,2,1,.5,.25])"
      ],
      "execution_count": 87,
      "outputs": [
        {
          "output_type": "execute_result",
          "data": {
            "text/plain": [
              "[0, 0, -50.0, -50.0, -50.0, -50.0, -50.0, -50.0]"
            ]
          },
          "metadata": {
            "tags": []
          },
          "execution_count": 87
        }
      ]
    },
    {
      "cell_type": "code",
      "metadata": {
        "id": "f2mhYOjV6zMj"
      },
      "source": [
        "# <13>\n",
        "# the dataframe contains many years of data of all U.S. colleges.\n",
        "# let's just look at JHU\n",
        "# filter/query the dataframe to retrieve only rows that belong to JHU\n",
        "# save the JHU data to a new data frame. using a new variable \n",
        "# so that the old big data frame is still available for later use.\n",
        "\n",
        "#(Write code here)\n",
        "def college_finder(dataframe, column, name):\n",
        "    find_it = dataframe[dataframe[column].str.contains(name)]\n",
        "    return find_it\n",
        "\n",
        "#Now if we needed to, we could search for all of them at once.\n",
        "jhu_df = college_finder(full_df, \"INSTNM\", \"Johns Hopkins\")\n",
        "jhu_df = jhu_df.sort_values(by=\"YEARS\")"
      ],
      "execution_count": 88,
      "outputs": []
    },
    {
      "cell_type": "code",
      "metadata": {
        "id": "yq0wLfV6fVjE",
        "outputId": "7fb8aeb4-ca19-4bf1-d698-30ba0d364347",
        "colab": {
          "base_uri": "https://localhost:8080/",
          "height": 709
        }
      },
      "source": [
        "jhu_df"
      ],
      "execution_count": 89,
      "outputs": [
        {
          "output_type": "execute_result",
          "data": {
            "text/html": [
              "<div>\n",
              "<style scoped>\n",
              "    .dataframe tbody tr th:only-of-type {\n",
              "        vertical-align: middle;\n",
              "    }\n",
              "\n",
              "    .dataframe tbody tr th {\n",
              "        vertical-align: top;\n",
              "    }\n",
              "\n",
              "    .dataframe thead th {\n",
              "        text-align: right;\n",
              "    }\n",
              "</style>\n",
              "<table border=\"1\" class=\"dataframe\">\n",
              "  <thead>\n",
              "    <tr style=\"text-align: right;\">\n",
              "      <th></th>\n",
              "      <th>YEARS</th>\n",
              "      <th>UNITID</th>\n",
              "      <th>INSTNM</th>\n",
              "      <th>STABBR</th>\n",
              "      <th>REGION</th>\n",
              "      <th>ADM_RATE</th>\n",
              "      <th>TUITIONFEE_IN</th>\n",
              "    </tr>\n",
              "  </thead>\n",
              "  <tbody>\n",
              "    <tr>\n",
              "      <th>2139</th>\n",
              "      <td>1996</td>\n",
              "      <td>162928</td>\n",
              "      <td>Johns Hopkins University</td>\n",
              "      <td>MD</td>\n",
              "      <td>2.0</td>\n",
              "      <td>NaN</td>\n",
              "      <td>NaN</td>\n",
              "    </tr>\n",
              "    <tr>\n",
              "      <th>2039</th>\n",
              "      <td>1997</td>\n",
              "      <td>162928</td>\n",
              "      <td>Johns Hopkins University</td>\n",
              "      <td>MD</td>\n",
              "      <td>2.0</td>\n",
              "      <td>NaN</td>\n",
              "      <td>NaN</td>\n",
              "    </tr>\n",
              "    <tr>\n",
              "      <th>1973</th>\n",
              "      <td>1998</td>\n",
              "      <td>162928</td>\n",
              "      <td>Johns Hopkins University</td>\n",
              "      <td>MD</td>\n",
              "      <td>2.0</td>\n",
              "      <td>NaN</td>\n",
              "      <td>NaN</td>\n",
              "    </tr>\n",
              "    <tr>\n",
              "      <th>1946</th>\n",
              "      <td>1999</td>\n",
              "      <td>162928</td>\n",
              "      <td>Johns Hopkins University</td>\n",
              "      <td>MD</td>\n",
              "      <td>2.0</td>\n",
              "      <td>NaN</td>\n",
              "      <td>NaN</td>\n",
              "    </tr>\n",
              "    <tr>\n",
              "      <th>1917</th>\n",
              "      <td>2000</td>\n",
              "      <td>162928</td>\n",
              "      <td>Johns Hopkins University</td>\n",
              "      <td>MD</td>\n",
              "      <td>2.0</td>\n",
              "      <td>NaN</td>\n",
              "      <td>24930.0</td>\n",
              "    </tr>\n",
              "    <tr>\n",
              "      <th>1906</th>\n",
              "      <td>2001</td>\n",
              "      <td>162928</td>\n",
              "      <td>Johns Hopkins University</td>\n",
              "      <td>MD</td>\n",
              "      <td>2.0</td>\n",
              "      <td>0.3431</td>\n",
              "      <td>26210.0</td>\n",
              "    </tr>\n",
              "    <tr>\n",
              "      <th>1884</th>\n",
              "      <td>2002</td>\n",
              "      <td>162928</td>\n",
              "      <td>Johns Hopkins University</td>\n",
              "      <td>MD</td>\n",
              "      <td>2.0</td>\n",
              "      <td>0.3506</td>\n",
              "      <td>27390.0</td>\n",
              "    </tr>\n",
              "    <tr>\n",
              "      <th>1865</th>\n",
              "      <td>2003</td>\n",
              "      <td>162928</td>\n",
              "      <td>Johns Hopkins University</td>\n",
              "      <td>MD</td>\n",
              "      <td>2.0</td>\n",
              "      <td>0.3060</td>\n",
              "      <td>28730.0</td>\n",
              "    </tr>\n",
              "    <tr>\n",
              "      <th>1823</th>\n",
              "      <td>2004</td>\n",
              "      <td>162928</td>\n",
              "      <td>Johns Hopkins University</td>\n",
              "      <td>MD</td>\n",
              "      <td>2.0</td>\n",
              "      <td>0.3071</td>\n",
              "      <td>30140.0</td>\n",
              "    </tr>\n",
              "    <tr>\n",
              "      <th>1812</th>\n",
              "      <td>2005</td>\n",
              "      <td>162928</td>\n",
              "      <td>Johns Hopkins University</td>\n",
              "      <td>MD</td>\n",
              "      <td>2.0</td>\n",
              "      <td>0.3509</td>\n",
              "      <td>31620.0</td>\n",
              "    </tr>\n",
              "    <tr>\n",
              "      <th>1792</th>\n",
              "      <td>2006</td>\n",
              "      <td>162928</td>\n",
              "      <td>Johns Hopkins University</td>\n",
              "      <td>MD</td>\n",
              "      <td>2.0</td>\n",
              "      <td>0.2792</td>\n",
              "      <td>33900.0</td>\n",
              "    </tr>\n",
              "    <tr>\n",
              "      <th>1772</th>\n",
              "      <td>2007</td>\n",
              "      <td>162928</td>\n",
              "      <td>Johns Hopkins University</td>\n",
              "      <td>MD</td>\n",
              "      <td>2.0</td>\n",
              "      <td>0.2571</td>\n",
              "      <td>35900.0</td>\n",
              "    </tr>\n",
              "    <tr>\n",
              "      <th>1760</th>\n",
              "      <td>2008</td>\n",
              "      <td>162928</td>\n",
              "      <td>Johns Hopkins University</td>\n",
              "      <td>MD</td>\n",
              "      <td>2.0</td>\n",
              "      <td>0.2609</td>\n",
              "      <td>37700.0</td>\n",
              "    </tr>\n",
              "    <tr>\n",
              "      <th>1738</th>\n",
              "      <td>2009</td>\n",
              "      <td>162928</td>\n",
              "      <td>Johns Hopkins University</td>\n",
              "      <td>MD</td>\n",
              "      <td>2.0</td>\n",
              "      <td>0.2782</td>\n",
              "      <td>39150.0</td>\n",
              "    </tr>\n",
              "    <tr>\n",
              "      <th>1703</th>\n",
              "      <td>2010</td>\n",
              "      <td>162928</td>\n",
              "      <td>Johns Hopkins University</td>\n",
              "      <td>MD</td>\n",
              "      <td>2.0</td>\n",
              "      <td>0.2225</td>\n",
              "      <td>40680.0</td>\n",
              "    </tr>\n",
              "    <tr>\n",
              "      <th>1687</th>\n",
              "      <td>2011</td>\n",
              "      <td>162928</td>\n",
              "      <td>Johns Hopkins University</td>\n",
              "      <td>MD</td>\n",
              "      <td>2.0</td>\n",
              "      <td>0.1940</td>\n",
              "      <td>42280.0</td>\n",
              "    </tr>\n",
              "    <tr>\n",
              "      <th>1653</th>\n",
              "      <td>2012</td>\n",
              "      <td>162928</td>\n",
              "      <td>Johns Hopkins University</td>\n",
              "      <td>MD</td>\n",
              "      <td>2.0</td>\n",
              "      <td>0.1843</td>\n",
              "      <td>43390.0</td>\n",
              "    </tr>\n",
              "    <tr>\n",
              "      <th>1622</th>\n",
              "      <td>2013</td>\n",
              "      <td>162928</td>\n",
              "      <td>Johns Hopkins University</td>\n",
              "      <td>MD</td>\n",
              "      <td>2.0</td>\n",
              "      <td>0.1813</td>\n",
              "      <td>45470.0</td>\n",
              "    </tr>\n",
              "    <tr>\n",
              "      <th>1603</th>\n",
              "      <td>2014</td>\n",
              "      <td>162928</td>\n",
              "      <td>Johns Hopkins University</td>\n",
              "      <td>MD</td>\n",
              "      <td>2.0</td>\n",
              "      <td>0.1608</td>\n",
              "      <td>47060.0</td>\n",
              "    </tr>\n",
              "    <tr>\n",
              "      <th>1548</th>\n",
              "      <td>2015</td>\n",
              "      <td>162928</td>\n",
              "      <td>Johns Hopkins University</td>\n",
              "      <td>MD</td>\n",
              "      <td>2.0</td>\n",
              "      <td>0.1412</td>\n",
              "      <td>48710.0</td>\n",
              "    </tr>\n",
              "    <tr>\n",
              "      <th>1503</th>\n",
              "      <td>2016</td>\n",
              "      <td>162928</td>\n",
              "      <td>Johns Hopkins University</td>\n",
              "      <td>MD</td>\n",
              "      <td>2.0</td>\n",
              "      <td>0.1284</td>\n",
              "      <td>50410.0</td>\n",
              "    </tr>\n",
              "    <tr>\n",
              "      <th>1473</th>\n",
              "      <td>2017</td>\n",
              "      <td>162928</td>\n",
              "      <td>Johns Hopkins University</td>\n",
              "      <td>MD</td>\n",
              "      <td>2.0</td>\n",
              "      <td>0.1254</td>\n",
              "      <td>52170.0</td>\n",
              "    </tr>\n",
              "    <tr>\n",
              "      <th>1410</th>\n",
              "      <td>2018</td>\n",
              "      <td>162928</td>\n",
              "      <td>Johns Hopkins University</td>\n",
              "      <td>MD</td>\n",
              "      <td>2.0</td>\n",
              "      <td>0.1148</td>\n",
              "      <td>53740.0</td>\n",
              "    </tr>\n",
              "  </tbody>\n",
              "</table>\n",
              "</div>"
            ],
            "text/plain": [
              "      YEARS  UNITID                    INSTNM  ... REGION  ADM_RATE  TUITIONFEE_IN\n",
              "2139   1996  162928  Johns Hopkins University  ...    2.0       NaN            NaN\n",
              "2039   1997  162928  Johns Hopkins University  ...    2.0       NaN            NaN\n",
              "1973   1998  162928  Johns Hopkins University  ...    2.0       NaN            NaN\n",
              "1946   1999  162928  Johns Hopkins University  ...    2.0       NaN            NaN\n",
              "1917   2000  162928  Johns Hopkins University  ...    2.0       NaN        24930.0\n",
              "1906   2001  162928  Johns Hopkins University  ...    2.0    0.3431        26210.0\n",
              "1884   2002  162928  Johns Hopkins University  ...    2.0    0.3506        27390.0\n",
              "1865   2003  162928  Johns Hopkins University  ...    2.0    0.3060        28730.0\n",
              "1823   2004  162928  Johns Hopkins University  ...    2.0    0.3071        30140.0\n",
              "1812   2005  162928  Johns Hopkins University  ...    2.0    0.3509        31620.0\n",
              "1792   2006  162928  Johns Hopkins University  ...    2.0    0.2792        33900.0\n",
              "1772   2007  162928  Johns Hopkins University  ...    2.0    0.2571        35900.0\n",
              "1760   2008  162928  Johns Hopkins University  ...    2.0    0.2609        37700.0\n",
              "1738   2009  162928  Johns Hopkins University  ...    2.0    0.2782        39150.0\n",
              "1703   2010  162928  Johns Hopkins University  ...    2.0    0.2225        40680.0\n",
              "1687   2011  162928  Johns Hopkins University  ...    2.0    0.1940        42280.0\n",
              "1653   2012  162928  Johns Hopkins University  ...    2.0    0.1843        43390.0\n",
              "1622   2013  162928  Johns Hopkins University  ...    2.0    0.1813        45470.0\n",
              "1603   2014  162928  Johns Hopkins University  ...    2.0    0.1608        47060.0\n",
              "1548   2015  162928  Johns Hopkins University  ...    2.0    0.1412        48710.0\n",
              "1503   2016  162928  Johns Hopkins University  ...    2.0    0.1284        50410.0\n",
              "1473   2017  162928  Johns Hopkins University  ...    2.0    0.1254        52170.0\n",
              "1410   2018  162928  Johns Hopkins University  ...    2.0    0.1148        53740.0\n",
              "\n",
              "[23 rows x 7 columns]"
            ]
          },
          "metadata": {
            "tags": []
          },
          "execution_count": 89
        }
      ]
    },
    {
      "cell_type": "code",
      "metadata": {
        "id": "wGXcNTJ46zMo",
        "outputId": "0cb00e03-6118-48f4-9e8c-d65cdb6ebd4d",
        "colab": {
          "base_uri": "https://localhost:8080/",
          "height": 700
        }
      },
      "source": [
        "# <14> \n",
        "# Plot JHU's in-state tuition over time from 1996 to 2019. \n",
        "# Let's plot bar and line chart together\n",
        "\n",
        "#(Write code here)\n",
        "\n",
        "# <9>\n",
        "# Plot UMBC's in-state tuition overtime from 1996 to 2019 using Bar Chart\n",
        "\n",
        "#(Write code here)\n",
        "x1 = jhu_df['YEARS']\n",
        "y1 = jhu_df['TUITIONFEE_IN']\n",
        "\n",
        "fig, ax = plt.subplots(figsize = (16,12))\n",
        "ax.set_title(\"Graph of Years to Pct Increase in Tuition (2000-2018)\", color='black')\n",
        "\n",
        "plt.subplot(1, 2, 1)\n",
        "plt.plot(x1, y1)\n",
        "\n",
        "x2 = jhu_df['YEARS']\n",
        "y2 = jhu_df['TUITIONFEE_IN']\n",
        "\n",
        "plt.subplot(1, 2, 2)\n",
        "plt.bar(x2, y2)\n",
        "\n",
        "plt.show()"
      ],
      "execution_count": 180,
      "outputs": [
        {
          "output_type": "display_data",
          "data": {
            "image/png": "[encoded data removed]",
            "text/plain": [
              "<Figure size 1152x864 with 2 Axes>"
            ]
          },
          "metadata": {
            "tags": [],
            "needs_background": "light"
          }
        }
      ]
    },
    {
      "cell_type": "code",
      "metadata": {
        "id": "RPXTrsZT6zMx"
      },
      "source": [
        "# <15>\n",
        "# Let's calculate the JHU tuition percentge growth using the function defined earlier\n",
        "\n",
        "#(Write code here)\n",
        "jhu_tuition_list = jhu_df['TUITIONFEE_IN'].to_list()\n",
        "jhu_percent_chg = percent_change(jhu_tuition_list)"
      ],
      "execution_count": 91,
      "outputs": []
    },
    {
      "cell_type": "code",
      "metadata": {
        "id": "CicX_QDzRdAJ",
        "outputId": "dea3eb96-b070-4cba-c0e3-1f39e32074a1",
        "colab": {
          "base_uri": "https://localhost:8080/",
          "height": 33
        }
      },
      "source": [
        "jhu_df.shape"
      ],
      "execution_count": 92,
      "outputs": [
        {
          "output_type": "execute_result",
          "data": {
            "text/plain": [
              "(23, 7)"
            ]
          },
          "metadata": {
            "tags": []
          },
          "execution_count": 92
        }
      ]
    },
    {
      "cell_type": "code",
      "metadata": {
        "id": "7KM74FQH6zM4"
      },
      "source": [
        "# <16>\n",
        "# Add the list of percentage changes to the dataframe as a new column (\"PCT_CHANGE\")\n",
        "\n",
        "#(Write code here)\n",
        "jhu_df.insert(7, \"PCT_CHANGE\", jhu_percent_chg) #I'll add it to the end of the df (7)"
      ],
      "execution_count": 93,
      "outputs": []
    },
    {
      "cell_type": "code",
      "metadata": {
        "id": "m4MBefXGqr3T",
        "outputId": "44c814dd-2f77-4b78-c650-5c2004122526",
        "colab": {
          "base_uri": "https://localhost:8080/",
          "height": 709
        }
      },
      "source": [
        "jhu_df"
      ],
      "execution_count": 94,
      "outputs": [
        {
          "output_type": "execute_result",
          "data": {
            "text/html": [
              "<div>\n",
              "<style scoped>\n",
              "    .dataframe tbody tr th:only-of-type {\n",
              "        vertical-align: middle;\n",
              "    }\n",
              "\n",
              "    .dataframe tbody tr th {\n",
              "        vertical-align: top;\n",
              "    }\n",
              "\n",
              "    .dataframe thead th {\n",
              "        text-align: right;\n",
              "    }\n",
              "</style>\n",
              "<table border=\"1\" class=\"dataframe\">\n",
              "  <thead>\n",
              "    <tr style=\"text-align: right;\">\n",
              "      <th></th>\n",
              "      <th>YEARS</th>\n",
              "      <th>UNITID</th>\n",
              "      <th>INSTNM</th>\n",
              "      <th>STABBR</th>\n",
              "      <th>REGION</th>\n",
              "      <th>ADM_RATE</th>\n",
              "      <th>TUITIONFEE_IN</th>\n",
              "      <th>PCT_CHANGE</th>\n",
              "    </tr>\n",
              "  </thead>\n",
              "  <tbody>\n",
              "    <tr>\n",
              "      <th>2139</th>\n",
              "      <td>1996</td>\n",
              "      <td>162928</td>\n",
              "      <td>Johns Hopkins University</td>\n",
              "      <td>MD</td>\n",
              "      <td>2.0</td>\n",
              "      <td>NaN</td>\n",
              "      <td>NaN</td>\n",
              "      <td>0.00</td>\n",
              "    </tr>\n",
              "    <tr>\n",
              "      <th>2039</th>\n",
              "      <td>1997</td>\n",
              "      <td>162928</td>\n",
              "      <td>Johns Hopkins University</td>\n",
              "      <td>MD</td>\n",
              "      <td>2.0</td>\n",
              "      <td>NaN</td>\n",
              "      <td>NaN</td>\n",
              "      <td>NaN</td>\n",
              "    </tr>\n",
              "    <tr>\n",
              "      <th>1973</th>\n",
              "      <td>1998</td>\n",
              "      <td>162928</td>\n",
              "      <td>Johns Hopkins University</td>\n",
              "      <td>MD</td>\n",
              "      <td>2.0</td>\n",
              "      <td>NaN</td>\n",
              "      <td>NaN</td>\n",
              "      <td>NaN</td>\n",
              "    </tr>\n",
              "    <tr>\n",
              "      <th>1946</th>\n",
              "      <td>1999</td>\n",
              "      <td>162928</td>\n",
              "      <td>Johns Hopkins University</td>\n",
              "      <td>MD</td>\n",
              "      <td>2.0</td>\n",
              "      <td>NaN</td>\n",
              "      <td>NaN</td>\n",
              "      <td>NaN</td>\n",
              "    </tr>\n",
              "    <tr>\n",
              "      <th>1917</th>\n",
              "      <td>2000</td>\n",
              "      <td>162928</td>\n",
              "      <td>Johns Hopkins University</td>\n",
              "      <td>MD</td>\n",
              "      <td>2.0</td>\n",
              "      <td>NaN</td>\n",
              "      <td>24930.0</td>\n",
              "      <td>NaN</td>\n",
              "    </tr>\n",
              "    <tr>\n",
              "      <th>1906</th>\n",
              "      <td>2001</td>\n",
              "      <td>162928</td>\n",
              "      <td>Johns Hopkins University</td>\n",
              "      <td>MD</td>\n",
              "      <td>2.0</td>\n",
              "      <td>0.3431</td>\n",
              "      <td>26210.0</td>\n",
              "      <td>5.13</td>\n",
              "    </tr>\n",
              "    <tr>\n",
              "      <th>1884</th>\n",
              "      <td>2002</td>\n",
              "      <td>162928</td>\n",
              "      <td>Johns Hopkins University</td>\n",
              "      <td>MD</td>\n",
              "      <td>2.0</td>\n",
              "      <td>0.3506</td>\n",
              "      <td>27390.0</td>\n",
              "      <td>4.50</td>\n",
              "    </tr>\n",
              "    <tr>\n",
              "      <th>1865</th>\n",
              "      <td>2003</td>\n",
              "      <td>162928</td>\n",
              "      <td>Johns Hopkins University</td>\n",
              "      <td>MD</td>\n",
              "      <td>2.0</td>\n",
              "      <td>0.3060</td>\n",
              "      <td>28730.0</td>\n",
              "      <td>4.89</td>\n",
              "    </tr>\n",
              "    <tr>\n",
              "      <th>1823</th>\n",
              "      <td>2004</td>\n",
              "      <td>162928</td>\n",
              "      <td>Johns Hopkins University</td>\n",
              "      <td>MD</td>\n",
              "      <td>2.0</td>\n",
              "      <td>0.3071</td>\n",
              "      <td>30140.0</td>\n",
              "      <td>4.91</td>\n",
              "    </tr>\n",
              "    <tr>\n",
              "      <th>1812</th>\n",
              "      <td>2005</td>\n",
              "      <td>162928</td>\n",
              "      <td>Johns Hopkins University</td>\n",
              "      <td>MD</td>\n",
              "      <td>2.0</td>\n",
              "      <td>0.3509</td>\n",
              "      <td>31620.0</td>\n",
              "      <td>4.91</td>\n",
              "    </tr>\n",
              "    <tr>\n",
              "      <th>1792</th>\n",
              "      <td>2006</td>\n",
              "      <td>162928</td>\n",
              "      <td>Johns Hopkins University</td>\n",
              "      <td>MD</td>\n",
              "      <td>2.0</td>\n",
              "      <td>0.2792</td>\n",
              "      <td>33900.0</td>\n",
              "      <td>7.21</td>\n",
              "    </tr>\n",
              "    <tr>\n",
              "      <th>1772</th>\n",
              "      <td>2007</td>\n",
              "      <td>162928</td>\n",
              "      <td>Johns Hopkins University</td>\n",
              "      <td>MD</td>\n",
              "      <td>2.0</td>\n",
              "      <td>0.2571</td>\n",
              "      <td>35900.0</td>\n",
              "      <td>5.90</td>\n",
              "    </tr>\n",
              "    <tr>\n",
              "      <th>1760</th>\n",
              "      <td>2008</td>\n",
              "      <td>162928</td>\n",
              "      <td>Johns Hopkins University</td>\n",
              "      <td>MD</td>\n",
              "      <td>2.0</td>\n",
              "      <td>0.2609</td>\n",
              "      <td>37700.0</td>\n",
              "      <td>5.01</td>\n",
              "    </tr>\n",
              "    <tr>\n",
              "      <th>1738</th>\n",
              "      <td>2009</td>\n",
              "      <td>162928</td>\n",
              "      <td>Johns Hopkins University</td>\n",
              "      <td>MD</td>\n",
              "      <td>2.0</td>\n",
              "      <td>0.2782</td>\n",
              "      <td>39150.0</td>\n",
              "      <td>3.85</td>\n",
              "    </tr>\n",
              "    <tr>\n",
              "      <th>1703</th>\n",
              "      <td>2010</td>\n",
              "      <td>162928</td>\n",
              "      <td>Johns Hopkins University</td>\n",
              "      <td>MD</td>\n",
              "      <td>2.0</td>\n",
              "      <td>0.2225</td>\n",
              "      <td>40680.0</td>\n",
              "      <td>3.91</td>\n",
              "    </tr>\n",
              "    <tr>\n",
              "      <th>1687</th>\n",
              "      <td>2011</td>\n",
              "      <td>162928</td>\n",
              "      <td>Johns Hopkins University</td>\n",
              "      <td>MD</td>\n",
              "      <td>2.0</td>\n",
              "      <td>0.1940</td>\n",
              "      <td>42280.0</td>\n",
              "      <td>3.93</td>\n",
              "    </tr>\n",
              "    <tr>\n",
              "      <th>1653</th>\n",
              "      <td>2012</td>\n",
              "      <td>162928</td>\n",
              "      <td>Johns Hopkins University</td>\n",
              "      <td>MD</td>\n",
              "      <td>2.0</td>\n",
              "      <td>0.1843</td>\n",
              "      <td>43390.0</td>\n",
              "      <td>2.63</td>\n",
              "    </tr>\n",
              "    <tr>\n",
              "      <th>1622</th>\n",
              "      <td>2013</td>\n",
              "      <td>162928</td>\n",
              "      <td>Johns Hopkins University</td>\n",
              "      <td>MD</td>\n",
              "      <td>2.0</td>\n",
              "      <td>0.1813</td>\n",
              "      <td>45470.0</td>\n",
              "      <td>4.79</td>\n",
              "    </tr>\n",
              "    <tr>\n",
              "      <th>1603</th>\n",
              "      <td>2014</td>\n",
              "      <td>162928</td>\n",
              "      <td>Johns Hopkins University</td>\n",
              "      <td>MD</td>\n",
              "      <td>2.0</td>\n",
              "      <td>0.1608</td>\n",
              "      <td>47060.0</td>\n",
              "      <td>3.50</td>\n",
              "    </tr>\n",
              "    <tr>\n",
              "      <th>1548</th>\n",
              "      <td>2015</td>\n",
              "      <td>162928</td>\n",
              "      <td>Johns Hopkins University</td>\n",
              "      <td>MD</td>\n",
              "      <td>2.0</td>\n",
              "      <td>0.1412</td>\n",
              "      <td>48710.0</td>\n",
              "      <td>3.51</td>\n",
              "    </tr>\n",
              "    <tr>\n",
              "      <th>1503</th>\n",
              "      <td>2016</td>\n",
              "      <td>162928</td>\n",
              "      <td>Johns Hopkins University</td>\n",
              "      <td>MD</td>\n",
              "      <td>2.0</td>\n",
              "      <td>0.1284</td>\n",
              "      <td>50410.0</td>\n",
              "      <td>3.49</td>\n",
              "    </tr>\n",
              "    <tr>\n",
              "      <th>1473</th>\n",
              "      <td>2017</td>\n",
              "      <td>162928</td>\n",
              "      <td>Johns Hopkins University</td>\n",
              "      <td>MD</td>\n",
              "      <td>2.0</td>\n",
              "      <td>0.1254</td>\n",
              "      <td>52170.0</td>\n",
              "      <td>3.49</td>\n",
              "    </tr>\n",
              "    <tr>\n",
              "      <th>1410</th>\n",
              "      <td>2018</td>\n",
              "      <td>162928</td>\n",
              "      <td>Johns Hopkins University</td>\n",
              "      <td>MD</td>\n",
              "      <td>2.0</td>\n",
              "      <td>0.1148</td>\n",
              "      <td>53740.0</td>\n",
              "      <td>3.01</td>\n",
              "    </tr>\n",
              "  </tbody>\n",
              "</table>\n",
              "</div>"
            ],
            "text/plain": [
              "      YEARS  UNITID  ... TUITIONFEE_IN PCT_CHANGE\n",
              "2139   1996  162928  ...           NaN       0.00\n",
              "2039   1997  162928  ...           NaN        NaN\n",
              "1973   1998  162928  ...           NaN        NaN\n",
              "1946   1999  162928  ...           NaN        NaN\n",
              "1917   2000  162928  ...       24930.0        NaN\n",
              "1906   2001  162928  ...       26210.0       5.13\n",
              "1884   2002  162928  ...       27390.0       4.50\n",
              "1865   2003  162928  ...       28730.0       4.89\n",
              "1823   2004  162928  ...       30140.0       4.91\n",
              "1812   2005  162928  ...       31620.0       4.91\n",
              "1792   2006  162928  ...       33900.0       7.21\n",
              "1772   2007  162928  ...       35900.0       5.90\n",
              "1760   2008  162928  ...       37700.0       5.01\n",
              "1738   2009  162928  ...       39150.0       3.85\n",
              "1703   2010  162928  ...       40680.0       3.91\n",
              "1687   2011  162928  ...       42280.0       3.93\n",
              "1653   2012  162928  ...       43390.0       2.63\n",
              "1622   2013  162928  ...       45470.0       4.79\n",
              "1603   2014  162928  ...       47060.0       3.50\n",
              "1548   2015  162928  ...       48710.0       3.51\n",
              "1503   2016  162928  ...       50410.0       3.49\n",
              "1473   2017  162928  ...       52170.0       3.49\n",
              "1410   2018  162928  ...       53740.0       3.01\n",
              "\n",
              "[23 rows x 8 columns]"
            ]
          },
          "metadata": {
            "tags": []
          },
          "execution_count": 94
        }
      ]
    },
    {
      "cell_type": "code",
      "metadata": {
        "id": "vGi8YI_A6zM7",
        "outputId": "49276dc6-f085-4dbe-a13f-4200e4390252",
        "colab": {
          "base_uri": "https://localhost:8080/",
          "height": 529
        }
      },
      "source": [
        "# <17> Make a bar plot of the JHU percentage changes tuitions over time\n",
        "\n",
        "#(Write code here)\n",
        "x = jhu_df['YEARS']\n",
        "y = jhu_df['PCT_CHANGE']\n",
        "\n",
        "fig, ax = plt.subplots(figsize = (10,6))\n",
        "\n",
        "#As figure plot\n",
        "ax = plt.figure()\n",
        "ax = fig.add_axes([0,0,1,1])\n",
        "\n",
        "#As bar graph\n",
        "ax.bar(x,y)\n",
        "ax.set_title(\"Graph of Years to JHU Percent Increase In Tuition Fee (2000-2018)\", \n",
        "             color='black', \n",
        "             size = 12)\n",
        "ax.set_xlabel(\"Years\", color='black', size = 12)\n",
        "ax.set_ylabel(\"Percent Change\", color='black', size = 12)\n",
        "\n",
        "plt.show()"
      ],
      "execution_count": 168,
      "outputs": [
        {
          "output_type": "display_data",
          "data": {
            "image/png": "[encoded data removed]",
            "text/plain": [
              "<Figure size 720x432 with 2 Axes>"
            ]
          },
          "metadata": {
            "tags": [],
            "needs_background": "light"
          }
        },
        {
          "output_type": "display_data",
          "data": {
            "text/plain": [
              "<Figure size 432x288 with 0 Axes>"
            ]
          },
          "metadata": {
            "tags": []
          }
        }
      ]
    },
    {
      "cell_type": "code",
      "metadata": {
        "id": "bGYYULq16zNA"
      },
      "source": [
        "# <18>\n",
        "# In order to plot both UMBC and JHU tuition change over time in the same plot,\n",
        "# we need to combine the two datasets using the common key of YEAR \n",
        "# First make a umbc2 dataframe with only two columns needed. WE don't need other columns.\n",
        "# Also change the column name from \"PCT_CHANGE\" to \"UMBC_PCT\" in preparation for the merge.\n",
        "# This is because both umbc and jhu dataframe have the same column name \"PCT_CHANGE\",\n",
        "# We rename them so there is no collision during the merge. BTW, Pandas handles collision gracefully,\n",
        "# Feel free to try it without changing the column names.\n",
        "\n",
        "#(Write code here)\n",
        "umbc2_df = umbc_df[[\"YEARS\", \"PCT_CHANGE\"]]\n",
        "umbc2_df = umbc2_df.rename(columns={\"PCT_CHANGE\": \"UMBC_PCT\"})"
      ],
      "execution_count": 125,
      "outputs": []
    },
    {
      "cell_type": "code",
      "metadata": {
        "id": "DX95nFyG6zNF"
      },
      "source": [
        "# Then make a jhu2 dataframe with only two columns needed. WE don't need other columns.\n",
        "# Also change the column name from \"PCT_CHANGE\" to \"JHU_PCT\"  in preparation for the merge\n",
        "\n",
        "#(Write code here)\n",
        "jhu2_df = jhu_df[[\"YEARS\", \"PCT_CHANGE\"]]\n",
        "jhu2_df = jhu2_df.rename(columns={\"PCT_CHANGE\": \"JHU_PCT\"})"
      ],
      "execution_count": 126,
      "outputs": []
    },
    {
      "cell_type": "code",
      "metadata": {
        "id": "LJ_6wKKU6zNL",
        "outputId": "1f5cc132-1d23-40bd-fcef-fcccfbd9c321",
        "colab": {
          "base_uri": "https://localhost:8080/",
          "height": 823
        }
      },
      "source": [
        "# Now, merge the two data frames\n",
        "# and display the new dataframe\n",
        "\n",
        "#(Write code here)\n",
        "umbc_jhu_df = pd.concat([umbc2_df, jhu2_df], )\n",
        "print(umbc_jhu_df)\n",
        "umbc_jhu_df.shape\n",
        "\n",
        "#Well... concat didn't do a good job. Let's try something else."
      ],
      "execution_count": 128,
      "outputs": [
        {
          "output_type": "stream",
          "text": [
            "      YEARS  UMBC_PCT  JHU_PCT\n",
            "2151   1996       NaN      NaN\n",
            "2049   1997       NaN      NaN\n",
            "1982   1998       NaN      NaN\n",
            "1955   1999       NaN      NaN\n",
            "1926   2000       NaN      NaN\n",
            "1915   2001      7.65      NaN\n",
            "1893   2002      7.65      NaN\n",
            "1873   2003     16.13      NaN\n",
            "1830   2004      8.55      NaN\n",
            "1819   2005      6.23      NaN\n",
            "1799   2006      1.20      NaN\n",
            "1779   2007      1.00      NaN\n",
            "1767   2008      0.83      NaN\n",
            "1745   2009      1.05      NaN\n",
            "1710   2010      3.37      NaN\n",
            "1694   2011      3.23      NaN\n",
            "1660   2012      3.14      NaN\n",
            "1629   2013      3.11      NaN\n",
            "1610   2014      3.14      NaN\n",
            "1555   2015      5.99      NaN\n",
            "1510   2016      2.34      NaN\n",
            "1478   2017      2.25      NaN\n",
            "1415   2018      2.26      NaN\n",
            "2139   1996       NaN     0.00\n",
            "2039   1997       NaN      NaN\n",
            "1973   1998       NaN      NaN\n",
            "1946   1999       NaN      NaN\n",
            "1917   2000       NaN      NaN\n",
            "1906   2001       NaN     5.13\n",
            "1884   2002       NaN     4.50\n",
            "1865   2003       NaN     4.89\n",
            "1823   2004       NaN     4.91\n",
            "1812   2005       NaN     4.91\n",
            "1792   2006       NaN     7.21\n",
            "1772   2007       NaN     5.90\n",
            "1760   2008       NaN     5.01\n",
            "1738   2009       NaN     3.85\n",
            "1703   2010       NaN     3.91\n",
            "1687   2011       NaN     3.93\n",
            "1653   2012       NaN     2.63\n",
            "1622   2013       NaN     4.79\n",
            "1603   2014       NaN     3.50\n",
            "1548   2015       NaN     3.51\n",
            "1503   2016       NaN     3.49\n",
            "1473   2017       NaN     3.49\n",
            "1410   2018       NaN     3.01\n"
          ],
          "name": "stdout"
        },
        {
          "output_type": "execute_result",
          "data": {
            "text/plain": [
              "(46, 3)"
            ]
          },
          "metadata": {
            "tags": []
          },
          "execution_count": 128
        }
      ]
    },
    {
      "cell_type": "code",
      "metadata": {
        "id": "FeV1chwqY6mR",
        "outputId": "cd8c99b3-77dc-4f9e-f8c6-32a8d4e9d3fc",
        "colab": {
          "base_uri": "https://localhost:8080/",
          "height": 334
        }
      },
      "source": [
        "#Here, we can try merge. \n",
        "umbc_jhu_df = pd.merge(jhu2_df, umbc2_df, on='YEARS')\n",
        "umbc_jhu_df.head(10)"
      ],
      "execution_count": 130,
      "outputs": [
        {
          "output_type": "execute_result",
          "data": {
            "text/html": [
              "<div>\n",
              "<style scoped>\n",
              "    .dataframe tbody tr th:only-of-type {\n",
              "        vertical-align: middle;\n",
              "    }\n",
              "\n",
              "    .dataframe tbody tr th {\n",
              "        vertical-align: top;\n",
              "    }\n",
              "\n",
              "    .dataframe thead th {\n",
              "        text-align: right;\n",
              "    }\n",
              "</style>\n",
              "<table border=\"1\" class=\"dataframe\">\n",
              "  <thead>\n",
              "    <tr style=\"text-align: right;\">\n",
              "      <th></th>\n",
              "      <th>YEARS</th>\n",
              "      <th>JHU_PCT</th>\n",
              "      <th>UMBC_PCT</th>\n",
              "    </tr>\n",
              "  </thead>\n",
              "  <tbody>\n",
              "    <tr>\n",
              "      <th>0</th>\n",
              "      <td>1996</td>\n",
              "      <td>0.00</td>\n",
              "      <td>NaN</td>\n",
              "    </tr>\n",
              "    <tr>\n",
              "      <th>1</th>\n",
              "      <td>1997</td>\n",
              "      <td>NaN</td>\n",
              "      <td>NaN</td>\n",
              "    </tr>\n",
              "    <tr>\n",
              "      <th>2</th>\n",
              "      <td>1998</td>\n",
              "      <td>NaN</td>\n",
              "      <td>NaN</td>\n",
              "    </tr>\n",
              "    <tr>\n",
              "      <th>3</th>\n",
              "      <td>1999</td>\n",
              "      <td>NaN</td>\n",
              "      <td>NaN</td>\n",
              "    </tr>\n",
              "    <tr>\n",
              "      <th>4</th>\n",
              "      <td>2000</td>\n",
              "      <td>NaN</td>\n",
              "      <td>NaN</td>\n",
              "    </tr>\n",
              "    <tr>\n",
              "      <th>5</th>\n",
              "      <td>2001</td>\n",
              "      <td>5.13</td>\n",
              "      <td>7.65</td>\n",
              "    </tr>\n",
              "    <tr>\n",
              "      <th>6</th>\n",
              "      <td>2002</td>\n",
              "      <td>4.50</td>\n",
              "      <td>7.65</td>\n",
              "    </tr>\n",
              "    <tr>\n",
              "      <th>7</th>\n",
              "      <td>2003</td>\n",
              "      <td>4.89</td>\n",
              "      <td>16.13</td>\n",
              "    </tr>\n",
              "    <tr>\n",
              "      <th>8</th>\n",
              "      <td>2004</td>\n",
              "      <td>4.91</td>\n",
              "      <td>8.55</td>\n",
              "    </tr>\n",
              "    <tr>\n",
              "      <th>9</th>\n",
              "      <td>2005</td>\n",
              "      <td>4.91</td>\n",
              "      <td>6.23</td>\n",
              "    </tr>\n",
              "  </tbody>\n",
              "</table>\n",
              "</div>"
            ],
            "text/plain": [
              "   YEARS  JHU_PCT  UMBC_PCT\n",
              "0   1996     0.00       NaN\n",
              "1   1997      NaN       NaN\n",
              "2   1998      NaN       NaN\n",
              "3   1999      NaN       NaN\n",
              "4   2000      NaN       NaN\n",
              "5   2001     5.13      7.65\n",
              "6   2002     4.50      7.65\n",
              "7   2003     4.89     16.13\n",
              "8   2004     4.91      8.55\n",
              "9   2005     4.91      6.23"
            ]
          },
          "metadata": {
            "tags": []
          },
          "execution_count": 130
        }
      ]
    },
    {
      "cell_type": "code",
      "metadata": {
        "id": "Ng3bbP076zNW",
        "outputId": "a4860b4a-07dd-4382-d89b-b7b27ef46a12",
        "colab": {
          "base_uri": "https://localhost:8080/",
          "height": 620
        }
      },
      "source": [
        "# Plot UMBC and JHU separately on the same plot \n",
        "# However, this does not work since the bars overlap.\n",
        "\n",
        "#UMBC Plot\n",
        "x1 = umbc_jhu_df['YEARS']\n",
        "y1 = umbc_jhu_df['UMBC_PCT']\n",
        "\n",
        "#JHU Plot\n",
        "x2 = umbc_jhu_df['YEARS']\n",
        "y2 = umbc_jhu_df['JHU_PCT']\n",
        "\n",
        "fig, ax = plt.subplots(figsize = (16,10))\n",
        "\n",
        "ax.bar(x1,y1, color = 'gold', label = 'UMBC')\n",
        "ax.bar(x2, y2, color = 'blue', label = 'JHU')\n",
        "\n",
        "plt.legend(loc=\"upper right\")\n",
        "\n",
        "ax.set_title(\"Graph of Years to JHU & UMBC % Increase In Tuition Fee (2000-2018)\", color='black')\n",
        "ax.set_xlabel(\"YEARS\", color='black')\n",
        "ax.set_ylabel(\"Percent Change\", color='black')\n",
        "\n",
        "plt.show()"
      ],
      "execution_count": 211,
      "outputs": [
        {
          "output_type": "display_data",
          "data": {
            "image/png": "[encoded data removed]",
            "text/plain": [
              "<Figure size 1152x720 with 1 Axes>"
            ]
          },
          "metadata": {
            "tags": [],
            "needs_background": "light"
          }
        }
      ]
    },
    {
      "cell_type": "code",
      "metadata": {
        "id": "TUVSeOkYgnhL"
      },
      "source": [
        "# Plot them together using y=[\"UMBC_PCT\",\"JHU_PCT\"] option of bar plot\n",
        "\n",
        "#UMBC Plot\n",
        "# x = umbc_jhu_df['YEARS']\n",
        "# y = umbc_jhu_df['UMBC_PCT','JHU_PCT']\n",
        "\n",
        "# fig, ax = plt.subplots(figsize = (16,10))\n",
        " \n",
        "# ax.bar(x,y, width=0.2, color = 'gold', label = 'UMBC')\n",
        "\n",
        "# ax.set_title(\"Graph of Years to JHU & UMBC % Increase In Tuition Fee (2000-2018)\", color='black')\n",
        "# ax.set_xlabel(\"YEARS\", color='black')\n",
        "# ax.set_ylabel(\"Percent Change\", color='black')\n",
        "\n",
        "# plt.show()\n",
        "\n",
        "#This didn't seem to work, so I plotted them using position instead (as overlapping bars)."
      ],
      "execution_count": 216,
      "outputs": []
    },
    {
      "cell_type": "code",
      "metadata": {
        "id": "gqeDG8Xf6zNg",
        "outputId": "11267f2d-06bd-42a7-9415-1fd758c54337",
        "colab": {
          "base_uri": "https://localhost:8080/",
          "height": 620
        }
      },
      "source": [
        "# Plot them together using y=[\"UMBC_PCT\",\"JHU_PCT\"] option of bar plot\n",
        "\n",
        "#UMBC Plot\n",
        "x1 = umbc_jhu_df['YEARS']\n",
        "y1 = umbc_jhu_df['UMBC_PCT']\n",
        "\n",
        "#JHU Plot\n",
        "x2 = umbc_jhu_df['YEARS']\n",
        "y2 = umbc_jhu_df['JHU_PCT']\n",
        "\n",
        "fig, ax = plt.subplots(figsize = (16,10))\n",
        "\n",
        "ax.bar(x1-.15,y1, width=0.2, color = 'gold', label = 'UMBC')\n",
        "ax.bar(x2+.15,y2, width=0.2, color = 'blue', label = 'JHU')\n",
        "\n",
        "plt.legend(loc=\"upper right\")\n",
        "ax.set_title(\"Graph of Years to JHU & UMBC % Increase In Tuition Fee (2000-2018)\", color='black')\n",
        "ax.set_xlabel(\"YEARS\", color='black')\n",
        "ax.set_ylabel(\"Percent Change\", color='black')\n",
        "\n",
        "plt.show()"
      ],
      "execution_count": 210,
      "outputs": [
        {
          "output_type": "display_data",
          "data": {
            "image/png": "[encoded data removed]",
            "text/plain": [
              "<Figure size 1152x720 with 1 Axes>"
            ]
          },
          "metadata": {
            "tags": [],
            "needs_background": "light"
          }
        }
      ]
    },
    {
      "cell_type": "code",
      "metadata": {
        "id": "uGgmDKrF6zNq",
        "outputId": "64fbb4fd-a982-411f-8587-4e83f2c41c88",
        "colab": {
          "base_uri": "https://localhost:8080/",
          "height": 620
        }
      },
      "source": [
        "# Plot them together using y=[\"UMBC_PCT\",\"JHU_PCT\"] option of line plot\n",
        "\n",
        "#(Write code here)\n",
        "\n",
        "x = umbc_jhu_df['YEARS']\n",
        "y = umbc_jhu_df[[\"UMBC_PCT\",\"JHU_PCT\"]]\n",
        "\n",
        "fig, ax = plt.subplots(figsize = (20,10))\n",
        "\n",
        "ax.plot(x,y, color='blue', linestyle='dashed')\n",
        "\n",
        "ax.set_title(\"Graph of Years to Pct Increase in Tuition (2000-2018)\", color='black')\n",
        "ax.set_xlabel(\"YEARS\", color='black')\n",
        "ax.set_ylabel(\"Tuition Percent Increase\", color='black')\n",
        "\n",
        "fig.show()"
      ],
      "execution_count": 147,
      "outputs": [
        {
          "output_type": "display_data",
          "data": {
            "image/png": "[encoded data removed]",
            "text/plain": [
              "<Figure size 1440x720 with 1 Axes>"
            ]
          },
          "metadata": {
            "tags": [],
            "needs_background": "light"
          }
        }
      ]
    },
    {
      "cell_type": "code",
      "metadata": {
        "id": "NOdT7tWFbTbw",
        "outputId": "743803a5-826e-4d81-83d8-27db946a8425",
        "colab": {
          "base_uri": "https://localhost:8080/",
          "height": 627
        }
      },
      "source": [
        "# Plot them together using y=[\"UMBC_PCT\",\"JHU_PCT\"] option of line plot\n",
        "\n",
        "#(Write code here)\n",
        "\n",
        "#UMBC Plot\n",
        "x1 = umbc_jhu_df['YEARS']\n",
        "y1 = umbc_jhu_df['UMBC_PCT']\n",
        "\n",
        "#JHU Plot\n",
        "x2 = umbc_jhu_df['YEARS']\n",
        "y2 = umbc_jhu_df['JHU_PCT']\n",
        "\n",
        "#Set Figure Size \n",
        "fig, ax = plt.subplots(figsize = (16,10))\n",
        "\n",
        "#Plot the Two lines\n",
        "ax.plot(x1,y1, color='gold', linestyle='dashed', linewidth=4, label = 'UMBC')\n",
        "ax.plot(x2,y2, color='blue', linestyle='dotted', linewidth=4, label ='JHU')\n",
        "\n",
        "#Include the legend\n",
        "plt.legend(loc=\"upper right\")\n",
        "ax.set_title(\"Graph of Years to Pct Increase in Tuition (2000-2018)\", color='black', size = 15)\n",
        "ax.set_xlabel(\"Years\", color='black', size = 15)\n",
        "ax.set_ylabel(\"Tuition Percent Increase\", color='black', size = 15)\n",
        "\n",
        "fig.show()"
      ],
      "execution_count": 164,
      "outputs": [
        {
          "output_type": "display_data",
          "data": {
            "image/png": "[encoded data removed]",
            "text/plain": [
              "<Figure size 1152x720 with 1 Axes>"
            ]
          },
          "metadata": {
            "tags": [],
            "needs_background": "light"
          }
        }
      ]
    },
    {
      "cell_type": "code",
      "metadata": {
        "id": "6YNmMkgW6zNv"
      },
      "source": [
        "# <19> \n",
        "# document your observation/conclusion of the comparison plots (bar/line)\n",
        "# use the following Markdown cell\n"
      ],
      "execution_count": null,
      "outputs": []
    },
    {
      "cell_type": "code",
      "metadata": {
        "id": "U9NLa77Niy8X",
        "outputId": "2ae345ae-582b-4af6-94a7-ac0fb70a96b9",
        "colab": {
          "base_uri": "https://localhost:8080/",
          "height": 277
        }
      },
      "source": [
        "#Checking whether these numbers agree\n",
        "umbc_jhu_df.describe()"
      ],
      "execution_count": 215,
      "outputs": [
        {
          "output_type": "execute_result",
          "data": {
            "text/html": [
              "<div>\n",
              "<style scoped>\n",
              "    .dataframe tbody tr th:only-of-type {\n",
              "        vertical-align: middle;\n",
              "    }\n",
              "\n",
              "    .dataframe tbody tr th {\n",
              "        vertical-align: top;\n",
              "    }\n",
              "\n",
              "    .dataframe thead th {\n",
              "        text-align: right;\n",
              "    }\n",
              "</style>\n",
              "<table border=\"1\" class=\"dataframe\">\n",
              "  <thead>\n",
              "    <tr style=\"text-align: right;\">\n",
              "      <th></th>\n",
              "      <th>YEARS</th>\n",
              "      <th>JHU_PCT</th>\n",
              "      <th>UMBC_PCT</th>\n",
              "    </tr>\n",
              "  </thead>\n",
              "  <tbody>\n",
              "    <tr>\n",
              "      <th>count</th>\n",
              "      <td>23.00000</td>\n",
              "      <td>19.000000</td>\n",
              "      <td>18.000000</td>\n",
              "    </tr>\n",
              "    <tr>\n",
              "      <th>mean</th>\n",
              "      <td>2007.00000</td>\n",
              "      <td>4.135263</td>\n",
              "      <td>4.395556</td>\n",
              "    </tr>\n",
              "    <tr>\n",
              "      <th>std</th>\n",
              "      <td>6.78233</td>\n",
              "      <td>1.473633</td>\n",
              "      <td>3.821758</td>\n",
              "    </tr>\n",
              "    <tr>\n",
              "      <th>min</th>\n",
              "      <td>1996.00000</td>\n",
              "      <td>0.000000</td>\n",
              "      <td>0.830000</td>\n",
              "    </tr>\n",
              "    <tr>\n",
              "      <th>25%</th>\n",
              "      <td>2001.50000</td>\n",
              "      <td>3.495000</td>\n",
              "      <td>2.252500</td>\n",
              "    </tr>\n",
              "    <tr>\n",
              "      <th>50%</th>\n",
              "      <td>2007.00000</td>\n",
              "      <td>3.930000</td>\n",
              "      <td>3.140000</td>\n",
              "    </tr>\n",
              "    <tr>\n",
              "      <th>75%</th>\n",
              "      <td>2012.50000</td>\n",
              "      <td>4.910000</td>\n",
              "      <td>6.170000</td>\n",
              "    </tr>\n",
              "    <tr>\n",
              "      <th>max</th>\n",
              "      <td>2018.00000</td>\n",
              "      <td>7.210000</td>\n",
              "      <td>16.130000</td>\n",
              "    </tr>\n",
              "  </tbody>\n",
              "</table>\n",
              "</div>"
            ],
            "text/plain": [
              "            YEARS    JHU_PCT   UMBC_PCT\n",
              "count    23.00000  19.000000  18.000000\n",
              "mean   2007.00000   4.135263   4.395556\n",
              "std       6.78233   1.473633   3.821758\n",
              "min    1996.00000   0.000000   0.830000\n",
              "25%    2001.50000   3.495000   2.252500\n",
              "50%    2007.00000   3.930000   3.140000\n",
              "75%    2012.50000   4.910000   6.170000\n",
              "max    2018.00000   7.210000  16.130000"
            ]
          },
          "metadata": {
            "tags": []
          },
          "execution_count": 215
        }
      ]
    },
    {
      "cell_type": "markdown",
      "metadata": {
        "id": "tzeP_v8E6zNz"
      },
      "source": [
        "# Based on my observation of the plots\n",
        "\n",
        "### UMBC\n",
        "UMBC's tuition increase have been anywhere from 1% to 16% from 2000-2015. Around 2003-2004 UMBC had a very large spike in tuition increase, in terms of percent, at nearly 16%, a likely outlier year, for whatever reason.\n",
        "\n",
        "However, it dipped a great deal the following years, near 1-2%. After 2005, it has remained relatively steady in ts increases from 1-6%.  It appears that there is greater variance with the UMBC tuition increases than the JHU increases. Thankfully for UMBC students, the tuition increases appear to have somewhat stabilized and decreased since the dramatic spike in 2004. \n",
        "\n",
        "\n",
        "### JHU\n",
        "In contrast, JHU's tuition increases have stayed between 3-7% annually. Year to year, it appears as if the percentage increases in tuition are generally steady, and have declined slightly from 2000 to today.   \n",
        "   \n",
        "---\n",
        "\n",
        "### Comparison\n",
        "Just from a quick look at the two If I were to estimate future year's tuitions, I would say that it would be much easier to predict JHU's, which would probably be within the ranges of 3-7%, whereas UMBC might have a small or large tuition increase, and it be more difficult to predict. \n",
        "\n",
        "This is shown by a quick description of the data: UMBC has a far higher standard deviation, at 3.82, to JHU's 1.47, despite having a similar mean (UMBC = 4.39 to JHU = 4.13). \n",
        "\n",
        "### Final Thoughts\n",
        "Removing the outlier year from UMBC would likely greatly affect the standard deviation, but we would definitely need to find a reason for the enormous 16% jump year to year, and why it dramatically fell in the next year. Do costs increase every X years? Are there future expected costs (stadiums, new buildings, funding shortfalls) that caused this increase that we should look for in future years?\n",
        "\n",
        "With the uncertainty of fees created by COVID-19 this year, I would also estimate that JHU's financial situation, maintaining a steady increase in tuition costs, would reassure me in knowing what I had to pay during future years. \n"
      ]
    },
    {
      "cell_type": "code",
      "metadata": {
        "id": "njPmmLLA6zN0"
      },
      "source": [
        "# The end."
      ],
      "execution_count": null,
      "outputs": []
    }
  ]
}
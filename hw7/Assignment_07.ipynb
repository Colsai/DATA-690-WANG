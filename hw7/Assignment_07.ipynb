{
  "nbformat": 4,
  "nbformat_minor": 0,
  "metadata": {
    "kernelspec": {
      "display_name": "Python 3",
      "language": "python",
      "name": "python3"
    },
    "language_info": {
      "codemirror_mode": {
        "name": "ipython",
        "version": 3
      },
      "file_extension": ".py",
      "mimetype": "text/x-python",
      "name": "python",
      "nbconvert_exporter": "python",
      "pygments_lexer": "ipython3",
      "version": "3.7.1"
    },
    "colab": {
      "name": "Assignment-07.ipynb",
      "provenance": [],
      "collapsed_sections": [],
      "toc_visible": true,
      "include_colab_link": true
    }
  },
  "cells": [
    {
      "cell_type": "markdown",
      "metadata": {
        "id": "view-in-github",
        "colab_type": "text"
      },
      "source": [
        "<a href=\"https://colab.research.google.com/github/Colsai/DATA-690-WANG/blob/master/hw7/Assignment_07.ipynb\" target=\"_parent\"><img src=\"https://colab.research.google.com/assets/colab-badge.svg\" alt=\"Open In Colab\"/></a>"
      ]
    },
    {
      "cell_type": "code",
      "metadata": {
        "id": "jEmrTqnob8xZ"
      },
      "source": [
        "#I'm doing this through Colab (Mounting Drive)\n",
        "#from google.colab import drive\n",
        "#drive.mount('/content/drive')"
      ],
      "execution_count": 237,
      "outputs": []
    },
    {
      "cell_type": "markdown",
      "metadata": {
        "id": "02rFSC_-6zKz"
      },
      "source": [
        "### Assignment 07\n",
        "\n",
        "**You can use the local Jupyter environment if you are not comfortable with Colab for this assignment.**\n",
        "\n",
        "The first half of this assignment is a repeat of assignment 05.\n",
        "\n",
        "This gives you a chance to refresh.\n",
        "\n",
        "The second half is new and gives you a chance to perform additional practices.\n",
        "\n",
        "You also get a chance to use some of the Python libraries and techniques.\n",
        "\n",
        "You will unzip the zip file manually in preparation for this assignment.\n",
        "\n",
        "The link to the zip file is (you have already used it in your assignment 5):\n",
        "\n",
        "https://ed-public-download.app.cloud.gov/downloads/CollegeScorecard_Raw_Data.zip\n",
        "\n",
        "After unzipping, You will have all files in one folder named \"CollegeScorecard_Raw_Data\" \n",
        "\n",
        "The folder contains the yearly data files from 1996 to 2019 school years.\n",
        "\n",
        "if you are using your local environment, I suggest you create a new folder call \"Assignment7\" and place the Notebook file and the data folder under it.\n",
        "```\n",
        "Assignment7/\n",
        "    - assignment_07.ipynb\n",
        "    - CollegeScorecard_Raw_Data/\n",
        "        - ...\n",
        "        - 'MERGED1996_97_PP.csv',\n",
        "        - 'MERGED2015_16_PP.csv',\n",
        "        - ...\n",
        "        - 'MERGED2017_18_PP.csv'\n",
        "```\n"
      ]
    },
    {
      "cell_type": "code",
      "metadata": {
        "id": "CfSasSG36zK1"
      },
      "source": [
        "# Import libraries\n",
        "\n",
        "#(Write code here)\n",
        "import pandas as pd\n",
        "import numpy as np\n",
        "import matplotlib.pyplot as plt\n",
        "import seaborn as sns\n",
        "import os"
      ],
      "execution_count": 238,
      "outputs": []
    },
    {
      "cell_type": "code",
      "metadata": {
        "id": "duwKxi1L6zK5",
        "outputId": "0290b639-9a29-4890-aee1-a075304e3d11",
        "colab": {
          "base_uri": "https://localhost:8080/",
          "height": 34
        }
      },
      "source": [
        "# <2> \n",
        "# Display the current workin directory using os.getcwd()\n",
        "# you would need to import a standard Python library called os which stands for operating system,\n",
        "# so place that import statement in the previous cell.\n",
        "# Since your notebook and your data files are not in # the same folder, \n",
        "# you want to make sure what is the current working folder and \n",
        "# how to access a data file in a different folder\n",
        "\n",
        "#(Write code here)\n",
        "os.getcwd()"
      ],
      "execution_count": 239,
      "outputs": [
        {
          "output_type": "execute_result",
          "data": {
            "application/vnd.google.colaboratory.intrinsic+json": {
              "type": "string"
            },
            "text/plain": [
              "'/content'"
            ]
          },
          "metadata": {
            "tags": []
          },
          "execution_count": 239
        }
      ]
    },
    {
      "cell_type": "code",
      "metadata": {
        "id": "LMBN0HsY6zLA",
        "outputId": "553571f5-f492-47cb-cd72-a43f7f41a942",
        "colab": {
          "base_uri": "https://localhost:8080/",
          "height": 436
        }
      },
      "source": [
        "# <3> \n",
        "# os library has a method call listdir which generates a list of files in a directory/folder.\n",
        "# use this method to assign the contents (list of file names) of the data folder to a variable and display it.\n",
        "# # You can use ../ construct to traverse to the parent folder and then to another foloder parallel to the current folder\n",
        "\n",
        "#(Write code here)\n",
        "os.listdir('drive/My Drive/College Data')"
      ],
      "execution_count": 240,
      "outputs": [
        {
          "output_type": "execute_result",
          "data": {
            "text/plain": [
              "['FieldOfStudyData1415_1516_PP.csv',\n",
              " 'FieldOfStudyData1516_1617_PP.csv',\n",
              " 'MERGED2018_19_PP.csv',\n",
              " 'MERGED1996_97_PP.csv',\n",
              " 'MERGED2017_18_PP.csv',\n",
              " 'MERGED1997_98_PP.csv',\n",
              " 'MERGED1998_99_PP.csv',\n",
              " 'MERGED1999_00_PP.csv',\n",
              " 'MERGED2000_01_PP.csv',\n",
              " 'MERGED2001_02_PP.csv',\n",
              " 'MERGED2002_03_PP.csv',\n",
              " 'MERGED2003_04_PP.csv',\n",
              " 'MERGED2004_05_PP.csv',\n",
              " 'MERGED2006_07_PP.csv',\n",
              " 'MERGED2005_06_PP.csv',\n",
              " 'MERGED2007_08_PP.csv',\n",
              " 'MERGED2008_09_PP.csv',\n",
              " 'MERGED2009_10_PP.csv',\n",
              " 'MERGED2010_11_PP.csv',\n",
              " 'MERGED2016_17_PP.csv',\n",
              " 'MERGED2012_13_PP.csv',\n",
              " 'MERGED2015_16_PP.csv',\n",
              " 'MERGED2013_14_PP.csv',\n",
              " 'MERGED2014_15_PP.csv',\n",
              " 'MERGED2011_12_PP.csv']"
            ]
          },
          "metadata": {
            "tags": []
          },
          "execution_count": 240
        }
      ]
    },
    {
      "cell_type": "code",
      "metadata": {
        "id": "UCDRqtrf6zLL",
        "outputId": "7a5988ec-6159-4b38-da5f-f59de20a8662",
        "colab": {
          "base_uri": "https://localhost:8080/",
          "height": 403
        }
      },
      "source": [
        "# <4> \n",
        "# The folder contains files that are not the yearly data files\n",
        "# write code to remove the unwanted files from the list vsriable \n",
        "# Note: don't remove/delete these files from the folder in your drive\n",
        "# For example, use the file extension to only keep the csv files \n",
        "# or use the name patter - data file name begins with \"MERGED\"\n",
        "# You can use the concept of list comprehension to write just \n",
        "# one line of code as well as using a for loop, your choice.\n",
        "\n",
        "#(Write code here)\n",
        "dir = os.listdir('drive/My Drive/College Data')\n",
        "\n",
        "csv_files = []\n",
        "\n",
        "for file in dir:\n",
        "    if \".csv\" and \"MERGED\" in file:\n",
        "        csv_files.append(file)\n",
        "\n",
        "    else:\n",
        "        csv_files\n",
        "\n",
        "csv_files"
      ],
      "execution_count": 241,
      "outputs": [
        {
          "output_type": "execute_result",
          "data": {
            "text/plain": [
              "['MERGED2018_19_PP.csv',\n",
              " 'MERGED1996_97_PP.csv',\n",
              " 'MERGED2017_18_PP.csv',\n",
              " 'MERGED1997_98_PP.csv',\n",
              " 'MERGED1998_99_PP.csv',\n",
              " 'MERGED1999_00_PP.csv',\n",
              " 'MERGED2000_01_PP.csv',\n",
              " 'MERGED2001_02_PP.csv',\n",
              " 'MERGED2002_03_PP.csv',\n",
              " 'MERGED2003_04_PP.csv',\n",
              " 'MERGED2004_05_PP.csv',\n",
              " 'MERGED2006_07_PP.csv',\n",
              " 'MERGED2005_06_PP.csv',\n",
              " 'MERGED2007_08_PP.csv',\n",
              " 'MERGED2008_09_PP.csv',\n",
              " 'MERGED2009_10_PP.csv',\n",
              " 'MERGED2010_11_PP.csv',\n",
              " 'MERGED2016_17_PP.csv',\n",
              " 'MERGED2012_13_PP.csv',\n",
              " 'MERGED2015_16_PP.csv',\n",
              " 'MERGED2013_14_PP.csv',\n",
              " 'MERGED2014_15_PP.csv',\n",
              " 'MERGED2011_12_PP.csv']"
            ]
          },
          "metadata": {
            "tags": []
          },
          "execution_count": 241
        }
      ]
    },
    {
      "cell_type": "code",
      "metadata": {
        "id": "rtrB8C_R6zLS"
      },
      "source": [
        "# <5> \n",
        "# Now that you have a clean list of the yearly files, you want to loop through them\n",
        "# and read them into a dataframe one at a time. You only load six columns: \n",
        "# [\"UNITID\", \"INSTNM\", \"STABBR\", \"REGION\", \"ADM_RATE\", \"TUITIONFEE_IN\"].\n",
        "# You should use \"usecols\" option of Pandas to avoid reading unwanted columns.\n",
        "# You also want to add a new column call \"YEAR\" to differentiate the data frames from each other.\n",
        "# The YEAR variable should be yyyy format so tht you can convert them into integer.\n",
        "# if you use the format yyyy-yy (such as 1997-98 school year), you will not be able to convert them directly to integer\n",
        "# if you use scatter plot, the YEAR needs to be converted to integer or float. \n",
        "# \n",
        "# You would use an empty list and append the yearly dataframes to the list.\n",
        "# After all data files are loaded and appended to the list, you would use Pandas to concatenate them into a \n",
        "# new single data frame.\n",
        "\n",
        "# Note: this exercise incorporates many techques we learned before\n",
        "# - list (creating an empty, append an item to the list)\n",
        "# - for loop \n",
        "# - read only the needed columns from a file (using usecols option)\n",
        "# - add a new column to a data frame\n",
        "# - concatenate multiple dataframes into a single one\n",
        "# This exercise may appear a big challenging but it worths the effort. You will learn a lot and  love it. I promise.\n",
        "\n",
        "#(Write code here)\n",
        "\n",
        "file_dir = 'drive/My Drive/College Data/'\n",
        "full_df = []\n",
        "\n",
        "for file in csv_files:\n",
        "    df = pd.read_csv(file_dir + file, usecols = [\"UNITID\", \n",
        "                                                 \"INSTNM\", \n",
        "                                                 \"STABBR\", \n",
        "                                                 \"REGION\", \n",
        "                                                 \"ADM_RATE\", \n",
        "                                                 \"TUITIONFEE_IN\"])\n",
        "    \n",
        "    years = file.replace(\"MERGED\",\"\").replace(\"_\",\"\").replace(\"PP.csv\",\"\") #File is YYYY + new YY\n",
        "    years = int(years[0:4]) #Create a substring as only YYYY\n",
        "\n",
        "    df.insert(0, \"YEARS\", years, True) #Insert substring as first column (since year is most useful)\n",
        "    \n",
        "    full_df.append(df)"
      ],
      "execution_count": 242,
      "outputs": []
    },
    {
      "cell_type": "code",
      "metadata": {
        "id": "cNS7MGtvpH0t",
        "outputId": "bd8e8f10-56f0-423f-8adf-9058474c6d07",
        "colab": {
          "base_uri": "https://localhost:8080/",
          "height": 392
        }
      },
      "source": [
        "full_df[5]"
      ],
      "execution_count": 243,
      "outputs": [
        {
          "output_type": "execute_result",
          "data": {
            "text/html": [
              "<div>\n",
              "<style scoped>\n",
              "    .dataframe tbody tr th:only-of-type {\n",
              "        vertical-align: middle;\n",
              "    }\n",
              "\n",
              "    .dataframe tbody tr th {\n",
              "        vertical-align: top;\n",
              "    }\n",
              "\n",
              "    .dataframe thead th {\n",
              "        text-align: right;\n",
              "    }\n",
              "</style>\n",
              "<table border=\"1\" class=\"dataframe\">\n",
              "  <thead>\n",
              "    <tr style=\"text-align: right;\">\n",
              "      <th></th>\n",
              "      <th>YEARS</th>\n",
              "      <th>UNITID</th>\n",
              "      <th>INSTNM</th>\n",
              "      <th>STABBR</th>\n",
              "      <th>REGION</th>\n",
              "      <th>ADM_RATE</th>\n",
              "      <th>TUITIONFEE_IN</th>\n",
              "    </tr>\n",
              "  </thead>\n",
              "  <tbody>\n",
              "    <tr>\n",
              "      <th>0</th>\n",
              "      <td>1999</td>\n",
              "      <td>100654</td>\n",
              "      <td>Alabama A &amp; M University</td>\n",
              "      <td>AL</td>\n",
              "      <td>5</td>\n",
              "      <td>NaN</td>\n",
              "      <td>NaN</td>\n",
              "    </tr>\n",
              "    <tr>\n",
              "      <th>1</th>\n",
              "      <td>1999</td>\n",
              "      <td>100663</td>\n",
              "      <td>University of Alabama at Birmingham</td>\n",
              "      <td>AL</td>\n",
              "      <td>5</td>\n",
              "      <td>NaN</td>\n",
              "      <td>NaN</td>\n",
              "    </tr>\n",
              "    <tr>\n",
              "      <th>2</th>\n",
              "      <td>1999</td>\n",
              "      <td>100690</td>\n",
              "      <td>Amridge University</td>\n",
              "      <td>AL</td>\n",
              "      <td>5</td>\n",
              "      <td>NaN</td>\n",
              "      <td>NaN</td>\n",
              "    </tr>\n",
              "    <tr>\n",
              "      <th>3</th>\n",
              "      <td>1999</td>\n",
              "      <td>100706</td>\n",
              "      <td>University of Alabama in Huntsville</td>\n",
              "      <td>AL</td>\n",
              "      <td>5</td>\n",
              "      <td>NaN</td>\n",
              "      <td>NaN</td>\n",
              "    </tr>\n",
              "    <tr>\n",
              "      <th>4</th>\n",
              "      <td>1999</td>\n",
              "      <td>100724</td>\n",
              "      <td>Alabama State University</td>\n",
              "      <td>AL</td>\n",
              "      <td>5</td>\n",
              "      <td>NaN</td>\n",
              "      <td>NaN</td>\n",
              "    </tr>\n",
              "    <tr>\n",
              "      <th>...</th>\n",
              "      <td>...</td>\n",
              "      <td>...</td>\n",
              "      <td>...</td>\n",
              "      <td>...</td>\n",
              "      <td>...</td>\n",
              "      <td>...</td>\n",
              "      <td>...</td>\n",
              "    </tr>\n",
              "    <tr>\n",
              "      <th>6604</th>\n",
              "      <td>1999</td>\n",
              "      <td>436784</td>\n",
              "      <td>Universal Career Community College Inc</td>\n",
              "      <td>PR</td>\n",
              "      <td>9</td>\n",
              "      <td>NaN</td>\n",
              "      <td>NaN</td>\n",
              "    </tr>\n",
              "    <tr>\n",
              "      <th>6605</th>\n",
              "      <td>1999</td>\n",
              "      <td>436809</td>\n",
              "      <td>Willsey Institute</td>\n",
              "      <td>NY</td>\n",
              "      <td>2</td>\n",
              "      <td>NaN</td>\n",
              "      <td>NaN</td>\n",
              "    </tr>\n",
              "    <tr>\n",
              "      <th>6606</th>\n",
              "      <td>1999</td>\n",
              "      <td>437042</td>\n",
              "      <td>ITT Technical Institute-Saint Rose</td>\n",
              "      <td>LA</td>\n",
              "      <td>5</td>\n",
              "      <td>NaN</td>\n",
              "      <td>NaN</td>\n",
              "    </tr>\n",
              "    <tr>\n",
              "      <th>6607</th>\n",
              "      <td>1999</td>\n",
              "      <td>437413</td>\n",
              "      <td>EURO HAIR DESIGN INSTITUTE</td>\n",
              "      <td>FL</td>\n",
              "      <td>5</td>\n",
              "      <td>NaN</td>\n",
              "      <td>NaN</td>\n",
              "    </tr>\n",
              "    <tr>\n",
              "      <th>6608</th>\n",
              "      <td>1999</td>\n",
              "      <td>437431</td>\n",
              "      <td>BUCKS COUNTY COMMUNITY COLLEGE</td>\n",
              "      <td>PA</td>\n",
              "      <td>2</td>\n",
              "      <td>NaN</td>\n",
              "      <td>NaN</td>\n",
              "    </tr>\n",
              "  </tbody>\n",
              "</table>\n",
              "<p>6609 rows × 7 columns</p>\n",
              "</div>"
            ],
            "text/plain": [
              "      YEARS  UNITID  ... ADM_RATE TUITIONFEE_IN\n",
              "0      1999  100654  ...      NaN           NaN\n",
              "1      1999  100663  ...      NaN           NaN\n",
              "2      1999  100690  ...      NaN           NaN\n",
              "3      1999  100706  ...      NaN           NaN\n",
              "4      1999  100724  ...      NaN           NaN\n",
              "...     ...     ...  ...      ...           ...\n",
              "6604   1999  436784  ...      NaN           NaN\n",
              "6605   1999  436809  ...      NaN           NaN\n",
              "6606   1999  437042  ...      NaN           NaN\n",
              "6607   1999  437413  ...      NaN           NaN\n",
              "6608   1999  437431  ...      NaN           NaN\n",
              "\n",
              "[6609 rows x 7 columns]"
            ]
          },
          "metadata": {
            "tags": []
          },
          "execution_count": 243
        }
      ]
    },
    {
      "cell_type": "code",
      "metadata": {
        "id": "CMFHOf3kyTGr"
      },
      "source": [
        "#Concat can be used to combine all the elements within the list\n",
        "full_df = pd.concat(full_df)"
      ],
      "execution_count": 244,
      "outputs": []
    },
    {
      "cell_type": "code",
      "metadata": {
        "id": "Zho1oUNby5lm"
      },
      "source": [
        "#Lets sort the full_df\n",
        "full_df = full_df.sort_values(by=\"YEARS\")"
      ],
      "execution_count": 245,
      "outputs": []
    },
    {
      "cell_type": "code",
      "metadata": {
        "id": "riJxj3vU6zLY",
        "outputId": "d1956ab2-f9bd-4210-eabe-430be92575d7",
        "colab": {
          "base_uri": "https://localhost:8080/",
          "height": 33
        }
      },
      "source": [
        "# <6> \n",
        "# explore the new dataframe (# of observations, varibles, head, tail, sample, missing values, statistics,etc.)\n",
        "\n",
        "#(Write code here)\n",
        "len(full_df)"
      ],
      "execution_count": 246,
      "outputs": [
        {
          "output_type": "execute_result",
          "data": {
            "text/plain": [
              "163331"
            ]
          },
          "metadata": {
            "tags": []
          },
          "execution_count": 246
        }
      ]
    },
    {
      "cell_type": "code",
      "metadata": {
        "id": "-9PnIMWjzuo8",
        "outputId": "59a55cbd-0707-4cba-a974-122c6ac03360",
        "colab": {
          "base_uri": "https://localhost:8080/",
          "height": 33
        }
      },
      "source": [
        "full_df.shape"
      ],
      "execution_count": 297,
      "outputs": [
        {
          "output_type": "execute_result",
          "data": {
            "text/plain": [
              "(163331, 7)"
            ]
          },
          "metadata": {
            "tags": []
          },
          "execution_count": 297
        }
      ]
    },
    {
      "cell_type": "code",
      "metadata": {
        "id": "w_LVrdwDf0VJ",
        "outputId": "2ee8f3eb-4bf0-47df-c10a-46063a8acbb4",
        "colab": {
          "base_uri": "https://localhost:8080/",
          "height": 277
        }
      },
      "source": [
        "full_df.describe()"
      ],
      "execution_count": 298,
      "outputs": [
        {
          "output_type": "execute_result",
          "data": {
            "text/html": [
              "<div>\n",
              "<style scoped>\n",
              "    .dataframe tbody tr th:only-of-type {\n",
              "        vertical-align: middle;\n",
              "    }\n",
              "\n",
              "    .dataframe tbody tr th {\n",
              "        vertical-align: top;\n",
              "    }\n",
              "\n",
              "    .dataframe thead th {\n",
              "        text-align: right;\n",
              "    }\n",
              "</style>\n",
              "<table border=\"1\" class=\"dataframe\">\n",
              "  <thead>\n",
              "    <tr style=\"text-align: right;\">\n",
              "      <th></th>\n",
              "      <th>YEARS</th>\n",
              "      <th>UNITID</th>\n",
              "      <th>REGION</th>\n",
              "      <th>ADM_RATE</th>\n",
              "      <th>TUITIONFEE_IN</th>\n",
              "    </tr>\n",
              "  </thead>\n",
              "  <tbody>\n",
              "    <tr>\n",
              "      <th>count</th>\n",
              "      <td>163331.000000</td>\n",
              "      <td>1.633310e+05</td>\n",
              "      <td>163330.000000</td>\n",
              "      <td>44911.000000</td>\n",
              "      <td>79194.000000</td>\n",
              "    </tr>\n",
              "    <tr>\n",
              "      <th>mean</th>\n",
              "      <td>2007.249481</td>\n",
              "      <td>9.432395e+05</td>\n",
              "      <td>4.554693</td>\n",
              "      <td>0.692946</td>\n",
              "      <td>11665.505367</td>\n",
              "    </tr>\n",
              "    <tr>\n",
              "      <th>std</th>\n",
              "      <td>6.608266</td>\n",
              "      <td>4.571721e+06</td>\n",
              "      <td>2.189217</td>\n",
              "      <td>0.217062</td>\n",
              "      <td>9985.998016</td>\n",
              "    </tr>\n",
              "    <tr>\n",
              "      <th>min</th>\n",
              "      <td>1996.000000</td>\n",
              "      <td>1.006360e+05</td>\n",
              "      <td>0.000000</td>\n",
              "      <td>0.000000</td>\n",
              "      <td>0.000000</td>\n",
              "    </tr>\n",
              "    <tr>\n",
              "      <th>25%</th>\n",
              "      <td>2002.000000</td>\n",
              "      <td>1.633380e+05</td>\n",
              "      <td>3.000000</td>\n",
              "      <td>0.555000</td>\n",
              "      <td>3776.000000</td>\n",
              "    </tr>\n",
              "    <tr>\n",
              "      <th>50%</th>\n",
              "      <td>2008.000000</td>\n",
              "      <td>2.127800e+05</td>\n",
              "      <td>5.000000</td>\n",
              "      <td>0.717500</td>\n",
              "      <td>9285.000000</td>\n",
              "    </tr>\n",
              "    <tr>\n",
              "      <th>75%</th>\n",
              "      <td>2013.000000</td>\n",
              "      <td>4.075680e+05</td>\n",
              "      <td>6.000000</td>\n",
              "      <td>0.857100</td>\n",
              "      <td>16146.000000</td>\n",
              "    </tr>\n",
              "    <tr>\n",
              "      <th>max</th>\n",
              "      <td>2018.000000</td>\n",
              "      <td>4.914640e+07</td>\n",
              "      <td>9.000000</td>\n",
              "      <td>1.000000</td>\n",
              "      <td>74787.000000</td>\n",
              "    </tr>\n",
              "  </tbody>\n",
              "</table>\n",
              "</div>"
            ],
            "text/plain": [
              "               YEARS        UNITID         REGION      ADM_RATE  TUITIONFEE_IN\n",
              "count  163331.000000  1.633310e+05  163330.000000  44911.000000   79194.000000\n",
              "mean     2007.249481  9.432395e+05       4.554693      0.692946   11665.505367\n",
              "std         6.608266  4.571721e+06       2.189217      0.217062    9985.998016\n",
              "min      1996.000000  1.006360e+05       0.000000      0.000000       0.000000\n",
              "25%      2002.000000  1.633380e+05       3.000000      0.555000    3776.000000\n",
              "50%      2008.000000  2.127800e+05       5.000000      0.717500    9285.000000\n",
              "75%      2013.000000  4.075680e+05       6.000000      0.857100   16146.000000\n",
              "max      2018.000000  4.914640e+07       9.000000      1.000000   74787.000000"
            ]
          },
          "metadata": {
            "tags": []
          },
          "execution_count": 298
        }
      ]
    },
    {
      "cell_type": "code",
      "metadata": {
        "id": "ENVMzZ1ezzO5",
        "outputId": "aafe0dbd-acd1-4bc3-8ec2-23ef8e972e26",
        "colab": {
          "base_uri": "https://localhost:8080/",
          "height": 133
        }
      },
      "source": [
        "full_df.head(3)"
      ],
      "execution_count": 248,
      "outputs": [
        {
          "output_type": "execute_result",
          "data": {
            "text/html": [
              "<div>\n",
              "<style scoped>\n",
              "    .dataframe tbody tr th:only-of-type {\n",
              "        vertical-align: middle;\n",
              "    }\n",
              "\n",
              "    .dataframe tbody tr th {\n",
              "        vertical-align: top;\n",
              "    }\n",
              "\n",
              "    .dataframe thead th {\n",
              "        text-align: right;\n",
              "    }\n",
              "</style>\n",
              "<table border=\"1\" class=\"dataframe\">\n",
              "  <thead>\n",
              "    <tr style=\"text-align: right;\">\n",
              "      <th></th>\n",
              "      <th>YEARS</th>\n",
              "      <th>UNITID</th>\n",
              "      <th>INSTNM</th>\n",
              "      <th>STABBR</th>\n",
              "      <th>REGION</th>\n",
              "      <th>ADM_RATE</th>\n",
              "      <th>TUITIONFEE_IN</th>\n",
              "    </tr>\n",
              "  </thead>\n",
              "  <tbody>\n",
              "    <tr>\n",
              "      <th>3514</th>\n",
              "      <td>1996</td>\n",
              "      <td>196158</td>\n",
              "      <td>SUNY at Fredonia</td>\n",
              "      <td>NY</td>\n",
              "      <td>2.0</td>\n",
              "      <td>NaN</td>\n",
              "      <td>NaN</td>\n",
              "    </tr>\n",
              "    <tr>\n",
              "      <th>2397</th>\n",
              "      <td>1996</td>\n",
              "      <td>169488</td>\n",
              "      <td>DAVENPORT UNIVERSITY-KALAMAZOO CAMPUS</td>\n",
              "      <td>MI</td>\n",
              "      <td>3.0</td>\n",
              "      <td>NaN</td>\n",
              "      <td>NaN</td>\n",
              "    </tr>\n",
              "    <tr>\n",
              "      <th>2398</th>\n",
              "      <td>1996</td>\n",
              "      <td>169497</td>\n",
              "      <td>DAVENPORT UNIVERSITY-LANSING CAMPUS</td>\n",
              "      <td>MI</td>\n",
              "      <td>3.0</td>\n",
              "      <td>NaN</td>\n",
              "      <td>NaN</td>\n",
              "    </tr>\n",
              "  </tbody>\n",
              "</table>\n",
              "</div>"
            ],
            "text/plain": [
              "      YEARS  UNITID  ... ADM_RATE TUITIONFEE_IN\n",
              "3514   1996  196158  ...      NaN           NaN\n",
              "2397   1996  169488  ...      NaN           NaN\n",
              "2398   1996  169497  ...      NaN           NaN\n",
              "\n",
              "[3 rows x 7 columns]"
            ]
          },
          "metadata": {
            "tags": []
          },
          "execution_count": 248
        }
      ]
    },
    {
      "cell_type": "code",
      "metadata": {
        "id": "meZ-5SfJz61-",
        "outputId": "882ad459-f32b-41b1-e74d-99b98763c8ba",
        "colab": {
          "base_uri": "https://localhost:8080/",
          "height": 133
        }
      },
      "source": [
        "full_df.tail(3)"
      ],
      "execution_count": 249,
      "outputs": [
        {
          "output_type": "execute_result",
          "data": {
            "text/html": [
              "<div>\n",
              "<style scoped>\n",
              "    .dataframe tbody tr th:only-of-type {\n",
              "        vertical-align: middle;\n",
              "    }\n",
              "\n",
              "    .dataframe tbody tr th {\n",
              "        vertical-align: top;\n",
              "    }\n",
              "\n",
              "    .dataframe thead th {\n",
              "        text-align: right;\n",
              "    }\n",
              "</style>\n",
              "<table border=\"1\" class=\"dataframe\">\n",
              "  <thead>\n",
              "    <tr style=\"text-align: right;\">\n",
              "      <th></th>\n",
              "      <th>YEARS</th>\n",
              "      <th>UNITID</th>\n",
              "      <th>INSTNM</th>\n",
              "      <th>STABBR</th>\n",
              "      <th>REGION</th>\n",
              "      <th>ADM_RATE</th>\n",
              "      <th>TUITIONFEE_IN</th>\n",
              "    </tr>\n",
              "  </thead>\n",
              "  <tbody>\n",
              "    <tr>\n",
              "      <th>4544</th>\n",
              "      <td>2018</td>\n",
              "      <td>434344</td>\n",
              "      <td>Toni &amp; Guy Hairdressing Academy-Worcester</td>\n",
              "      <td>MA</td>\n",
              "      <td>1.0</td>\n",
              "      <td>NaN</td>\n",
              "      <td>NaN</td>\n",
              "    </tr>\n",
              "    <tr>\n",
              "      <th>4546</th>\n",
              "      <td>2018</td>\n",
              "      <td>434432</td>\n",
              "      <td>Myotherapy Institute</td>\n",
              "      <td>NE</td>\n",
              "      <td>4.0</td>\n",
              "      <td>NaN</td>\n",
              "      <td>16750.0</td>\n",
              "    </tr>\n",
              "    <tr>\n",
              "      <th>0</th>\n",
              "      <td>2018</td>\n",
              "      <td>100654</td>\n",
              "      <td>Alabama A &amp; M University</td>\n",
              "      <td>AL</td>\n",
              "      <td>5.0</td>\n",
              "      <td>0.8986</td>\n",
              "      <td>9744.0</td>\n",
              "    </tr>\n",
              "  </tbody>\n",
              "</table>\n",
              "</div>"
            ],
            "text/plain": [
              "      YEARS  UNITID  ... ADM_RATE TUITIONFEE_IN\n",
              "4544   2018  434344  ...      NaN           NaN\n",
              "4546   2018  434432  ...      NaN       16750.0\n",
              "0      2018  100654  ...   0.8986        9744.0\n",
              "\n",
              "[3 rows x 7 columns]"
            ]
          },
          "metadata": {
            "tags": []
          },
          "execution_count": 249
        }
      ]
    },
    {
      "cell_type": "code",
      "metadata": {
        "id": "wJcRY7-0z6ul",
        "outputId": "0d3cafae-e91c-4592-d772-bf23ab19d2ad",
        "colab": {
          "base_uri": "https://localhost:8080/",
          "height": 133
        }
      },
      "source": [
        "full_df.sample(3)"
      ],
      "execution_count": 250,
      "outputs": [
        {
          "output_type": "execute_result",
          "data": {
            "text/html": [
              "<div>\n",
              "<style scoped>\n",
              "    .dataframe tbody tr th:only-of-type {\n",
              "        vertical-align: middle;\n",
              "    }\n",
              "\n",
              "    .dataframe tbody tr th {\n",
              "        vertical-align: top;\n",
              "    }\n",
              "\n",
              "    .dataframe thead th {\n",
              "        text-align: right;\n",
              "    }\n",
              "</style>\n",
              "<table border=\"1\" class=\"dataframe\">\n",
              "  <thead>\n",
              "    <tr style=\"text-align: right;\">\n",
              "      <th></th>\n",
              "      <th>YEARS</th>\n",
              "      <th>UNITID</th>\n",
              "      <th>INSTNM</th>\n",
              "      <th>STABBR</th>\n",
              "      <th>REGION</th>\n",
              "      <th>ADM_RATE</th>\n",
              "      <th>TUITIONFEE_IN</th>\n",
              "    </tr>\n",
              "  </thead>\n",
              "  <tbody>\n",
              "    <tr>\n",
              "      <th>82</th>\n",
              "      <td>2013</td>\n",
              "      <td>103963</td>\n",
              "      <td>Platt College-Arizona Automotive Institute Ari...</td>\n",
              "      <td>AZ</td>\n",
              "      <td>6.0</td>\n",
              "      <td>NaN</td>\n",
              "      <td>NaN</td>\n",
              "    </tr>\n",
              "    <tr>\n",
              "      <th>6293</th>\n",
              "      <td>2009</td>\n",
              "      <td>447014</td>\n",
              "      <td>Daytona College</td>\n",
              "      <td>FL</td>\n",
              "      <td>5.0</td>\n",
              "      <td>NaN</td>\n",
              "      <td>NaN</td>\n",
              "    </tr>\n",
              "    <tr>\n",
              "      <th>6248</th>\n",
              "      <td>2017</td>\n",
              "      <td>483425</td>\n",
              "      <td>Alexander Paul Institute of Hair Design</td>\n",
              "      <td>NC</td>\n",
              "      <td>5.0</td>\n",
              "      <td>NaN</td>\n",
              "      <td>NaN</td>\n",
              "    </tr>\n",
              "  </tbody>\n",
              "</table>\n",
              "</div>"
            ],
            "text/plain": [
              "      YEARS  UNITID  ... ADM_RATE TUITIONFEE_IN\n",
              "82     2013  103963  ...      NaN           NaN\n",
              "6293   2009  447014  ...      NaN           NaN\n",
              "6248   2017  483425  ...      NaN           NaN\n",
              "\n",
              "[3 rows x 7 columns]"
            ]
          },
          "metadata": {
            "tags": []
          },
          "execution_count": 250
        }
      ]
    },
    {
      "cell_type": "code",
      "metadata": {
        "id": "ea4tegAe0B68",
        "outputId": "14b2424e-cc16-43f3-fc8f-8cfbd87175f8",
        "colab": {
          "base_uri": "https://localhost:8080/",
          "height": 151
        }
      },
      "source": [
        "full_df.isnull().sum(axis = 0)"
      ],
      "execution_count": 251,
      "outputs": [
        {
          "output_type": "execute_result",
          "data": {
            "text/plain": [
              "YEARS                 0\n",
              "UNITID                0\n",
              "INSTNM                0\n",
              "STABBR                0\n",
              "REGION                1\n",
              "ADM_RATE         118420\n",
              "TUITIONFEE_IN     84137\n",
              "dtype: int64"
            ]
          },
          "metadata": {
            "tags": []
          },
          "execution_count": 251
        }
      ]
    },
    {
      "cell_type": "code",
      "metadata": {
        "id": "dyhUmNkwz-nM",
        "outputId": "fd43774c-975a-499a-d826-feb2b5f75879",
        "colab": {
          "base_uri": "https://localhost:8080/",
          "height": 277
        }
      },
      "source": [
        "full_df.describe()"
      ],
      "execution_count": 252,
      "outputs": [
        {
          "output_type": "execute_result",
          "data": {
            "text/html": [
              "<div>\n",
              "<style scoped>\n",
              "    .dataframe tbody tr th:only-of-type {\n",
              "        vertical-align: middle;\n",
              "    }\n",
              "\n",
              "    .dataframe tbody tr th {\n",
              "        vertical-align: top;\n",
              "    }\n",
              "\n",
              "    .dataframe thead th {\n",
              "        text-align: right;\n",
              "    }\n",
              "</style>\n",
              "<table border=\"1\" class=\"dataframe\">\n",
              "  <thead>\n",
              "    <tr style=\"text-align: right;\">\n",
              "      <th></th>\n",
              "      <th>YEARS</th>\n",
              "      <th>UNITID</th>\n",
              "      <th>REGION</th>\n",
              "      <th>ADM_RATE</th>\n",
              "      <th>TUITIONFEE_IN</th>\n",
              "    </tr>\n",
              "  </thead>\n",
              "  <tbody>\n",
              "    <tr>\n",
              "      <th>count</th>\n",
              "      <td>163331.000000</td>\n",
              "      <td>1.633310e+05</td>\n",
              "      <td>163330.000000</td>\n",
              "      <td>44911.000000</td>\n",
              "      <td>79194.000000</td>\n",
              "    </tr>\n",
              "    <tr>\n",
              "      <th>mean</th>\n",
              "      <td>2007.249481</td>\n",
              "      <td>9.432395e+05</td>\n",
              "      <td>4.554693</td>\n",
              "      <td>0.692946</td>\n",
              "      <td>11665.505367</td>\n",
              "    </tr>\n",
              "    <tr>\n",
              "      <th>std</th>\n",
              "      <td>6.608266</td>\n",
              "      <td>4.571721e+06</td>\n",
              "      <td>2.189217</td>\n",
              "      <td>0.217062</td>\n",
              "      <td>9985.998016</td>\n",
              "    </tr>\n",
              "    <tr>\n",
              "      <th>min</th>\n",
              "      <td>1996.000000</td>\n",
              "      <td>1.006360e+05</td>\n",
              "      <td>0.000000</td>\n",
              "      <td>0.000000</td>\n",
              "      <td>0.000000</td>\n",
              "    </tr>\n",
              "    <tr>\n",
              "      <th>25%</th>\n",
              "      <td>2002.000000</td>\n",
              "      <td>1.633380e+05</td>\n",
              "      <td>3.000000</td>\n",
              "      <td>0.555000</td>\n",
              "      <td>3776.000000</td>\n",
              "    </tr>\n",
              "    <tr>\n",
              "      <th>50%</th>\n",
              "      <td>2008.000000</td>\n",
              "      <td>2.127800e+05</td>\n",
              "      <td>5.000000</td>\n",
              "      <td>0.717500</td>\n",
              "      <td>9285.000000</td>\n",
              "    </tr>\n",
              "    <tr>\n",
              "      <th>75%</th>\n",
              "      <td>2013.000000</td>\n",
              "      <td>4.075680e+05</td>\n",
              "      <td>6.000000</td>\n",
              "      <td>0.857100</td>\n",
              "      <td>16146.000000</td>\n",
              "    </tr>\n",
              "    <tr>\n",
              "      <th>max</th>\n",
              "      <td>2018.000000</td>\n",
              "      <td>4.914640e+07</td>\n",
              "      <td>9.000000</td>\n",
              "      <td>1.000000</td>\n",
              "      <td>74787.000000</td>\n",
              "    </tr>\n",
              "  </tbody>\n",
              "</table>\n",
              "</div>"
            ],
            "text/plain": [
              "               YEARS        UNITID         REGION      ADM_RATE  TUITIONFEE_IN\n",
              "count  163331.000000  1.633310e+05  163330.000000  44911.000000   79194.000000\n",
              "mean     2007.249481  9.432395e+05       4.554693      0.692946   11665.505367\n",
              "std         6.608266  4.571721e+06       2.189217      0.217062    9985.998016\n",
              "min      1996.000000  1.006360e+05       0.000000      0.000000       0.000000\n",
              "25%      2002.000000  1.633380e+05       3.000000      0.555000    3776.000000\n",
              "50%      2008.000000  2.127800e+05       5.000000      0.717500    9285.000000\n",
              "75%      2013.000000  4.075680e+05       6.000000      0.857100   16146.000000\n",
              "max      2018.000000  4.914640e+07       9.000000      1.000000   74787.000000"
            ]
          },
          "metadata": {
            "tags": []
          },
          "execution_count": 252
        }
      ]
    },
    {
      "cell_type": "code",
      "metadata": {
        "id": "NQjKoDmU6zLd"
      },
      "source": [
        "# <7>\n",
        "# the dataframe contains many years of data of all U.S. colleges.\n",
        "# let's just look at UMBC\n",
        "# filter/query the dataframe to retrieve only rows that belong to UMBC\n",
        "# save the UMBC data to a new data frame. using a new variable \n",
        "# so that the old big data frame is still available for later use.\n",
        "\n",
        "#(Write code here)\n",
        "\n",
        "def college_finder(dataframe, column, name):\n",
        "    find_it = dataframe[dataframe[column].str.contains(name)]\n",
        "    return find_it\n",
        "\n",
        "#Now if we needed to, we could search for all of them at once.\n",
        "umbc_df = college_finder(full_df, \"INSTNM\", \"University of Maryland-Baltimore County\")\n",
        "\n",
        "umbc_df = umbc_df.sort_values(by=\"YEARS\")"
      ],
      "execution_count": 253,
      "outputs": []
    },
    {
      "cell_type": "code",
      "metadata": {
        "id": "9_44rlCY3Vps",
        "outputId": "d96c0aa6-ce24-41fa-b263-bac9c8800c16",
        "colab": {
          "base_uri": "https://localhost:8080/",
          "height": 190
        }
      },
      "source": [
        "umbc_df.head()"
      ],
      "execution_count": 254,
      "outputs": [
        {
          "output_type": "execute_result",
          "data": {
            "text/html": [
              "<div>\n",
              "<style scoped>\n",
              "    .dataframe tbody tr th:only-of-type {\n",
              "        vertical-align: middle;\n",
              "    }\n",
              "\n",
              "    .dataframe tbody tr th {\n",
              "        vertical-align: top;\n",
              "    }\n",
              "\n",
              "    .dataframe thead th {\n",
              "        text-align: right;\n",
              "    }\n",
              "</style>\n",
              "<table border=\"1\" class=\"dataframe\">\n",
              "  <thead>\n",
              "    <tr style=\"text-align: right;\">\n",
              "      <th></th>\n",
              "      <th>YEARS</th>\n",
              "      <th>UNITID</th>\n",
              "      <th>INSTNM</th>\n",
              "      <th>STABBR</th>\n",
              "      <th>REGION</th>\n",
              "      <th>ADM_RATE</th>\n",
              "      <th>TUITIONFEE_IN</th>\n",
              "    </tr>\n",
              "  </thead>\n",
              "  <tbody>\n",
              "    <tr>\n",
              "      <th>2151</th>\n",
              "      <td>1996</td>\n",
              "      <td>163268</td>\n",
              "      <td>University of Maryland-Baltimore County</td>\n",
              "      <td>MD</td>\n",
              "      <td>2.0</td>\n",
              "      <td>NaN</td>\n",
              "      <td>NaN</td>\n",
              "    </tr>\n",
              "    <tr>\n",
              "      <th>2049</th>\n",
              "      <td>1997</td>\n",
              "      <td>163268</td>\n",
              "      <td>University of Maryland-Baltimore County</td>\n",
              "      <td>MD</td>\n",
              "      <td>2.0</td>\n",
              "      <td>NaN</td>\n",
              "      <td>NaN</td>\n",
              "    </tr>\n",
              "    <tr>\n",
              "      <th>1982</th>\n",
              "      <td>1998</td>\n",
              "      <td>163268</td>\n",
              "      <td>University of Maryland-Baltimore County</td>\n",
              "      <td>MD</td>\n",
              "      <td>2.0</td>\n",
              "      <td>NaN</td>\n",
              "      <td>NaN</td>\n",
              "    </tr>\n",
              "    <tr>\n",
              "      <th>1955</th>\n",
              "      <td>1999</td>\n",
              "      <td>163268</td>\n",
              "      <td>University of Maryland-Baltimore County</td>\n",
              "      <td>MD</td>\n",
              "      <td>2.0</td>\n",
              "      <td>NaN</td>\n",
              "      <td>NaN</td>\n",
              "    </tr>\n",
              "    <tr>\n",
              "      <th>1926</th>\n",
              "      <td>2000</td>\n",
              "      <td>163268</td>\n",
              "      <td>University of Maryland-Baltimore County</td>\n",
              "      <td>MD</td>\n",
              "      <td>2.0</td>\n",
              "      <td>NaN</td>\n",
              "      <td>5490.0</td>\n",
              "    </tr>\n",
              "  </tbody>\n",
              "</table>\n",
              "</div>"
            ],
            "text/plain": [
              "      YEARS  UNITID  ... ADM_RATE TUITIONFEE_IN\n",
              "2151   1996  163268  ...      NaN           NaN\n",
              "2049   1997  163268  ...      NaN           NaN\n",
              "1982   1998  163268  ...      NaN           NaN\n",
              "1955   1999  163268  ...      NaN           NaN\n",
              "1926   2000  163268  ...      NaN        5490.0\n",
              "\n",
              "[5 rows x 7 columns]"
            ]
          },
          "metadata": {
            "tags": []
          },
          "execution_count": 254
        }
      ]
    },
    {
      "cell_type": "code",
      "metadata": {
        "id": "d5X87ugp6zLt",
        "outputId": "8e0163f4-c359-4fce-f923-ee5a2ca53d45",
        "colab": {
          "base_uri": "https://localhost:8080/",
          "height": 33
        }
      },
      "source": [
        "# <8>\n",
        "# Explore this UMBC dataframe (# of observations, varibles, head, tail, sample, missing values, statistics,etc.)\n",
        "\n",
        "#(Write code here)\n",
        "len(umbc_df) -1 == 2018-1996 #Check that there is a single instance for every year"
      ],
      "execution_count": 255,
      "outputs": [
        {
          "output_type": "execute_result",
          "data": {
            "text/plain": [
              "True"
            ]
          },
          "metadata": {
            "tags": []
          },
          "execution_count": 255
        }
      ]
    },
    {
      "cell_type": "code",
      "metadata": {
        "id": "5Poy4ciz6zLy",
        "outputId": "92ac501a-c08d-4cd6-f86f-505153444a6a",
        "colab": {
          "base_uri": "https://localhost:8080/",
          "height": 366
        }
      },
      "source": [
        "# <9>\n",
        "# Plot UMBC's in-state tuition overtime from 1996 to 2019 using Bar Chart\n",
        "\n",
        "#(Write code here)\n",
        "x = umbc_df['YEARS']\n",
        "y = umbc_df['TUITIONFEE_IN']\n",
        "\n",
        "fig = plt.figure()\n",
        "ax = fig.add_axes([0,0,1,1])\n",
        "\n",
        "ax.bar(x,y)\n",
        "plt.xscale('linear')\n",
        "\n",
        "ax.set_title(\"Graph of Years to Tuition Fee (2000-2018)\", color='black')\n",
        "ax.set_xlabel(\"YEARS\", color='black')\n",
        "ax.set_ylabel(\"TUITIONFEE_IN\", color='black')\n",
        "\n",
        "plt.show()"
      ],
      "execution_count": 279,
      "outputs": [
        {
          "output_type": "display_data",
          "data": {
            "image/png": "[encoded data removed]",
            "text/plain": [
              "<Figure size 432x288 with 1 Axes>"
            ]
          },
          "metadata": {
            "tags": [],
            "needs_background": "light"
          }
        }
      ]
    },
    {
      "cell_type": "code",
      "metadata": {
        "id": "afOQjc1w6zL4",
        "outputId": "af196fe5-38ea-4627-9c6f-5107eedf1562",
        "colab": {
          "base_uri": "https://localhost:8080/",
          "height": 404
        }
      },
      "source": [
        "# <10> \n",
        "# Plot UMBC's in-state tution overtime from 1996 to 2019 using Line Chart\n",
        "\n",
        "#(Write code here)\n",
        "#(Write code here)\n",
        "x = umbc_df['YEARS']\n",
        "y = umbc_df['TUITIONFEE_IN']\n",
        "\n",
        "fig, ax = plt.subplots(figsize = (10,6))\n",
        "\n",
        "ax.plot(x,y)\n",
        "plt.xscale('linear')\n",
        "\n",
        "ax.set_title(\"Graph of Years to Tuition Fee (2000-2018)\", color='black')\n",
        "ax.set_xlabel(\"YEARS\", color='black')\n",
        "ax.set_ylabel(\"TUITIONFEE_IN\", color='black')\n",
        "\n",
        "fig.show()"
      ],
      "execution_count": 283,
      "outputs": [
        {
          "output_type": "display_data",
          "data": {
            "image/png": "[encoded data removed]",
            "text/plain": [
              "<Figure size 720x432 with 1 Axes>"
            ]
          },
          "metadata": {
            "tags": [],
            "needs_background": "light"
          }
        }
      ]
    },
    {
      "cell_type": "code",
      "metadata": {
        "id": "xQLB2f7J6zL-",
        "outputId": "5d17c6ab-284f-423d-e25f-e7729b353ba0",
        "colab": {
          "base_uri": "https://localhost:8080/",
          "height": 33
        }
      },
      "source": [
        "# <11>\n",
        "# Now let's look at the tuition growth rate year over year\n",
        "# We need to calculate UMBC tuition change percentage each year\n",
        "# First convert the TUITIONFEE_IN column to a Python List\n",
        "\n",
        "#(Write code here)\n",
        "tuition_list = umbc_df['TUITIONFEE_IN'].to_list()\n",
        "print(tuition_list)"
      ],
      "execution_count": 258,
      "outputs": [
        {
          "output_type": "stream",
          "text": [
            "[nan, nan, nan, nan, 5490.0, 5910.0, 6362.0, 7388.0, 8020.0, 8520.0, 8622.0, 8708.0, 8780.0, 8872.0, 9171.0, 9467.0, 9764.0, 10068.0, 10384.0, 11006.0, 11264.0, 11518.0, 11778.0]\n"
          ],
          "name": "stdout"
        }
      ]
    },
    {
      "cell_type": "code",
      "metadata": {
        "id": "Qh7iWRkCwNvJ",
        "outputId": "13d4d661-ed5d-4d15-845c-94129b1665d5",
        "colab": {
          "base_uri": "https://localhost:8080/",
          "height": 70
        }
      },
      "source": [
        "# Loop through the list and calculate the % change each year over the prior year\n",
        "# This takes some effort. Not hard, just some abstract/logical thinking and some experiments\n",
        "# Have fun on this one\n",
        "\n",
        " #(Write code here)\n",
        "\n",
        "umbc_percent_list = []\n",
        "\n",
        "for tuit in tuition_list:\n",
        "    try:\n",
        "          pct_increase = ((tuit - last_year_tuition) / last_year_tuition) * 100\n",
        "    except:\n",
        "          pct_increase = 0\n",
        "\n",
        "    umbc_percent_list.append(pct_increase)\n",
        "    last_year_tuition = tuit\n",
        "\n",
        "    print(last_year_tuition, end = \" \")\n",
        "\n",
        "print(f\"\\n {umbc_percent_list}\")"
      ],
      "execution_count": 259,
      "outputs": [
        {
          "output_type": "stream",
          "text": [
            "nan nan nan nan 5490.0 5910.0 6362.0 7388.0 8020.0 8520.0 8622.0 8708.0 8780.0 8872.0 9171.0 9467.0 9764.0 10068.0 10384.0 11006.0 11264.0 11518.0 11778.0 \n",
            " [nan, nan, nan, nan, nan, 7.650273224043716, 7.648054145516074, 16.12700408676517, 8.554412560909583, 6.234413965087282, 1.1971830985915493, 0.9974483878450475, 0.8268259072117593, 1.0478359908883828, 3.370153291253381, 3.227565151019518, 3.1372134783986483, 3.11347808275297, 3.1386571315057608, 5.989984591679507, 2.344175904052335, 2.254971590909091, 2.2573363431151243]\n"
          ],
          "name": "stdout"
        }
      ]
    },
    {
      "cell_type": "code",
      "metadata": {
        "id": "9sxMk1hc6zML"
      },
      "source": [
        "# The resulting number has many decimal points which are unnecessary and not visually appealing.\n",
        "# Round up the percentage to two decimal points\n",
        "# You can use for loop. Or better, use list comprehension for simplicity/brevity\n",
        "\n",
        "#(Write code here)\n",
        "\n",
        "umbc_percent_list_rd = [round(cost, 2) for cost in umbc_percent_list]"
      ],
      "execution_count": 260,
      "outputs": []
    },
    {
      "cell_type": "code",
      "metadata": {
        "id": "_04rVaZ16zMR"
      },
      "source": [
        "# Add the list of the percentages to the dataframe as a new column (\"PCT_CHANGE\")\n",
        "# Not as hard as you may think. If you get stuck, you think too hard. \n",
        "# Google it and you will find the answer.\n",
        "\n",
        "#(Write code here\n",
        "umbc_df.insert(0, \"YEAR_PCT_INC\", umbc_percent_list_rd)"
      ],
      "execution_count": 261,
      "outputs": []
    },
    {
      "cell_type": "code",
      "metadata": {
        "id": "3-CWSZRrW7l5",
        "outputId": "25691d17-921d-4f45-e9e4-e210f3588b54",
        "colab": {
          "base_uri": "https://localhost:8080/",
          "height": 453
        }
      },
      "source": [
        "print(umbc_df)"
      ],
      "execution_count": 262,
      "outputs": [
        {
          "output_type": "stream",
          "text": [
            "      YEAR_PCT_INC  YEARS  UNITID  ... REGION ADM_RATE  TUITIONFEE_IN\n",
            "2151           NaN   1996  163268  ...    2.0      NaN            NaN\n",
            "2049           NaN   1997  163268  ...    2.0      NaN            NaN\n",
            "1982           NaN   1998  163268  ...    2.0      NaN            NaN\n",
            "1955           NaN   1999  163268  ...    2.0      NaN            NaN\n",
            "1926           NaN   2000  163268  ...    2.0      NaN         5490.0\n",
            "1915          7.65   2001  163268  ...    2.0   0.6551         5910.0\n",
            "1893          7.65   2002  163268  ...    2.0   0.6327         6362.0\n",
            "1873         16.13   2003  163268  ...    2.0   0.5757         7388.0\n",
            "1830          8.55   2004  163268  ...    2.0   0.7014         8020.0\n",
            "1819          6.23   2005  163268  ...    2.0   0.7143         8520.0\n",
            "1799          1.20   2006  163268  ...    2.0   0.7153         8622.0\n",
            "1779          1.00   2007  163268  ...    2.0   0.6895         8708.0\n",
            "1767          0.83   2008  163268  ...    2.0   0.7174         8780.0\n",
            "1745          1.05   2009  163268  ...    2.0   0.6890         8872.0\n",
            "1710          3.37   2010  163268  ...    2.0   0.6589         9171.0\n",
            "1694          3.23   2011  163268  ...    2.0   0.6081         9467.0\n",
            "1660          3.14   2012  163268  ...    2.0   0.6035         9764.0\n",
            "1629          3.11   2013  163268  ...    2.0   0.6315        10068.0\n",
            "1610          3.14   2014  163268  ...    2.0   0.5961        10384.0\n",
            "1555          5.99   2015  163268  ...    2.0   0.5942        11006.0\n",
            "1510          2.34   2016  163268  ...    2.0   0.5683        11264.0\n",
            "1478          2.25   2017  163268  ...    2.0   0.6021        11518.0\n",
            "1415          2.26   2018  163268  ...    2.0   0.5794        11778.0\n",
            "\n",
            "[23 rows x 8 columns]\n"
          ],
          "name": "stdout"
        }
      ]
    },
    {
      "cell_type": "code",
      "metadata": {
        "id": "5Evbjx-g6zMX",
        "outputId": "8470a8e2-d10c-4cdf-8b5e-89190ff9f8b1",
        "colab": {
          "base_uri": "https://localhost:8080/",
          "height": 366
        }
      },
      "source": [
        "# Finaly, we can make the plot tuition growth rate year over year - bar first, then line chart\n",
        "\n",
        "# Bar Chart\n",
        "\n",
        "#(Write code here)\n",
        "x = umbc_df['YEARS']\n",
        "y = umbc_df['YEAR_PCT_INC']\n",
        "\n",
        "fig = plt.figure()\n",
        "ax = fig.add_axes([0,0,1,1])\n",
        "\n",
        "ax.bar(x,y)\n",
        "ax.set_title(\"Graph of Years to Tuition Fee (2000-2018)\", color='black')\n",
        "ax.set_xlabel(\"YEARS\", color='black')\n",
        "ax.set_ylabel(\"YEAR_PCT_INC\", color='black')\n",
        "\n",
        "plt.show()"
      ],
      "execution_count": 265,
      "outputs": [
        {
          "output_type": "display_data",
          "data": {
            "image/png": "[encoded data removed]",
            "text/plain": [
              "<Figure size 432x288 with 1 Axes>"
            ]
          },
          "metadata": {
            "tags": [],
            "needs_background": "light"
          }
        }
      ]
    },
    {
      "cell_type": "code",
      "metadata": {
        "id": "h-9yOE3idOx3"
      },
      "source": [
        "#Line Chart\n",
        "x = umbc_df['YEARS']\n",
        "y = umbc_df['YEAR_PCT_INC']\n",
        "\n",
        "fig, ax = plt.subplots(figsize = (10,6))\n",
        "\n",
        "ax.plot(x,y)\n",
        "\n",
        "ax.set_title(\"Graph of Years to Tuition Fee (2000-2018)\", color='black')\n",
        "ax.set_xlabel(\"YEARS\", color='black')\n",
        "ax.set_ylabel(\"Tuition Percent Increase\", color='black')\n",
        "\n",
        "fig.show()"
      ],
      "execution_count": null,
      "outputs": []
    },
    {
      "cell_type": "code",
      "metadata": {
        "id": "eCqEe_646zMc"
      },
      "source": [
        "# <12>\n",
        "# Since we want to do the same calculation for JHU. \n",
        "# Instead of doing it piecemeal as we did for UMBC\n",
        "# Let's create a function which can be reused for any college.\n",
        "# This function takes a list of tuitions and return a list of percentage changes year over year\n",
        "# This function can be used later \n",
        "\n",
        "#(Write code here)"
      ],
      "execution_count": 266,
      "outputs": []
    },
    {
      "cell_type": "code",
      "metadata": {
        "id": "kZxXkyMjddaM"
      },
      "source": [
        "def percent_change(tuition_list):\n",
        "    percent_list = []\n",
        "    percent_change = 0\n",
        "    last_year_tuition = 0\n",
        "\n",
        "    for year in tuition_list:\n",
        "        try:\n",
        "              pct_increase = ((year - last_year_tuition) / last_year_tuition) * 100\n",
        "        except:\n",
        "              pct_increase = 0\n",
        "\n",
        "        percent_list.append(round(pct_increase,2))\n",
        "        last_year_tuition = tuit\n",
        "\n",
        "        print(last_year_tuition, end = \" \")\n",
        "\n",
        "    return percent_list"
      ],
      "execution_count": 272,
      "outputs": []
    },
    {
      "cell_type": "code",
      "metadata": {
        "id": "LD0WLQZwd-Tm",
        "outputId": "475ea8d4-14eb-4370-e2a0-8d44d758cf6c",
        "colab": {
          "base_uri": "https://localhost:8080/",
          "height": 33
        }
      },
      "source": [
        "percent_change())"
      ],
      "execution_count": 273,
      "outputs": [
        {
          "output_type": "stream",
          "text": [
            "11778.0 11778.0 11778.0 "
          ],
          "name": "stdout"
        },
        {
          "output_type": "execute_result",
          "data": {
            "text/plain": [
              "[0, -99.97, -99.97]"
            ]
          },
          "metadata": {
            "tags": []
          },
          "execution_count": 273
        }
      ]
    },
    {
      "cell_type": "code",
      "metadata": {
        "id": "f2mhYOjV6zMj"
      },
      "source": [
        "# <13>\n",
        "# the dataframe contains many years of data of all U.S. colleges.\n",
        "# let's just look at JHU\n",
        "# filter/query the dataframe to retrieve only rows that belong to JHU\n",
        "# save the JHU data to a new data frame. using a new variable \n",
        "# so that the old big data frame is still available for later use.\n",
        "\n",
        "#(Write code here)\n",
        "def college_finder(dataframe, column, name):\n",
        "    find_it = dataframe[dataframe[column].str.contains(name)]\n",
        "    return find_it\n",
        "\n",
        "#Now if we needed to, we could search for all of them at once.\n",
        "jhu_df = college_finder(full_df, \"INSTNM\", \"Johns Hopkins\")\n",
        "jhu_df = jhu_df.sort_values(by=\"YEARS\")"
      ],
      "execution_count": 287,
      "outputs": []
    },
    {
      "cell_type": "code",
      "metadata": {
        "id": "yq0wLfV6fVjE",
        "outputId": "a2e537ab-52de-464e-9d1d-8f1a4bd55fde",
        "colab": {
          "base_uri": "https://localhost:8080/",
          "height": 709
        }
      },
      "source": [
        "jhu_df"
      ],
      "execution_count": 294,
      "outputs": [
        {
          "output_type": "execute_result",
          "data": {
            "text/html": [
              "<div>\n",
              "<style scoped>\n",
              "    .dataframe tbody tr th:only-of-type {\n",
              "        vertical-align: middle;\n",
              "    }\n",
              "\n",
              "    .dataframe tbody tr th {\n",
              "        vertical-align: top;\n",
              "    }\n",
              "\n",
              "    .dataframe thead th {\n",
              "        text-align: right;\n",
              "    }\n",
              "</style>\n",
              "<table border=\"1\" class=\"dataframe\">\n",
              "  <thead>\n",
              "    <tr style=\"text-align: right;\">\n",
              "      <th></th>\n",
              "      <th>YEARS</th>\n",
              "      <th>UNITID</th>\n",
              "      <th>INSTNM</th>\n",
              "      <th>STABBR</th>\n",
              "      <th>REGION</th>\n",
              "      <th>ADM_RATE</th>\n",
              "      <th>TUITIONFEE_IN</th>\n",
              "    </tr>\n",
              "  </thead>\n",
              "  <tbody>\n",
              "    <tr>\n",
              "      <th>2139</th>\n",
              "      <td>1996</td>\n",
              "      <td>162928</td>\n",
              "      <td>Johns Hopkins University</td>\n",
              "      <td>MD</td>\n",
              "      <td>2.0</td>\n",
              "      <td>NaN</td>\n",
              "      <td>NaN</td>\n",
              "    </tr>\n",
              "    <tr>\n",
              "      <th>2039</th>\n",
              "      <td>1997</td>\n",
              "      <td>162928</td>\n",
              "      <td>Johns Hopkins University</td>\n",
              "      <td>MD</td>\n",
              "      <td>2.0</td>\n",
              "      <td>NaN</td>\n",
              "      <td>NaN</td>\n",
              "    </tr>\n",
              "    <tr>\n",
              "      <th>1973</th>\n",
              "      <td>1998</td>\n",
              "      <td>162928</td>\n",
              "      <td>Johns Hopkins University</td>\n",
              "      <td>MD</td>\n",
              "      <td>2.0</td>\n",
              "      <td>NaN</td>\n",
              "      <td>NaN</td>\n",
              "    </tr>\n",
              "    <tr>\n",
              "      <th>1946</th>\n",
              "      <td>1999</td>\n",
              "      <td>162928</td>\n",
              "      <td>Johns Hopkins University</td>\n",
              "      <td>MD</td>\n",
              "      <td>2.0</td>\n",
              "      <td>NaN</td>\n",
              "      <td>NaN</td>\n",
              "    </tr>\n",
              "    <tr>\n",
              "      <th>1917</th>\n",
              "      <td>2000</td>\n",
              "      <td>162928</td>\n",
              "      <td>Johns Hopkins University</td>\n",
              "      <td>MD</td>\n",
              "      <td>2.0</td>\n",
              "      <td>NaN</td>\n",
              "      <td>24930.0</td>\n",
              "    </tr>\n",
              "    <tr>\n",
              "      <th>1906</th>\n",
              "      <td>2001</td>\n",
              "      <td>162928</td>\n",
              "      <td>Johns Hopkins University</td>\n",
              "      <td>MD</td>\n",
              "      <td>2.0</td>\n",
              "      <td>0.3431</td>\n",
              "      <td>26210.0</td>\n",
              "    </tr>\n",
              "    <tr>\n",
              "      <th>1884</th>\n",
              "      <td>2002</td>\n",
              "      <td>162928</td>\n",
              "      <td>Johns Hopkins University</td>\n",
              "      <td>MD</td>\n",
              "      <td>2.0</td>\n",
              "      <td>0.3506</td>\n",
              "      <td>27390.0</td>\n",
              "    </tr>\n",
              "    <tr>\n",
              "      <th>1865</th>\n",
              "      <td>2003</td>\n",
              "      <td>162928</td>\n",
              "      <td>Johns Hopkins University</td>\n",
              "      <td>MD</td>\n",
              "      <td>2.0</td>\n",
              "      <td>0.3060</td>\n",
              "      <td>28730.0</td>\n",
              "    </tr>\n",
              "    <tr>\n",
              "      <th>1823</th>\n",
              "      <td>2004</td>\n",
              "      <td>162928</td>\n",
              "      <td>Johns Hopkins University</td>\n",
              "      <td>MD</td>\n",
              "      <td>2.0</td>\n",
              "      <td>0.3071</td>\n",
              "      <td>30140.0</td>\n",
              "    </tr>\n",
              "    <tr>\n",
              "      <th>1812</th>\n",
              "      <td>2005</td>\n",
              "      <td>162928</td>\n",
              "      <td>Johns Hopkins University</td>\n",
              "      <td>MD</td>\n",
              "      <td>2.0</td>\n",
              "      <td>0.3509</td>\n",
              "      <td>31620.0</td>\n",
              "    </tr>\n",
              "    <tr>\n",
              "      <th>1792</th>\n",
              "      <td>2006</td>\n",
              "      <td>162928</td>\n",
              "      <td>Johns Hopkins University</td>\n",
              "      <td>MD</td>\n",
              "      <td>2.0</td>\n",
              "      <td>0.2792</td>\n",
              "      <td>33900.0</td>\n",
              "    </tr>\n",
              "    <tr>\n",
              "      <th>1772</th>\n",
              "      <td>2007</td>\n",
              "      <td>162928</td>\n",
              "      <td>Johns Hopkins University</td>\n",
              "      <td>MD</td>\n",
              "      <td>2.0</td>\n",
              "      <td>0.2571</td>\n",
              "      <td>35900.0</td>\n",
              "    </tr>\n",
              "    <tr>\n",
              "      <th>1760</th>\n",
              "      <td>2008</td>\n",
              "      <td>162928</td>\n",
              "      <td>Johns Hopkins University</td>\n",
              "      <td>MD</td>\n",
              "      <td>2.0</td>\n",
              "      <td>0.2609</td>\n",
              "      <td>37700.0</td>\n",
              "    </tr>\n",
              "    <tr>\n",
              "      <th>1738</th>\n",
              "      <td>2009</td>\n",
              "      <td>162928</td>\n",
              "      <td>Johns Hopkins University</td>\n",
              "      <td>MD</td>\n",
              "      <td>2.0</td>\n",
              "      <td>0.2782</td>\n",
              "      <td>39150.0</td>\n",
              "    </tr>\n",
              "    <tr>\n",
              "      <th>1703</th>\n",
              "      <td>2010</td>\n",
              "      <td>162928</td>\n",
              "      <td>Johns Hopkins University</td>\n",
              "      <td>MD</td>\n",
              "      <td>2.0</td>\n",
              "      <td>0.2225</td>\n",
              "      <td>40680.0</td>\n",
              "    </tr>\n",
              "    <tr>\n",
              "      <th>1687</th>\n",
              "      <td>2011</td>\n",
              "      <td>162928</td>\n",
              "      <td>Johns Hopkins University</td>\n",
              "      <td>MD</td>\n",
              "      <td>2.0</td>\n",
              "      <td>0.1940</td>\n",
              "      <td>42280.0</td>\n",
              "    </tr>\n",
              "    <tr>\n",
              "      <th>1653</th>\n",
              "      <td>2012</td>\n",
              "      <td>162928</td>\n",
              "      <td>Johns Hopkins University</td>\n",
              "      <td>MD</td>\n",
              "      <td>2.0</td>\n",
              "      <td>0.1843</td>\n",
              "      <td>43390.0</td>\n",
              "    </tr>\n",
              "    <tr>\n",
              "      <th>1622</th>\n",
              "      <td>2013</td>\n",
              "      <td>162928</td>\n",
              "      <td>Johns Hopkins University</td>\n",
              "      <td>MD</td>\n",
              "      <td>2.0</td>\n",
              "      <td>0.1813</td>\n",
              "      <td>45470.0</td>\n",
              "    </tr>\n",
              "    <tr>\n",
              "      <th>1603</th>\n",
              "      <td>2014</td>\n",
              "      <td>162928</td>\n",
              "      <td>Johns Hopkins University</td>\n",
              "      <td>MD</td>\n",
              "      <td>2.0</td>\n",
              "      <td>0.1608</td>\n",
              "      <td>47060.0</td>\n",
              "    </tr>\n",
              "    <tr>\n",
              "      <th>1548</th>\n",
              "      <td>2015</td>\n",
              "      <td>162928</td>\n",
              "      <td>Johns Hopkins University</td>\n",
              "      <td>MD</td>\n",
              "      <td>2.0</td>\n",
              "      <td>0.1412</td>\n",
              "      <td>48710.0</td>\n",
              "    </tr>\n",
              "    <tr>\n",
              "      <th>1503</th>\n",
              "      <td>2016</td>\n",
              "      <td>162928</td>\n",
              "      <td>Johns Hopkins University</td>\n",
              "      <td>MD</td>\n",
              "      <td>2.0</td>\n",
              "      <td>0.1284</td>\n",
              "      <td>50410.0</td>\n",
              "    </tr>\n",
              "    <tr>\n",
              "      <th>1473</th>\n",
              "      <td>2017</td>\n",
              "      <td>162928</td>\n",
              "      <td>Johns Hopkins University</td>\n",
              "      <td>MD</td>\n",
              "      <td>2.0</td>\n",
              "      <td>0.1254</td>\n",
              "      <td>52170.0</td>\n",
              "    </tr>\n",
              "    <tr>\n",
              "      <th>1410</th>\n",
              "      <td>2018</td>\n",
              "      <td>162928</td>\n",
              "      <td>Johns Hopkins University</td>\n",
              "      <td>MD</td>\n",
              "      <td>2.0</td>\n",
              "      <td>0.1148</td>\n",
              "      <td>53740.0</td>\n",
              "    </tr>\n",
              "  </tbody>\n",
              "</table>\n",
              "</div>"
            ],
            "text/plain": [
              "      YEARS  UNITID                    INSTNM  ... REGION  ADM_RATE  TUITIONFEE_IN\n",
              "2139   1996  162928  Johns Hopkins University  ...    2.0       NaN            NaN\n",
              "2039   1997  162928  Johns Hopkins University  ...    2.0       NaN            NaN\n",
              "1973   1998  162928  Johns Hopkins University  ...    2.0       NaN            NaN\n",
              "1946   1999  162928  Johns Hopkins University  ...    2.0       NaN            NaN\n",
              "1917   2000  162928  Johns Hopkins University  ...    2.0       NaN        24930.0\n",
              "1906   2001  162928  Johns Hopkins University  ...    2.0    0.3431        26210.0\n",
              "1884   2002  162928  Johns Hopkins University  ...    2.0    0.3506        27390.0\n",
              "1865   2003  162928  Johns Hopkins University  ...    2.0    0.3060        28730.0\n",
              "1823   2004  162928  Johns Hopkins University  ...    2.0    0.3071        30140.0\n",
              "1812   2005  162928  Johns Hopkins University  ...    2.0    0.3509        31620.0\n",
              "1792   2006  162928  Johns Hopkins University  ...    2.0    0.2792        33900.0\n",
              "1772   2007  162928  Johns Hopkins University  ...    2.0    0.2571        35900.0\n",
              "1760   2008  162928  Johns Hopkins University  ...    2.0    0.2609        37700.0\n",
              "1738   2009  162928  Johns Hopkins University  ...    2.0    0.2782        39150.0\n",
              "1703   2010  162928  Johns Hopkins University  ...    2.0    0.2225        40680.0\n",
              "1687   2011  162928  Johns Hopkins University  ...    2.0    0.1940        42280.0\n",
              "1653   2012  162928  Johns Hopkins University  ...    2.0    0.1843        43390.0\n",
              "1622   2013  162928  Johns Hopkins University  ...    2.0    0.1813        45470.0\n",
              "1603   2014  162928  Johns Hopkins University  ...    2.0    0.1608        47060.0\n",
              "1548   2015  162928  Johns Hopkins University  ...    2.0    0.1412        48710.0\n",
              "1503   2016  162928  Johns Hopkins University  ...    2.0    0.1284        50410.0\n",
              "1473   2017  162928  Johns Hopkins University  ...    2.0    0.1254        52170.0\n",
              "1410   2018  162928  Johns Hopkins University  ...    2.0    0.1148        53740.0\n",
              "\n",
              "[23 rows x 7 columns]"
            ]
          },
          "metadata": {
            "tags": []
          },
          "execution_count": 294
        }
      ]
    },
    {
      "cell_type": "code",
      "metadata": {
        "id": "wGXcNTJ46zMo"
      },
      "source": [
        "# <14> \n",
        "# Plot JHU's in-state tuition over time from 1996 to 2019. \n",
        "# Let's plot bar and line chart together\n",
        "\n",
        "#(Write code here)\n",
        "\n"
      ],
      "execution_count": 285,
      "outputs": []
    },
    {
      "cell_type": "code",
      "metadata": {
        "id": "RPXTrsZT6zMx"
      },
      "source": [
        "# <15>\n",
        "# Let's calculate the JHU tuition percentge growth using the function defined earlier\n",
        "\n",
        "#(Write code here)\n",
        "\n"
      ],
      "execution_count": null,
      "outputs": []
    },
    {
      "cell_type": "code",
      "metadata": {
        "id": "7KM74FQH6zM4"
      },
      "source": [
        "# <16>\n",
        "# Add the list of percentage changes to the dataframe as a new column (\"PCT_CHANGE\")\n",
        "\n",
        "#(Write code here)\n",
        "\n"
      ],
      "execution_count": null,
      "outputs": []
    },
    {
      "cell_type": "code",
      "metadata": {
        "id": "vGi8YI_A6zM7"
      },
      "source": [
        "# <17> Make a bar plot of the JHU percentage changes tuitions over time\n",
        "\n",
        "#(Write code here)\n",
        "\n"
      ],
      "execution_count": null,
      "outputs": []
    },
    {
      "cell_type": "code",
      "metadata": {
        "id": "bGYYULq16zNA"
      },
      "source": [
        "# <18>\n",
        "# In order to plot both UMBC and JHU tuition change over time in the same plot,\n",
        "# we need to combine the two datasets using the common key of YEAR \n",
        "# First make a umbc2 dataframe with only two columns needed. WE don't need other columns.\n",
        "# Also change the column name from \"PCT_CHANGE\" to \"UMBC_PCT\" in preparation for the merge.\n",
        "# This is because both umbc and jhu dataframe have the same column name \"PCT_CHANGE\",\n",
        "# We rename them to there is no collision during the merge. BTW, Pandas handles collision gracefully,\n",
        "# Feel free to try it without changing the column names.\n",
        "\n",
        "#(Write code here)\n",
        "\n"
      ],
      "execution_count": null,
      "outputs": []
    },
    {
      "cell_type": "code",
      "metadata": {
        "id": "DX95nFyG6zNF"
      },
      "source": [
        "# Then make a jhu2 dataframe with only two columns needed. WE don't need other columns.\n",
        "# Also change the column name from \"PCT_CHANGE\" to \"JHU_PCT\"  in preparation for the merge\n",
        "\n",
        "#(Write code here)\n",
        "\n"
      ],
      "execution_count": null,
      "outputs": []
    },
    {
      "cell_type": "code",
      "metadata": {
        "id": "LJ_6wKKU6zNL"
      },
      "source": [
        "# Now, merger the two data frames\n",
        "# and display the new dataframe\n",
        "\n",
        "#(Write code here)\n",
        "\n"
      ],
      "execution_count": null,
      "outputs": []
    },
    {
      "cell_type": "code",
      "metadata": {
        "id": "Ng3bbP076zNW"
      },
      "source": [
        "# Plot UMBC and JHU separately on the same plot \n",
        "# However, this does not work since the bars overlap.\n",
        "\n",
        "#(Write code here)\n",
        "\n"
      ],
      "execution_count": null,
      "outputs": []
    },
    {
      "cell_type": "code",
      "metadata": {
        "id": "gqeDG8Xf6zNg"
      },
      "source": [
        "# Plot them together using y=[\"UMBC_PCT\",\"JHU_PCT\"] option of bar plot\n",
        "\n",
        "#(Write code here)\n",
        "\n"
      ],
      "execution_count": null,
      "outputs": []
    },
    {
      "cell_type": "code",
      "metadata": {
        "id": "uGgmDKrF6zNq"
      },
      "source": [
        "# Plot them together using y=[\"UMBC_PCT\",\"JHU_PCT\"] option of line plot\n",
        "\n",
        "#(Write code here)\n",
        "\n"
      ],
      "execution_count": null,
      "outputs": []
    },
    {
      "cell_type": "code",
      "metadata": {
        "id": "6YNmMkgW6zNv"
      },
      "source": [
        "# <19> \n",
        "# document your observation/conclusion of the comparison plots (bar/line)\n",
        "# use the following Markdown cell"
      ],
      "execution_count": null,
      "outputs": []
    },
    {
      "cell_type": "markdown",
      "metadata": {
        "id": "tzeP_v8E6zNz"
      },
      "source": [
        "#### Based on my observation of the plots\n",
        "#### blah, blah \n",
        "#### blah, blah\n",
        "#### ...\n",
        "#### blah, blah"
      ]
    },
    {
      "cell_type": "code",
      "metadata": {
        "id": "njPmmLLA6zN0"
      },
      "source": [
        "# The end."
      ],
      "execution_count": null,
      "outputs": []
    }
  ]
}
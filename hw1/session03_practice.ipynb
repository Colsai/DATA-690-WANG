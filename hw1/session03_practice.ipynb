{
  "nbformat": 4,
  "nbformat_minor": 0,
  "metadata": {
    "colab": {
      "name": "session03_practice.ipynb",
      "provenance": [],
      "collapsed_sections": [],
      "authorship_tag": "ABX9TyOT5hu/xpnsGaTlgjmyHICy",
      "include_colab_link": true
    },
    "kernelspec": {
      "name": "python3",
      "display_name": "Python 3"
    }
  },
  "cells": [
    {
      "cell_type": "markdown",
      "metadata": {
        "id": "view-in-github",
        "colab_type": "text"
      },
      "source": [
        "<a href=\"https://colab.research.google.com/github/Colsai/DATA-690-WANG/blob/master/hw1/session03_practice.ipynb\" target=\"_parent\"><img src=\"https://colab.research.google.com/assets/colab-badge.svg\" alt=\"Open In Colab\"/></a>"
      ]
    },
    {
      "cell_type": "markdown",
      "metadata": {
        "id": "l29_as_PbAa2",
        "colab_type": "text"
      },
      "source": [
        "To come up with a list of people's first name and find out how many people are in the class."
      ]
    },
    {
      "cell_type": "code",
      "metadata": {
        "id": "rMC4NnAPanNX",
        "colab_type": "code",
        "colab": {
          "base_uri": "https://localhost:8080/",
          "height": 34
        },
        "outputId": "e3f21a77-a7ce-4d76-df58-3613ab97db18"
      },
      "source": [
        "people_list = \"Wang, Chaojie; Seelam, Arjun Reddy;\"\n",
        "print(people_list)"
      ],
      "execution_count": null,
      "outputs": [
        {
          "output_type": "stream",
          "text": [
            "Wang, Chaojie; Seelam, Arjun Reddy;\n"
          ],
          "name": "stdout"
        }
      ]
    },
    {
      "cell_type": "code",
      "metadata": {
        "id": "46lRdVbJaqSw",
        "colab_type": "code",
        "colab": {
          "base_uri": "https://localhost:8080/",
          "height": 50
        },
        "outputId": "ea452383-5aaf-4970-b314-0e6a1f574fd3"
      },
      "source": [
        "people_list = \"Wang, Chaojie; Seelam, Arjun Reddy\"\n",
        "people_list_new = people_list.split('; ')\n",
        "people_list_new1 = people_list.split(',')\n",
        "\n",
        "print(people_list_new1)\n",
        "\n",
        "len(people_list_new1)"
      ],
      "execution_count": null,
      "outputs": [
        {
          "output_type": "stream",
          "text": [
            "['Wang', ' Chaojie; Seelam', ' Arjun Reddy']\n"
          ],
          "name": "stdout"
        },
        {
          "output_type": "execute_result",
          "data": {
            "text/plain": [
              "3"
            ]
          },
          "metadata": {
            "tags": []
          },
          "execution_count": 37
        }
      ]
    },
    {
      "cell_type": "code",
      "metadata": {
        "id": "7WY0DYX2eBcf",
        "colab_type": "code",
        "colab": {
          "base_uri": "https://localhost:8080/",
          "height": 50
        },
        "outputId": "957585f4-1ba8-4b75-dba8-849d2e47af7f"
      },
      "source": [
        "people_list = \"Wang, Chaojie; Seelam, Arjun Reddy\"\n",
        "\n",
        "people_list_new = people_list.split('; ')\n",
        "print(len(people_list_new))\n",
        "\n",
        "for person in people_list_new:\n",
        "    people_list.split(',')\n",
        "    people_list\n",
        "\n",
        "print(people_list_new1)\n",
        "\n"
      ],
      "execution_count": 42,
      "outputs": [
        {
          "output_type": "stream",
          "text": [
            "2\n",
            "['Wang', ' Chaojie; Seelam', ' Arjun Reddy']\n"
          ],
          "name": "stdout"
        }
      ]
    },
    {
      "cell_type": "code",
      "metadata": {
        "id": "VzGuEztlgVqj",
        "colab_type": "code",
        "colab": {}
      },
      "source": [
        ""
      ],
      "execution_count": null,
      "outputs": []
    }
  ]
}
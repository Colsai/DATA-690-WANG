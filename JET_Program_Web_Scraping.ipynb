{
  "nbformat": 4,
  "nbformat_minor": 0,
  "metadata": {
    "colab": {
      "name": "JET Program Web  Scraping",
      "provenance": [],
      "collapsed_sections": [],
      "authorship_tag": "ABX9TyOXK6XKhoZb6YzxP+tSQTcW",
      "include_colab_link": true
    },
    "kernelspec": {
      "name": "python3",
      "display_name": "Python 3"
    }
  },
  "cells": [
    {
      "cell_type": "markdown",
      "metadata": {
        "id": "view-in-github",
        "colab_type": "text"
      },
      "source": [
        "<a href=\"https://colab.research.google.com/github/Colsai/DATA-690-WANG/blob/master/JET_Program_Web_Scraping.ipynb\" target=\"_parent\"><img src=\"https://colab.research.google.com/assets/colab-badge.svg\" alt=\"Open In Colab\"/></a>"
      ]
    },
    {
      "cell_type": "markdown",
      "metadata": {
        "id": "wn0dCVuwwgo5"
      },
      "source": [
        "# A Short Look at The JET Program"
      ]
    },
    {
      "cell_type": "code",
      "metadata": {
        "id": "lCX_HCY1erxP"
      },
      "source": [
        "#Import Packages for this short analysis\n",
        "import pandas as pd\n",
        "import seaborn as sns\n",
        "import matplotlib.pyplot as plt"
      ],
      "execution_count": 1,
      "outputs": []
    },
    {
      "cell_type": "code",
      "metadata": {
        "id": "pCi5z9tGez4_"
      },
      "source": [
        "#Run the Web Scrape on the website\n",
        "site = 'http://jetprogramme.org/en/countries/'\n",
        "df = pd.read_html(site)"
      ],
      "execution_count": 2,
      "outputs": []
    },
    {
      "cell_type": "code",
      "metadata": {
        "id": "WS2won34g60G"
      },
      "source": [
        "df_jet = df[0]"
      ],
      "execution_count": 3,
      "outputs": []
    },
    {
      "cell_type": "code",
      "metadata": {
        "colab": {
          "base_uri": "https://localhost:8080/",
          "height": 204
        },
        "id": "oWyKuLDog-Do",
        "outputId": "363e770b-0416-4c2f-e7cd-79d726493f7c"
      },
      "source": [
        "df_jet.head()"
      ],
      "execution_count": 4,
      "outputs": [
        {
          "output_type": "execute_result",
          "data": {
            "text/html": [
              "<div>\n",
              "<style scoped>\n",
              "    .dataframe tbody tr th:only-of-type {\n",
              "        vertical-align: middle;\n",
              "    }\n",
              "\n",
              "    .dataframe tbody tr th {\n",
              "        vertical-align: top;\n",
              "    }\n",
              "\n",
              "    .dataframe thead th {\n",
              "        text-align: right;\n",
              "    }\n",
              "</style>\n",
              "<table border=\"1\" class=\"dataframe\">\n",
              "  <thead>\n",
              "    <tr style=\"text-align: right;\">\n",
              "      <th></th>\n",
              "      <th>Country</th>\n",
              "      <th>ALT</th>\n",
              "      <th>CIR</th>\n",
              "      <th>SEA</th>\n",
              "      <th>Total</th>\n",
              "    </tr>\n",
              "  </thead>\n",
              "  <tbody>\n",
              "    <tr>\n",
              "      <th>0</th>\n",
              "      <td>United States</td>\n",
              "      <td>2958</td>\n",
              "      <td>145</td>\n",
              "      <td>2</td>\n",
              "      <td>3105</td>\n",
              "    </tr>\n",
              "    <tr>\n",
              "      <th>1</th>\n",
              "      <td>United Kingdom</td>\n",
              "      <td>528</td>\n",
              "      <td>32</td>\n",
              "      <td>0</td>\n",
              "      <td>560</td>\n",
              "    </tr>\n",
              "    <tr>\n",
              "      <th>2</th>\n",
              "      <td>Australia</td>\n",
              "      <td>321</td>\n",
              "      <td>22</td>\n",
              "      <td>0</td>\n",
              "      <td>343</td>\n",
              "    </tr>\n",
              "    <tr>\n",
              "      <th>3</th>\n",
              "      <td>New Zealand</td>\n",
              "      <td>236</td>\n",
              "      <td>12</td>\n",
              "      <td>3</td>\n",
              "      <td>251</td>\n",
              "    </tr>\n",
              "    <tr>\n",
              "      <th>4</th>\n",
              "      <td>Canada</td>\n",
              "      <td>531</td>\n",
              "      <td>26</td>\n",
              "      <td>0</td>\n",
              "      <td>557</td>\n",
              "    </tr>\n",
              "  </tbody>\n",
              "</table>\n",
              "</div>"
            ],
            "text/plain": [
              "          Country   ALT  CIR SEA Total\n",
              "0   United States  2958  145   2  3105\n",
              "1  United Kingdom   528   32   0   560\n",
              "2       Australia   321   22   0   343\n",
              "3     New Zealand   236   12   3   251\n",
              "4          Canada   531   26   0   557"
            ]
          },
          "metadata": {
            "tags": []
          },
          "execution_count": 4
        }
      ]
    },
    {
      "cell_type": "code",
      "metadata": {
        "colab": {
          "base_uri": "https://localhost:8080/",
          "height": 669
        },
        "id": "zE0Z8E0dhIQy",
        "outputId": "cebeb248-916c-4cb4-b63f-dccbbe639966"
      },
      "source": [
        "df_jet.tail(20)"
      ],
      "execution_count": 5,
      "outputs": [
        {
          "output_type": "execute_result",
          "data": {
            "text/html": [
              "<div>\n",
              "<style scoped>\n",
              "    .dataframe tbody tr th:only-of-type {\n",
              "        vertical-align: middle;\n",
              "    }\n",
              "\n",
              "    .dataframe tbody tr th {\n",
              "        vertical-align: top;\n",
              "    }\n",
              "\n",
              "    .dataframe thead th {\n",
              "        text-align: right;\n",
              "    }\n",
              "</style>\n",
              "<table border=\"1\" class=\"dataframe\">\n",
              "  <thead>\n",
              "    <tr style=\"text-align: right;\">\n",
              "      <th></th>\n",
              "      <th>Country</th>\n",
              "      <th>ALT</th>\n",
              "      <th>CIR</th>\n",
              "      <th>SEA</th>\n",
              "      <th>Total</th>\n",
              "    </tr>\n",
              "  </thead>\n",
              "  <tbody>\n",
              "    <tr>\n",
              "      <th>44</th>\n",
              "      <td>Kingdom of Tonga</td>\n",
              "      <td>1</td>\n",
              "      <td>0</td>\n",
              "      <td>0</td>\n",
              "      <td>1</td>\n",
              "    </tr>\n",
              "    <tr>\n",
              "      <th>45</th>\n",
              "      <td>Vietnam</td>\n",
              "      <td>0</td>\n",
              "      <td>7</td>\n",
              "      <td>0</td>\n",
              "      <td>7</td>\n",
              "    </tr>\n",
              "    <tr>\n",
              "      <th>46</th>\n",
              "      <td>Saint Vincent and the Grenadines</td>\n",
              "      <td>2</td>\n",
              "      <td>0</td>\n",
              "      <td>0</td>\n",
              "      <td>2</td>\n",
              "    </tr>\n",
              "    <tr>\n",
              "      <th>47</th>\n",
              "      <td>Uzbekistan</td>\n",
              "      <td>0</td>\n",
              "      <td>2</td>\n",
              "      <td>0</td>\n",
              "      <td>2</td>\n",
              "    </tr>\n",
              "    <tr>\n",
              "      <th>48</th>\n",
              "      <td>Seychelles</td>\n",
              "      <td>1</td>\n",
              "      <td>0</td>\n",
              "      <td>0</td>\n",
              "      <td>1</td>\n",
              "    </tr>\n",
              "    <tr>\n",
              "      <th>49</th>\n",
              "      <td>Croatia</td>\n",
              "      <td>0</td>\n",
              "      <td>1</td>\n",
              "      <td>0</td>\n",
              "      <td>1</td>\n",
              "    </tr>\n",
              "    <tr>\n",
              "      <th>50</th>\n",
              "      <td>United Republic of Tanzania</td>\n",
              "      <td>0</td>\n",
              "      <td>0</td>\n",
              "      <td>1</td>\n",
              "      <td>1</td>\n",
              "    </tr>\n",
              "    <tr>\n",
              "      <th>51</th>\n",
              "      <td>Republic of Malta</td>\n",
              "      <td>2</td>\n",
              "      <td>0</td>\n",
              "      <td>0</td>\n",
              "      <td>2</td>\n",
              "    </tr>\n",
              "    <tr>\n",
              "      <th>52</th>\n",
              "      <td>Republic of Estonia</td>\n",
              "      <td>4</td>\n",
              "      <td>0</td>\n",
              "      <td>0</td>\n",
              "      <td>4</td>\n",
              "    </tr>\n",
              "    <tr>\n",
              "      <th>53</th>\n",
              "      <td>Republic of Lithuania</td>\n",
              "      <td>0</td>\n",
              "      <td>2</td>\n",
              "      <td>0</td>\n",
              "      <td>2</td>\n",
              "    </tr>\n",
              "    <tr>\n",
              "      <th>54</th>\n",
              "      <td>Federal Democratic Republic of Ethiopia</td>\n",
              "      <td>0</td>\n",
              "      <td>0</td>\n",
              "      <td>1</td>\n",
              "      <td>1</td>\n",
              "    </tr>\n",
              "    <tr>\n",
              "      <th>55</th>\n",
              "      <td>Republic of the Union of Myanmar</td>\n",
              "      <td>0</td>\n",
              "      <td>1</td>\n",
              "      <td>0</td>\n",
              "      <td>1</td>\n",
              "    </tr>\n",
              "    <tr>\n",
              "      <th>56</th>\n",
              "      <td>Republic of Chile</td>\n",
              "      <td>0</td>\n",
              "      <td>1</td>\n",
              "      <td>0</td>\n",
              "      <td>1</td>\n",
              "    </tr>\n",
              "    <tr>\n",
              "      <th>57</th>\n",
              "      <td>Total Participants from All Countries</td>\n",
              "      <td>5234</td>\n",
              "      <td>514</td>\n",
              "      <td>13</td>\n",
              "      <td>5761</td>\n",
              "    </tr>\n",
              "    <tr>\n",
              "      <th>58</th>\n",
              "      <td>Totals By Years of Programme</td>\n",
              "      <td>ALT</td>\n",
              "      <td>CIR</td>\n",
              "      <td>SEA</td>\n",
              "      <td>Total</td>\n",
              "    </tr>\n",
              "    <tr>\n",
              "      <th>59</th>\n",
              "      <td>1st Year</td>\n",
              "      <td>1885</td>\n",
              "      <td>203</td>\n",
              "      <td>3</td>\n",
              "      <td>2091</td>\n",
              "    </tr>\n",
              "    <tr>\n",
              "      <th>60</th>\n",
              "      <td>2nd Year</td>\n",
              "      <td>1602</td>\n",
              "      <td>138</td>\n",
              "      <td>6</td>\n",
              "      <td>1746</td>\n",
              "    </tr>\n",
              "    <tr>\n",
              "      <th>61</th>\n",
              "      <td>3rd Year</td>\n",
              "      <td>867</td>\n",
              "      <td>101</td>\n",
              "      <td>3</td>\n",
              "      <td>971</td>\n",
              "    </tr>\n",
              "    <tr>\n",
              "      <th>62</th>\n",
              "      <td>4th Year</td>\n",
              "      <td>532</td>\n",
              "      <td>53</td>\n",
              "      <td>1</td>\n",
              "      <td>586</td>\n",
              "    </tr>\n",
              "    <tr>\n",
              "      <th>63</th>\n",
              "      <td>5th Year</td>\n",
              "      <td>348</td>\n",
              "      <td>19</td>\n",
              "      <td>0</td>\n",
              "      <td>367</td>\n",
              "    </tr>\n",
              "  </tbody>\n",
              "</table>\n",
              "</div>"
            ],
            "text/plain": [
              "                                    Country   ALT  CIR  SEA  Total\n",
              "44                         Kingdom of Tonga     1    0    0      1\n",
              "45                                  Vietnam     0    7    0      7\n",
              "46         Saint Vincent and the Grenadines     2    0    0      2\n",
              "47                               Uzbekistan     0    2    0      2\n",
              "48                               Seychelles     1    0    0      1\n",
              "49                                  Croatia     0    1    0      1\n",
              "50              United Republic of Tanzania     0    0    1      1\n",
              "51                        Republic of Malta     2    0    0      2\n",
              "52                      Republic of Estonia     4    0    0      4\n",
              "53                    Republic of Lithuania     0    2    0      2\n",
              "54  Federal Democratic Republic of Ethiopia     0    0    1      1\n",
              "55         Republic of the Union of Myanmar     0    1    0      1\n",
              "56                        Republic of Chile     0    1    0      1\n",
              "57    Total Participants from All Countries  5234  514   13   5761\n",
              "58             Totals By Years of Programme   ALT  CIR  SEA  Total\n",
              "59                                 1st Year  1885  203    3   2091\n",
              "60                                 2nd Year  1602  138    6   1746\n",
              "61                                 3rd Year   867  101    3    971\n",
              "62                                 4th Year   532   53    1    586\n",
              "63                                 5th Year   348   19    0    367"
            ]
          },
          "metadata": {
            "tags": []
          },
          "execution_count": 5
        }
      ]
    },
    {
      "cell_type": "code",
      "metadata": {
        "id": "6rUMWhBwhOGW"
      },
      "source": [
        "#Break the dataframe into two distinct sets of data\n",
        "df_jet_co = df_jet[:-7]\n",
        "df_jet_to = df_jet[-7:-5]\n",
        "df_jet_yr = df_jet[-5:]"
      ],
      "execution_count": 6,
      "outputs": []
    },
    {
      "cell_type": "code",
      "metadata": {
        "colab": {
          "base_uri": "https://localhost:8080/",
          "height": 204
        },
        "id": "h1oWcGMChWZq",
        "outputId": "bdf96ca6-974f-4e6d-8491-59c027a0fcbb"
      },
      "source": [
        "df_jet_co.tail()"
      ],
      "execution_count": 7,
      "outputs": [
        {
          "output_type": "execute_result",
          "data": {
            "text/html": [
              "<div>\n",
              "<style scoped>\n",
              "    .dataframe tbody tr th:only-of-type {\n",
              "        vertical-align: middle;\n",
              "    }\n",
              "\n",
              "    .dataframe tbody tr th {\n",
              "        vertical-align: top;\n",
              "    }\n",
              "\n",
              "    .dataframe thead th {\n",
              "        text-align: right;\n",
              "    }\n",
              "</style>\n",
              "<table border=\"1\" class=\"dataframe\">\n",
              "  <thead>\n",
              "    <tr style=\"text-align: right;\">\n",
              "      <th></th>\n",
              "      <th>Country</th>\n",
              "      <th>ALT</th>\n",
              "      <th>CIR</th>\n",
              "      <th>SEA</th>\n",
              "      <th>Total</th>\n",
              "    </tr>\n",
              "  </thead>\n",
              "  <tbody>\n",
              "    <tr>\n",
              "      <th>52</th>\n",
              "      <td>Republic of Estonia</td>\n",
              "      <td>4</td>\n",
              "      <td>0</td>\n",
              "      <td>0</td>\n",
              "      <td>4</td>\n",
              "    </tr>\n",
              "    <tr>\n",
              "      <th>53</th>\n",
              "      <td>Republic of Lithuania</td>\n",
              "      <td>0</td>\n",
              "      <td>2</td>\n",
              "      <td>0</td>\n",
              "      <td>2</td>\n",
              "    </tr>\n",
              "    <tr>\n",
              "      <th>54</th>\n",
              "      <td>Federal Democratic Republic of Ethiopia</td>\n",
              "      <td>0</td>\n",
              "      <td>0</td>\n",
              "      <td>1</td>\n",
              "      <td>1</td>\n",
              "    </tr>\n",
              "    <tr>\n",
              "      <th>55</th>\n",
              "      <td>Republic of the Union of Myanmar</td>\n",
              "      <td>0</td>\n",
              "      <td>1</td>\n",
              "      <td>0</td>\n",
              "      <td>1</td>\n",
              "    </tr>\n",
              "    <tr>\n",
              "      <th>56</th>\n",
              "      <td>Republic of Chile</td>\n",
              "      <td>0</td>\n",
              "      <td>1</td>\n",
              "      <td>0</td>\n",
              "      <td>1</td>\n",
              "    </tr>\n",
              "  </tbody>\n",
              "</table>\n",
              "</div>"
            ],
            "text/plain": [
              "                                    Country ALT CIR SEA Total\n",
              "52                      Republic of Estonia   4   0   0     4\n",
              "53                    Republic of Lithuania   0   2   0     2\n",
              "54  Federal Democratic Republic of Ethiopia   0   0   1     1\n",
              "55         Republic of the Union of Myanmar   0   1   0     1\n",
              "56                        Republic of Chile   0   1   0     1"
            ]
          },
          "metadata": {
            "tags": []
          },
          "execution_count": 7
        }
      ]
    },
    {
      "cell_type": "code",
      "metadata": {
        "colab": {
          "base_uri": "https://localhost:8080/",
          "height": 542
        },
        "id": "5gygUmCrhYTB",
        "outputId": "eb6dff82-6a39-495b-82f5-1ac315d29daf"
      },
      "source": [
        "#Where are JET Participants From?\n",
        "import plotly.express as px\n",
        "fig = px.pie(df_jet_co, values='Total', names='Country', title='Jet Participants by Country')\n",
        "fig.show()"
      ],
      "execution_count": 8,
      "outputs": [
        {
          "output_type": "display_data",
          "data": {
            "text/html": [
              "<html>\n",
              "<head><meta charset=\"utf-8\" /></head>\n",
              "<body>\n",
              "    <div>            <script src=\"https://cdnjs.cloudflare.com/ajax/libs/mathjax/2.7.5/MathJax.js?config=TeX-AMS-MML_SVG\"></script><script type=\"text/javascript\">if (window.MathJax) {MathJax.Hub.Config({SVG: {font: \"STIX-Web\"}});}</script>                <script type=\"text/javascript\">window.PlotlyConfig = {MathJaxConfig: 'local'};</script>\n",
              "        <script src=\"https://cdn.plot.ly/plotly-latest.min.js\"></script>                <div id=\"ab3864cf-caef-402f-ab57-d42e1e9fa48e\" class=\"plotly-graph-div\" style=\"height:525px; width:100%;\"></div>            <script type=\"text/javascript\">                                    window.PLOTLYENV=window.PLOTLYENV || {};                                    if (document.getElementById(\"ab3864cf-caef-402f-ab57-d42e1e9fa48e\")) {                    Plotly.newPlot(                        \"ab3864cf-caef-402f-ab57-d42e1e9fa48e\",                        [{\"domain\": {\"x\": [0.0, 1.0], \"y\": [0.0, 1.0]}, \"hovertemplate\": \"Country=%{label}<br>Total=%{value}<extra></extra>\", \"labels\": [\"United States\", \"United Kingdom\", \"Australia\", \"New Zealand\", \"Canada\", \"Ireland\", \"France\", \"Germany\", \"China\", \"Korea\", \"Russia\", \"Brazil\", \"Peru\", \"Spain\", \"Italy\", \"Mexico\", \"South Africa\", \"Argentina\", \"Belgium\", \"Finland\", \"Mongolia\", \"Austria\", \"Indonesia\", \"Switzerland\", \"India\", \"Philippines\", \"Netherlands\", \"Poland\", \"Republic of Bulgaria\", \"Turkey\", \"Hungary\", \"Kazakhstan\", \"Singapore\", \"Kingdom of Norway\", \"Jamaica\", \"Thailand\", \"Malaysia\", \"Barbados\", \"Trinidad and Tobago\", \"Slovenia\", \"Kingdom of Sweden\", \"Kingdom of Denmark\", \"Latvia\", \"Fiji\", \"Kingdom of Tonga\", \"Vietnam\", \"Saint Vincent and the Grenadines\", \"Uzbekistan\", \"Seychelles\", \"Croatia\", \"United Republic of Tanzania\", \"Republic of Malta\", \"Republic of Estonia\", \"Republic of Lithuania\", \"Federal Democratic Republic of Ethiopia\", \"Republic of the Union of Myanmar\", \"Republic of Chile\"], \"legendgroup\": \"\", \"name\": \"\", \"showlegend\": true, \"type\": \"pie\", \"values\": [\"3105\", \"560\", \"343\", \"251\", \"557\", \"114\", \"27\", \"25\", \"70\", \"52\", \"11\", \"17\", \"1\", \"2\", \"2\", \"2\", \"136\", \"1\", \"1\", \"3\", \"6\", \"1\", \"6\", \"2\", \"3\", \"138\", \"7\", \"4\", \"1\", \"1\", \"1\", \"1\", \"77\", \"3\", \"111\", \"7\", \"2\", \"13\", \"61\", \"1\", \"2\", \"2\", \"2\", \"3\", \"1\", \"7\", \"2\", \"2\", \"1\", \"1\", \"1\", \"2\", \"4\", \"2\", \"1\", \"1\", \"1\"]}],                        {\"legend\": {\"tracegroupgap\": 0}, \"template\": {\"data\": {\"bar\": [{\"error_x\": {\"color\": \"#2a3f5f\"}, \"error_y\": {\"color\": \"#2a3f5f\"}, \"marker\": {\"line\": {\"color\": \"#E5ECF6\", \"width\": 0.5}}, \"type\": \"bar\"}], \"barpolar\": [{\"marker\": {\"line\": {\"color\": \"#E5ECF6\", \"width\": 0.5}}, \"type\": \"barpolar\"}], \"carpet\": [{\"aaxis\": {\"endlinecolor\": \"#2a3f5f\", \"gridcolor\": \"white\", \"linecolor\": \"white\", \"minorgridcolor\": \"white\", \"startlinecolor\": \"#2a3f5f\"}, \"baxis\": {\"endlinecolor\": \"#2a3f5f\", \"gridcolor\": \"white\", \"linecolor\": \"white\", \"minorgridcolor\": \"white\", \"startlinecolor\": \"#2a3f5f\"}, \"type\": \"carpet\"}], \"choropleth\": [{\"colorbar\": {\"outlinewidth\": 0, \"ticks\": \"\"}, \"type\": \"choropleth\"}], \"contour\": [{\"colorbar\": {\"outlinewidth\": 0, \"ticks\": \"\"}, \"colorscale\": [[0.0, \"#0d0887\"], [0.1111111111111111, \"#46039f\"], [0.2222222222222222, \"#7201a8\"], [0.3333333333333333, \"#9c179e\"], [0.4444444444444444, \"#bd3786\"], [0.5555555555555556, \"#d8576b\"], [0.6666666666666666, \"#ed7953\"], [0.7777777777777778, \"#fb9f3a\"], [0.8888888888888888, \"#fdca26\"], [1.0, \"#f0f921\"]], \"type\": \"contour\"}], \"contourcarpet\": [{\"colorbar\": {\"outlinewidth\": 0, \"ticks\": \"\"}, \"type\": \"contourcarpet\"}], \"heatmap\": [{\"colorbar\": {\"outlinewidth\": 0, \"ticks\": \"\"}, \"colorscale\": [[0.0, \"#0d0887\"], [0.1111111111111111, \"#46039f\"], [0.2222222222222222, \"#7201a8\"], [0.3333333333333333, \"#9c179e\"], [0.4444444444444444, \"#bd3786\"], [0.5555555555555556, \"#d8576b\"], [0.6666666666666666, \"#ed7953\"], [0.7777777777777778, \"#fb9f3a\"], [0.8888888888888888, \"#fdca26\"], [1.0, \"#f0f921\"]], \"type\": \"heatmap\"}], \"heatmapgl\": [{\"colorbar\": {\"outlinewidth\": 0, \"ticks\": \"\"}, \"colorscale\": [[0.0, \"#0d0887\"], [0.1111111111111111, \"#46039f\"], [0.2222222222222222, \"#7201a8\"], [0.3333333333333333, \"#9c179e\"], [0.4444444444444444, \"#bd3786\"], [0.5555555555555556, \"#d8576b\"], [0.6666666666666666, \"#ed7953\"], [0.7777777777777778, \"#fb9f3a\"], [0.8888888888888888, \"#fdca26\"], [1.0, \"#f0f921\"]], \"type\": \"heatmapgl\"}], \"histogram\": [{\"marker\": {\"colorbar\": {\"outlinewidth\": 0, \"ticks\": \"\"}}, \"type\": \"histogram\"}], \"histogram2d\": [{\"colorbar\": {\"outlinewidth\": 0, \"ticks\": \"\"}, \"colorscale\": [[0.0, \"#0d0887\"], [0.1111111111111111, \"#46039f\"], [0.2222222222222222, \"#7201a8\"], [0.3333333333333333, \"#9c179e\"], [0.4444444444444444, \"#bd3786\"], [0.5555555555555556, \"#d8576b\"], [0.6666666666666666, \"#ed7953\"], [0.7777777777777778, \"#fb9f3a\"], [0.8888888888888888, \"#fdca26\"], [1.0, \"#f0f921\"]], \"type\": \"histogram2d\"}], \"histogram2dcontour\": [{\"colorbar\": {\"outlinewidth\": 0, \"ticks\": \"\"}, \"colorscale\": [[0.0, \"#0d0887\"], [0.1111111111111111, \"#46039f\"], [0.2222222222222222, \"#7201a8\"], [0.3333333333333333, \"#9c179e\"], [0.4444444444444444, \"#bd3786\"], [0.5555555555555556, \"#d8576b\"], [0.6666666666666666, \"#ed7953\"], [0.7777777777777778, \"#fb9f3a\"], [0.8888888888888888, \"#fdca26\"], [1.0, \"#f0f921\"]], \"type\": \"histogram2dcontour\"}], \"mesh3d\": [{\"colorbar\": {\"outlinewidth\": 0, \"ticks\": \"\"}, \"type\": \"mesh3d\"}], \"parcoords\": [{\"line\": {\"colorbar\": {\"outlinewidth\": 0, \"ticks\": \"\"}}, \"type\": \"parcoords\"}], \"pie\": [{\"automargin\": true, \"type\": \"pie\"}], \"scatter\": [{\"marker\": {\"colorbar\": {\"outlinewidth\": 0, \"ticks\": \"\"}}, \"type\": \"scatter\"}], \"scatter3d\": [{\"line\": {\"colorbar\": {\"outlinewidth\": 0, \"ticks\": \"\"}}, \"marker\": {\"colorbar\": {\"outlinewidth\": 0, \"ticks\": \"\"}}, \"type\": \"scatter3d\"}], \"scattercarpet\": [{\"marker\": {\"colorbar\": {\"outlinewidth\": 0, \"ticks\": \"\"}}, \"type\": \"scattercarpet\"}], \"scattergeo\": [{\"marker\": {\"colorbar\": {\"outlinewidth\": 0, \"ticks\": \"\"}}, \"type\": \"scattergeo\"}], \"scattergl\": [{\"marker\": {\"colorbar\": {\"outlinewidth\": 0, \"ticks\": \"\"}}, \"type\": \"scattergl\"}], \"scattermapbox\": [{\"marker\": {\"colorbar\": {\"outlinewidth\": 0, \"ticks\": \"\"}}, \"type\": \"scattermapbox\"}], \"scatterpolar\": [{\"marker\": {\"colorbar\": {\"outlinewidth\": 0, \"ticks\": \"\"}}, \"type\": \"scatterpolar\"}], \"scatterpolargl\": [{\"marker\": {\"colorbar\": {\"outlinewidth\": 0, \"ticks\": \"\"}}, \"type\": \"scatterpolargl\"}], \"scatterternary\": [{\"marker\": {\"colorbar\": {\"outlinewidth\": 0, \"ticks\": \"\"}}, \"type\": \"scatterternary\"}], \"surface\": [{\"colorbar\": {\"outlinewidth\": 0, \"ticks\": \"\"}, \"colorscale\": [[0.0, \"#0d0887\"], [0.1111111111111111, \"#46039f\"], [0.2222222222222222, \"#7201a8\"], [0.3333333333333333, \"#9c179e\"], [0.4444444444444444, \"#bd3786\"], [0.5555555555555556, \"#d8576b\"], [0.6666666666666666, \"#ed7953\"], [0.7777777777777778, \"#fb9f3a\"], [0.8888888888888888, \"#fdca26\"], [1.0, \"#f0f921\"]], \"type\": \"surface\"}], \"table\": [{\"cells\": {\"fill\": {\"color\": \"#EBF0F8\"}, \"line\": {\"color\": \"white\"}}, \"header\": {\"fill\": {\"color\": \"#C8D4E3\"}, \"line\": {\"color\": \"white\"}}, \"type\": \"table\"}]}, \"layout\": {\"annotationdefaults\": {\"arrowcolor\": \"#2a3f5f\", \"arrowhead\": 0, \"arrowwidth\": 1}, \"coloraxis\": {\"colorbar\": {\"outlinewidth\": 0, \"ticks\": \"\"}}, \"colorscale\": {\"diverging\": [[0, \"#8e0152\"], [0.1, \"#c51b7d\"], [0.2, \"#de77ae\"], [0.3, \"#f1b6da\"], [0.4, \"#fde0ef\"], [0.5, \"#f7f7f7\"], [0.6, \"#e6f5d0\"], [0.7, \"#b8e186\"], [0.8, \"#7fbc41\"], [0.9, \"#4d9221\"], [1, \"#276419\"]], \"sequential\": [[0.0, \"#0d0887\"], [0.1111111111111111, \"#46039f\"], [0.2222222222222222, \"#7201a8\"], [0.3333333333333333, \"#9c179e\"], [0.4444444444444444, \"#bd3786\"], [0.5555555555555556, \"#d8576b\"], [0.6666666666666666, \"#ed7953\"], [0.7777777777777778, \"#fb9f3a\"], [0.8888888888888888, \"#fdca26\"], [1.0, \"#f0f921\"]], \"sequentialminus\": [[0.0, \"#0d0887\"], [0.1111111111111111, \"#46039f\"], [0.2222222222222222, \"#7201a8\"], [0.3333333333333333, \"#9c179e\"], [0.4444444444444444, \"#bd3786\"], [0.5555555555555556, \"#d8576b\"], [0.6666666666666666, \"#ed7953\"], [0.7777777777777778, \"#fb9f3a\"], [0.8888888888888888, \"#fdca26\"], [1.0, \"#f0f921\"]]}, \"colorway\": [\"#636efa\", \"#EF553B\", \"#00cc96\", \"#ab63fa\", \"#FFA15A\", \"#19d3f3\", \"#FF6692\", \"#B6E880\", \"#FF97FF\", \"#FECB52\"], \"font\": {\"color\": \"#2a3f5f\"}, \"geo\": {\"bgcolor\": \"white\", \"lakecolor\": \"white\", \"landcolor\": \"#E5ECF6\", \"showlakes\": true, \"showland\": true, \"subunitcolor\": \"white\"}, \"hoverlabel\": {\"align\": \"left\"}, \"hovermode\": \"closest\", \"mapbox\": {\"style\": \"light\"}, \"paper_bgcolor\": \"white\", \"plot_bgcolor\": \"#E5ECF6\", \"polar\": {\"angularaxis\": {\"gridcolor\": \"white\", \"linecolor\": \"white\", \"ticks\": \"\"}, \"bgcolor\": \"#E5ECF6\", \"radialaxis\": {\"gridcolor\": \"white\", \"linecolor\": \"white\", \"ticks\": \"\"}}, \"scene\": {\"xaxis\": {\"backgroundcolor\": \"#E5ECF6\", \"gridcolor\": \"white\", \"gridwidth\": 2, \"linecolor\": \"white\", \"showbackground\": true, \"ticks\": \"\", \"zerolinecolor\": \"white\"}, \"yaxis\": {\"backgroundcolor\": \"#E5ECF6\", \"gridcolor\": \"white\", \"gridwidth\": 2, \"linecolor\": \"white\", \"showbackground\": true, \"ticks\": \"\", \"zerolinecolor\": \"white\"}, \"zaxis\": {\"backgroundcolor\": \"#E5ECF6\", \"gridcolor\": \"white\", \"gridwidth\": 2, \"linecolor\": \"white\", \"showbackground\": true, \"ticks\": \"\", \"zerolinecolor\": \"white\"}}, \"shapedefaults\": {\"line\": {\"color\": \"#2a3f5f\"}}, \"ternary\": {\"aaxis\": {\"gridcolor\": \"white\", \"linecolor\": \"white\", \"ticks\": \"\"}, \"baxis\": {\"gridcolor\": \"white\", \"linecolor\": \"white\", \"ticks\": \"\"}, \"bgcolor\": \"#E5ECF6\", \"caxis\": {\"gridcolor\": \"white\", \"linecolor\": \"white\", \"ticks\": \"\"}}, \"title\": {\"x\": 0.05}, \"xaxis\": {\"automargin\": true, \"gridcolor\": \"white\", \"linecolor\": \"white\", \"ticks\": \"\", \"title\": {\"standoff\": 15}, \"zerolinecolor\": \"white\", \"zerolinewidth\": 2}, \"yaxis\": {\"automargin\": true, \"gridcolor\": \"white\", \"linecolor\": \"white\", \"ticks\": \"\", \"title\": {\"standoff\": 15}, \"zerolinecolor\": \"white\", \"zerolinewidth\": 2}}}, \"title\": {\"text\": \"Jet Participants by Country\"}},                        {\"responsive\": true}                    ).then(function(){\n",
              "                            \n",
              "var gd = document.getElementById('ab3864cf-caef-402f-ab57-d42e1e9fa48e');\n",
              "var x = new MutationObserver(function (mutations, observer) {{\n",
              "        var display = window.getComputedStyle(gd).display;\n",
              "        if (!display || display === 'none') {{\n",
              "            console.log([gd, 'removed!']);\n",
              "            Plotly.purge(gd);\n",
              "            observer.disconnect();\n",
              "        }}\n",
              "}});\n",
              "\n",
              "// Listen for the removal of the full notebook cells\n",
              "var notebookContainer = gd.closest('#notebook-container');\n",
              "if (notebookContainer) {{\n",
              "    x.observe(notebookContainer, {childList: true});\n",
              "}}\n",
              "\n",
              "// Listen for the clearing of the current output cell\n",
              "var outputEl = gd.closest('.output');\n",
              "if (outputEl) {{\n",
              "    x.observe(outputEl, {childList: true});\n",
              "}}\n",
              "\n",
              "                        })                };                            </script>        </div>\n",
              "</body>\n",
              "</html>"
            ]
          },
          "metadata": {
            "tags": []
          }
        }
      ]
    },
    {
      "cell_type": "code",
      "metadata": {
        "colab": {
          "base_uri": "https://localhost:8080/",
          "height": 129
        },
        "id": "kTSt4Wkljrab",
        "outputId": "99c0270b-38e2-4b66-9f89-a2d275ad0f41"
      },
      "source": [
        "#Looks like I have to install plotly. Was having issues with playing with the pie chart.\n",
        "pip install --upgrade plotly"
      ],
      "execution_count": 9,
      "outputs": [
        {
          "output_type": "error",
          "ename": "SyntaxError",
          "evalue": "ignored",
          "traceback": [
            "\u001b[0;36m  File \u001b[0;32m\"<ipython-input-9-909da2e492c3>\"\u001b[0;36m, line \u001b[0;32m2\u001b[0m\n\u001b[0;31m    pip install --upgrade plotly\u001b[0m\n\u001b[0m              ^\u001b[0m\n\u001b[0;31mSyntaxError\u001b[0m\u001b[0;31m:\u001b[0m invalid syntax\n"
          ]
        }
      ]
    },
    {
      "cell_type": "code",
      "metadata": {
        "colab": {
          "base_uri": "https://localhost:8080/",
          "height": 542
        },
        "id": "1Ec7Evy5iRux",
        "outputId": "28354f8c-4906-490c-c320-648e963e46a5"
      },
      "source": [
        "#Not a Particularly useful graphic, but it definitely looks cool\n",
        "fig = px.sunburst(df_jet_co, path=['Country', 'ALT'], values='Total',\n",
        "                  color='CIR', hover_data=['Country'])\n",
        "fig.show()"
      ],
      "execution_count": 35,
      "outputs": [
        {
          "output_type": "display_data",
          "data": {
            "text/html": [
              "<html>\n",
              "<head><meta charset=\"utf-8\" /></head>\n",
              "<body>\n",
              "    <div>            <script src=\"https://cdnjs.cloudflare.com/ajax/libs/mathjax/2.7.5/MathJax.js?config=TeX-AMS-MML_SVG\"></script><script type=\"text/javascript\">if (window.MathJax) {MathJax.Hub.Config({SVG: {font: \"STIX-Web\"}});}</script>                <script type=\"text/javascript\">window.PlotlyConfig = {MathJaxConfig: 'local'};</script>\n",
              "        <script src=\"https://cdn.plot.ly/plotly-latest.min.js\"></script>                <div id=\"36e2be73-6f51-4763-b580-469f4a99a100\" class=\"plotly-graph-div\" style=\"height:525px; width:100%;\"></div>            <script type=\"text/javascript\">                                    window.PLOTLYENV=window.PLOTLYENV || {};                                    if (document.getElementById(\"36e2be73-6f51-4763-b580-469f4a99a100\")) {                    Plotly.newPlot(                        \"36e2be73-6f51-4763-b580-469f4a99a100\",                        [{\"branchvalues\": \"total\", \"customdata\": [[\"Finland\", \"2\"], [\"Slovenia\", \"0\"], [\"Poland\", \"3\"], [\"Switzerland\", \"1\"], [\"Philippines\", \"2\"], [\"South Africa\", \"0\"], [\"Republic of Malta\", \"0\"], [\"Russia\", \"9\"], [\"Kingdom of Norway\", \"0\"], [\"Netherlands\", \"4\"], [\"France\", \"23\"], [\"Republic of Estonia\", \"0\"], [\"China\", \"65\"], [\"Canada\", \"26\"], [\"New Zealand\", \"12\"], [\"Kingdom of Sweden\", \"0\"], [\"Trinidad and Tobago\", \"0\"], [\"Australia\", \"22\"], [\"Barbados\", \"1\"], [\"Kingdom of Tonga\", \"0\"], [\"Kingdom of Denmark\", \"1\"], [\"Germany\", \"24\"], [\"Turkey\", \"1\"], [\"Singapore\", \"14\"], [\"Malaysia\", \"2\"], [\"Republic of Bulgaria\", \"0\"], [\"Spain\", \"2\"], [\"Republic of Chile\", \"1\"], [\"Brazil\", \"17\"], [\"Seychelles\", \"0\"], [\"Argentina\", \"1\"], [\"Latvia\", \"2\"], [\"United Kingdom\", \"32\"], [\"Peru\", \"1\"], [\"United States\", \"145\"], [\"Jamaica\", \"0\"], [\"Mongolia\", \"6\"], [\"Mexico\", \"2\"], [\"Uzbekistan\", \"2\"], [\"Korea\", \"50\"], [\"Republic of Lithuania\", \"2\"], [\"Belgium\", \"1\"], [\"Hungary\", \"1\"], [\"India\", \"3\"], [\"Croatia\", \"1\"], [\"Fiji\", \"0\"], [\"United Republic of Tanzania\", \"0\"], [\"Austria\", \"1\"], [\"Vietnam\", \"7\"], [\"Thailand\", \"7\"], [\"Italy\", \"2\"], [\"Republic of the Union of Myanmar\", \"1\"], [\"Indonesia\", \"5\"], [\"Saint Vincent and the Grenadines\", \"0\"], [\"Ireland\", \"9\"], [\"Kazakhstan\", \"1\"], [\"Federal Democratic Republic of Ethiopia\", \"0\"], [\"Argentina\", \"1\"], [\"Australia\", \"22\"], [\"Austria\", \"1\"], [\"Barbados\", \"1\"], [\"Belgium\", \"1\"], [\"Brazil\", \"17\"], [\"Canada\", \"26\"], [\"China\", \"65\"], [\"Croatia\", \"1\"], [\"Federal Democratic Republic of Ethiopia\", \"0\"], [\"Fiji\", \"0\"], [\"Finland\", \"2\"], [\"France\", \"23\"], [\"Germany\", \"24\"], [\"Hungary\", \"1\"], [\"India\", \"3\"], [\"Indonesia\", \"5\"], [\"Ireland\", \"9\"], [\"Italy\", \"2\"], [\"Jamaica\", \"0\"], [\"Kazakhstan\", \"1\"], [\"Kingdom of Denmark\", \"1\"], [\"Kingdom of Norway\", \"0\"], [\"Kingdom of Sweden\", \"0\"], [\"Kingdom of Tonga\", \"0\"], [\"Korea\", \"50\"], [\"Latvia\", \"2\"], [\"Malaysia\", \"2\"], [\"Mexico\", \"2\"], [\"Mongolia\", \"6\"], [\"Netherlands\", \"4\"], [\"New Zealand\", \"12\"], [\"Peru\", \"1\"], [\"Philippines\", \"2\"], [\"Poland\", \"3\"], [\"Republic of Bulgaria\", \"0\"], [\"Republic of Chile\", \"1\"], [\"Republic of Estonia\", \"0\"], [\"Republic of Lithuania\", \"2\"], [\"Republic of Malta\", \"0\"], [\"Republic of the Union of Myanmar\", \"1\"], [\"Russia\", \"9\"], [\"Saint Vincent and the Grenadines\", \"0\"], [\"Seychelles\", \"0\"], [\"Singapore\", \"14\"], [\"Slovenia\", \"0\"], [\"South Africa\", \"0\"], [\"Spain\", \"2\"], [\"Switzerland\", \"1\"], [\"Thailand\", \"7\"], [\"Trinidad and Tobago\", \"0\"], [\"Turkey\", \"1\"], [\"United Kingdom\", \"32\"], [\"United Republic of Tanzania\", \"0\"], [\"United States\", \"145\"], [\"Uzbekistan\", \"2\"], [\"Vietnam\", \"7\"]], \"domain\": {\"x\": [0.0, 1.0], \"y\": [0.0, 1.0]}, \"hovertemplate\": \"labels=%{label}<br>Total=%{value}<br>parent=%{parent}<br>id=%{id}<br>Country=%{customdata[0]}<br>CIR=%{customdata[1]}<extra></extra>\", \"ids\": [\"Finland/1\", \"Slovenia/1\", \"Poland/0\", \"Switzerland/1\", \"Philippines/136\", \"South Africa/136\", \"Republic of Malta/2\", \"Russia/2\", \"Kingdom of Norway/2\", \"Netherlands/3\", \"France/4\", \"Republic of Estonia/4\", \"China/5\", \"Canada/531\", \"New Zealand/236\", \"Kingdom of Sweden/2\", \"Trinidad and Tobago/61\", \"Australia/321\", \"Barbados/12\", \"Kingdom of Tonga/1\", \"Kingdom of Denmark/1\", \"Germany/1\", \"Turkey/0\", \"Singapore/63\", \"Malaysia/0\", \"Republic of Bulgaria/0\", \"Spain/0\", \"Republic of Chile/0\", \"Brazil/0\", \"Seychelles/1\", \"Argentina/0\", \"Latvia/0\", \"United Kingdom/528\", \"Peru/0\", \"United States/2958\", \"Jamaica/111\", \"Mongolia/0\", \"Mexico/0\", \"Uzbekistan/0\", \"Korea/2\", \"Republic of Lithuania/0\", \"Belgium/0\", \"Hungary/0\", \"India/0\", \"Croatia/0\", \"Fiji/1\", \"United Republic of Tanzania/0\", \"Austria/0\", \"Vietnam/0\", \"Thailand/0\", \"Italy/0\", \"Republic of the Union of Myanmar/0\", \"Indonesia/0\", \"Saint Vincent and the Grenadines/2\", \"Ireland/105\", \"Kazakhstan/0\", \"Federal Democratic Republic of Ethiopia/0\", \"Argentina\", \"Australia\", \"Austria\", \"Barbados\", \"Belgium\", \"Brazil\", \"Canada\", \"China\", \"Croatia\", \"Federal Democratic Republic of Ethiopia\", \"Fiji\", \"Finland\", \"France\", \"Germany\", \"Hungary\", \"India\", \"Indonesia\", \"Ireland\", \"Italy\", \"Jamaica\", \"Kazakhstan\", \"Kingdom of Denmark\", \"Kingdom of Norway\", \"Kingdom of Sweden\", \"Kingdom of Tonga\", \"Korea\", \"Latvia\", \"Malaysia\", \"Mexico\", \"Mongolia\", \"Netherlands\", \"New Zealand\", \"Peru\", \"Philippines\", \"Poland\", \"Republic of Bulgaria\", \"Republic of Chile\", \"Republic of Estonia\", \"Republic of Lithuania\", \"Republic of Malta\", \"Republic of the Union of Myanmar\", \"Russia\", \"Saint Vincent and the Grenadines\", \"Seychelles\", \"Singapore\", \"Slovenia\", \"South Africa\", \"Spain\", \"Switzerland\", \"Thailand\", \"Trinidad and Tobago\", \"Turkey\", \"United Kingdom\", \"United Republic of Tanzania\", \"United States\", \"Uzbekistan\", \"Vietnam\"], \"labels\": [\"1\", \"1\", \"0\", \"1\", \"136\", \"136\", \"2\", \"2\", \"2\", \"3\", \"4\", \"4\", \"5\", \"531\", \"236\", \"2\", \"61\", \"321\", \"12\", \"1\", \"1\", \"1\", \"0\", \"63\", \"0\", \"0\", \"0\", \"0\", \"0\", \"1\", \"0\", \"0\", \"528\", \"0\", \"2958\", \"111\", \"0\", \"0\", \"0\", \"2\", \"0\", \"0\", \"0\", \"0\", \"0\", \"1\", \"0\", \"0\", \"0\", \"0\", \"0\", \"0\", \"0\", \"2\", \"105\", \"0\", \"0\", \"Argentina\", \"Australia\", \"Austria\", \"Barbados\", \"Belgium\", \"Brazil\", \"Canada\", \"China\", \"Croatia\", \"Federal Democratic Republic of Ethiopia\", \"Fiji\", \"Finland\", \"France\", \"Germany\", \"Hungary\", \"India\", \"Indonesia\", \"Ireland\", \"Italy\", \"Jamaica\", \"Kazakhstan\", \"Kingdom of Denmark\", \"Kingdom of Norway\", \"Kingdom of Sweden\", \"Kingdom of Tonga\", \"Korea\", \"Latvia\", \"Malaysia\", \"Mexico\", \"Mongolia\", \"Netherlands\", \"New Zealand\", \"Peru\", \"Philippines\", \"Poland\", \"Republic of Bulgaria\", \"Republic of Chile\", \"Republic of Estonia\", \"Republic of Lithuania\", \"Republic of Malta\", \"Republic of the Union of Myanmar\", \"Russia\", \"Saint Vincent and the Grenadines\", \"Seychelles\", \"Singapore\", \"Slovenia\", \"South Africa\", \"Spain\", \"Switzerland\", \"Thailand\", \"Trinidad and Tobago\", \"Turkey\", \"United Kingdom\", \"United Republic of Tanzania\", \"United States\", \"Uzbekistan\", \"Vietnam\"], \"marker\": {\"colors\": [\"#636efa\", \"#EF553B\", \"#00cc96\", \"#ab63fa\", \"#636efa\", \"#EF553B\", \"#EF553B\", \"#FFA15A\", \"#EF553B\", \"#19d3f3\", \"#FF6692\", \"#EF553B\", \"#B6E880\", \"#FF97FF\", \"#FECB52\", \"#EF553B\", \"#EF553B\", \"#636efa\", \"#ab63fa\", \"#EF553B\", \"#ab63fa\", \"#EF553B\", \"#ab63fa\", \"#00cc96\", \"#636efa\", \"#EF553B\", \"#636efa\", \"#ab63fa\", \"#ab63fa\", \"#EF553B\", \"#ab63fa\", \"#636efa\", \"#FFA15A\", \"#ab63fa\", \"#19d3f3\", \"#EF553B\", \"#FF6692\", \"#636efa\", \"#636efa\", \"#B6E880\", \"#636efa\", \"#ab63fa\", \"#ab63fa\", \"#00cc96\", \"#ab63fa\", \"#EF553B\", \"#EF553B\", \"#ab63fa\", \"#FF97FF\", \"#FF97FF\", \"#636efa\", \"#ab63fa\", \"#FECB52\", \"#EF553B\", \"#FFA15A\", \"#ab63fa\", \"#EF553B\", \"#ab63fa\", \"#636efa\", \"#ab63fa\", \"#ab63fa\", \"#ab63fa\", \"#ab63fa\", \"#FF97FF\", \"#B6E880\", \"#ab63fa\", \"#EF553B\", \"#EF553B\", \"#636efa\", \"#FF6692\", \"#EF553B\", \"#ab63fa\", \"#00cc96\", \"#FECB52\", \"#FFA15A\", \"#636efa\", \"#EF553B\", \"#ab63fa\", \"#ab63fa\", \"#EF553B\", \"#EF553B\", \"#EF553B\", \"#B6E880\", \"#636efa\", \"#636efa\", \"#636efa\", \"#FF6692\", \"#19d3f3\", \"#FECB52\", \"#ab63fa\", \"#636efa\", \"#00cc96\", \"#EF553B\", \"#ab63fa\", \"#EF553B\", \"#636efa\", \"#EF553B\", \"#ab63fa\", \"#FFA15A\", \"#EF553B\", \"#EF553B\", \"#00cc96\", \"#EF553B\", \"#EF553B\", \"#636efa\", \"#ab63fa\", \"#FF97FF\", \"#EF553B\", \"#ab63fa\", \"#FFA15A\", \"#EF553B\", \"#19d3f3\", \"#636efa\", \"#FF97FF\"]}, \"name\": \"\", \"parents\": [\"Finland\", \"Slovenia\", \"Poland\", \"Switzerland\", \"Philippines\", \"South Africa\", \"Republic of Malta\", \"Russia\", \"Kingdom of Norway\", \"Netherlands\", \"France\", \"Republic of Estonia\", \"China\", \"Canada\", \"New Zealand\", \"Kingdom of Sweden\", \"Trinidad and Tobago\", \"Australia\", \"Barbados\", \"Kingdom of Tonga\", \"Kingdom of Denmark\", \"Germany\", \"Turkey\", \"Singapore\", \"Malaysia\", \"Republic of Bulgaria\", \"Spain\", \"Republic of Chile\", \"Brazil\", \"Seychelles\", \"Argentina\", \"Latvia\", \"United Kingdom\", \"Peru\", \"United States\", \"Jamaica\", \"Mongolia\", \"Mexico\", \"Uzbekistan\", \"Korea\", \"Republic of Lithuania\", \"Belgium\", \"Hungary\", \"India\", \"Croatia\", \"Fiji\", \"United Republic of Tanzania\", \"Austria\", \"Vietnam\", \"Thailand\", \"Italy\", \"Republic of the Union of Myanmar\", \"Indonesia\", \"Saint Vincent and the Grenadines\", \"Ireland\", \"Kazakhstan\", \"Federal Democratic Republic of Ethiopia\", \"\", \"\", \"\", \"\", \"\", \"\", \"\", \"\", \"\", \"\", \"\", \"\", \"\", \"\", \"\", \"\", \"\", \"\", \"\", \"\", \"\", \"\", \"\", \"\", \"\", \"\", \"\", \"\", \"\", \"\", \"\", \"\", \"\", \"\", \"\", \"\", \"\", \"\", \"\", \"\", \"\", \"\", \"\", \"\", \"\", \"\", \"\", \"\", \"\", \"\", \"\", \"\", \"\", \"\", \"\", \"\", \"\"], \"type\": \"sunburst\", \"values\": [3, 1, 4, 2, 138, 136, 2, 11, 3, 7, 27, 4, 70, 557, 251, 2, 61, 343, 13, 1, 2, 25, 1, 77, 2, 1, 2, 1, 17, 1, 1, 2, 560, 1, 3105, 111, 6, 2, 2, 52, 2, 1, 1, 3, 1, 3, 1, 1, 7, 7, 2, 1, 6, 2, 114, 1, 1, 1, 343, 1, 13, 1, 17, 557, 70, 1, 1, 3, 3, 27, 25, 1, 3, 6, 114, 2, 111, 1, 2, 3, 2, 1, 52, 2, 2, 2, 6, 7, 251, 1, 138, 4, 1, 1, 4, 2, 2, 1, 11, 2, 1, 77, 1, 136, 2, 2, 7, 61, 1, 560, 1, 3105, 2, 7]}],                        {\"legend\": {\"tracegroupgap\": 0}, \"margin\": {\"t\": 60}, \"template\": {\"data\": {\"bar\": [{\"error_x\": {\"color\": \"#2a3f5f\"}, \"error_y\": {\"color\": \"#2a3f5f\"}, \"marker\": {\"line\": {\"color\": \"#E5ECF6\", \"width\": 0.5}}, \"type\": \"bar\"}], \"barpolar\": [{\"marker\": {\"line\": {\"color\": \"#E5ECF6\", \"width\": 0.5}}, \"type\": \"barpolar\"}], \"carpet\": [{\"aaxis\": {\"endlinecolor\": \"#2a3f5f\", \"gridcolor\": \"white\", \"linecolor\": \"white\", \"minorgridcolor\": \"white\", \"startlinecolor\": \"#2a3f5f\"}, \"baxis\": {\"endlinecolor\": \"#2a3f5f\", \"gridcolor\": \"white\", \"linecolor\": \"white\", \"minorgridcolor\": \"white\", \"startlinecolor\": \"#2a3f5f\"}, \"type\": \"carpet\"}], \"choropleth\": [{\"colorbar\": {\"outlinewidth\": 0, \"ticks\": \"\"}, \"type\": \"choropleth\"}], \"contour\": [{\"colorbar\": {\"outlinewidth\": 0, \"ticks\": \"\"}, \"colorscale\": [[0.0, \"#0d0887\"], [0.1111111111111111, \"#46039f\"], [0.2222222222222222, \"#7201a8\"], [0.3333333333333333, \"#9c179e\"], [0.4444444444444444, \"#bd3786\"], [0.5555555555555556, \"#d8576b\"], [0.6666666666666666, \"#ed7953\"], [0.7777777777777778, \"#fb9f3a\"], [0.8888888888888888, \"#fdca26\"], [1.0, \"#f0f921\"]], \"type\": \"contour\"}], \"contourcarpet\": [{\"colorbar\": {\"outlinewidth\": 0, \"ticks\": \"\"}, \"type\": \"contourcarpet\"}], \"heatmap\": [{\"colorbar\": {\"outlinewidth\": 0, \"ticks\": \"\"}, \"colorscale\": [[0.0, \"#0d0887\"], [0.1111111111111111, \"#46039f\"], [0.2222222222222222, \"#7201a8\"], [0.3333333333333333, \"#9c179e\"], [0.4444444444444444, \"#bd3786\"], [0.5555555555555556, \"#d8576b\"], [0.6666666666666666, \"#ed7953\"], [0.7777777777777778, \"#fb9f3a\"], [0.8888888888888888, \"#fdca26\"], [1.0, \"#f0f921\"]], \"type\": \"heatmap\"}], \"heatmapgl\": [{\"colorbar\": {\"outlinewidth\": 0, \"ticks\": \"\"}, \"colorscale\": [[0.0, \"#0d0887\"], [0.1111111111111111, \"#46039f\"], [0.2222222222222222, \"#7201a8\"], [0.3333333333333333, \"#9c179e\"], [0.4444444444444444, \"#bd3786\"], [0.5555555555555556, \"#d8576b\"], [0.6666666666666666, \"#ed7953\"], [0.7777777777777778, \"#fb9f3a\"], [0.8888888888888888, \"#fdca26\"], [1.0, \"#f0f921\"]], \"type\": \"heatmapgl\"}], \"histogram\": [{\"marker\": {\"colorbar\": {\"outlinewidth\": 0, \"ticks\": \"\"}}, \"type\": \"histogram\"}], \"histogram2d\": [{\"colorbar\": {\"outlinewidth\": 0, \"ticks\": \"\"}, \"colorscale\": [[0.0, \"#0d0887\"], [0.1111111111111111, \"#46039f\"], [0.2222222222222222, \"#7201a8\"], [0.3333333333333333, \"#9c179e\"], [0.4444444444444444, \"#bd3786\"], [0.5555555555555556, \"#d8576b\"], [0.6666666666666666, \"#ed7953\"], [0.7777777777777778, \"#fb9f3a\"], [0.8888888888888888, \"#fdca26\"], [1.0, \"#f0f921\"]], \"type\": \"histogram2d\"}], \"histogram2dcontour\": [{\"colorbar\": {\"outlinewidth\": 0, \"ticks\": \"\"}, \"colorscale\": [[0.0, \"#0d0887\"], [0.1111111111111111, \"#46039f\"], [0.2222222222222222, \"#7201a8\"], [0.3333333333333333, \"#9c179e\"], [0.4444444444444444, \"#bd3786\"], [0.5555555555555556, \"#d8576b\"], [0.6666666666666666, \"#ed7953\"], [0.7777777777777778, \"#fb9f3a\"], [0.8888888888888888, \"#fdca26\"], [1.0, \"#f0f921\"]], \"type\": \"histogram2dcontour\"}], \"mesh3d\": [{\"colorbar\": {\"outlinewidth\": 0, \"ticks\": \"\"}, \"type\": \"mesh3d\"}], \"parcoords\": [{\"line\": {\"colorbar\": {\"outlinewidth\": 0, \"ticks\": \"\"}}, \"type\": \"parcoords\"}], \"pie\": [{\"automargin\": true, \"type\": \"pie\"}], \"scatter\": [{\"marker\": {\"colorbar\": {\"outlinewidth\": 0, \"ticks\": \"\"}}, \"type\": \"scatter\"}], \"scatter3d\": [{\"line\": {\"colorbar\": {\"outlinewidth\": 0, \"ticks\": \"\"}}, \"marker\": {\"colorbar\": {\"outlinewidth\": 0, \"ticks\": \"\"}}, \"type\": \"scatter3d\"}], \"scattercarpet\": [{\"marker\": {\"colorbar\": {\"outlinewidth\": 0, \"ticks\": \"\"}}, \"type\": \"scattercarpet\"}], \"scattergeo\": [{\"marker\": {\"colorbar\": {\"outlinewidth\": 0, \"ticks\": \"\"}}, \"type\": \"scattergeo\"}], \"scattergl\": [{\"marker\": {\"colorbar\": {\"outlinewidth\": 0, \"ticks\": \"\"}}, \"type\": \"scattergl\"}], \"scattermapbox\": [{\"marker\": {\"colorbar\": {\"outlinewidth\": 0, \"ticks\": \"\"}}, \"type\": \"scattermapbox\"}], \"scatterpolar\": [{\"marker\": {\"colorbar\": {\"outlinewidth\": 0, \"ticks\": \"\"}}, \"type\": \"scatterpolar\"}], \"scatterpolargl\": [{\"marker\": {\"colorbar\": {\"outlinewidth\": 0, \"ticks\": \"\"}}, \"type\": \"scatterpolargl\"}], \"scatterternary\": [{\"marker\": {\"colorbar\": {\"outlinewidth\": 0, \"ticks\": \"\"}}, \"type\": \"scatterternary\"}], \"surface\": [{\"colorbar\": {\"outlinewidth\": 0, \"ticks\": \"\"}, \"colorscale\": [[0.0, \"#0d0887\"], [0.1111111111111111, \"#46039f\"], [0.2222222222222222, \"#7201a8\"], [0.3333333333333333, \"#9c179e\"], [0.4444444444444444, \"#bd3786\"], [0.5555555555555556, \"#d8576b\"], [0.6666666666666666, \"#ed7953\"], [0.7777777777777778, \"#fb9f3a\"], [0.8888888888888888, \"#fdca26\"], [1.0, \"#f0f921\"]], \"type\": \"surface\"}], \"table\": [{\"cells\": {\"fill\": {\"color\": \"#EBF0F8\"}, \"line\": {\"color\": \"white\"}}, \"header\": {\"fill\": {\"color\": \"#C8D4E3\"}, \"line\": {\"color\": \"white\"}}, \"type\": \"table\"}]}, \"layout\": {\"annotationdefaults\": {\"arrowcolor\": \"#2a3f5f\", \"arrowhead\": 0, \"arrowwidth\": 1}, \"coloraxis\": {\"colorbar\": {\"outlinewidth\": 0, \"ticks\": \"\"}}, \"colorscale\": {\"diverging\": [[0, \"#8e0152\"], [0.1, \"#c51b7d\"], [0.2, \"#de77ae\"], [0.3, \"#f1b6da\"], [0.4, \"#fde0ef\"], [0.5, \"#f7f7f7\"], [0.6, \"#e6f5d0\"], [0.7, \"#b8e186\"], [0.8, \"#7fbc41\"], [0.9, \"#4d9221\"], [1, \"#276419\"]], \"sequential\": [[0.0, \"#0d0887\"], [0.1111111111111111, \"#46039f\"], [0.2222222222222222, \"#7201a8\"], [0.3333333333333333, \"#9c179e\"], [0.4444444444444444, \"#bd3786\"], [0.5555555555555556, \"#d8576b\"], [0.6666666666666666, \"#ed7953\"], [0.7777777777777778, \"#fb9f3a\"], [0.8888888888888888, \"#fdca26\"], [1.0, \"#f0f921\"]], \"sequentialminus\": [[0.0, \"#0d0887\"], [0.1111111111111111, \"#46039f\"], [0.2222222222222222, \"#7201a8\"], [0.3333333333333333, \"#9c179e\"], [0.4444444444444444, \"#bd3786\"], [0.5555555555555556, \"#d8576b\"], [0.6666666666666666, \"#ed7953\"], [0.7777777777777778, \"#fb9f3a\"], [0.8888888888888888, \"#fdca26\"], [1.0, \"#f0f921\"]]}, \"colorway\": [\"#636efa\", \"#EF553B\", \"#00cc96\", \"#ab63fa\", \"#FFA15A\", \"#19d3f3\", \"#FF6692\", \"#B6E880\", \"#FF97FF\", \"#FECB52\"], \"font\": {\"color\": \"#2a3f5f\"}, \"geo\": {\"bgcolor\": \"white\", \"lakecolor\": \"white\", \"landcolor\": \"#E5ECF6\", \"showlakes\": true, \"showland\": true, \"subunitcolor\": \"white\"}, \"hoverlabel\": {\"align\": \"left\"}, \"hovermode\": \"closest\", \"mapbox\": {\"style\": \"light\"}, \"paper_bgcolor\": \"white\", \"plot_bgcolor\": \"#E5ECF6\", \"polar\": {\"angularaxis\": {\"gridcolor\": \"white\", \"linecolor\": \"white\", \"ticks\": \"\"}, \"bgcolor\": \"#E5ECF6\", \"radialaxis\": {\"gridcolor\": \"white\", \"linecolor\": \"white\", \"ticks\": \"\"}}, \"scene\": {\"xaxis\": {\"backgroundcolor\": \"#E5ECF6\", \"gridcolor\": \"white\", \"gridwidth\": 2, \"linecolor\": \"white\", \"showbackground\": true, \"ticks\": \"\", \"zerolinecolor\": \"white\"}, \"yaxis\": {\"backgroundcolor\": \"#E5ECF6\", \"gridcolor\": \"white\", \"gridwidth\": 2, \"linecolor\": \"white\", \"showbackground\": true, \"ticks\": \"\", \"zerolinecolor\": \"white\"}, \"zaxis\": {\"backgroundcolor\": \"#E5ECF6\", \"gridcolor\": \"white\", \"gridwidth\": 2, \"linecolor\": \"white\", \"showbackground\": true, \"ticks\": \"\", \"zerolinecolor\": \"white\"}}, \"shapedefaults\": {\"line\": {\"color\": \"#2a3f5f\"}}, \"ternary\": {\"aaxis\": {\"gridcolor\": \"white\", \"linecolor\": \"white\", \"ticks\": \"\"}, \"baxis\": {\"gridcolor\": \"white\", \"linecolor\": \"white\", \"ticks\": \"\"}, \"bgcolor\": \"#E5ECF6\", \"caxis\": {\"gridcolor\": \"white\", \"linecolor\": \"white\", \"ticks\": \"\"}}, \"title\": {\"x\": 0.05}, \"xaxis\": {\"automargin\": true, \"gridcolor\": \"white\", \"linecolor\": \"white\", \"ticks\": \"\", \"title\": {\"standoff\": 15}, \"zerolinecolor\": \"white\", \"zerolinewidth\": 2}, \"yaxis\": {\"automargin\": true, \"gridcolor\": \"white\", \"linecolor\": \"white\", \"ticks\": \"\", \"title\": {\"standoff\": 15}, \"zerolinecolor\": \"white\", \"zerolinewidth\": 2}}}},                        {\"responsive\": true}                    ).then(function(){\n",
              "                            \n",
              "var gd = document.getElementById('36e2be73-6f51-4763-b580-469f4a99a100');\n",
              "var x = new MutationObserver(function (mutations, observer) {{\n",
              "        var display = window.getComputedStyle(gd).display;\n",
              "        if (!display || display === 'none') {{\n",
              "            console.log([gd, 'removed!']);\n",
              "            Plotly.purge(gd);\n",
              "            observer.disconnect();\n",
              "        }}\n",
              "}});\n",
              "\n",
              "// Listen for the removal of the full notebook cells\n",
              "var notebookContainer = gd.closest('#notebook-container');\n",
              "if (notebookContainer) {{\n",
              "    x.observe(notebookContainer, {childList: true});\n",
              "}}\n",
              "\n",
              "// Listen for the clearing of the current output cell\n",
              "var outputEl = gd.closest('.output');\n",
              "if (outputEl) {{\n",
              "    x.observe(outputEl, {childList: true});\n",
              "}}\n",
              "\n",
              "                        })                };                            </script>        </div>\n",
              "</body>\n",
              "</html>"
            ]
          },
          "metadata": {
            "tags": []
          }
        }
      ]
    },
    {
      "cell_type": "code",
      "metadata": {
        "id": "b_86QVWajkEr"
      },
      "source": [
        ""
      ],
      "execution_count": null,
      "outputs": []
    }
  ]
}
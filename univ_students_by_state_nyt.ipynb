{
  "nbformat": 4,
  "nbformat_minor": 0,
  "metadata": {
    "colab": {
      "name": "univ_students_by_state_nyt.ipynb",
      "provenance": [],
      "collapsed_sections": [],
      "authorship_tag": "ABX9TyMZkujnl/s4CiZsjlRKTnT5",
      "include_colab_link": true
    },
    "kernelspec": {
      "name": "python3",
      "display_name": "Python 3"
    }
  },
  "cells": [
    {
      "cell_type": "markdown",
      "metadata": {
        "id": "view-in-github",
        "colab_type": "text"
      },
      "source": [
        "<a href=\"https://colab.research.google.com/github/Colsai/DATA-690-WANG/blob/master/univ_students_by_state_nyt.ipynb\" target=\"_parent\"><img src=\"https://colab.research.google.com/assets/colab-badge.svg\" alt=\"Open In Colab\"/></a>"
      ]
    },
    {
      "cell_type": "code",
      "metadata": {
        "id": "PbpUB-JXz2gE"
      },
      "source": [
        "import pandas as pd\n",
        "import numpy as np\n",
        "import seaborn as sns\n",
        "import matplotlib.pyplot as plt"
      ],
      "execution_count": 12,
      "outputs": []
    },
    {
      "cell_type": "code",
      "metadata": {
        "id": "K6FbXN3_z3qs",
        "outputId": "1f734c0d-4270-4192-842e-3e5791017f40",
        "colab": {
          "base_uri": "https://localhost:8080/",
          "height": 392
        }
      },
      "source": [
        "df = pd.read_csv(\"https://raw.githubusercontent.com/nytimes/covid-19-data/master/colleges/colleges.csv\")\n",
        "df.drop(\"notes\", axis=1)"
      ],
      "execution_count": 17,
      "outputs": [
        {
          "output_type": "execute_result",
          "data": {
            "text/html": [
              "<div>\n",
              "<style scoped>\n",
              "    .dataframe tbody tr th:only-of-type {\n",
              "        vertical-align: middle;\n",
              "    }\n",
              "\n",
              "    .dataframe tbody tr th {\n",
              "        vertical-align: top;\n",
              "    }\n",
              "\n",
              "    .dataframe thead th {\n",
              "        text-align: right;\n",
              "    }\n",
              "</style>\n",
              "<table border=\"1\" class=\"dataframe\">\n",
              "  <thead>\n",
              "    <tr style=\"text-align: right;\">\n",
              "      <th></th>\n",
              "      <th>date</th>\n",
              "      <th>state</th>\n",
              "      <th>county</th>\n",
              "      <th>city</th>\n",
              "      <th>ipeds_id</th>\n",
              "      <th>college</th>\n",
              "      <th>cases</th>\n",
              "    </tr>\n",
              "  </thead>\n",
              "  <tbody>\n",
              "    <tr>\n",
              "      <th>0</th>\n",
              "      <td>2020-10-08</td>\n",
              "      <td>Alabama</td>\n",
              "      <td>Madison</td>\n",
              "      <td>Huntsville</td>\n",
              "      <td>100654.0</td>\n",
              "      <td>Alabama A&amp;M University</td>\n",
              "      <td>41.0</td>\n",
              "    </tr>\n",
              "    <tr>\n",
              "      <th>1</th>\n",
              "      <td>2020-10-08</td>\n",
              "      <td>Alabama</td>\n",
              "      <td>Montgomery</td>\n",
              "      <td>Montgomery</td>\n",
              "      <td>100724.0</td>\n",
              "      <td>Alabama State University</td>\n",
              "      <td>NaN</td>\n",
              "    </tr>\n",
              "    <tr>\n",
              "      <th>2</th>\n",
              "      <td>2020-10-08</td>\n",
              "      <td>Alabama</td>\n",
              "      <td>Limestone</td>\n",
              "      <td>Athens</td>\n",
              "      <td>100812.0</td>\n",
              "      <td>Athens State University</td>\n",
              "      <td>2.0</td>\n",
              "    </tr>\n",
              "    <tr>\n",
              "      <th>3</th>\n",
              "      <td>2020-10-08</td>\n",
              "      <td>Alabama</td>\n",
              "      <td>Lee</td>\n",
              "      <td>Auburn</td>\n",
              "      <td>100858.0</td>\n",
              "      <td>Auburn University</td>\n",
              "      <td>1982.0</td>\n",
              "    </tr>\n",
              "    <tr>\n",
              "      <th>4</th>\n",
              "      <td>2020-10-08</td>\n",
              "      <td>Alabama</td>\n",
              "      <td>Montgomery</td>\n",
              "      <td>Montgomery</td>\n",
              "      <td>100830.0</td>\n",
              "      <td>Auburn University at Montgomery</td>\n",
              "      <td>0.0</td>\n",
              "    </tr>\n",
              "    <tr>\n",
              "      <th>...</th>\n",
              "      <td>...</td>\n",
              "      <td>...</td>\n",
              "      <td>...</td>\n",
              "      <td>...</td>\n",
              "      <td>...</td>\n",
              "      <td>...</td>\n",
              "      <td>...</td>\n",
              "    </tr>\n",
              "    <tr>\n",
              "      <th>1707</th>\n",
              "      <td>2020-10-08</td>\n",
              "      <td>Wisconsin</td>\n",
              "      <td>La Crosse</td>\n",
              "      <td>La Crosse</td>\n",
              "      <td>240107.0</td>\n",
              "      <td>Viterbo University</td>\n",
              "      <td>50.0</td>\n",
              "    </tr>\n",
              "    <tr>\n",
              "      <th>1708</th>\n",
              "      <td>2020-10-08</td>\n",
              "      <td>Wisconsin</td>\n",
              "      <td>Milwaukee</td>\n",
              "      <td>Milwaukee</td>\n",
              "      <td>240338.0</td>\n",
              "      <td>Wisconsin Lutheran College</td>\n",
              "      <td>12.0</td>\n",
              "    </tr>\n",
              "    <tr>\n",
              "      <th>1709</th>\n",
              "      <td>2020-10-08</td>\n",
              "      <td>Wyoming</td>\n",
              "      <td>Natrona</td>\n",
              "      <td>Casper</td>\n",
              "      <td>240505.0</td>\n",
              "      <td>Casper College</td>\n",
              "      <td>68.0</td>\n",
              "    </tr>\n",
              "    <tr>\n",
              "      <th>1710</th>\n",
              "      <td>2020-10-08</td>\n",
              "      <td>Wyoming</td>\n",
              "      <td>Goshen</td>\n",
              "      <td>Torrington</td>\n",
              "      <td>240596.0</td>\n",
              "      <td>Eastern Wyoming College</td>\n",
              "      <td>3.0</td>\n",
              "    </tr>\n",
              "    <tr>\n",
              "      <th>1711</th>\n",
              "      <td>2020-10-08</td>\n",
              "      <td>Wyoming</td>\n",
              "      <td>Albany</td>\n",
              "      <td>Laramie</td>\n",
              "      <td>240727.0</td>\n",
              "      <td>University of Wyoming</td>\n",
              "      <td>456.0</td>\n",
              "    </tr>\n",
              "  </tbody>\n",
              "</table>\n",
              "<p>1712 rows × 7 columns</p>\n",
              "</div>"
            ],
            "text/plain": [
              "            date      state  ...                          college   cases\n",
              "0     2020-10-08    Alabama  ...           Alabama A&M University    41.0\n",
              "1     2020-10-08    Alabama  ...         Alabama State University     NaN\n",
              "2     2020-10-08    Alabama  ...          Athens State University     2.0\n",
              "3     2020-10-08    Alabama  ...                Auburn University  1982.0\n",
              "4     2020-10-08    Alabama  ...  Auburn University at Montgomery     0.0\n",
              "...          ...        ...  ...                              ...     ...\n",
              "1707  2020-10-08  Wisconsin  ...               Viterbo University    50.0\n",
              "1708  2020-10-08  Wisconsin  ...       Wisconsin Lutheran College    12.0\n",
              "1709  2020-10-08    Wyoming  ...                   Casper College    68.0\n",
              "1710  2020-10-08    Wyoming  ...          Eastern Wyoming College     3.0\n",
              "1711  2020-10-08    Wyoming  ...            University of Wyoming   456.0\n",
              "\n",
              "[1712 rows x 7 columns]"
            ]
          },
          "metadata": {
            "tags": []
          },
          "execution_count": 17
        }
      ]
    },
    {
      "cell_type": "code",
      "metadata": {
        "id": "oPJU37_j08AC"
      },
      "source": [
        "def state_finder(dataframe, column, name, exact=True):\n",
        "    if exact == True:\n",
        "        find_it = dataframe[dataframe[column].str.match(name, case=False)] #Rewrote with match instead of contains to prevent west virginia/virginia\n",
        "\n",
        "    else:\n",
        "        find_it = dataframe[dataframe[column].str.contains(name, case=False)] #Rewrote with match instead of contains to prevent west virginia/virginia\n",
        "    return find_it"
      ],
      "execution_count": 16,
      "outputs": []
    },
    {
      "cell_type": "code",
      "metadata": {
        "id": "c9QKYf1S1AK9"
      },
      "source": [
        "md_df = state_finder(df, \"state\", \"Maryland\")"
      ],
      "execution_count": 21,
      "outputs": []
    },
    {
      "cell_type": "code",
      "metadata": {
        "id": "zbqk3UKRz-A5",
        "outputId": "9cbc7b3e-7761-40be-c1bf-068394c1f4cf",
        "colab": {
          "base_uri": "https://localhost:8080/",
          "height": 426
        }
      },
      "source": [
        "county = md_df['county']\n",
        "cases = md_df['cases']\n",
        "\n",
        "fig, ax = plt.subplots(figsize = (14,6))\n",
        "\n",
        "ax.barh(county, cases, color='purple')\n",
        "\n",
        "ax.set_title(\"Cases by University County Students (MD)\", color='black', size = 14)\n",
        "ax.set_xlabel(\"County\", color='black', size = 14)\n",
        "ax.set_ylabel(\"Cases\", color='black', size = 14)"
      ],
      "execution_count": 50,
      "outputs": [
        {
          "output_type": "execute_result",
          "data": {
            "text/plain": [
              "Text(0, 0.5, 'Cases')"
            ]
          },
          "metadata": {
            "tags": []
          },
          "execution_count": 50
        },
        {
          "output_type": "display_data",
          "data": {
            "image/png": "[encoded data removed]",
            "text/plain": [
              "<Figure size 1008x432 with 1 Axes>"
            ]
          },
          "metadata": {
            "tags": [],
            "needs_background": "light"
          }
        }
      ]
    },
    {
      "cell_type": "code",
      "metadata": {
        "id": "FwMlUssY2YWG"
      },
      "source": [
        "va_df = state_finder(df, \"state\", \"Virginia\")"
      ],
      "execution_count": 42,
      "outputs": []
    },
    {
      "cell_type": "code",
      "metadata": {
        "id": "5cCDa3wm0JNQ",
        "outputId": "9915983b-7e99-4f38-8522-cffe26380936",
        "colab": {
          "base_uri": "https://localhost:8080/",
          "height": 643
        }
      },
      "source": [
        "county = va_df['county']\n",
        "cases = va_df['cases']\n",
        "\n",
        "fig, ax = plt.subplots(figsize = (16,10))\n",
        "\n",
        "ax.barh(county, cases, color='orange')\n",
        "\n",
        "ax.set_title(\"Cases by University County Students (VA)\", color='black', size = 14)\n",
        "ax.set_xlabel(\"County\", color='black', size = 14)\n",
        "ax.set_ylabel(\"Cases\", color='black', size = 14)"
      ],
      "execution_count": 49,
      "outputs": [
        {
          "output_type": "execute_result",
          "data": {
            "text/plain": [
              "Text(0, 0.5, 'Cases')"
            ]
          },
          "metadata": {
            "tags": []
          },
          "execution_count": 49
        },
        {
          "output_type": "display_data",
          "data": {
            "image/png": "[encoded data removed]",
            "text/plain": [
              "<Figure size 1152x720 with 1 Axes>"
            ]
          },
          "metadata": {
            "tags": [],
            "needs_background": "light"
          }
        }
      ]
    },
    {
      "cell_type": "code",
      "metadata": {
        "id": "LJ9CMb992eGk"
      },
      "source": [
        ""
      ],
      "execution_count": null,
      "outputs": []
    }
  ]
}
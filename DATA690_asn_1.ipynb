{
 "cells": [
  {
   "cell_type": "markdown",
   "metadata": {},
   "source": [
    "# Scott Hirabayashi / DATA690 / Wang"
   ]
  },
  {
   "cell_type": "markdown",
   "metadata": {},
   "source": [
    "# Assignment 01\n",
    "Prompts a user to enter 10 integers. If the user enters anything other than integers, remind her that only integers are allowed and let her retry. Don't allow the user to enter more than 10 or less than 10 integers. Display the 10 integers back to the user at the end. Calculate the following statistics from the 10 integers entered:\n",
    "\n",
    "- Minimum\n",
    "- Maximum\n",
    "- Range\n",
    "- Mean\n",
    "- Variance\n",
    "- Standard Deviation"
   ]
  },
  {
   "cell_type": "markdown",
   "metadata": {},
   "source": [
    "Prompt the user to enter 10 integers\n",
    "Use 'Input'"
   ]
  },
  {
   "cell_type": "markdown",
   "metadata": {},
   "source": [
    "##### Create Empty List\n",
    "listed_nums = []\n",
    "\n",
    "#For loop\n",
    "for i in range(10):\n",
    "    add_int = int(input(\"Please enter an integer:\"))\n",
    "    listed_nums.append(add_int)\n",
    "    i+1\n",
    "\n",
    "#Prints the variable before the next Cell\n",
    "print(listed_nums)"
   ]
  },
  {
   "cell_type": "code",
   "execution_count": 13,
   "metadata": {},
   "outputs": [
    {
     "name": "stdout",
     "output_type": "stream",
     "text": [
      "The min is 1.\n",
      "The max is 10.\n",
      "The max is 9.\n",
      " The mean is 5.5.\n"
     ]
    },
    {
     "ename": "NameError",
     "evalue": "name 'test' is not defined",
     "output_type": "error",
     "traceback": [
      "\u001b[0;31m---------------------------------------------------------------------------\u001b[0m",
      "\u001b[0;31mNameError\u001b[0m                                 Traceback (most recent call last)",
      "\u001b[0;32m<ipython-input-13-d973e15abce9>\u001b[0m in \u001b[0;36m<module>\u001b[0;34m\u001b[0m\n\u001b[1;32m     16\u001b[0m \u001b[0;31m#Variance\u001b[0m\u001b[0;34m\u001b[0m\u001b[0;34m\u001b[0m\u001b[0;34m\u001b[0m\u001b[0m\n\u001b[1;32m     17\u001b[0m \u001b[0mint\u001b[0m\u001b[0;34m(\u001b[0m\u001b[0mi\u001b[0m\u001b[0;34m)\u001b[0m\u001b[0;34m\u001b[0m\u001b[0;34m\u001b[0m\u001b[0m\n\u001b[0;32m---> 18\u001b[0;31m \u001b[0;32mfor\u001b[0m \u001b[0mi\u001b[0m \u001b[0;32min\u001b[0m \u001b[0mtest\u001b[0m\u001b[0;34m[\u001b[0m\u001b[0mi\u001b[0m\u001b[0;34m]\u001b[0m\u001b[0;34m:\u001b[0m\u001b[0;34m\u001b[0m\u001b[0;34m\u001b[0m\u001b[0m\n\u001b[0m\u001b[1;32m     19\u001b[0m     \u001b[0msum\u001b[0m\u001b[0;34m(\u001b[0m\u001b[0;34m(\u001b[0m\u001b[0mi\u001b[0m \u001b[0;34m-\u001b[0m \u001b[0md_mean\u001b[0m\u001b[0;34m)\u001b[0m \u001b[0;34m/\u001b[0m \u001b[0;34m(\u001b[0m\u001b[0mlen\u001b[0m\u001b[0;34m(\u001b[0m\u001b[0mtest\u001b[0m\u001b[0;34m)\u001b[0m\u001b[0;34m-\u001b[0m\u001b[0;36m1\u001b[0m\u001b[0;34m)\u001b[0m\u001b[0;34m)\u001b[0m\u001b[0;34m\u001b[0m\u001b[0;34m\u001b[0m\u001b[0m\n\u001b[1;32m     20\u001b[0m \u001b[0;34m\u001b[0m\u001b[0m\n",
      "\u001b[0;31mNameError\u001b[0m: name 'test' is not defined"
     ]
    }
   ],
   "source": [
    "#Minimum\n",
    "d_min = min(listed_nums)\n",
    "print(f\"The min is {d_min}.\")\n",
    "\n",
    "#Maximum\n",
    "d_max = max(listed_nums)\n",
    "print(f\"The max is {d_max}.\")\n",
    "\n",
    "#Range\n",
    "print(f\"The max is {d_max - d_min}.\" )\n",
    "\n",
    "#Mean\n",
    "d_mean = sum(listed_nums)/len(listed_nums)\n",
    "print(f\"The mean is {d_mean}.\")\n",
    "\n",
    "#Variance\n",
    "int(i)\n",
    "for i in test[i]:\n",
    "    sum((i - d_mean) / (len(test)-1))\n",
    "\n",
    "\n",
    "    #Standard Deviation"
   ]
  },
  {
   "cell_type": "code",
   "execution_count": 40,
   "metadata": {},
   "outputs": [
    {
     "ename": "UnboundLocalError",
     "evalue": "local variable 'i' referenced before assignment",
     "output_type": "error",
     "traceback": [
      "\u001b[0;31m---------------------------------------------------------------------------\u001b[0m",
      "\u001b[0;31mUnboundLocalError\u001b[0m                         Traceback (most recent call last)",
      "\u001b[0;32m<ipython-input-40-ab594174c2d0>\u001b[0m in \u001b[0;36m<module>\u001b[0;34m\u001b[0m\n\u001b[1;32m     26\u001b[0m \u001b[0;34m\u001b[0m\u001b[0m\n\u001b[1;32m     27\u001b[0m \u001b[0;31m#sample_range(test)\u001b[0m\u001b[0;34m\u001b[0m\u001b[0;34m\u001b[0m\u001b[0;34m\u001b[0m\u001b[0m\n\u001b[0;32m---> 28\u001b[0;31m \u001b[0msample_standard_dev\u001b[0m\u001b[0;34m(\u001b[0m\u001b[0mtest\u001b[0m\u001b[0;34m)\u001b[0m\u001b[0;34m\u001b[0m\u001b[0;34m\u001b[0m\u001b[0m\n\u001b[0m",
      "\u001b[0;32m<ipython-input-40-ab594174c2d0>\u001b[0m in \u001b[0;36msample_standard_dev\u001b[0;34m(num_list)\u001b[0m\n\u001b[1;32m     22\u001b[0m \u001b[0;31m# Standard Deviation: Sum of Squares\u001b[0m\u001b[0;34m\u001b[0m\u001b[0;34m\u001b[0m\u001b[0;34m\u001b[0m\u001b[0m\n\u001b[1;32m     23\u001b[0m \u001b[0;32mdef\u001b[0m \u001b[0msample_standard_dev\u001b[0m\u001b[0;34m(\u001b[0m\u001b[0mnum_list\u001b[0m\u001b[0;34m)\u001b[0m\u001b[0;34m:\u001b[0m\u001b[0;34m\u001b[0m\u001b[0;34m\u001b[0m\u001b[0m\n\u001b[0;32m---> 24\u001b[0;31m     \u001b[0;32mfor\u001b[0m \u001b[0mi\u001b[0m \u001b[0;32min\u001b[0m \u001b[0mnum_list\u001b[0m\u001b[0;34m[\u001b[0m\u001b[0mi\u001b[0m\u001b[0;34m]\u001b[0m\u001b[0;34m:\u001b[0m\u001b[0;34m\u001b[0m\u001b[0;34m\u001b[0m\u001b[0m\n\u001b[0m\u001b[1;32m     25\u001b[0m         \u001b[0mprint\u001b[0m\u001b[0;34m(\u001b[0m\u001b[0mi\u001b[0m\u001b[0;34m)\u001b[0m\u001b[0;34m\u001b[0m\u001b[0;34m\u001b[0m\u001b[0m\n\u001b[1;32m     26\u001b[0m \u001b[0;34m\u001b[0m\u001b[0m\n",
      "\u001b[0;31mUnboundLocalError\u001b[0m: local variable 'i' referenced before assignment"
     ]
    }
   ],
   "source": [
    "#Creating simple test set in case there is an issue with the inputs\n",
    "test = [1,3,4,5,6,7,8,9,11,13]\n",
    "\n",
    "#As Functions\n",
    "\n",
    "#I'll use the built-in functionality for this. We could also iterate the list with a pointer to check if each number is the smallest \n",
    "def sample_min(num_list):\n",
    "    return min(num_list)\n",
    "\n",
    "#I'll use the built-in functionality for this. We could also iterate the list with a pointer to check if each number is the biggest \n",
    "def sample_max(num_list):\n",
    "    return max(num_list)\n",
    "\n",
    "# Range formula is the max in the set minus the min\n",
    "def sample_range(num_list):\n",
    "    return max(num_list) - min(num_list)  \n",
    "\n",
    "# Mean formula is sum / n number of samples\n",
    "def sample_mean(num_list):\n",
    "    return sum(num_list) / len(num_list)\n",
    "\n",
    "# Standard Deviation: Sum of Squares\n",
    "def sample_standard_dev(num_list):\n",
    "    for i in num_list[i]:\n",
    "        print(i)\n",
    "\n",
    "#sample_range(test)\n",
    "sample_standard_dev(test)"
   ]
  },
  {
   "cell_type": "code",
   "execution_count": null,
   "metadata": {},
   "outputs": [],
   "source": [
    "# Standard Deviation: Sum of Squares\n",
    "def sample_standard_dev(num_list):\n",
    "    for i in num_list[i]:\n",
    "        print(i)\n",
    "\n",
    "#sample_range(test)\n",
    "sample_standard_dev(test)"
   ]
  },
  {
   "cell_type": "markdown",
   "metadata": {},
   "source": [
    "\n",
    "for i in int_list:\n",
    "    while True: \n",
    "        try:\n",
    "            x = input(\"Please enter an integer:\")\n",
    "            y = int(x)\n",
    "            break\n",
    "        except:\n",
    "            print(\"Only integer is allowed\")\n",
    "            continue  \n",
    "\n",
    "print(\"You have entered a number:\", y)\n"
   ]
  },
  {
   "cell_type": "markdown",
   "metadata": {},
   "source": [
    "Calculate the following statistics from the 10 integers entered:\n",
    "\n",
    "- Minimum OK\n",
    "- Maximum OK\n",
    "- Range OK\n",
    "- Mean OK\n",
    "- Variance\n",
    "- Standard Deviation"
   ]
  },
  {
   "cell_type": "code",
   "execution_count": 55,
   "metadata": {},
   "outputs": [
    {
     "name": "stdout",
     "output_type": "stream",
     "text": [
      "1\n",
      "8\n",
      "7\n"
     ]
    },
    {
     "ename": "TypeError",
     "evalue": "list indices must be integers or slices, not str",
     "output_type": "error",
     "traceback": [
      "\u001b[0;31m---------------------------------------------------------------------------\u001b[0m",
      "\u001b[0;31mTypeError\u001b[0m                                 Traceback (most recent call last)",
      "\u001b[0;32m<ipython-input-55-389505246b1c>\u001b[0m in \u001b[0;36m<module>\u001b[0;34m\u001b[0m\n\u001b[1;32m     17\u001b[0m \u001b[0;31m#Variance\u001b[0m\u001b[0;34m\u001b[0m\u001b[0;34m\u001b[0m\u001b[0;34m\u001b[0m\u001b[0m\n\u001b[1;32m     18\u001b[0m \u001b[0mint\u001b[0m\u001b[0;34m(\u001b[0m\u001b[0mi\u001b[0m\u001b[0;34m)\u001b[0m\u001b[0;34m\u001b[0m\u001b[0;34m\u001b[0m\u001b[0m\n\u001b[0;32m---> 19\u001b[0;31m \u001b[0;32mfor\u001b[0m \u001b[0mi\u001b[0m \u001b[0;32min\u001b[0m \u001b[0mtest\u001b[0m\u001b[0;34m[\u001b[0m\u001b[0mi\u001b[0m\u001b[0;34m]\u001b[0m\u001b[0;34m:\u001b[0m\u001b[0;34m\u001b[0m\u001b[0;34m\u001b[0m\u001b[0m\n\u001b[0m\u001b[1;32m     20\u001b[0m     \u001b[0msum\u001b[0m\u001b[0;34m(\u001b[0m\u001b[0;34m(\u001b[0m\u001b[0mi\u001b[0m \u001b[0;34m-\u001b[0m \u001b[0md_mean\u001b[0m\u001b[0;34m)\u001b[0m \u001b[0;34m/\u001b[0m \u001b[0;34m(\u001b[0m\u001b[0mlen\u001b[0m\u001b[0;34m(\u001b[0m\u001b[0mtest\u001b[0m\u001b[0;34m)\u001b[0m\u001b[0;34m-\u001b[0m\u001b[0;36m1\u001b[0m\u001b[0;34m)\u001b[0m\u001b[0;34m)\u001b[0m\u001b[0;34m\u001b[0m\u001b[0;34m\u001b[0m\u001b[0m\n\u001b[1;32m     21\u001b[0m \u001b[0;34m\u001b[0m\u001b[0m\n",
      "\u001b[0;31mTypeError\u001b[0m: list indices must be integers or slices, not str"
     ]
    }
   ],
   "source": [
    "test = [4,1,3,6,2,4,5,6,7,8]\n",
    "\n",
    "#Minimum\n",
    "d_min = min(test)\n",
    "print(d_min)\n",
    "\n",
    "#Maximum\n",
    "d_max = max(test)\n",
    "print(d_max)\n",
    "\n",
    "#Range\n",
    "print(d_max - d_min)\n",
    "\n",
    "#Mean\n",
    "d_mean = sum(test)/len(test)\n",
    "\n",
    "#Variance\n",
    "int(i)\n",
    "for i in test[i]:\n",
    "    sum((i - d_mean) / (len(test)-1))\n",
    "\n",
    "#Standard Deviation\n"
   ]
  },
  {
   "cell_type": "markdown",
   "metadata": {},
   "source": [
    "# Note:\n",
    "#Use the basic Python concepts and methods. Special Python libraries such as statistics, scipy, or numpy are not allowed. You may need to use:\n",
    "\n",
    "loops (finite and/or infinite loop)\n",
    "break/continue\n",
    "try/except\n",
    "input() function\n",
    "int() function\n",
    "Implement the solution in the following two different formats:\n",
    "\n",
    "A Jupyter Notebook (.ipynb)\n",
    "A Python script (.py)\n",
    "Your source code should be well formatted and easy to read and understand.\n",
    "\n",
    "Provide good comments/documentations:\n",
    "\n",
    "Use both Markdown and comments in the Jupyter Notebook.\n",
    "Use comments in the Python script.\n",
    "Your user prompts, use inputs and output displays should be nicely formatted when users run your program.\n",
    "\n",
    "Create a subfolder named \"Assignment-01\" in your GitHub repository (WANG-690-FALL-2020) and upload the two files to the subfolder.\n",
    "\n",
    "Copy your GitHub repository URL to your assignment submission in Blackboard. No files should be uploaded to the BB."
   ]
  }
 ],
 "metadata": {
  "kernelspec": {
   "display_name": "Python 3",
   "language": "python",
   "name": "python3"
  },
  "language_info": {
   "codemirror_mode": {
    "name": "ipython",
    "version": 3
   },
   "file_extension": ".py",
   "mimetype": "text/x-python",
   "name": "python",
   "nbconvert_exporter": "python",
   "pygments_lexer": "ipython3",
   "version": "3.8.1"
  }
 },
 "nbformat": 4,
 "nbformat_minor": 4
}

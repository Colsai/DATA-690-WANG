{
  "nbformat": 4,
  "nbformat_minor": 0,
  "metadata": {
    "colab": {
      "name": "Sumo History.ipynb",
      "provenance": [],
      "collapsed_sections": [],
      "toc_visible": true,
      "mount_file_id": "1a9lFAUe_VscHhlG3izMY8X768cZLqFx-",
      "authorship_tag": "ABX9TyPMrkTkzJ6VHErT8TPrj8fp",
      "include_colab_link": true
    },
    "kernelspec": {
      "name": "python3",
      "display_name": "Python 3"
    }
  },
  "cells": [
    {
      "cell_type": "markdown",
      "metadata": {
        "id": "view-in-github",
        "colab_type": "text"
      },
      "source": [
        "<a href=\"https://colab.research.google.com/github/Colsai/DATA-690-WANG/blob/master/Sumo_History_Exploratory.ipynb\" target=\"_parent\"><img src=\"https://colab.research.google.com/assets/colab-badge.svg\" alt=\"Open In Colab\"/></a>"
      ]
    },
    {
      "cell_type": "markdown",
      "metadata": {
        "id": "rJEj14Dbi3_K"
      },
      "source": [
        "# A Study of Sumo Winners\n",
        "\n",
        "Source: https://data.world/cervus/sumo-banzuke by https://data.world/cervus"
      ]
    },
    {
      "cell_type": "code",
      "metadata": {
        "id": "SiogF2b5i13B"
      },
      "source": [
        "import pandas as pd\n",
        "import numpy as np\n",
        "import statistics\n",
        "import seaborn as sns\n",
        "import os"
      ],
      "execution_count": 5,
      "outputs": []
    },
    {
      "cell_type": "code",
      "metadata": {
        "id": "y0sEHuLdkvIA",
        "outputId": "81e6684f-1ea4-44e9-a118-76e8b3fdd646",
        "colab": {
          "base_uri": "https://localhost:8080/",
          "height": 34
        }
      },
      "source": [
        "os.getcwd()"
      ],
      "execution_count": 6,
      "outputs": [
        {
          "output_type": "execute_result",
          "data": {
            "application/vnd.google.colaboratory.intrinsic+json": {
              "type": "string"
            },
            "text/plain": [
              "'/content'"
            ]
          },
          "metadata": {
            "tags": []
          },
          "execution_count": 6
        }
      ]
    },
    {
      "cell_type": "code",
      "metadata": {
        "id": "MeSqfqVTk2CJ",
        "outputId": "7ef26294-34d6-4d4f-8a75-ca94623cdd22",
        "colab": {
          "base_uri": "https://localhost:8080/",
          "height": 33
        }
      },
      "source": [
        "os.listdir('/content/drive/My Drive/cervus-sumo-results')"
      ],
      "execution_count": 7,
      "outputs": [
        {
          "output_type": "execute_result",
          "data": {
            "text/plain": [
              "['datapackage.json', 'data', 'original']"
            ]
          },
          "metadata": {
            "tags": []
          },
          "execution_count": 7
        }
      ]
    },
    {
      "cell_type": "code",
      "metadata": {
        "id": "sF8psTgTlbgm"
      },
      "source": [
        "sumo_data = \"/content/drive/My Drive/cervus-sumo-results/data/\""
      ],
      "execution_count": 8,
      "outputs": []
    },
    {
      "cell_type": "code",
      "metadata": {
        "id": "Kzhh_5CxlCpc"
      },
      "source": [
        "# Get rid of pointless stuff here\n",
        "dir = os.listdir(sumo_data)\n",
        "\n",
        "csv_files = []\n",
        "\n",
        "for file in dir:\n",
        "    if \".csv\" in file:\n",
        "        csv_files.append(file)\n",
        "\n",
        "    else:\n",
        "        csv_files"
      ],
      "execution_count": 9,
      "outputs": []
    },
    {
      "cell_type": "code",
      "metadata": {
        "id": "Miq7yjxtjZms",
        "outputId": "253ea5b8-c930-48fa-9fc7-266918c705b8",
        "colab": {
          "base_uri": "https://localhost:8080/",
          "height": 638
        }
      },
      "source": [
        "csv_files"
      ],
      "execution_count": 10,
      "outputs": [
        {
          "output_type": "execute_result",
          "data": {
            "text/plain": [
              "['1988.csv',\n",
              " '1984.csv',\n",
              " '1985.csv',\n",
              " '1989.csv',\n",
              " '1986.csv',\n",
              " '1987.csv',\n",
              " '1983.csv',\n",
              " '2005.csv',\n",
              " '2002.csv',\n",
              " '2003.csv',\n",
              " '2013.csv',\n",
              " '2011.csv',\n",
              " '2001.csv',\n",
              " '2015.csv',\n",
              " '2004.csv',\n",
              " '2018.csv',\n",
              " '1991.csv',\n",
              " '2008.csv',\n",
              " '2017.csv',\n",
              " '2006.csv',\n",
              " '2016.csv',\n",
              " '1995.csv',\n",
              " '1994.csv',\n",
              " '2000.csv',\n",
              " '2007.csv',\n",
              " '1997.csv',\n",
              " '2019.csv',\n",
              " '2012.csv',\n",
              " '2009.csv',\n",
              " '2010.csv',\n",
              " '1993.csv',\n",
              " '1990.csv',\n",
              " '1992.csv',\n",
              " '1998.csv',\n",
              " '1999.csv',\n",
              " '2014.csv',\n",
              " '1996.csv']"
            ]
          },
          "metadata": {
            "tags": []
          },
          "execution_count": 10
        }
      ]
    },
    {
      "cell_type": "code",
      "metadata": {
        "id": "6WkwZPgwlWxn"
      },
      "source": [
        "#Merges all of the csv files after finding them\n",
        "full_df = []\n",
        "\n",
        "for file in csv_files:\n",
        "    df = pd.read_csv(sumo_data + file)\n",
        "    full_df.append(df)"
      ],
      "execution_count": 11,
      "outputs": []
    },
    {
      "cell_type": "code",
      "metadata": {
        "id": "O_TQIWAylzJ7",
        "outputId": "ee72276c-dcba-4e6a-91c8-41c116e17ec3",
        "colab": {
          "base_uri": "https://localhost:8080/",
          "height": 392
        }
      },
      "source": [
        "#Looks good here. Just ahve to convert it into df.\n",
        "full_df[5]"
      ],
      "execution_count": 12,
      "outputs": [
        {
          "output_type": "execute_result",
          "data": {
            "text/html": [
              "<div>\n",
              "<style scoped>\n",
              "    .dataframe tbody tr th:only-of-type {\n",
              "        vertical-align: middle;\n",
              "    }\n",
              "\n",
              "    .dataframe tbody tr th {\n",
              "        vertical-align: top;\n",
              "    }\n",
              "\n",
              "    .dataframe thead th {\n",
              "        text-align: right;\n",
              "    }\n",
              "</style>\n",
              "<table border=\"1\" class=\"dataframe\">\n",
              "  <thead>\n",
              "    <tr style=\"text-align: right;\">\n",
              "      <th></th>\n",
              "      <th>basho</th>\n",
              "      <th>day</th>\n",
              "      <th>rikishi1_id</th>\n",
              "      <th>rikishi1_rank</th>\n",
              "      <th>rikishi1_shikona</th>\n",
              "      <th>rikishi1_result</th>\n",
              "      <th>rikishi1_win</th>\n",
              "      <th>kimarite</th>\n",
              "      <th>rikishi2_id</th>\n",
              "      <th>rikishi2_rank</th>\n",
              "      <th>rikishi2_shikona</th>\n",
              "      <th>rikishi2_result</th>\n",
              "      <th>rikishi2_win</th>\n",
              "    </tr>\n",
              "  </thead>\n",
              "  <tbody>\n",
              "    <tr>\n",
              "      <th>0</th>\n",
              "      <td>1987.01</td>\n",
              "      <td>1</td>\n",
              "      <td>1378</td>\n",
              "      <td>J13e</td>\n",
              "      <td>Hoo</td>\n",
              "      <td>0-1 (5-10)</td>\n",
              "      <td>False</td>\n",
              "      <td>tsukidashi</td>\n",
              "      <td>4332</td>\n",
              "      <td>J13w</td>\n",
              "      <td>Tochinohana</td>\n",
              "      <td>1-0 (8-7)</td>\n",
              "      <td>True</td>\n",
              "    </tr>\n",
              "    <tr>\n",
              "      <th>1</th>\n",
              "      <td>1987.01</td>\n",
              "      <td>1</td>\n",
              "      <td>4332</td>\n",
              "      <td>J13w</td>\n",
              "      <td>Tochinohana</td>\n",
              "      <td>1-0 (8-7)</td>\n",
              "      <td>True</td>\n",
              "      <td>tsukidashi</td>\n",
              "      <td>1378</td>\n",
              "      <td>J13e</td>\n",
              "      <td>Hoo</td>\n",
              "      <td>0-1 (5-10)</td>\n",
              "      <td>False</td>\n",
              "    </tr>\n",
              "    <tr>\n",
              "      <th>2</th>\n",
              "      <td>1987.01</td>\n",
              "      <td>1</td>\n",
              "      <td>1331</td>\n",
              "      <td>J12e</td>\n",
              "      <td>Saganobori</td>\n",
              "      <td>1-0 (8-7)</td>\n",
              "      <td>True</td>\n",
              "      <td>shitatenage</td>\n",
              "      <td>4311</td>\n",
              "      <td>J12w</td>\n",
              "      <td>Hakuryu</td>\n",
              "      <td>0-1 (9-6)</td>\n",
              "      <td>False</td>\n",
              "    </tr>\n",
              "    <tr>\n",
              "      <th>3</th>\n",
              "      <td>1987.01</td>\n",
              "      <td>1</td>\n",
              "      <td>4311</td>\n",
              "      <td>J12w</td>\n",
              "      <td>Hakuryu</td>\n",
              "      <td>0-1 (9-6)</td>\n",
              "      <td>False</td>\n",
              "      <td>shitatenage</td>\n",
              "      <td>1331</td>\n",
              "      <td>J12e</td>\n",
              "      <td>Saganobori</td>\n",
              "      <td>1-0 (8-7)</td>\n",
              "      <td>True</td>\n",
              "    </tr>\n",
              "    <tr>\n",
              "      <th>4</th>\n",
              "      <td>1987.01</td>\n",
              "      <td>1</td>\n",
              "      <td>1377</td>\n",
              "      <td>J11e</td>\n",
              "      <td>Iwatefuji</td>\n",
              "      <td>0-1 (3-12)</td>\n",
              "      <td>False</td>\n",
              "      <td>yorikiri</td>\n",
              "      <td>4100</td>\n",
              "      <td>J11w</td>\n",
              "      <td>Kaneshiro</td>\n",
              "      <td>1-0 (8-7)</td>\n",
              "      <td>True</td>\n",
              "    </tr>\n",
              "    <tr>\n",
              "      <th>...</th>\n",
              "      <td>...</td>\n",
              "      <td>...</td>\n",
              "      <td>...</td>\n",
              "      <td>...</td>\n",
              "      <td>...</td>\n",
              "      <td>...</td>\n",
              "      <td>...</td>\n",
              "      <td>...</td>\n",
              "      <td>...</td>\n",
              "      <td>...</td>\n",
              "      <td>...</td>\n",
              "      <td>...</td>\n",
              "      <td>...</td>\n",
              "    </tr>\n",
              "    <tr>\n",
              "      <th>5659</th>\n",
              "      <td>1987.11</td>\n",
              "      <td>15</td>\n",
              "      <td>1342</td>\n",
              "      <td>O1w</td>\n",
              "      <td>Asahifuji</td>\n",
              "      <td>11-4</td>\n",
              "      <td>True</td>\n",
              "      <td>okuridashi</td>\n",
              "      <td>1287</td>\n",
              "      <td>O1e</td>\n",
              "      <td>Konishiki</td>\n",
              "      <td>8-7</td>\n",
              "      <td>False</td>\n",
              "    </tr>\n",
              "    <tr>\n",
              "      <th>5660</th>\n",
              "      <td>1987.11</td>\n",
              "      <td>15</td>\n",
              "      <td>1354</td>\n",
              "      <td>Y2eHD</td>\n",
              "      <td>Chiyonofuji</td>\n",
              "      <td>15-0</td>\n",
              "      <td>True</td>\n",
              "      <td>yorikiri</td>\n",
              "      <td>4136</td>\n",
              "      <td>Y2wHD</td>\n",
              "      <td>Futahaguro</td>\n",
              "      <td>13-2</td>\n",
              "      <td>False</td>\n",
              "    </tr>\n",
              "    <tr>\n",
              "      <th>5661</th>\n",
              "      <td>1987.11</td>\n",
              "      <td>15</td>\n",
              "      <td>4136</td>\n",
              "      <td>Y2wHD</td>\n",
              "      <td>Futahaguro</td>\n",
              "      <td>13-2</td>\n",
              "      <td>False</td>\n",
              "      <td>yorikiri</td>\n",
              "      <td>1354</td>\n",
              "      <td>Y2eHD</td>\n",
              "      <td>Chiyonofuji</td>\n",
              "      <td>15-0</td>\n",
              "      <td>True</td>\n",
              "    </tr>\n",
              "    <tr>\n",
              "      <th>5662</th>\n",
              "      <td>1987.11</td>\n",
              "      <td>15</td>\n",
              "      <td>1339</td>\n",
              "      <td>Y1e</td>\n",
              "      <td>Hokutoumi</td>\n",
              "      <td>13-2</td>\n",
              "      <td>True</td>\n",
              "      <td>sotogake</td>\n",
              "      <td>1350</td>\n",
              "      <td>Y1w</td>\n",
              "      <td>Onokuni</td>\n",
              "      <td>8-7</td>\n",
              "      <td>False</td>\n",
              "    </tr>\n",
              "    <tr>\n",
              "      <th>5663</th>\n",
              "      <td>1987.11</td>\n",
              "      <td>15</td>\n",
              "      <td>1350</td>\n",
              "      <td>Y1w</td>\n",
              "      <td>Onokuni</td>\n",
              "      <td>8-7</td>\n",
              "      <td>False</td>\n",
              "      <td>sotogake</td>\n",
              "      <td>1339</td>\n",
              "      <td>Y1e</td>\n",
              "      <td>Hokutoumi</td>\n",
              "      <td>13-2</td>\n",
              "      <td>True</td>\n",
              "    </tr>\n",
              "  </tbody>\n",
              "</table>\n",
              "<p>5664 rows × 13 columns</p>\n",
              "</div>"
            ],
            "text/plain": [
              "        basho  day  rikishi1_id  ... rikishi2_shikona rikishi2_result rikishi2_win\n",
              "0     1987.01    1         1378  ...      Tochinohana       1-0 (8-7)         True\n",
              "1     1987.01    1         4332  ...              Hoo      0-1 (5-10)        False\n",
              "2     1987.01    1         1331  ...          Hakuryu       0-1 (9-6)        False\n",
              "3     1987.01    1         4311  ...       Saganobori       1-0 (8-7)         True\n",
              "4     1987.01    1         1377  ...        Kaneshiro       1-0 (8-7)         True\n",
              "...       ...  ...          ...  ...              ...             ...          ...\n",
              "5659  1987.11   15         1342  ...        Konishiki             8-7        False\n",
              "5660  1987.11   15         1354  ...       Futahaguro            13-2        False\n",
              "5661  1987.11   15         4136  ...      Chiyonofuji            15-0         True\n",
              "5662  1987.11   15         1339  ...          Onokuni             8-7        False\n",
              "5663  1987.11   15         1350  ...        Hokutoumi            13-2         True\n",
              "\n",
              "[5664 rows x 13 columns]"
            ]
          },
          "metadata": {
            "tags": []
          },
          "execution_count": 12
        }
      ]
    },
    {
      "cell_type": "code",
      "metadata": {
        "id": "KymQzHGomDrU"
      },
      "source": [
        "full_df = pd.concat(full_df)"
      ],
      "execution_count": 13,
      "outputs": []
    },
    {
      "cell_type": "code",
      "metadata": {
        "id": "H-Ev350cmP6V",
        "outputId": "fae6a450-43e0-40ec-b6d0-7960f8bd2516",
        "colab": {
          "base_uri": "https://localhost:8080/",
          "height": 33
        }
      },
      "source": [
        "full_df.shape"
      ],
      "execution_count": 14,
      "outputs": [
        {
          "output_type": "execute_result",
          "data": {
            "text/plain": [
              "(214788, 13)"
            ]
          },
          "metadata": {
            "tags": []
          },
          "execution_count": 14
        }
      ]
    },
    {
      "cell_type": "code",
      "metadata": {
        "id": "A9n41-V0ngNC"
      },
      "source": [
        "win_types = full_df['kimarite'].value_counts()"
      ],
      "execution_count": 22,
      "outputs": []
    },
    {
      "cell_type": "code",
      "metadata": {
        "id": "u5kc8DfYoDo8",
        "outputId": "e6f68a88-d4f6-4712-8d5e-c2d97df4ba6c",
        "colab": {
          "base_uri": "https://localhost:8080/",
          "height": 201
        }
      },
      "source": [
        "win_types.head(10)"
      ],
      "execution_count": 26,
      "outputs": [
        {
          "output_type": "execute_result",
          "data": {
            "text/plain": [
              "yorikiri       62712\n",
              "oshidashi      41036\n",
              "hatakikomi     16584\n",
              "uwatenage      12572\n",
              "tsukiotoshi    11440\n",
              "hikiotoshi      9794\n",
              "yoritaoshi      8466\n",
              "okuridashi      6700\n",
              "oshitaoshi      5532\n",
              "sukuinage       5386\n",
              "Name: kimarite, dtype: int64"
            ]
          },
          "metadata": {
            "tags": []
          },
          "execution_count": 26
        }
      ]
    },
    {
      "cell_type": "code",
      "metadata": {
        "id": "EtTYVBpXmRaM",
        "outputId": "e897caaa-92d8-4f93-f72d-b98c14bbe6f8",
        "colab": {
          "base_uri": "https://localhost:8080/",
          "height": 178
        }
      },
      "source": [
        "plt.figure(figsize=(20,10)) \n",
        "win_types.head(10).plot(kind=\"pie\", )"
      ],
      "execution_count": 35,
      "outputs": [
        {
          "output_type": "error",
          "ename": "NameError",
          "evalue": "ignored",
          "traceback": [
            "\u001b[0;31m---------------------------------------------------------------------------\u001b[0m",
            "\u001b[0;31mNameError\u001b[0m                                 Traceback (most recent call last)",
            "\u001b[0;32m<ipython-input-35-546b73ea21f3>\u001b[0m in \u001b[0;36m<module>\u001b[0;34m()\u001b[0m\n\u001b[0;32m----> 1\u001b[0;31m \u001b[0mplt\u001b[0m\u001b[0;34m.\u001b[0m\u001b[0mfigure\u001b[0m\u001b[0;34m(\u001b[0m\u001b[0mfigsize\u001b[0m\u001b[0;34m=\u001b[0m\u001b[0;34m(\u001b[0m\u001b[0;36m20\u001b[0m\u001b[0;34m,\u001b[0m\u001b[0;36m10\u001b[0m\u001b[0;34m)\u001b[0m\u001b[0;34m)\u001b[0m\u001b[0;34m\u001b[0m\u001b[0;34m\u001b[0m\u001b[0m\n\u001b[0m\u001b[1;32m      2\u001b[0m \u001b[0mwin_types\u001b[0m\u001b[0;34m.\u001b[0m\u001b[0mhead\u001b[0m\u001b[0;34m(\u001b[0m\u001b[0;36m10\u001b[0m\u001b[0;34m)\u001b[0m\u001b[0;34m.\u001b[0m\u001b[0mplot\u001b[0m\u001b[0;34m(\u001b[0m\u001b[0mkind\u001b[0m\u001b[0;34m=\u001b[0m\u001b[0;34m\"pie\"\u001b[0m\u001b[0;34m,\u001b[0m \u001b[0;34m)\u001b[0m\u001b[0;34m\u001b[0m\u001b[0;34m\u001b[0m\u001b[0m\n",
            "\u001b[0;31mNameError\u001b[0m: name 'plt' is not defined"
          ]
        }
      ]
    },
    {
      "cell_type": "code",
      "metadata": {
        "id": "Gmt_1vfTmjL_",
        "outputId": "db09f12d-94dc-47aa-bd89-33e0c982a03a",
        "colab": {
          "base_uri": "https://localhost:8080/",
          "height": 949
        }
      },
      "source": [
        "import matplotlib.pyplot as plt\n",
        "\n",
        "# Pie chart, where the slices will be ordered and plotted counter-clockwise:  \n",
        "# only \"explode\" the 2nd slice (i.e. 'Hogs')\n",
        "labels = win_types.head(10)\n",
        "\n",
        "fig1, ax1 = plt.subplots(figsize = (20,10))\n",
        "\n",
        "ax1.pie(win_types.head(10), labels=labels, autopct='%1.1f%%',\n",
        "        shadow=True)\n",
        "ax1.axis('equal')  # Equal aspect ratio ensures that pie is drawn as a circle.\n",
        "\n",
        "plt.show()"
      ],
      "execution_count": 49,
      "outputs": [
        {
          "output_type": "error",
          "ename": "TypeError",
          "evalue": "ignored",
          "traceback": [
            "\u001b[0;31m---------------------------------------------------------------------------\u001b[0m",
            "\u001b[0;31mTypeError\u001b[0m                                 Traceback (most recent call last)",
            "\u001b[0;32m<ipython-input-49-3d743ee7ad85>\u001b[0m in \u001b[0;36m<module>\u001b[0;34m()\u001b[0m\n\u001b[1;32m      8\u001b[0m \u001b[0;34m\u001b[0m\u001b[0m\n\u001b[1;32m      9\u001b[0m ax1.pie(win_types.head(10), labels=labels, autopct='%1.1f%%',\n\u001b[0;32m---> 10\u001b[0;31m         shadow=True)\n\u001b[0m\u001b[1;32m     11\u001b[0m \u001b[0max1\u001b[0m\u001b[0;34m.\u001b[0m\u001b[0maxis\u001b[0m\u001b[0;34m(\u001b[0m\u001b[0;34m'equal'\u001b[0m\u001b[0;34m)\u001b[0m  \u001b[0;31m# Equal aspect ratio ensures that pie is drawn as a circle.\u001b[0m\u001b[0;34m\u001b[0m\u001b[0;34m\u001b[0m\u001b[0m\n\u001b[1;32m     12\u001b[0m \u001b[0;34m\u001b[0m\u001b[0m\n",
            "\u001b[0;32m/usr/local/lib/python3.6/dist-packages/matplotlib/__init__.py\u001b[0m in \u001b[0;36minner\u001b[0;34m(ax, data, *args, **kwargs)\u001b[0m\n\u001b[1;32m   1563\u001b[0m     \u001b[0;32mdef\u001b[0m \u001b[0minner\u001b[0m\u001b[0;34m(\u001b[0m\u001b[0max\u001b[0m\u001b[0;34m,\u001b[0m \u001b[0;34m*\u001b[0m\u001b[0margs\u001b[0m\u001b[0;34m,\u001b[0m \u001b[0mdata\u001b[0m\u001b[0;34m=\u001b[0m\u001b[0;32mNone\u001b[0m\u001b[0;34m,\u001b[0m \u001b[0;34m**\u001b[0m\u001b[0mkwargs\u001b[0m\u001b[0;34m)\u001b[0m\u001b[0;34m:\u001b[0m\u001b[0;34m\u001b[0m\u001b[0;34m\u001b[0m\u001b[0m\n\u001b[1;32m   1564\u001b[0m         \u001b[0;32mif\u001b[0m \u001b[0mdata\u001b[0m \u001b[0;32mis\u001b[0m \u001b[0;32mNone\u001b[0m\u001b[0;34m:\u001b[0m\u001b[0;34m\u001b[0m\u001b[0;34m\u001b[0m\u001b[0m\n\u001b[0;32m-> 1565\u001b[0;31m             \u001b[0;32mreturn\u001b[0m \u001b[0mfunc\u001b[0m\u001b[0;34m(\u001b[0m\u001b[0max\u001b[0m\u001b[0;34m,\u001b[0m \u001b[0;34m*\u001b[0m\u001b[0mmap\u001b[0m\u001b[0;34m(\u001b[0m\u001b[0msanitize_sequence\u001b[0m\u001b[0;34m,\u001b[0m \u001b[0margs\u001b[0m\u001b[0;34m)\u001b[0m\u001b[0;34m,\u001b[0m \u001b[0;34m**\u001b[0m\u001b[0mkwargs\u001b[0m\u001b[0;34m)\u001b[0m\u001b[0;34m\u001b[0m\u001b[0;34m\u001b[0m\u001b[0m\n\u001b[0m\u001b[1;32m   1566\u001b[0m \u001b[0;34m\u001b[0m\u001b[0m\n\u001b[1;32m   1567\u001b[0m         \u001b[0mbound\u001b[0m \u001b[0;34m=\u001b[0m \u001b[0mnew_sig\u001b[0m\u001b[0;34m.\u001b[0m\u001b[0mbind\u001b[0m\u001b[0;34m(\u001b[0m\u001b[0max\u001b[0m\u001b[0;34m,\u001b[0m \u001b[0;34m*\u001b[0m\u001b[0margs\u001b[0m\u001b[0;34m,\u001b[0m \u001b[0;34m**\u001b[0m\u001b[0mkwargs\u001b[0m\u001b[0;34m)\u001b[0m\u001b[0;34m\u001b[0m\u001b[0;34m\u001b[0m\u001b[0m\n",
            "\u001b[0;32m/usr/local/lib/python3.6/dist-packages/matplotlib/axes/_axes.py\u001b[0m in \u001b[0;36mpie\u001b[0;34m(self, x, explode, labels, colors, autopct, pctdistance, shadow, labeldistance, startangle, radius, counterclock, wedgeprops, textprops, center, frame, rotatelabels)\u001b[0m\n\u001b[1;32m   2926\u001b[0m         \u001b[0;32mif\u001b[0m \u001b[0mexplode\u001b[0m \u001b[0;32mis\u001b[0m \u001b[0;32mNone\u001b[0m\u001b[0;34m:\u001b[0m\u001b[0;34m\u001b[0m\u001b[0;34m\u001b[0m\u001b[0m\n\u001b[1;32m   2927\u001b[0m             \u001b[0mexplode\u001b[0m \u001b[0;34m=\u001b[0m \u001b[0;34m[\u001b[0m\u001b[0;36m0\u001b[0m\u001b[0;34m]\u001b[0m \u001b[0;34m*\u001b[0m \u001b[0mlen\u001b[0m\u001b[0;34m(\u001b[0m\u001b[0mx\u001b[0m\u001b[0;34m)\u001b[0m\u001b[0;34m\u001b[0m\u001b[0;34m\u001b[0m\u001b[0m\n\u001b[0;32m-> 2928\u001b[0;31m         \u001b[0;32mif\u001b[0m \u001b[0mlen\u001b[0m\u001b[0;34m(\u001b[0m\u001b[0mx\u001b[0m\u001b[0;34m)\u001b[0m \u001b[0;34m!=\u001b[0m \u001b[0mlen\u001b[0m\u001b[0;34m(\u001b[0m\u001b[0mlabels\u001b[0m\u001b[0;34m)\u001b[0m\u001b[0;34m:\u001b[0m\u001b[0;34m\u001b[0m\u001b[0;34m\u001b[0m\u001b[0m\n\u001b[0m\u001b[1;32m   2929\u001b[0m             \u001b[0;32mraise\u001b[0m \u001b[0mValueError\u001b[0m\u001b[0;34m(\u001b[0m\u001b[0;34m\"'label' must be of length 'x'\"\u001b[0m\u001b[0;34m)\u001b[0m\u001b[0;34m\u001b[0m\u001b[0;34m\u001b[0m\u001b[0m\n\u001b[1;32m   2930\u001b[0m         \u001b[0;32mif\u001b[0m \u001b[0mlen\u001b[0m\u001b[0;34m(\u001b[0m\u001b[0mx\u001b[0m\u001b[0;34m)\u001b[0m \u001b[0;34m!=\u001b[0m \u001b[0mlen\u001b[0m\u001b[0;34m(\u001b[0m\u001b[0mexplode\u001b[0m\u001b[0;34m)\u001b[0m\u001b[0;34m:\u001b[0m\u001b[0;34m\u001b[0m\u001b[0;34m\u001b[0m\u001b[0m\n",
            "\u001b[0;31mTypeError\u001b[0m: object of type 'numpy.int64' has no len()"
          ]
        },
        {
          "output_type": "display_data",
          "data": {
            "image/png": "[encoded data removed]",
            "text/plain": [
              "<Figure size 1440x720 with 1 Axes>"
            ]
          },
          "metadata": {
            "tags": [],
            "needs_background": "light"
          }
        }
      ]
    },
    {
      "cell_type": "code",
      "metadata": {
        "id": "_vStl4jGq5mf",
        "outputId": "38006099-17e1-4eab-fad5-e9c62610f69d",
        "colab": {
          "base_uri": "https://localhost:8080/",
          "height": 925
        }
      },
      "source": [
        "import matplotlib.pyplot as plt\n",
        "\n",
        "# Pie chart, where the slices will be ordered and plotted counter-clockwise:  \n",
        "# only \"explode\" the 2nd slice (i.e. 'Hogs')\n",
        "\n",
        "fig1, ax1 = plt.subplots(figsize = (20,10))\n",
        "\n",
        "ax1.bar(height = win_types.head(10))\n",
        "\n",
        "plt.show()"
      ],
      "execution_count": 60,
      "outputs": [
        {
          "output_type": "error",
          "ename": "TypeError",
          "evalue": "ignored",
          "traceback": [
            "\u001b[0;31m---------------------------------------------------------------------------\u001b[0m",
            "\u001b[0;31mTypeError\u001b[0m                                 Traceback (most recent call last)",
            "\u001b[0;32m<ipython-input-60-657322c0ca46>\u001b[0m in \u001b[0;36m<module>\u001b[0;34m()\u001b[0m\n\u001b[1;32m      6\u001b[0m \u001b[0mfig1\u001b[0m\u001b[0;34m,\u001b[0m \u001b[0max1\u001b[0m \u001b[0;34m=\u001b[0m \u001b[0mplt\u001b[0m\u001b[0;34m.\u001b[0m\u001b[0msubplots\u001b[0m\u001b[0;34m(\u001b[0m\u001b[0mfigsize\u001b[0m \u001b[0;34m=\u001b[0m \u001b[0;34m(\u001b[0m\u001b[0;36m20\u001b[0m\u001b[0;34m,\u001b[0m\u001b[0;36m10\u001b[0m\u001b[0;34m)\u001b[0m\u001b[0;34m)\u001b[0m\u001b[0;34m\u001b[0m\u001b[0;34m\u001b[0m\u001b[0m\n\u001b[1;32m      7\u001b[0m \u001b[0;34m\u001b[0m\u001b[0m\n\u001b[0;32m----> 8\u001b[0;31m \u001b[0max1\u001b[0m\u001b[0;34m.\u001b[0m\u001b[0mbar\u001b[0m\u001b[0;34m(\u001b[0m\u001b[0mheight\u001b[0m \u001b[0;34m=\u001b[0m \u001b[0mwin_types\u001b[0m\u001b[0;34m.\u001b[0m\u001b[0mhead\u001b[0m\u001b[0;34m(\u001b[0m\u001b[0;36m10\u001b[0m\u001b[0;34m)\u001b[0m\u001b[0;34m)\u001b[0m\u001b[0;34m\u001b[0m\u001b[0;34m\u001b[0m\u001b[0m\n\u001b[0m\u001b[1;32m      9\u001b[0m \u001b[0;34m\u001b[0m\u001b[0m\n\u001b[1;32m     10\u001b[0m \u001b[0mplt\u001b[0m\u001b[0;34m.\u001b[0m\u001b[0mshow\u001b[0m\u001b[0;34m(\u001b[0m\u001b[0;34m)\u001b[0m\u001b[0;34m\u001b[0m\u001b[0;34m\u001b[0m\u001b[0m\n",
            "\u001b[0;32m/usr/local/lib/python3.6/dist-packages/matplotlib/__init__.py\u001b[0m in \u001b[0;36minner\u001b[0;34m(ax, data, *args, **kwargs)\u001b[0m\n\u001b[1;32m   1563\u001b[0m     \u001b[0;32mdef\u001b[0m \u001b[0minner\u001b[0m\u001b[0;34m(\u001b[0m\u001b[0max\u001b[0m\u001b[0;34m,\u001b[0m \u001b[0;34m*\u001b[0m\u001b[0margs\u001b[0m\u001b[0;34m,\u001b[0m \u001b[0mdata\u001b[0m\u001b[0;34m=\u001b[0m\u001b[0;32mNone\u001b[0m\u001b[0;34m,\u001b[0m \u001b[0;34m**\u001b[0m\u001b[0mkwargs\u001b[0m\u001b[0;34m)\u001b[0m\u001b[0;34m:\u001b[0m\u001b[0;34m\u001b[0m\u001b[0;34m\u001b[0m\u001b[0m\n\u001b[1;32m   1564\u001b[0m         \u001b[0;32mif\u001b[0m \u001b[0mdata\u001b[0m \u001b[0;32mis\u001b[0m \u001b[0;32mNone\u001b[0m\u001b[0;34m:\u001b[0m\u001b[0;34m\u001b[0m\u001b[0;34m\u001b[0m\u001b[0m\n\u001b[0;32m-> 1565\u001b[0;31m             \u001b[0;32mreturn\u001b[0m \u001b[0mfunc\u001b[0m\u001b[0;34m(\u001b[0m\u001b[0max\u001b[0m\u001b[0;34m,\u001b[0m \u001b[0;34m*\u001b[0m\u001b[0mmap\u001b[0m\u001b[0;34m(\u001b[0m\u001b[0msanitize_sequence\u001b[0m\u001b[0;34m,\u001b[0m \u001b[0margs\u001b[0m\u001b[0;34m)\u001b[0m\u001b[0;34m,\u001b[0m \u001b[0;34m**\u001b[0m\u001b[0mkwargs\u001b[0m\u001b[0;34m)\u001b[0m\u001b[0;34m\u001b[0m\u001b[0;34m\u001b[0m\u001b[0m\n\u001b[0m\u001b[1;32m   1566\u001b[0m \u001b[0;34m\u001b[0m\u001b[0m\n\u001b[1;32m   1567\u001b[0m         \u001b[0mbound\u001b[0m \u001b[0;34m=\u001b[0m \u001b[0mnew_sig\u001b[0m\u001b[0;34m.\u001b[0m\u001b[0mbind\u001b[0m\u001b[0;34m(\u001b[0m\u001b[0max\u001b[0m\u001b[0;34m,\u001b[0m \u001b[0;34m*\u001b[0m\u001b[0margs\u001b[0m\u001b[0;34m,\u001b[0m \u001b[0;34m**\u001b[0m\u001b[0mkwargs\u001b[0m\u001b[0;34m)\u001b[0m\u001b[0;34m\u001b[0m\u001b[0;34m\u001b[0m\u001b[0m\n",
            "\u001b[0;31mTypeError\u001b[0m: bar() missing 1 required positional argument: 'x'"
          ]
        },
        {
          "output_type": "display_data",
          "data": {
            "image/png": "[encoded data removed]",
            "text/plain": [
              "<Figure size 1440x720 with 1 Axes>"
            ]
          },
          "metadata": {
            "tags": [],
            "needs_background": "light"
          }
        }
      ]
    },
    {
      "cell_type": "code",
      "metadata": {
        "id": "0EuzrkDYpyK2"
      },
      "source": [
        ""
      ],
      "execution_count": null,
      "outputs": []
    }
  ]
}
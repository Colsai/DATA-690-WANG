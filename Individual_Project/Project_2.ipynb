{
  "nbformat": 4,
  "nbformat_minor": 0,
  "metadata": {
    "colab": {
      "name": "Project_Data_Experimentation.ipynb",
      "provenance": [],
      "collapsed_sections": [],
      "authorship_tag": "ABX9TyPvZMoWnEpZFdtl2V7HorEl",
      "include_colab_link": true
    },
    "kernelspec": {
      "name": "python3",
      "display_name": "Python 3"
    }
  },
  "cells": [
    {
      "cell_type": "markdown",
      "metadata": {
        "id": "view-in-github",
        "colab_type": "text"
      },
      "source": [
        "<a href=\"https://colab.research.google.com/github/Colsai/DATA-690-WANG/blob/master/Individual_Project/Project_2.ipynb\" target=\"_parent\"><img src=\"https://colab.research.google.com/assets/colab-badge.svg\" alt=\"Open In Colab\"/></a>"
      ]
    },
    {
      "cell_type": "code",
      "metadata": {
        "id": "uupxg6lmeZ2f"
      },
      "source": [
        "#I'm doing this through Colab (Mounting Drive)\n",
        "from google.colab import drive\n",
        "drive.mount('/content/drive')"
      ],
      "execution_count": null,
      "outputs": []
    },
    {
      "cell_type": "code",
      "metadata": {
        "id": "MDPNdmYlee1m"
      },
      "source": [
        "# Import libraries\n",
        "import pandas as pd\n",
        "import numpy as np\n",
        "import matplotlib.pyplot as plt\n",
        "import seaborn as sns\n",
        "import os\n",
        "import warnings "
      ],
      "execution_count": null,
      "outputs": []
    },
    {
      "cell_type": "code",
      "metadata": {
        "id": "qu27xxWbPs16"
      },
      "source": [
        "def warn_off():\n",
        "    warnings.warn(\"deprecated\", DeprecationWarning)\n",
        "\n",
        "with warnings.catch_warnings():\n",
        "    warnings.simplefilter(\"ignore\")\n",
        "\n",
        "warn_off()"
      ],
      "execution_count": null,
      "outputs": []
    },
    {
      "cell_type": "code",
      "metadata": {
        "id": "zHxV7ObeenUN"
      },
      "source": [
        "os.getcwd()"
      ],
      "execution_count": null,
      "outputs": []
    },
    {
      "cell_type": "code",
      "metadata": {
        "id": "rFk2mGXbeozL"
      },
      "source": [
        "#List Files in Directory\n",
        "dir = os.listdir('drive/My Drive/archive')\n",
        "\n",
        "csv_files = []\n",
        "\n",
        "for file in dir:\n",
        "    if \".csv\" in file:\n",
        "        csv_files.append(file)\n",
        "    else:\n",
        "        csv_files\n",
        "\n",
        "csv_files"
      ],
      "execution_count": null,
      "outputs": []
    },
    {
      "cell_type": "code",
      "metadata": {
        "id": "X31fQ_b7fG9u"
      },
      "source": [
        "states_df = pd.read_csv('drive/My Drive/archive/states_all_extended.csv')\n",
        "states_df.head()"
      ],
      "execution_count": null,
      "outputs": []
    },
    {
      "cell_type": "code",
      "metadata": {
        "id": "JYDPvLGugEel"
      },
      "source": [
        "def state_finder(dataframe, column, name):\n",
        "    find_it = dataframe[dataframe[column].str.contains(name)]\n",
        "    return find_it"
      ],
      "execution_count": null,
      "outputs": []
    },
    {
      "cell_type": "code",
      "metadata": {
        "id": "g2Dk9QBdgpvy"
      },
      "source": [
        "md_df = state_finder(states_df, \"STATE\", \"MARYLAND\")\n",
        "md_df.head()"
      ],
      "execution_count": null,
      "outputs": []
    },
    {
      "cell_type": "code",
      "metadata": {
        "id": "Cl9y4r2Ig5ON"
      },
      "source": [
        "md_df = md_df.sort_values(by=\"YEAR\", ascending = True)\n",
        "md_df.drop(\"PRIMARY_KEY\", axis=1) #Let's drop the \"Primary Key\", since it doesn't really serve a purpose here."
      ],
      "execution_count": null,
      "outputs": []
    },
    {
      "cell_type": "markdown",
      "metadata": {
        "id": "3mGHqKTbRqXG"
      },
      "source": [
        "## a. Looking at Student Enrollment in MD"
      ]
    },
    {
      "cell_type": "code",
      "metadata": {
        "id": "rV0bmrdLRRZx"
      },
      "source": [
        "#Showing Progression of funding over years\n",
        "x = md_df['YEAR']\n",
        "k = md_df['ENROLL']\n",
        "\n",
        "fig, ax = plt.subplots(figsize = (10,6))\n",
        "\n",
        "ax.plot(x, k, 'green', linewidth=2, markersize= 12)\n",
        "\n",
        "plt.xscale('linear')\n",
        "\n",
        "ax.set_title(\"Graph of Student Enrollment in MD, by year\", color='black', size = 14)\n",
        "ax.set_xlabel(\"Years\", color='black', size = 14)\n",
        "ax.set_ylabel(\"Total Student Enrollment\", color='black', size = 14)"
      ],
      "execution_count": null,
      "outputs": []
    },
    {
      "cell_type": "markdown",
      "metadata": {
        "id": "8FQapWBKRzGG"
      },
      "source": [
        "## b. Looking at Expenditures"
      ]
    },
    {
      "cell_type": "code",
      "metadata": {
        "id": "qwL1rJZBhBew"
      },
      "source": [
        "#Showing Progression of funding over years\n",
        "x = md_df['YEAR']\n",
        "y = md_df['TOTAL_REVENUE']\n",
        "z = md_df['FEDERAL_REVENUE']\n",
        "a = md_df['STATE_REVENUE']\n",
        "b = md_df['INSTRUCTION_EXPENDITURE']\n",
        "\n",
        "fig, ax = plt.subplots(figsize = (15,9))\n",
        "\n",
        "ax.plot(x, y, 'gold', linewidth=2, markersize= 12)\n",
        "ax.plot(x, z, 'red', linewidth=2, markersize=12)\n",
        "ax.plot(x, a, 'blue', linewidth=2, markersize=12)\n",
        "ax.plot(x, z+a, 'black', linewidth=2, markersize=12)\n",
        "ax.plot(x, b, 'orange', linewidth=2, markersize=12)\n",
        "\n",
        "plt.xscale('linear')\n",
        "\n",
        "ax.set_title(\"Graph of Revenue in MD, by year\", color='black', size = 14)\n",
        "ax.set_xlabel(\"Years\", color='black', size = 14)\n",
        "ax.set_ylabel(\"Total Revenue\", color='black', size = 14)"
      ],
      "execution_count": null,
      "outputs": []
    },
    {
      "cell_type": "code",
      "metadata": {
        "id": "oSZj9RKEQs4A"
      },
      "source": [
        "#Relationally, Federal Revenue does not look like it has significantly increased.\n",
        "x = md_df['YEAR']\n",
        "z = md_df['FEDERAL_REVENUE']\n",
        "\n",
        "fig, ax = plt.subplots(figsize = (15,9))\n",
        "\n",
        "ax.plot(x, z, 'red', linewidth=2, markersize=12)\n",
        "\n",
        "plt.xscale('linear')\n",
        "\n",
        "ax.set_title(\"Graph of Revenue in MD, by year\", color='black', size = 14)\n",
        "ax.set_xlabel(\"Years\", color='black', size = 14)\n",
        "ax.set_ylabel(\"Total Revenue\", color='black', size = 14)\n"
      ],
      "execution_count": null,
      "outputs": []
    },
    {
      "cell_type": "markdown",
      "metadata": {
        "id": "DACd9eZXSVHp"
      },
      "source": [
        "# Has education expenditure per student grown or fallen?\n",
        "Looking at the graph, it has definitely fallen."
      ]
    },
    {
      "cell_type": "code",
      "metadata": {
        "id": "EsMMnNyjR7KD"
      },
      "source": [
        "#Relationally, Federal Revenue does not look like it has significantly increased.\n",
        "x = md_df['YEAR']\n",
        "k = md_df['ENROLL']\n",
        "z = md_df['INSTRUCTION_EXPENDITURE']\n",
        "\n",
        "fig, ax = plt.subplots(figsize = (15,9))\n",
        "\n",
        "ax.plot(x, k/z, 'purple', linewidth=2, markersize=12)\n",
        "\n",
        "plt.xscale('linear')\n",
        "\n",
        "ax.set_title(\"Graph of Revenue in MD, by year\", color='black', size = 14)\n",
        "ax.set_xlabel(\"Years\", color='black', size = 14)\n",
        "ax.set_ylabel(\"Total Revenue\", color='black', size = 14)\n"
      ],
      "execution_count": null,
      "outputs": []
    },
    {
      "cell_type": "code",
      "metadata": {
        "id": "b_kZfm2FhhRE"
      },
      "source": [
        "x = md_df['YEAR']\n",
        "y = md_df['TOTAL_REVENUE']\n",
        "z = md_df['FEDERAL_REVENUE']\n",
        "a = md_df['STATE_REVENUE']\n",
        "b = md_df['INSTRUCTION_EXPENDITURE']\n",
        "\n",
        "fig, ax = plt.subplots(figsize = (15,9))\n",
        "\n",
        "ax.plot(x,b/y,\n",
        "        x,b/z,\n",
        "        x,b/a,)\n",
        "\n",
        "plt.xscale('linear')\n",
        "\n",
        "ax.set_title(\"Graph of Total Revenue in MD, by year\", color='black', size = 14)\n",
        "ax.set_xlabel(\"Years\", color='black', size = 14)\n",
        "ax.set_ylabel(\"Total Revenue\", color='black', size = 14)"
      ],
      "execution_count": null,
      "outputs": []
    },
    {
      "cell_type": "code",
      "metadata": {
        "id": "NRiqeL86iiRa"
      },
      "source": [
        "md_df.columns"
      ],
      "execution_count": null,
      "outputs": []
    },
    {
      "cell_type": "code",
      "metadata": {
        "id": "C85pl3-JQAwa"
      },
      "source": [
        "md_df.shape"
      ],
      "execution_count": null,
      "outputs": []
    },
    {
      "cell_type": "code",
      "metadata": {
        "id": "4RjU-25xSi00"
      },
      "source": [
        "fig, ax = plt.subplots(figsize=(30,20))\n",
        "sns.heatmap(md_df.corr(), center=0, cmap='BrBG')\n",
        "ax.set_title('Multi-Collinearity of Maryland Education Variables')"
      ],
      "execution_count": null,
      "outputs": []
    },
    {
      "cell_type": "code",
      "metadata": {
        "id": "Lwoi4jiuTd8I"
      },
      "source": [
        "md_df.head()"
      ],
      "execution_count": null,
      "outputs": []
    },
    {
      "cell_type": "code",
      "metadata": {
        "id": "gLO5jYvRSmCz"
      },
      "source": [
        "#Ok, let's pick a more sensible set than just everything...\n",
        "md_df2 = md_df[[\"YEAR\", \n",
        "                \"ENROLL\", \n",
        "                \"TOTAL_REVENUE\",\n",
        "                \"STATE_REVENUE\",\n",
        "                \"LOCAL_REVENUE\",\n",
        "                \"TOTAL_EXPENDITURE\",\n",
        "                \"INSTRUCTION_EXPENDITURE\",\n",
        "                \"A_A_A\",\n",
        "                \"G01_A_A\",\n",
        "                \"G02_A_A\",\n",
        "                \"G03_A_A\",\n",
        "                \"G05_A_A\",\n",
        "                \"G06_A_A\",\n",
        "                \"G07_A_A\",\n",
        "                \"G08_A_A\",\n",
        "                \"G09_A_A\",                                                \n",
        "                ]]\n",
        "\n",
        "fig, ax = plt.subplots(figsize=(20,10))\n",
        "sns.heatmap(md_df2.corr(), center=0, cmap='Oranges')\n",
        "ax.set_title('Multi-Collinearity of Maryland Education Variables')"
      ],
      "execution_count": null,
      "outputs": []
    },
    {
      "cell_type": "code",
      "metadata": {
        "id": "4ACWcG_MS_YG"
      },
      "source": [
        ""
      ],
      "execution_count": null,
      "outputs": []
    }
  ]
}